{
 "cells": [
  {
   "attachments": {},
   "cell_type": "markdown",
   "metadata": {},
   "source": [
    "# Explorative Datenanalyse"
   ]
  },
  {
   "cell_type": "code",
   "execution_count": 14,
   "metadata": {},
   "outputs": [],
   "source": [
    "from helper import *"
   ]
  },
  {
   "attachments": {},
   "cell_type": "markdown",
   "metadata": {},
   "source": [
    "## Read data\n",
    "### Solar"
   ]
  },
  {
   "cell_type": "code",
   "execution_count": 15,
   "metadata": {},
   "outputs": [
    {
     "data": {
      "text/html": [
       "<div>\n",
       "<style scoped>\n",
       "    .dataframe tbody tr th:only-of-type {\n",
       "        vertical-align: middle;\n",
       "    }\n",
       "\n",
       "    .dataframe tbody tr th {\n",
       "        vertical-align: top;\n",
       "    }\n",
       "\n",
       "    .dataframe thead th {\n",
       "        text-align: right;\n",
       "    }\n",
       "</style>\n",
       "<table border=\"1\" class=\"dataframe\">\n",
       "  <thead>\n",
       "    <tr style=\"text-align: right;\">\n",
       "      <th></th>\n",
       "      <th>Entity</th>\n",
       "      <th>Code</th>\n",
       "      <th>Year</th>\n",
       "      <th>Electricity from solar (TWh)</th>\n",
       "    </tr>\n",
       "  </thead>\n",
       "  <tbody>\n",
       "    <tr>\n",
       "      <th>0</th>\n",
       "      <td>Afghanistan</td>\n",
       "      <td>AFG</td>\n",
       "      <td>2000</td>\n",
       "      <td>0.0</td>\n",
       "    </tr>\n",
       "    <tr>\n",
       "      <th>1</th>\n",
       "      <td>Afghanistan</td>\n",
       "      <td>AFG</td>\n",
       "      <td>2001</td>\n",
       "      <td>0.0</td>\n",
       "    </tr>\n",
       "    <tr>\n",
       "      <th>2</th>\n",
       "      <td>Afghanistan</td>\n",
       "      <td>AFG</td>\n",
       "      <td>2002</td>\n",
       "      <td>0.0</td>\n",
       "    </tr>\n",
       "    <tr>\n",
       "      <th>3</th>\n",
       "      <td>Afghanistan</td>\n",
       "      <td>AFG</td>\n",
       "      <td>2003</td>\n",
       "      <td>0.0</td>\n",
       "    </tr>\n",
       "    <tr>\n",
       "      <th>4</th>\n",
       "      <td>Afghanistan</td>\n",
       "      <td>AFG</td>\n",
       "      <td>2004</td>\n",
       "      <td>0.0</td>\n",
       "    </tr>\n",
       "  </tbody>\n",
       "</table>\n",
       "</div>"
      ],
      "text/plain": [
       "        Entity Code  Year  Electricity from solar (TWh)\n",
       "0  Afghanistan  AFG  2000                           0.0\n",
       "1  Afghanistan  AFG  2001                           0.0\n",
       "2  Afghanistan  AFG  2002                           0.0\n",
       "3  Afghanistan  AFG  2003                           0.0\n",
       "4  Afghanistan  AFG  2004                           0.0"
      ]
     },
     "execution_count": 15,
     "metadata": {},
     "output_type": "execute_result"
    }
   ],
   "source": [
    "df_solar_generation = pd.read_csv('Data/All/Solar/solar-energy-generation.csv')\n",
    "df_solar_generation.head()"
   ]
  },
  {
   "attachments": {},
   "cell_type": "markdown",
   "metadata": {},
   "source": [
    "### Hydro"
   ]
  },
  {
   "cell_type": "code",
   "execution_count": 16,
   "metadata": {},
   "outputs": [
    {
     "data": {
      "text/html": [
       "<div>\n",
       "<style scoped>\n",
       "    .dataframe tbody tr th:only-of-type {\n",
       "        vertical-align: middle;\n",
       "    }\n",
       "\n",
       "    .dataframe tbody tr th {\n",
       "        vertical-align: top;\n",
       "    }\n",
       "\n",
       "    .dataframe thead th {\n",
       "        text-align: right;\n",
       "    }\n",
       "</style>\n",
       "<table border=\"1\" class=\"dataframe\">\n",
       "  <thead>\n",
       "    <tr style=\"text-align: right;\">\n",
       "      <th></th>\n",
       "      <th>Entity</th>\n",
       "      <th>Code</th>\n",
       "      <th>Year</th>\n",
       "      <th>Electricity from hydro (TWh)</th>\n",
       "    </tr>\n",
       "  </thead>\n",
       "  <tbody>\n",
       "    <tr>\n",
       "      <th>0</th>\n",
       "      <td>Afghanistan</td>\n",
       "      <td>AFG</td>\n",
       "      <td>2000</td>\n",
       "      <td>0.31</td>\n",
       "    </tr>\n",
       "    <tr>\n",
       "      <th>1</th>\n",
       "      <td>Afghanistan</td>\n",
       "      <td>AFG</td>\n",
       "      <td>2001</td>\n",
       "      <td>0.50</td>\n",
       "    </tr>\n",
       "    <tr>\n",
       "      <th>2</th>\n",
       "      <td>Afghanistan</td>\n",
       "      <td>AFG</td>\n",
       "      <td>2002</td>\n",
       "      <td>0.56</td>\n",
       "    </tr>\n",
       "    <tr>\n",
       "      <th>3</th>\n",
       "      <td>Afghanistan</td>\n",
       "      <td>AFG</td>\n",
       "      <td>2003</td>\n",
       "      <td>0.63</td>\n",
       "    </tr>\n",
       "    <tr>\n",
       "      <th>4</th>\n",
       "      <td>Afghanistan</td>\n",
       "      <td>AFG</td>\n",
       "      <td>2004</td>\n",
       "      <td>0.56</td>\n",
       "    </tr>\n",
       "  </tbody>\n",
       "</table>\n",
       "</div>"
      ],
      "text/plain": [
       "        Entity Code  Year  Electricity from hydro (TWh)\n",
       "0  Afghanistan  AFG  2000                          0.31\n",
       "1  Afghanistan  AFG  2001                          0.50\n",
       "2  Afghanistan  AFG  2002                          0.56\n",
       "3  Afghanistan  AFG  2003                          0.63\n",
       "4  Afghanistan  AFG  2004                          0.56"
      ]
     },
     "execution_count": 16,
     "metadata": {},
     "output_type": "execute_result"
    }
   ],
   "source": [
    "df_hydro_generation = pd.read_csv('Data/All/Hydropower/hydropower-generation.csv')\n",
    "df_hydro_generation.head()"
   ]
  },
  {
   "attachments": {},
   "cell_type": "markdown",
   "metadata": {},
   "source": [
    "### Wind"
   ]
  },
  {
   "cell_type": "code",
   "execution_count": 17,
   "metadata": {},
   "outputs": [
    {
     "data": {
      "text/html": [
       "<div>\n",
       "<style scoped>\n",
       "    .dataframe tbody tr th:only-of-type {\n",
       "        vertical-align: middle;\n",
       "    }\n",
       "\n",
       "    .dataframe tbody tr th {\n",
       "        vertical-align: top;\n",
       "    }\n",
       "\n",
       "    .dataframe thead th {\n",
       "        text-align: right;\n",
       "    }\n",
       "</style>\n",
       "<table border=\"1\" class=\"dataframe\">\n",
       "  <thead>\n",
       "    <tr style=\"text-align: right;\">\n",
       "      <th></th>\n",
       "      <th>Entity</th>\n",
       "      <th>Code</th>\n",
       "      <th>Year</th>\n",
       "      <th>Electricity from wind (TWh)</th>\n",
       "    </tr>\n",
       "  </thead>\n",
       "  <tbody>\n",
       "    <tr>\n",
       "      <th>0</th>\n",
       "      <td>Afghanistan</td>\n",
       "      <td>AFG</td>\n",
       "      <td>2000</td>\n",
       "      <td>0.0</td>\n",
       "    </tr>\n",
       "    <tr>\n",
       "      <th>1</th>\n",
       "      <td>Afghanistan</td>\n",
       "      <td>AFG</td>\n",
       "      <td>2001</td>\n",
       "      <td>0.0</td>\n",
       "    </tr>\n",
       "    <tr>\n",
       "      <th>2</th>\n",
       "      <td>Afghanistan</td>\n",
       "      <td>AFG</td>\n",
       "      <td>2002</td>\n",
       "      <td>0.0</td>\n",
       "    </tr>\n",
       "    <tr>\n",
       "      <th>3</th>\n",
       "      <td>Afghanistan</td>\n",
       "      <td>AFG</td>\n",
       "      <td>2003</td>\n",
       "      <td>0.0</td>\n",
       "    </tr>\n",
       "    <tr>\n",
       "      <th>4</th>\n",
       "      <td>Afghanistan</td>\n",
       "      <td>AFG</td>\n",
       "      <td>2004</td>\n",
       "      <td>0.0</td>\n",
       "    </tr>\n",
       "  </tbody>\n",
       "</table>\n",
       "</div>"
      ],
      "text/plain": [
       "        Entity Code  Year  Electricity from wind (TWh)\n",
       "0  Afghanistan  AFG  2000                          0.0\n",
       "1  Afghanistan  AFG  2001                          0.0\n",
       "2  Afghanistan  AFG  2002                          0.0\n",
       "3  Afghanistan  AFG  2003                          0.0\n",
       "4  Afghanistan  AFG  2004                          0.0"
      ]
     },
     "execution_count": 17,
     "metadata": {},
     "output_type": "execute_result"
    }
   ],
   "source": [
    "df_wind_generation = pd.read_csv('Data/All/Wind/wind-energy-generation.csv')\n",
    "df_wind_generation.head()"
   ]
  },
  {
   "attachments": {},
   "cell_type": "markdown",
   "metadata": {},
   "source": [
    "### Other"
   ]
  },
  {
   "cell_type": "code",
   "execution_count": 24,
   "metadata": {},
   "outputs": [
    {
     "data": {
      "text/html": [
       "<div>\n",
       "<style scoped>\n",
       "    .dataframe tbody tr th:only-of-type {\n",
       "        vertical-align: middle;\n",
       "    }\n",
       "\n",
       "    .dataframe tbody tr th {\n",
       "        vertical-align: top;\n",
       "    }\n",
       "\n",
       "    .dataframe thead th {\n",
       "        text-align: right;\n",
       "    }\n",
       "</style>\n",
       "<table border=\"1\" class=\"dataframe\">\n",
       "  <thead>\n",
       "    <tr style=\"text-align: right;\">\n",
       "      <th></th>\n",
       "      <th>Entity</th>\n",
       "      <th>Code</th>\n",
       "      <th>Year</th>\n",
       "      <th>Other renewables including bioenergy (TWh)</th>\n",
       "    </tr>\n",
       "  </thead>\n",
       "  <tbody>\n",
       "    <tr>\n",
       "      <th>0</th>\n",
       "      <td>Afghanistan</td>\n",
       "      <td>AFG</td>\n",
       "      <td>2000</td>\n",
       "      <td>0.0</td>\n",
       "    </tr>\n",
       "    <tr>\n",
       "      <th>1</th>\n",
       "      <td>Afghanistan</td>\n",
       "      <td>AFG</td>\n",
       "      <td>2001</td>\n",
       "      <td>0.0</td>\n",
       "    </tr>\n",
       "    <tr>\n",
       "      <th>2</th>\n",
       "      <td>Afghanistan</td>\n",
       "      <td>AFG</td>\n",
       "      <td>2002</td>\n",
       "      <td>0.0</td>\n",
       "    </tr>\n",
       "    <tr>\n",
       "      <th>3</th>\n",
       "      <td>Afghanistan</td>\n",
       "      <td>AFG</td>\n",
       "      <td>2003</td>\n",
       "      <td>0.0</td>\n",
       "    </tr>\n",
       "    <tr>\n",
       "      <th>4</th>\n",
       "      <td>Afghanistan</td>\n",
       "      <td>AFG</td>\n",
       "      <td>2004</td>\n",
       "      <td>0.0</td>\n",
       "    </tr>\n",
       "  </tbody>\n",
       "</table>\n",
       "</div>"
      ],
      "text/plain": [
       "        Entity Code  Year  Other renewables including bioenergy (TWh)\n",
       "0  Afghanistan  AFG  2000                                         0.0\n",
       "1  Afghanistan  AFG  2001                                         0.0\n",
       "2  Afghanistan  AFG  2002                                         0.0\n",
       "3  Afghanistan  AFG  2003                                         0.0\n",
       "4  Afghanistan  AFG  2004                                         0.0"
      ]
     },
     "execution_count": 24,
     "metadata": {},
     "output_type": "execute_result"
    }
   ],
   "source": [
    "df_other_generation = pd.read_csv('Data/All/Other/other-energy-generation.csv')\n",
    "df_other_generation.head()"
   ]
  },
  {
   "attachments": {},
   "cell_type": "markdown",
   "metadata": {},
   "source": [
    "## Prepare Dataframes\n",
    "### Solar"
   ]
  },
  {
   "cell_type": "code",
   "execution_count": 18,
   "metadata": {},
   "outputs": [
    {
     "data": {
      "text/html": [
       "<div>\n",
       "<style scoped>\n",
       "    .dataframe tbody tr th:only-of-type {\n",
       "        vertical-align: middle;\n",
       "    }\n",
       "\n",
       "    .dataframe tbody tr th {\n",
       "        vertical-align: top;\n",
       "    }\n",
       "\n",
       "    .dataframe thead th {\n",
       "        text-align: right;\n",
       "    }\n",
       "</style>\n",
       "<table border=\"1\" class=\"dataframe\">\n",
       "  <thead>\n",
       "    <tr style=\"text-align: right;\">\n",
       "      <th></th>\n",
       "      <th>Country</th>\n",
       "      <th>Year</th>\n",
       "      <th>Electricity from solar (TWh)</th>\n",
       "      <th>Solar (TWh growth - equivalent)</th>\n",
       "      <th>Solar (% growth)</th>\n",
       "    </tr>\n",
       "  </thead>\n",
       "  <tbody>\n",
       "    <tr>\n",
       "      <th>0</th>\n",
       "      <td>Germany</td>\n",
       "      <td>1990</td>\n",
       "      <td>0.00</td>\n",
       "      <td>0.00</td>\n",
       "      <td>0.0</td>\n",
       "    </tr>\n",
       "    <tr>\n",
       "      <th>1</th>\n",
       "      <td>Germany</td>\n",
       "      <td>1991</td>\n",
       "      <td>0.00</td>\n",
       "      <td>0.00</td>\n",
       "      <td>0.0</td>\n",
       "    </tr>\n",
       "    <tr>\n",
       "      <th>2</th>\n",
       "      <td>Germany</td>\n",
       "      <td>1992</td>\n",
       "      <td>0.00</td>\n",
       "      <td>0.00</td>\n",
       "      <td>0.0</td>\n",
       "    </tr>\n",
       "    <tr>\n",
       "      <th>3</th>\n",
       "      <td>Germany</td>\n",
       "      <td>1993</td>\n",
       "      <td>0.00</td>\n",
       "      <td>0.00</td>\n",
       "      <td>0.0</td>\n",
       "    </tr>\n",
       "    <tr>\n",
       "      <th>4</th>\n",
       "      <td>Germany</td>\n",
       "      <td>1994</td>\n",
       "      <td>0.01</td>\n",
       "      <td>0.01</td>\n",
       "      <td>0.0</td>\n",
       "    </tr>\n",
       "  </tbody>\n",
       "</table>\n",
       "</div>"
      ],
      "text/plain": [
       "   Country  Year  Electricity from solar (TWh)  \\\n",
       "0  Germany  1990                          0.00   \n",
       "1  Germany  1991                          0.00   \n",
       "2  Germany  1992                          0.00   \n",
       "3  Germany  1993                          0.00   \n",
       "4  Germany  1994                          0.01   \n",
       "\n",
       "   Solar (TWh growth - equivalent)  Solar (% growth)  \n",
       "0                             0.00               0.0  \n",
       "1                             0.00               0.0  \n",
       "2                             0.00               0.0  \n",
       "3                             0.00               0.0  \n",
       "4                             0.01               0.0  "
      ]
     },
     "execution_count": 18,
     "metadata": {},
     "output_type": "execute_result"
    }
   ],
   "source": [
    "df_solar_generation = wrangle_dataframe(df_solar_generation, \"Electricity from solar (TWh)\")\n",
    "\n",
    "df_solar_generation = add_growth_columns(df_solar_generation, 'Solar (TWh growth - equivalent)', 'Solar (% growth)', 'Electricity from solar (TWh)')\n",
    "\n",
    "df_solar_generation.head()"
   ]
  },
  {
   "attachments": {},
   "cell_type": "markdown",
   "metadata": {},
   "source": [
    "### Hydro"
   ]
  },
  {
   "cell_type": "code",
   "execution_count": 19,
   "metadata": {},
   "outputs": [
    {
     "data": {
      "text/html": [
       "<div>\n",
       "<style scoped>\n",
       "    .dataframe tbody tr th:only-of-type {\n",
       "        vertical-align: middle;\n",
       "    }\n",
       "\n",
       "    .dataframe tbody tr th {\n",
       "        vertical-align: top;\n",
       "    }\n",
       "\n",
       "    .dataframe thead th {\n",
       "        text-align: right;\n",
       "    }\n",
       "</style>\n",
       "<table border=\"1\" class=\"dataframe\">\n",
       "  <thead>\n",
       "    <tr style=\"text-align: right;\">\n",
       "      <th></th>\n",
       "      <th>Country</th>\n",
       "      <th>Year</th>\n",
       "      <th>Electricity from hydro (TWh)</th>\n",
       "      <th>Hydro (TWh growth - equivalent)</th>\n",
       "      <th>Hydro (% growth)</th>\n",
       "    </tr>\n",
       "  </thead>\n",
       "  <tbody>\n",
       "    <tr>\n",
       "      <th>0</th>\n",
       "      <td>Germany</td>\n",
       "      <td>1990</td>\n",
       "      <td>17.43</td>\n",
       "      <td>0.00</td>\n",
       "      <td>0.0</td>\n",
       "    </tr>\n",
       "    <tr>\n",
       "      <th>1</th>\n",
       "      <td>Germany</td>\n",
       "      <td>1991</td>\n",
       "      <td>14.89</td>\n",
       "      <td>-2.54</td>\n",
       "      <td>-14.6</td>\n",
       "    </tr>\n",
       "    <tr>\n",
       "      <th>2</th>\n",
       "      <td>Germany</td>\n",
       "      <td>1992</td>\n",
       "      <td>17.40</td>\n",
       "      <td>2.51</td>\n",
       "      <td>16.9</td>\n",
       "    </tr>\n",
       "    <tr>\n",
       "      <th>3</th>\n",
       "      <td>Germany</td>\n",
       "      <td>1993</td>\n",
       "      <td>17.88</td>\n",
       "      <td>0.48</td>\n",
       "      <td>2.8</td>\n",
       "    </tr>\n",
       "    <tr>\n",
       "      <th>4</th>\n",
       "      <td>Germany</td>\n",
       "      <td>1994</td>\n",
       "      <td>19.93</td>\n",
       "      <td>2.05</td>\n",
       "      <td>11.5</td>\n",
       "    </tr>\n",
       "  </tbody>\n",
       "</table>\n",
       "</div>"
      ],
      "text/plain": [
       "   Country  Year  Electricity from hydro (TWh)  \\\n",
       "0  Germany  1990                         17.43   \n",
       "1  Germany  1991                         14.89   \n",
       "2  Germany  1992                         17.40   \n",
       "3  Germany  1993                         17.88   \n",
       "4  Germany  1994                         19.93   \n",
       "\n",
       "   Hydro (TWh growth - equivalent)  Hydro (% growth)  \n",
       "0                             0.00               0.0  \n",
       "1                            -2.54             -14.6  \n",
       "2                             2.51              16.9  \n",
       "3                             0.48               2.8  \n",
       "4                             2.05              11.5  "
      ]
     },
     "execution_count": 19,
     "metadata": {},
     "output_type": "execute_result"
    }
   ],
   "source": [
    "df_hydro_generation = wrangle_dataframe(df_hydro_generation, \"Electricity from hydro (TWh)\")\n",
    "\n",
    "df_hydro_generation = add_growth_columns(df_hydro_generation, 'Hydro (TWh growth - equivalent)', 'Hydro (% growth)', 'Electricity from hydro (TWh)')\n",
    "\n",
    "df_hydro_generation.head()"
   ]
  },
  {
   "attachments": {},
   "cell_type": "markdown",
   "metadata": {},
   "source": [
    "### Wind"
   ]
  },
  {
   "cell_type": "code",
   "execution_count": 20,
   "metadata": {},
   "outputs": [
    {
     "data": {
      "text/html": [
       "<div>\n",
       "<style scoped>\n",
       "    .dataframe tbody tr th:only-of-type {\n",
       "        vertical-align: middle;\n",
       "    }\n",
       "\n",
       "    .dataframe tbody tr th {\n",
       "        vertical-align: top;\n",
       "    }\n",
       "\n",
       "    .dataframe thead th {\n",
       "        text-align: right;\n",
       "    }\n",
       "</style>\n",
       "<table border=\"1\" class=\"dataframe\">\n",
       "  <thead>\n",
       "    <tr style=\"text-align: right;\">\n",
       "      <th></th>\n",
       "      <th>Country</th>\n",
       "      <th>Year</th>\n",
       "      <th>Electricity from wind (TWh)</th>\n",
       "      <th>Wind (TWh growth - equivalent)</th>\n",
       "      <th>Wind (% growth)</th>\n",
       "    </tr>\n",
       "  </thead>\n",
       "  <tbody>\n",
       "    <tr>\n",
       "      <th>0</th>\n",
       "      <td>Germany</td>\n",
       "      <td>1990</td>\n",
       "      <td>0.07</td>\n",
       "      <td>0.00</td>\n",
       "      <td>0.0</td>\n",
       "    </tr>\n",
       "    <tr>\n",
       "      <th>1</th>\n",
       "      <td>Germany</td>\n",
       "      <td>1991</td>\n",
       "      <td>0.22</td>\n",
       "      <td>0.15</td>\n",
       "      <td>214.3</td>\n",
       "    </tr>\n",
       "    <tr>\n",
       "      <th>2</th>\n",
       "      <td>Germany</td>\n",
       "      <td>1992</td>\n",
       "      <td>0.29</td>\n",
       "      <td>0.07</td>\n",
       "      <td>31.8</td>\n",
       "    </tr>\n",
       "    <tr>\n",
       "      <th>3</th>\n",
       "      <td>Germany</td>\n",
       "      <td>1993</td>\n",
       "      <td>0.67</td>\n",
       "      <td>0.38</td>\n",
       "      <td>131.0</td>\n",
       "    </tr>\n",
       "    <tr>\n",
       "      <th>4</th>\n",
       "      <td>Germany</td>\n",
       "      <td>1994</td>\n",
       "      <td>1.43</td>\n",
       "      <td>0.76</td>\n",
       "      <td>113.4</td>\n",
       "    </tr>\n",
       "  </tbody>\n",
       "</table>\n",
       "</div>"
      ],
      "text/plain": [
       "   Country  Year  Electricity from wind (TWh)  Wind (TWh growth - equivalent)  \\\n",
       "0  Germany  1990                         0.07                            0.00   \n",
       "1  Germany  1991                         0.22                            0.15   \n",
       "2  Germany  1992                         0.29                            0.07   \n",
       "3  Germany  1993                         0.67                            0.38   \n",
       "4  Germany  1994                         1.43                            0.76   \n",
       "\n",
       "   Wind (% growth)  \n",
       "0              0.0  \n",
       "1            214.3  \n",
       "2             31.8  \n",
       "3            131.0  \n",
       "4            113.4  "
      ]
     },
     "execution_count": 20,
     "metadata": {},
     "output_type": "execute_result"
    }
   ],
   "source": [
    "df_wind_generation = wrangle_dataframe(df_wind_generation, \"Electricity from wind (TWh)\")\n",
    "\n",
    "df_wind_generation = add_growth_columns(df_wind_generation, 'Wind (TWh growth - equivalent)', 'Wind (% growth)', 'Electricity from wind (TWh)')\n",
    "\n",
    "df_wind_generation.head()"
   ]
  },
  {
   "attachments": {},
   "cell_type": "markdown",
   "metadata": {},
   "source": [
    "### Other"
   ]
  },
  {
   "cell_type": "code",
   "execution_count": 26,
   "metadata": {},
   "outputs": [
    {
     "data": {
      "text/html": [
       "<div>\n",
       "<style scoped>\n",
       "    .dataframe tbody tr th:only-of-type {\n",
       "        vertical-align: middle;\n",
       "    }\n",
       "\n",
       "    .dataframe tbody tr th {\n",
       "        vertical-align: top;\n",
       "    }\n",
       "\n",
       "    .dataframe thead th {\n",
       "        text-align: right;\n",
       "    }\n",
       "</style>\n",
       "<table border=\"1\" class=\"dataframe\">\n",
       "  <thead>\n",
       "    <tr style=\"text-align: right;\">\n",
       "      <th></th>\n",
       "      <th>Country</th>\n",
       "      <th>Year</th>\n",
       "      <th>Other renewables including bioenergy (TWh)</th>\n",
       "      <th>Other (TWh growth - equivalent)</th>\n",
       "      <th>Other (% growth)</th>\n",
       "    </tr>\n",
       "  </thead>\n",
       "  <tbody>\n",
       "    <tr>\n",
       "      <th>0</th>\n",
       "      <td>Germany</td>\n",
       "      <td>1990</td>\n",
       "      <td>1.60</td>\n",
       "      <td>0.00</td>\n",
       "      <td>0.0</td>\n",
       "    </tr>\n",
       "    <tr>\n",
       "      <th>1</th>\n",
       "      <td>Germany</td>\n",
       "      <td>1991</td>\n",
       "      <td>1.87</td>\n",
       "      <td>0.27</td>\n",
       "      <td>16.9</td>\n",
       "    </tr>\n",
       "    <tr>\n",
       "      <th>2</th>\n",
       "      <td>Germany</td>\n",
       "      <td>1992</td>\n",
       "      <td>2.04</td>\n",
       "      <td>0.17</td>\n",
       "      <td>9.1</td>\n",
       "    </tr>\n",
       "    <tr>\n",
       "      <th>3</th>\n",
       "      <td>Germany</td>\n",
       "      <td>1993</td>\n",
       "      <td>1.97</td>\n",
       "      <td>-0.07</td>\n",
       "      <td>-3.4</td>\n",
       "    </tr>\n",
       "    <tr>\n",
       "      <th>4</th>\n",
       "      <td>Germany</td>\n",
       "      <td>1994</td>\n",
       "      <td>2.07</td>\n",
       "      <td>0.10</td>\n",
       "      <td>5.1</td>\n",
       "    </tr>\n",
       "  </tbody>\n",
       "</table>\n",
       "</div>"
      ],
      "text/plain": [
       "   Country  Year  Other renewables including bioenergy (TWh)  \\\n",
       "0  Germany  1990                                        1.60   \n",
       "1  Germany  1991                                        1.87   \n",
       "2  Germany  1992                                        2.04   \n",
       "3  Germany  1993                                        1.97   \n",
       "4  Germany  1994                                        2.07   \n",
       "\n",
       "   Other (TWh growth - equivalent)  Other (% growth)  \n",
       "0                             0.00               0.0  \n",
       "1                             0.27              16.9  \n",
       "2                             0.17               9.1  \n",
       "3                            -0.07              -3.4  \n",
       "4                             0.10               5.1  "
      ]
     },
     "execution_count": 26,
     "metadata": {},
     "output_type": "execute_result"
    }
   ],
   "source": [
    "df_other_generation = wrangle_dataframe(df_other_generation, \"Other renewables including bioenergy (TWh)\")\n",
    "\n",
    "df_other_generation = add_growth_columns(df_other_generation, 'Other (TWh growth - equivalent)', 'Other (% growth)', 'Other renewables including bioenergy (TWh)')\n",
    "\n",
    "df_other_generation.head()"
   ]
  },
  {
   "attachments": {},
   "cell_type": "markdown",
   "metadata": {},
   "source": [
    "## Plots\n",
    "### Solar"
   ]
  },
  {
   "cell_type": "code",
   "execution_count": 21,
   "metadata": {},
   "outputs": [
    {
     "data": {},
     "metadata": {},
     "output_type": "display_data"
    },
    {
     "data": {
      "application/vnd.holoviews_exec.v0+json": "",
      "text/html": [
       "<div id='2898'>\n",
       "  <div class=\"bk-root\" id=\"1ef6e37d-6a51-4c55-bcb9-40fab62d1bd5\" data-root-id=\"2898\"></div>\n",
       "</div>\n",
       "<script type=\"application/javascript\">(function(root) {\n",
       "  function embed_document(root) {\n",
       "    var docs_json = {\"622bf447-9cfb-4fbe-8a1a-ffd75459e98d\":{\"defs\":[{\"extends\":null,\"module\":null,\"name\":\"ReactiveHTML1\",\"overrides\":[],\"properties\":[]},{\"extends\":null,\"module\":null,\"name\":\"FlexBox1\",\"overrides\":[],\"properties\":[{\"default\":\"flex-start\",\"kind\":null,\"name\":\"align_content\"},{\"default\":\"flex-start\",\"kind\":null,\"name\":\"align_items\"},{\"default\":\"row\",\"kind\":null,\"name\":\"flex_direction\"},{\"default\":\"wrap\",\"kind\":null,\"name\":\"flex_wrap\"},{\"default\":\"flex-start\",\"kind\":null,\"name\":\"justify_content\"}]},{\"extends\":null,\"module\":null,\"name\":\"GridStack1\",\"overrides\":[],\"properties\":[{\"default\":\"warn\",\"kind\":null,\"name\":\"mode\"},{\"default\":null,\"kind\":null,\"name\":\"ncols\"},{\"default\":null,\"kind\":null,\"name\":\"nrows\"},{\"default\":true,\"kind\":null,\"name\":\"allow_resize\"},{\"default\":true,\"kind\":null,\"name\":\"allow_drag\"},{\"default\":[],\"kind\":null,\"name\":\"state\"}]},{\"extends\":null,\"module\":null,\"name\":\"click1\",\"overrides\":[],\"properties\":[{\"default\":\"\",\"kind\":null,\"name\":\"terminal_output\"},{\"default\":\"\",\"kind\":null,\"name\":\"debug_name\"},{\"default\":0,\"kind\":null,\"name\":\"clears\"}]},{\"extends\":null,\"module\":null,\"name\":\"NotificationAreaBase1\",\"overrides\":[],\"properties\":[{\"default\":\"bottom-right\",\"kind\":null,\"name\":\"position\"},{\"default\":0,\"kind\":null,\"name\":\"_clear\"}]},{\"extends\":null,\"module\":null,\"name\":\"NotificationArea1\",\"overrides\":[],\"properties\":[{\"default\":[],\"kind\":null,\"name\":\"notifications\"},{\"default\":\"bottom-right\",\"kind\":null,\"name\":\"position\"},{\"default\":0,\"kind\":null,\"name\":\"_clear\"},{\"default\":[{\"background\":\"#ffc107\",\"icon\":{\"className\":\"fas fa-exclamation-triangle\",\"color\":\"white\",\"tagName\":\"i\"},\"type\":\"warning\"},{\"background\":\"#007bff\",\"icon\":{\"className\":\"fas fa-info-circle\",\"color\":\"white\",\"tagName\":\"i\"},\"type\":\"info\"}],\"kind\":null,\"name\":\"types\"}]},{\"extends\":null,\"module\":null,\"name\":\"Notification\",\"overrides\":[],\"properties\":[{\"default\":null,\"kind\":null,\"name\":\"background\"},{\"default\":3000,\"kind\":null,\"name\":\"duration\"},{\"default\":null,\"kind\":null,\"name\":\"icon\"},{\"default\":\"\",\"kind\":null,\"name\":\"message\"},{\"default\":null,\"kind\":null,\"name\":\"notification_type\"},{\"default\":false,\"kind\":null,\"name\":\"_destroyed\"}]},{\"extends\":null,\"module\":null,\"name\":\"TemplateActions1\",\"overrides\":[],\"properties\":[{\"default\":0,\"kind\":null,\"name\":\"open_modal\"},{\"default\":0,\"kind\":null,\"name\":\"close_modal\"}]},{\"extends\":null,\"module\":null,\"name\":\"MaterialTemplateActions1\",\"overrides\":[],\"properties\":[{\"default\":0,\"kind\":null,\"name\":\"open_modal\"},{\"default\":0,\"kind\":null,\"name\":\"close_modal\"}]}],\"roots\":{\"references\":[{\"attributes\":{\"data\":{\"Country\":[\"Germany\",\"Germany\",\"Germany\",\"Germany\",\"Germany\",\"Germany\",\"Germany\",\"Germany\",\"Germany\",\"Germany\",\"Germany\",\"Germany\",\"Germany\",\"Germany\",\"Germany\",\"Germany\",\"Germany\",\"Germany\",\"Germany\",\"Germany\",\"Germany\",\"Germany\",\"Germany\",\"Germany\",\"Germany\",\"Germany\",\"Germany\",\"Germany\",\"Germany\",\"Germany\",\"Germany\",\"Germany\",\"Germany\"],\"Electricity from solar (TWh)\":{\"__ndarray__\":\"AAAAAAAAAAAAAAAAAAAAAAAAAAAAAAAAAAAAAAAAAAB7FK5H4XqEP3sUrkfheoQ/exSuR+F6hD97FK5H4XqUP3sUrkfheqQ/uB6F61G4nj+4HoXrUbiuP7gehetRuL4/UrgehetRyD/Xo3A9CtfTP+xRuB6F6+E/exSuR+F69D/D9Shcj8IBQKRwPQrXowhArkfhehSuEUBSuB6F61EaQPYoXI/CdSdAmpmZmZmZM0DhehSuR2E6QMP1KFyPAj9ASOF6FK4HQkA9CtejcF1DQM3MzMzMDENAMzMzMzOzQ0B7FK5H4bpFQHE9CtejMEZAAAAAAADASEDsUbgehatIQD0K16NwfU1A\",\"dtype\":\"float64\",\"order\":\"little\",\"shape\":[33]},\"Electricity_from_solar_left_parenthesis_TWh_right_parenthesis\":{\"__ndarray__\":\"AAAAAAAAAAAAAAAAAAAAAAAAAAAAAAAAAAAAAAAAAAB7FK5H4XqEP3sUrkfheoQ/exSuR+F6hD97FK5H4XqUP3sUrkfheqQ/uB6F61G4nj+4HoXrUbiuP7gehetRuL4/UrgehetRyD/Xo3A9CtfTP+xRuB6F6+E/exSuR+F69D/D9Shcj8IBQKRwPQrXowhArkfhehSuEUBSuB6F61EaQPYoXI/CdSdAmpmZmZmZM0DhehSuR2E6QMP1KFyPAj9ASOF6FK4HQkA9CtejcF1DQM3MzMzMDENAMzMzMzOzQ0B7FK5H4bpFQHE9CtejMEZAAAAAAADASEDsUbgehatIQD0K16NwfU1A\",\"dtype\":\"float64\",\"order\":\"little\",\"shape\":[33]},\"Year\":[1990,1991,1992,1993,1994,1995,1996,1997,1998,1999,2000,2001,2002,2003,2004,2005,2006,2007,2008,2009,2010,2011,2012,2013,2014,2015,2016,2017,2018,2019,2020,2021,2022]},\"selected\":{\"id\":\"2942\"},\"selection_policy\":{\"id\":\"2956\"}},\"id\":\"2941\",\"type\":\"ColumnDataSource\"},{\"attributes\":{\"children\":[{\"id\":\"2905\"}],\"height\":400,\"margin\":[0,0,0,0],\"name\":\"Row02874\",\"sizing_mode\":\"fixed\",\"tags\":[\"embedded\"],\"width\":700},\"id\":\"2898\",\"type\":\"Row\"},{\"attributes\":{\"line_color\":\"#fc4f30\",\"line_width\":2,\"x\":{\"field\":\"Year\"},\"y\":{\"field\":\"Electricity from solar (TWh)\"}},\"id\":\"2983\",\"type\":\"Line\"},{\"attributes\":{\"coordinates\":null,\"data_source\":{\"id\":\"3008\"},\"glyph\":{\"id\":\"3011\"},\"group\":null,\"hover_glyph\":null,\"muted_glyph\":{\"id\":\"3013\"},\"nonselection_glyph\":{\"id\":\"3012\"},\"selection_glyph\":{\"id\":\"3033\"},\"view\":{\"id\":\"3015\"}},\"id\":\"3014\",\"type\":\"GlyphRenderer\"},{\"attributes\":{\"line_color\":\"#e5ae38\",\"line_width\":2,\"x\":{\"field\":\"Year\"},\"y\":{\"field\":\"Electricity from solar (TWh)\"}},\"id\":\"2987\",\"type\":\"Line\"},{\"attributes\":{\"callback\":null,\"renderers\":[{\"id\":\"2947\"},{\"id\":\"2968\"},{\"id\":\"2990\"},{\"id\":\"3014\"}],\"tags\":[\"hv_created\"],\"tooltips\":[[\"Country\",\"@{Country}\"],[\"Year\",\"@{Year}\"],[\"Electricity from solar (TWh)\",\"@{Electricity_from_solar_left_parenthesis_TWh_right_parenthesis}\"]]},\"id\":\"2901\",\"type\":\"HoverTool\"},{\"attributes\":{},\"id\":\"3009\",\"type\":\"Selection\"},{\"attributes\":{},\"id\":\"2985\",\"type\":\"Selection\"},{\"attributes\":{\"source\":{\"id\":\"3008\"}},\"id\":\"3015\",\"type\":\"CDSView\"},{\"attributes\":{},\"id\":\"2956\",\"type\":\"UnionRenderers\"},{\"attributes\":{\"line_alpha\":0.1,\"line_color\":\"#e5ae38\",\"line_width\":2,\"x\":{\"field\":\"Year\"},\"y\":{\"field\":\"Electricity from solar (TWh)\"}},\"id\":\"2988\",\"type\":\"Line\"},{\"attributes\":{\"line_alpha\":0.2,\"line_color\":\"#e5ae38\",\"line_width\":2,\"x\":{\"field\":\"Year\"},\"y\":{\"field\":\"Electricity from solar (TWh)\"}},\"id\":\"2989\",\"type\":\"Line\"},{\"attributes\":{\"line_color\":\"#6d904f\",\"line_width\":2,\"x\":{\"field\":\"Year\"},\"y\":{\"field\":\"Electricity from solar (TWh)\"}},\"id\":\"3033\",\"type\":\"Line\"},{\"attributes\":{\"coordinates\":null,\"data_source\":{\"id\":\"2984\"},\"glyph\":{\"id\":\"2987\"},\"group\":null,\"hover_glyph\":null,\"muted_glyph\":{\"id\":\"2989\"},\"nonselection_glyph\":{\"id\":\"2988\"},\"selection_glyph\":{\"id\":\"3007\"},\"view\":{\"id\":\"2991\"}},\"id\":\"2990\",\"type\":\"GlyphRenderer\"},{\"attributes\":{\"source\":{\"id\":\"2984\"}},\"id\":\"2991\",\"type\":\"CDSView\"},{\"attributes\":{\"end\":2022.0,\"reset_end\":2022.0,\"reset_start\":1990.0,\"start\":1990.0,\"tags\":[[[\"Year\",\"Year\",null]]]},\"id\":\"2899\",\"type\":\"Range1d\"},{\"attributes\":{\"label\":{\"value\":\"Switzerland\"},\"renderers\":[{\"id\":\"2990\"}]},\"id\":\"3006\",\"type\":\"LegendItem\"},{\"attributes\":{\"end\":64.878,\"reset_end\":64.878,\"reset_start\":-5.898,\"start\":-5.898,\"tags\":[[[\"Electricity from solar (TWh)\",\"Electricity from solar (TWh)\",null]]]},\"id\":\"2900\",\"type\":\"Range1d\"},{\"attributes\":{},\"id\":\"3003\",\"type\":\"UnionRenderers\"},{\"attributes\":{},\"id\":\"2910\",\"type\":\"LinearScale\"},{\"attributes\":{\"line_alpha\":0.1,\"line_color\":\"#fc4f30\",\"line_width\":2,\"x\":{\"field\":\"Year\"},\"y\":{\"field\":\"Electricity from solar (TWh)\"}},\"id\":\"2966\",\"type\":\"Line\"},{\"attributes\":{},\"id\":\"2963\",\"type\":\"Selection\"},{\"attributes\":{\"line_color\":\"#30a2da\",\"line_width\":2,\"x\":{\"field\":\"Year\"},\"y\":{\"field\":\"Electricity from solar (TWh)\"}},\"id\":\"2961\",\"type\":\"Line\"},{\"attributes\":{\"below\":[{\"id\":\"2914\"}],\"center\":[{\"id\":\"2917\"},{\"id\":\"2921\"}],\"height\":400,\"left\":[{\"id\":\"2918\"}],\"margin\":[5,5,5,5],\"min_border_bottom\":10,\"min_border_left\":10,\"min_border_right\":10,\"min_border_top\":10,\"renderers\":[{\"id\":\"2947\"},{\"id\":\"2968\"},{\"id\":\"2990\"},{\"id\":\"3014\"}],\"right\":[{\"id\":\"2959\"}],\"sizing_mode\":\"fixed\",\"title\":{\"id\":\"2906\"},\"toolbar\":{\"id\":\"2928\"},\"width\":700,\"x_range\":{\"id\":\"2899\"},\"x_scale\":{\"id\":\"2910\"},\"y_range\":{\"id\":\"2900\"},\"y_scale\":{\"id\":\"2912\"}},\"id\":\"2905\",\"subtype\":\"Figure\",\"type\":\"Plot\"},{\"attributes\":{},\"id\":\"2942\",\"type\":\"Selection\"},{\"attributes\":{\"data\":{\"Country\":[\"Switzerland\",\"Switzerland\",\"Switzerland\",\"Switzerland\",\"Switzerland\",\"Switzerland\",\"Switzerland\",\"Switzerland\",\"Switzerland\",\"Switzerland\",\"Switzerland\",\"Switzerland\",\"Switzerland\",\"Switzerland\",\"Switzerland\",\"Switzerland\",\"Switzerland\",\"Switzerland\",\"Switzerland\",\"Switzerland\",\"Switzerland\",\"Switzerland\",\"Switzerland\",\"Switzerland\",\"Switzerland\",\"Switzerland\",\"Switzerland\",\"Switzerland\",\"Switzerland\",\"Switzerland\",\"Switzerland\",\"Switzerland\"],\"Electricity from solar (TWh)\":{\"__ndarray__\":\"/Knx0k1iUD/8qfHSTWJgP/p+arx0k2g//Knx0k1icD97FK5H4Xp0P/p+arx0k3g/eekmMQisfD956SYxCKx8P/yp8dJNYoA/exSuR+F6hD97FK5H4XqEP3sUrkfheoQ/exSuR+F6hD97FK5H4XqUP3sUrkfhepQ/exSuR+F6lD97FK5H4XqUP7gehetRuJ4/uB6F61G4nj+amZmZmZmpPwrXo3A9Crc/w/UoXI/CxT8zMzMzMzPTPwAAAAAAAOA/4XoUrkfh6j/sUbgehevxP0jhehSuR/U/4XoUrkfh+j8zMzMzMzP/P3E9CtejcAFAzczMzMzMBEAfhetRuB4HQA==\",\"dtype\":\"float64\",\"order\":\"little\",\"shape\":[32]},\"Electricity_from_solar_left_parenthesis_TWh_right_parenthesis\":{\"__ndarray__\":\"/Knx0k1iUD/8qfHSTWJgP/p+arx0k2g//Knx0k1icD97FK5H4Xp0P/p+arx0k3g/eekmMQisfD956SYxCKx8P/yp8dJNYoA/exSuR+F6hD97FK5H4XqEP3sUrkfheoQ/exSuR+F6hD97FK5H4XqUP3sUrkfhepQ/exSuR+F6lD97FK5H4XqUP7gehetRuJ4/uB6F61G4nj+amZmZmZmpPwrXo3A9Crc/w/UoXI/CxT8zMzMzMzPTPwAAAAAAAOA/4XoUrkfh6j/sUbgehevxP0jhehSuR/U/4XoUrkfh+j8zMzMzMzP/P3E9CtejcAFAzczMzMzMBEAfhetRuB4HQA==\",\"dtype\":\"float64\",\"order\":\"little\",\"shape\":[32]},\"Year\":[1990,1991,1992,1993,1994,1995,1996,1997,1998,1999,2000,2001,2002,2003,2004,2005,2006,2007,2008,2009,2010,2011,2012,2013,2014,2015,2016,2017,2018,2019,2020,2021]},\"selected\":{\"id\":\"2985\"},\"selection_policy\":{\"id\":\"3003\"}},\"id\":\"2984\",\"type\":\"ColumnDataSource\"},{\"attributes\":{\"line_color\":\"#fc4f30\",\"line_width\":2,\"x\":{\"field\":\"Year\"},\"y\":{\"field\":\"Electricity from solar (TWh)\"}},\"id\":\"2965\",\"type\":\"Line\"},{\"attributes\":{\"coordinates\":null,\"data_source\":{\"id\":\"2962\"},\"glyph\":{\"id\":\"2965\"},\"group\":null,\"hover_glyph\":null,\"muted_glyph\":{\"id\":\"2967\"},\"nonselection_glyph\":{\"id\":\"2966\"},\"selection_glyph\":{\"id\":\"2983\"},\"view\":{\"id\":\"2969\"}},\"id\":\"2968\",\"type\":\"GlyphRenderer\"},{\"attributes\":{\"data\":{\"Country\":[\"United Kingdom\",\"United Kingdom\",\"United Kingdom\",\"United Kingdom\",\"United Kingdom\",\"United Kingdom\",\"United Kingdom\",\"United Kingdom\",\"United Kingdom\",\"United Kingdom\",\"United Kingdom\",\"United Kingdom\",\"United Kingdom\",\"United Kingdom\",\"United Kingdom\",\"United Kingdom\",\"United Kingdom\",\"United Kingdom\",\"United Kingdom\",\"United Kingdom\",\"United Kingdom\",\"United Kingdom\",\"United Kingdom\",\"United Kingdom\",\"United Kingdom\",\"United Kingdom\",\"United Kingdom\",\"United Kingdom\",\"United Kingdom\",\"United Kingdom\",\"United Kingdom\",\"United Kingdom\"],\"Electricity from solar (TWh)\":{\"__ndarray__\":\"AAAAAAAAAAAAAAAAAAAAAAAAAAAAAAAAAAAAAAAAAAAAAAAAAAAAAAAAAAAAAAAAAAAAAAAAAAAAAAAAAAAAAAAAAAAAAAAAAAAAAAAAAAAAAAAAAAAAAAAAAAAAAAAAAAAAAAAAAAAAAAAAAAAAAAAAAAAAAAAAexSuR+F6hD97FK5H4XqEP3sUrkfheoQ/exSuR+F6lD97FK5H4XqUP3sUrkfheqQ/uB6F61G4zj+amZmZmZn1PxSuR+F6FABAMzMzMzMzEEAfhetRuB4eQM3MzMzMzCRA7FG4HoXrJkB7FK5H4XopQNejcD0K1ylApHA9CtejKkBxPQrXo/AoQA==\",\"dtype\":\"float64\",\"order\":\"little\",\"shape\":[32]},\"Electricity_from_solar_left_parenthesis_TWh_right_parenthesis\":{\"__ndarray__\":\"AAAAAAAAAAAAAAAAAAAAAAAAAAAAAAAAAAAAAAAAAAAAAAAAAAAAAAAAAAAAAAAAAAAAAAAAAAAAAAAAAAAAAAAAAAAAAAAAAAAAAAAAAAAAAAAAAAAAAAAAAAAAAAAAAAAAAAAAAAAAAAAAAAAAAAAAAAAAAAAAexSuR+F6hD97FK5H4XqEP3sUrkfheoQ/exSuR+F6lD97FK5H4XqUP3sUrkfheqQ/uB6F61G4zj+amZmZmZn1PxSuR+F6FABAMzMzMzMzEEAfhetRuB4eQM3MzMzMzCRA7FG4HoXrJkB7FK5H4XopQNejcD0K1ylApHA9CtejKkBxPQrXo/AoQA==\",\"dtype\":\"float64\",\"order\":\"little\",\"shape\":[32]},\"Year\":[1990,1991,1992,1993,1994,1995,1996,1997,1998,1999,2000,2001,2002,2003,2004,2005,2006,2007,2008,2009,2010,2011,2012,2013,2014,2015,2016,2017,2018,2019,2020,2021]},\"selected\":{\"id\":\"3009\"},\"selection_policy\":{\"id\":\"3029\"}},\"id\":\"3008\",\"type\":\"ColumnDataSource\"},{\"attributes\":{\"coordinates\":null,\"group\":null,\"text\":\"Solar Energy Generation\",\"text_color\":\"black\",\"text_font_size\":\"12pt\"},\"id\":\"2906\",\"type\":\"Title\"},{\"attributes\":{\"line_alpha\":0.2,\"line_color\":\"#fc4f30\",\"line_width\":2,\"x\":{\"field\":\"Year\"},\"y\":{\"field\":\"Electricity from solar (TWh)\"}},\"id\":\"2967\",\"type\":\"Line\"},{\"attributes\":{},\"id\":\"2923\",\"type\":\"PanTool\"},{\"attributes\":{\"axis\":{\"id\":\"2914\"},\"coordinates\":null,\"grid_line_color\":null,\"group\":null,\"ticker\":null},\"id\":\"2917\",\"type\":\"Grid\"},{\"attributes\":{\"axis_label\":\"Year\",\"coordinates\":null,\"formatter\":{\"id\":\"2936\"},\"group\":null,\"major_label_policy\":{\"id\":\"2937\"},\"ticker\":{\"id\":\"2915\"}},\"id\":\"2914\",\"type\":\"LinearAxis\"},{\"attributes\":{},\"id\":\"2912\",\"type\":\"LinearScale\"},{\"attributes\":{\"click_policy\":\"mute\",\"coordinates\":null,\"group\":null,\"items\":[{\"id\":\"2960\"},{\"id\":\"2982\"},{\"id\":\"3006\"},{\"id\":\"3032\"}],\"location\":[0,0],\"title\":\"Country\"},\"id\":\"2959\",\"type\":\"Legend\"},{\"attributes\":{\"source\":{\"id\":\"2962\"}},\"id\":\"2969\",\"type\":\"CDSView\"},{\"attributes\":{\"label\":{\"value\":\"Spain\"},\"renderers\":[{\"id\":\"2968\"}]},\"id\":\"2982\",\"type\":\"LegendItem\"},{\"attributes\":{},\"id\":\"2915\",\"type\":\"BasicTicker\"},{\"attributes\":{\"source\":{\"id\":\"2941\"}},\"id\":\"2948\",\"type\":\"CDSView\"},{\"attributes\":{\"axis_label\":\"Electricity from solar (TWh)\",\"coordinates\":null,\"formatter\":{\"id\":\"2939\"},\"group\":null,\"major_label_policy\":{\"id\":\"2940\"},\"ticker\":{\"id\":\"2919\"}},\"id\":\"2918\",\"type\":\"LinearAxis\"},{\"attributes\":{\"line_alpha\":0.1,\"line_color\":\"#30a2da\",\"line_width\":2,\"x\":{\"field\":\"Year\"},\"y\":{\"field\":\"Electricity from solar (TWh)\"}},\"id\":\"2945\",\"type\":\"Line\"},{\"attributes\":{\"line_color\":\"#e5ae38\",\"line_width\":2,\"x\":{\"field\":\"Year\"},\"y\":{\"field\":\"Electricity from solar (TWh)\"}},\"id\":\"3007\",\"type\":\"Line\"},{\"attributes\":{\"axis\":{\"id\":\"2918\"},\"coordinates\":null,\"dimension\":1,\"grid_line_color\":null,\"group\":null,\"ticker\":null},\"id\":\"2921\",\"type\":\"Grid\"},{\"attributes\":{\"data\":{\"Country\":[\"Spain\",\"Spain\",\"Spain\",\"Spain\",\"Spain\",\"Spain\",\"Spain\",\"Spain\",\"Spain\",\"Spain\",\"Spain\",\"Spain\",\"Spain\",\"Spain\",\"Spain\",\"Spain\",\"Spain\",\"Spain\",\"Spain\",\"Spain\",\"Spain\",\"Spain\",\"Spain\",\"Spain\",\"Spain\",\"Spain\",\"Spain\",\"Spain\",\"Spain\",\"Spain\",\"Spain\",\"Spain\",\"Spain\"],\"Electricity from solar (TWh)\":{\"__ndarray__\":\"exSuR+F6hD97FK5H4XqEP3sUrkfheoQ/exSuR+F6hD97FK5H4XqEP3sUrkfhepQ/exSuR+F6lD97FK5H4XqUP3sUrkfhepQ/uB6F61G4nj97FK5H4XqEP3sUrkfhepQ/exSuR+F6lD97FK5H4XqUP3sUrkfhepQ/mpmZmZmZqT+4HoXrUbi+P6RwPQrXo+A/pHA9CtejBEA9CtejcD0YQMP1KFyPwhxAzczMzMzMIkBxPQrXo/AnQDMzMzMzMypA16NwPQpXK0C4HoXrUbgrQEjhehSuRytAzczMzMzMLEB7FK5H4XopQDMzMzMzMy5A7FG4HoWrNECamZmZmRk7QMP1KFyPYkBA\",\"dtype\":\"float64\",\"order\":\"little\",\"shape\":[33]},\"Electricity_from_solar_left_parenthesis_TWh_right_parenthesis\":{\"__ndarray__\":\"exSuR+F6hD97FK5H4XqEP3sUrkfheoQ/exSuR+F6hD97FK5H4XqEP3sUrkfhepQ/exSuR+F6lD97FK5H4XqUP3sUrkfhepQ/uB6F61G4nj97FK5H4XqEP3sUrkfhepQ/exSuR+F6lD97FK5H4XqUP3sUrkfhepQ/mpmZmZmZqT+4HoXrUbi+P6RwPQrXo+A/pHA9CtejBEA9CtejcD0YQMP1KFyPwhxAzczMzMzMIkBxPQrXo/AnQDMzMzMzMypA16NwPQpXK0C4HoXrUbgrQEjhehSuRytAzczMzMzMLEB7FK5H4XopQDMzMzMzMy5A7FG4HoWrNECamZmZmRk7QMP1KFyPYkBA\",\"dtype\":\"float64\",\"order\":\"little\",\"shape\":[33]},\"Year\":[1990,1991,1992,1993,1994,1995,1996,1997,1998,1999,2000,2001,2002,2003,2004,2005,2006,2007,2008,2009,2010,2011,2012,2013,2014,2015,2016,2017,2018,2019,2020,2021,2022]},\"selected\":{\"id\":\"2963\"},\"selection_policy\":{\"id\":\"2979\"}},\"id\":\"2962\",\"type\":\"ColumnDataSource\"},{\"attributes\":{\"line_alpha\":0.2,\"line_color\":\"#30a2da\",\"line_width\":2,\"x\":{\"field\":\"Year\"},\"y\":{\"field\":\"Electricity from solar (TWh)\"}},\"id\":\"2946\",\"type\":\"Line\"},{\"attributes\":{},\"id\":\"2919\",\"type\":\"BasicTicker\"},{\"attributes\":{},\"id\":\"2924\",\"type\":\"WheelZoomTool\"},{\"attributes\":{},\"id\":\"2979\",\"type\":\"UnionRenderers\"},{\"attributes\":{\"label\":{\"value\":\"Germany\"},\"renderers\":[{\"id\":\"2947\"}]},\"id\":\"2960\",\"type\":\"LegendItem\"},{\"attributes\":{\"line_color\":\"#30a2da\",\"line_width\":2,\"x\":{\"field\":\"Year\"},\"y\":{\"field\":\"Electricity from solar (TWh)\"}},\"id\":\"2944\",\"type\":\"Line\"},{\"attributes\":{\"line_color\":\"#6d904f\",\"line_width\":2,\"x\":{\"field\":\"Year\"},\"y\":{\"field\":\"Electricity from solar (TWh)\"}},\"id\":\"3011\",\"type\":\"Line\"},{\"attributes\":{},\"id\":\"2922\",\"type\":\"SaveTool\"},{\"attributes\":{\"coordinates\":null,\"data_source\":{\"id\":\"2941\"},\"glyph\":{\"id\":\"2944\"},\"group\":null,\"hover_glyph\":null,\"muted_glyph\":{\"id\":\"2946\"},\"nonselection_glyph\":{\"id\":\"2945\"},\"selection_glyph\":{\"id\":\"2961\"},\"view\":{\"id\":\"2948\"}},\"id\":\"2947\",\"type\":\"GlyphRenderer\"},{\"attributes\":{\"overlay\":{\"id\":\"2927\"}},\"id\":\"2925\",\"type\":\"BoxZoomTool\"},{\"attributes\":{\"line_alpha\":0.2,\"line_color\":\"#6d904f\",\"line_width\":2,\"x\":{\"field\":\"Year\"},\"y\":{\"field\":\"Electricity from solar (TWh)\"}},\"id\":\"3013\",\"type\":\"Line\"},{\"attributes\":{},\"id\":\"2926\",\"type\":\"ResetTool\"},{\"attributes\":{\"line_alpha\":0.1,\"line_color\":\"#6d904f\",\"line_width\":2,\"x\":{\"field\":\"Year\"},\"y\":{\"field\":\"Electricity from solar (TWh)\"}},\"id\":\"3012\",\"type\":\"Line\"},{\"attributes\":{\"bottom_units\":\"screen\",\"coordinates\":null,\"fill_alpha\":0.5,\"fill_color\":\"lightgrey\",\"group\":null,\"left_units\":\"screen\",\"level\":\"overlay\",\"line_alpha\":1.0,\"line_color\":\"black\",\"line_dash\":[4,4],\"line_width\":2,\"right_units\":\"screen\",\"syncable\":false,\"top_units\":\"screen\"},\"id\":\"2927\",\"type\":\"BoxAnnotation\"},{\"attributes\":{\"active_drag\":{\"id\":\"2923\"},\"active_scroll\":{\"id\":\"2924\"},\"tools\":[{\"id\":\"2901\"},{\"id\":\"2922\"},{\"id\":\"2923\"},{\"id\":\"2924\"},{\"id\":\"2925\"},{\"id\":\"2926\"}]},\"id\":\"2928\",\"type\":\"Toolbar\"},{\"attributes\":{\"label\":{\"value\":\"United Kingdom\"},\"renderers\":[{\"id\":\"3014\"}]},\"id\":\"3032\",\"type\":\"LegendItem\"},{\"attributes\":{},\"id\":\"2936\",\"type\":\"BasicTickFormatter\"},{\"attributes\":{},\"id\":\"3029\",\"type\":\"UnionRenderers\"},{\"attributes\":{},\"id\":\"2937\",\"type\":\"AllLabels\"},{\"attributes\":{},\"id\":\"2939\",\"type\":\"BasicTickFormatter\"},{\"attributes\":{},\"id\":\"2940\",\"type\":\"AllLabels\"}],\"root_ids\":[\"2898\"]},\"title\":\"Bokeh Application\",\"version\":\"2.4.3\"}};\n",
       "    var render_items = [{\"docid\":\"622bf447-9cfb-4fbe-8a1a-ffd75459e98d\",\"root_ids\":[\"2898\"],\"roots\":{\"2898\":\"1ef6e37d-6a51-4c55-bcb9-40fab62d1bd5\"}}];\n",
       "    root.Bokeh.embed.embed_items_notebook(docs_json, render_items);\n",
       "    for (const render_item of render_items) {\n",
       "      for (const root_id of render_item.root_ids) {\n",
       "\tconst id_el = document.getElementById(root_id)\n",
       "\tif (id_el.children.length && (id_el.children[0].className === 'bk-root')) {\n",
       "\t  const root_el = id_el.children[0]\n",
       "\t  root_el.id = root_el.id + '-rendered'\n",
       "\t}\n",
       "      }\n",
       "    }\n",
       "  }\n",
       "  if (root.Bokeh !== undefined && root.Bokeh.Panel !== undefined) {\n",
       "    embed_document(root);\n",
       "  } else {\n",
       "    var attempts = 0;\n",
       "    var timer = setInterval(function(root) {\n",
       "      if (root.Bokeh !== undefined && root.Bokeh.Panel !== undefined) {\n",
       "        clearInterval(timer);\n",
       "        embed_document(root);\n",
       "      } else if (document.readyState == \"complete\") {\n",
       "        attempts++;\n",
       "        if (attempts > 200) {\n",
       "          clearInterval(timer);\n",
       "          console.log(\"Bokeh: ERROR: Unable to run BokehJS code because BokehJS library is missing\");\n",
       "        }\n",
       "      }\n",
       "    }, 25, root)\n",
       "  }\n",
       "})(window);</script>"
      ],
      "text/plain": [
       ":NdOverlay   [Country]\n",
       "   :Curve   [Year]   (Electricity from solar (TWh))"
      ]
     },
     "metadata": {
      "application/vnd.holoviews_exec.v0+json": {
       "id": "2898"
      }
     },
     "output_type": "display_data"
    },
    {
     "data": {},
     "metadata": {},
     "output_type": "display_data"
    },
    {
     "data": {
      "application/vnd.holoviews_exec.v0+json": "",
      "text/html": [
       "<div id='3135'>\n",
       "  <div class=\"bk-root\" id=\"2ca50e20-5a15-48a0-9305-dc7c07e1bfab\" data-root-id=\"3135\"></div>\n",
       "</div>\n",
       "<script type=\"application/javascript\">(function(root) {\n",
       "  function embed_document(root) {\n",
       "    var docs_json = {\"90f17074-a1ed-4801-8c17-69c3f9cdf8ef\":{\"defs\":[{\"extends\":null,\"module\":null,\"name\":\"ReactiveHTML1\",\"overrides\":[],\"properties\":[]},{\"extends\":null,\"module\":null,\"name\":\"FlexBox1\",\"overrides\":[],\"properties\":[{\"default\":\"flex-start\",\"kind\":null,\"name\":\"align_content\"},{\"default\":\"flex-start\",\"kind\":null,\"name\":\"align_items\"},{\"default\":\"row\",\"kind\":null,\"name\":\"flex_direction\"},{\"default\":\"wrap\",\"kind\":null,\"name\":\"flex_wrap\"},{\"default\":\"flex-start\",\"kind\":null,\"name\":\"justify_content\"}]},{\"extends\":null,\"module\":null,\"name\":\"GridStack1\",\"overrides\":[],\"properties\":[{\"default\":\"warn\",\"kind\":null,\"name\":\"mode\"},{\"default\":null,\"kind\":null,\"name\":\"ncols\"},{\"default\":null,\"kind\":null,\"name\":\"nrows\"},{\"default\":true,\"kind\":null,\"name\":\"allow_resize\"},{\"default\":true,\"kind\":null,\"name\":\"allow_drag\"},{\"default\":[],\"kind\":null,\"name\":\"state\"}]},{\"extends\":null,\"module\":null,\"name\":\"click1\",\"overrides\":[],\"properties\":[{\"default\":\"\",\"kind\":null,\"name\":\"terminal_output\"},{\"default\":\"\",\"kind\":null,\"name\":\"debug_name\"},{\"default\":0,\"kind\":null,\"name\":\"clears\"}]},{\"extends\":null,\"module\":null,\"name\":\"NotificationAreaBase1\",\"overrides\":[],\"properties\":[{\"default\":\"bottom-right\",\"kind\":null,\"name\":\"position\"},{\"default\":0,\"kind\":null,\"name\":\"_clear\"}]},{\"extends\":null,\"module\":null,\"name\":\"NotificationArea1\",\"overrides\":[],\"properties\":[{\"default\":[],\"kind\":null,\"name\":\"notifications\"},{\"default\":\"bottom-right\",\"kind\":null,\"name\":\"position\"},{\"default\":0,\"kind\":null,\"name\":\"_clear\"},{\"default\":[{\"background\":\"#ffc107\",\"icon\":{\"className\":\"fas fa-exclamation-triangle\",\"color\":\"white\",\"tagName\":\"i\"},\"type\":\"warning\"},{\"background\":\"#007bff\",\"icon\":{\"className\":\"fas fa-info-circle\",\"color\":\"white\",\"tagName\":\"i\"},\"type\":\"info\"}],\"kind\":null,\"name\":\"types\"}]},{\"extends\":null,\"module\":null,\"name\":\"Notification\",\"overrides\":[],\"properties\":[{\"default\":null,\"kind\":null,\"name\":\"background\"},{\"default\":3000,\"kind\":null,\"name\":\"duration\"},{\"default\":null,\"kind\":null,\"name\":\"icon\"},{\"default\":\"\",\"kind\":null,\"name\":\"message\"},{\"default\":null,\"kind\":null,\"name\":\"notification_type\"},{\"default\":false,\"kind\":null,\"name\":\"_destroyed\"}]},{\"extends\":null,\"module\":null,\"name\":\"TemplateActions1\",\"overrides\":[],\"properties\":[{\"default\":0,\"kind\":null,\"name\":\"open_modal\"},{\"default\":0,\"kind\":null,\"name\":\"close_modal\"}]},{\"extends\":null,\"module\":null,\"name\":\"MaterialTemplateActions1\",\"overrides\":[],\"properties\":[{\"default\":0,\"kind\":null,\"name\":\"open_modal\"},{\"default\":0,\"kind\":null,\"name\":\"close_modal\"}]}],\"roots\":{\"references\":[{\"attributes\":{},\"id\":\"3240\",\"type\":\"UnionRenderers\"},{\"attributes\":{\"below\":[{\"id\":\"3151\"}],\"center\":[{\"id\":\"3154\"},{\"id\":\"3158\"}],\"height\":400,\"left\":[{\"id\":\"3155\"}],\"margin\":[5,5,5,5],\"min_border_bottom\":10,\"min_border_left\":10,\"min_border_right\":10,\"min_border_top\":10,\"renderers\":[{\"id\":\"3184\"},{\"id\":\"3205\"},{\"id\":\"3227\"},{\"id\":\"3251\"}],\"right\":[{\"id\":\"3196\"}],\"sizing_mode\":\"fixed\",\"title\":{\"id\":\"3143\"},\"toolbar\":{\"id\":\"3165\"},\"width\":700,\"x_range\":{\"id\":\"3136\"},\"x_scale\":{\"id\":\"3147\"},\"y_range\":{\"id\":\"3137\"},\"y_scale\":{\"id\":\"3149\"}},\"id\":\"3142\",\"subtype\":\"Figure\",\"type\":\"Plot\"},{\"attributes\":{\"source\":{\"id\":\"3178\"}},\"id\":\"3185\",\"type\":\"CDSView\"},{\"attributes\":{\"line_alpha\":0.1,\"line_color\":\"#30a2da\",\"line_width\":2,\"x\":{\"field\":\"Year\"},\"y\":{\"field\":\"Solar (TWh growth - equivalent)\"}},\"id\":\"3182\",\"type\":\"Line\"},{\"attributes\":{\"coordinates\":null,\"data_source\":{\"id\":\"3178\"},\"glyph\":{\"id\":\"3181\"},\"group\":null,\"hover_glyph\":null,\"muted_glyph\":{\"id\":\"3183\"},\"nonselection_glyph\":{\"id\":\"3182\"},\"selection_glyph\":{\"id\":\"3198\"},\"view\":{\"id\":\"3185\"}},\"id\":\"3184\",\"type\":\"GlyphRenderer\"},{\"attributes\":{},\"id\":\"3147\",\"type\":\"LinearScale\"},{\"attributes\":{\"line_alpha\":0.2,\"line_color\":\"#30a2da\",\"line_width\":2,\"x\":{\"field\":\"Year\"},\"y\":{\"field\":\"Solar (TWh growth - equivalent)\"}},\"id\":\"3183\",\"type\":\"Line\"},{\"attributes\":{\"callback\":null,\"renderers\":[{\"id\":\"3184\"},{\"id\":\"3205\"},{\"id\":\"3227\"},{\"id\":\"3251\"}],\"tags\":[\"hv_created\"],\"tooltips\":[[\"Country\",\"@{Country}\"],[\"Year\",\"@{Year}\"],[\"Solar (TWh growth - equivalent)\",\"@{Solar_left_parenthesis_TWh_growth_hyphen_minus_equivalent_right_parenthesis}\"]]},\"id\":\"3138\",\"type\":\"HoverTool\"},{\"attributes\":{\"click_policy\":\"mute\",\"coordinates\":null,\"group\":null,\"items\":[{\"id\":\"3197\"},{\"id\":\"3219\"},{\"id\":\"3243\"},{\"id\":\"3269\"}],\"location\":[0,0],\"title\":\"Country\"},\"id\":\"3196\",\"type\":\"Legend\"},{\"attributes\":{},\"id\":\"3200\",\"type\":\"Selection\"},{\"attributes\":{\"line_color\":\"#30a2da\",\"line_width\":2,\"x\":{\"field\":\"Year\"},\"y\":{\"field\":\"Solar (TWh growth - equivalent)\"}},\"id\":\"3198\",\"type\":\"Line\"},{\"attributes\":{\"label\":{\"value\":\"Germany\"},\"renderers\":[{\"id\":\"3184\"}]},\"id\":\"3197\",\"type\":\"LegendItem\"},{\"attributes\":{\"label\":{\"value\":\"Switzerland\"},\"renderers\":[{\"id\":\"3227\"}]},\"id\":\"3243\",\"type\":\"LegendItem\"},{\"attributes\":{\"coordinates\":null,\"data_source\":{\"id\":\"3199\"},\"glyph\":{\"id\":\"3202\"},\"group\":null,\"hover_glyph\":null,\"muted_glyph\":{\"id\":\"3204\"},\"nonselection_glyph\":{\"id\":\"3203\"},\"selection_glyph\":{\"id\":\"3220\"},\"view\":{\"id\":\"3206\"}},\"id\":\"3205\",\"type\":\"GlyphRenderer\"},{\"attributes\":{\"data\":{\"Country\":[\"United Kingdom\",\"United Kingdom\",\"United Kingdom\",\"United Kingdom\",\"United Kingdom\",\"United Kingdom\",\"United Kingdom\",\"United Kingdom\",\"United Kingdom\",\"United Kingdom\",\"United Kingdom\",\"United Kingdom\",\"United Kingdom\",\"United Kingdom\",\"United Kingdom\",\"United Kingdom\",\"United Kingdom\",\"United Kingdom\",\"United Kingdom\",\"United Kingdom\",\"United Kingdom\",\"United Kingdom\",\"United Kingdom\",\"United Kingdom\",\"United Kingdom\",\"United Kingdom\",\"United Kingdom\",\"United Kingdom\",\"United Kingdom\",\"United Kingdom\",\"United Kingdom\",\"United Kingdom\"],\"Solar (TWh growth - equivalent)\":{\"__ndarray__\":\"AAAAAAAAAAAAAAAAAAAAAAAAAAAAAAAAAAAAAAAAAAAAAAAAAAAAAAAAAAAAAAAAAAAAAAAAAAAAAAAAAAAAAAAAAAAAAAAAAAAAAAAAAAAAAAAAAAAAAAAAAAAAAAAAAAAAAAAAAAAAAAAAAAAAAAAAAAAAAAAAexSuR+F6hD8AAAAAAAAAAAAAAAAAAAAAexSuR+F6hD8AAAAAAAAAAHsUrkfhepQ/mpmZmZmZyT/D9Shcj8LxPx+F61G4HuU/UrgehetRAEDXo3A9CtcLQPYoXI/C9QZA9ihcj8L18D97FK5H4Xr0PwrXo3A9Csc/mpmZmZmZ2T8zMzMzMzPrvw==\",\"dtype\":\"float64\",\"order\":\"little\",\"shape\":[32]},\"Solar_left_parenthesis_TWh_growth_hyphen_minus_equivalent_right_parenthesis\":{\"__ndarray__\":\"AAAAAAAAAAAAAAAAAAAAAAAAAAAAAAAAAAAAAAAAAAAAAAAAAAAAAAAAAAAAAAAAAAAAAAAAAAAAAAAAAAAAAAAAAAAAAAAAAAAAAAAAAAAAAAAAAAAAAAAAAAAAAAAAAAAAAAAAAAAAAAAAAAAAAAAAAAAAAAAAexSuR+F6hD8AAAAAAAAAAAAAAAAAAAAAexSuR+F6hD8AAAAAAAAAAHsUrkfhepQ/mpmZmZmZyT/D9Shcj8LxPx+F61G4HuU/UrgehetRAEDXo3A9CtcLQPYoXI/C9QZA9ihcj8L18D97FK5H4Xr0PwrXo3A9Csc/mpmZmZmZ2T8zMzMzMzPrvw==\",\"dtype\":\"float64\",\"order\":\"little\",\"shape\":[32]},\"Year\":[1990,1991,1992,1993,1994,1995,1996,1997,1998,1999,2000,2001,2002,2003,2004,2005,2006,2007,2008,2009,2010,2011,2012,2013,2014,2015,2016,2017,2018,2019,2020,2021]},\"selected\":{\"id\":\"3246\"},\"selection_policy\":{\"id\":\"3266\"}},\"id\":\"3245\",\"type\":\"ColumnDataSource\"},{\"attributes\":{\"coordinates\":null,\"group\":null,\"text\":\"Annual Change Solar Energy Generation\",\"text_color\":\"black\",\"text_font_size\":\"12pt\"},\"id\":\"3143\",\"type\":\"Title\"},{\"attributes\":{},\"id\":\"3160\",\"type\":\"PanTool\"},{\"attributes\":{\"axis\":{\"id\":\"3151\"},\"coordinates\":null,\"grid_line_color\":null,\"group\":null,\"ticker\":null},\"id\":\"3154\",\"type\":\"Grid\"},{\"attributes\":{\"line_alpha\":0.1,\"line_color\":\"#fc4f30\",\"line_width\":2,\"x\":{\"field\":\"Year\"},\"y\":{\"field\":\"Solar (TWh growth - equivalent)\"}},\"id\":\"3203\",\"type\":\"Line\"},{\"attributes\":{\"axis_label\":\"Year\",\"coordinates\":null,\"formatter\":{\"id\":\"3173\"},\"group\":null,\"major_label_policy\":{\"id\":\"3174\"},\"ticker\":{\"id\":\"3152\"}},\"id\":\"3151\",\"type\":\"LinearAxis\"},{\"attributes\":{\"line_alpha\":0.2,\"line_color\":\"#fc4f30\",\"line_width\":2,\"x\":{\"field\":\"Year\"},\"y\":{\"field\":\"Solar (TWh growth - equivalent)\"}},\"id\":\"3204\",\"type\":\"Line\"},{\"attributes\":{\"line_color\":\"#e5ae38\",\"line_width\":2,\"x\":{\"field\":\"Year\"},\"y\":{\"field\":\"Solar (TWh growth - equivalent)\"}},\"id\":\"3244\",\"type\":\"Line\"},{\"attributes\":{},\"id\":\"3149\",\"type\":\"LinearScale\"},{\"attributes\":{\"line_color\":\"#fc4f30\",\"line_width\":2,\"x\":{\"field\":\"Year\"},\"y\":{\"field\":\"Solar (TWh growth - equivalent)\"}},\"id\":\"3202\",\"type\":\"Line\"},{\"attributes\":{\"source\":{\"id\":\"3199\"}},\"id\":\"3206\",\"type\":\"CDSView\"},{\"attributes\":{\"line_color\":\"#e5ae38\",\"line_width\":2,\"x\":{\"field\":\"Year\"},\"y\":{\"field\":\"Solar (TWh growth - equivalent)\"}},\"id\":\"3224\",\"type\":\"Line\"},{\"attributes\":{},\"id\":\"3152\",\"type\":\"BasicTicker\"},{\"attributes\":{\"label\":{\"value\":\"Spain\"},\"renderers\":[{\"id\":\"3205\"}]},\"id\":\"3219\",\"type\":\"LegendItem\"},{\"attributes\":{},\"id\":\"3174\",\"type\":\"AllLabels\"},{\"attributes\":{\"axis_label\":\"Solar (TWh growth - equivalent)\",\"coordinates\":null,\"formatter\":{\"id\":\"3176\"},\"group\":null,\"major_label_policy\":{\"id\":\"3177\"},\"ticker\":{\"id\":\"3156\"}},\"id\":\"3155\",\"type\":\"LinearAxis\"},{\"attributes\":{\"line_color\":\"#6d904f\",\"line_width\":2,\"x\":{\"field\":\"Year\"},\"y\":{\"field\":\"Solar (TWh growth - equivalent)\"}},\"id\":\"3248\",\"type\":\"Line\"},{\"attributes\":{\"axis\":{\"id\":\"3155\"},\"coordinates\":null,\"dimension\":1,\"grid_line_color\":null,\"group\":null,\"ticker\":null},\"id\":\"3158\",\"type\":\"Grid\"},{\"attributes\":{},\"id\":\"3156\",\"type\":\"BasicTicker\"},{\"attributes\":{\"coordinates\":null,\"data_source\":{\"id\":\"3221\"},\"glyph\":{\"id\":\"3224\"},\"group\":null,\"hover_glyph\":null,\"muted_glyph\":{\"id\":\"3226\"},\"nonselection_glyph\":{\"id\":\"3225\"},\"selection_glyph\":{\"id\":\"3244\"},\"view\":{\"id\":\"3228\"}},\"id\":\"3227\",\"type\":\"GlyphRenderer\"},{\"attributes\":{},\"id\":\"3161\",\"type\":\"WheelZoomTool\"},{\"attributes\":{},\"id\":\"3216\",\"type\":\"UnionRenderers\"},{\"attributes\":{},\"id\":\"3246\",\"type\":\"Selection\"},{\"attributes\":{},\"id\":\"3159\",\"type\":\"SaveTool\"},{\"attributes\":{\"overlay\":{\"id\":\"3164\"}},\"id\":\"3162\",\"type\":\"BoxZoomTool\"},{\"attributes\":{},\"id\":\"3163\",\"type\":\"ResetTool\"},{\"attributes\":{\"line_alpha\":0.1,\"line_color\":\"#6d904f\",\"line_width\":2,\"x\":{\"field\":\"Year\"},\"y\":{\"field\":\"Solar (TWh growth - equivalent)\"}},\"id\":\"3249\",\"type\":\"Line\"},{\"attributes\":{\"line_alpha\":0.2,\"line_color\":\"#6d904f\",\"line_width\":2,\"x\":{\"field\":\"Year\"},\"y\":{\"field\":\"Solar (TWh growth - equivalent)\"}},\"id\":\"3250\",\"type\":\"Line\"},{\"attributes\":{\"coordinates\":null,\"data_source\":{\"id\":\"3245\"},\"glyph\":{\"id\":\"3248\"},\"group\":null,\"hover_glyph\":null,\"muted_glyph\":{\"id\":\"3250\"},\"nonselection_glyph\":{\"id\":\"3249\"},\"selection_glyph\":{\"id\":\"3270\"},\"view\":{\"id\":\"3252\"}},\"id\":\"3251\",\"type\":\"GlyphRenderer\"},{\"attributes\":{\"bottom_units\":\"screen\",\"coordinates\":null,\"fill_alpha\":0.5,\"fill_color\":\"lightgrey\",\"group\":null,\"left_units\":\"screen\",\"level\":\"overlay\",\"line_alpha\":1.0,\"line_color\":\"black\",\"line_dash\":[4,4],\"line_width\":2,\"right_units\":\"screen\",\"syncable\":false,\"top_units\":\"screen\"},\"id\":\"3164\",\"type\":\"BoxAnnotation\"},{\"attributes\":{\"source\":{\"id\":\"3245\"}},\"id\":\"3252\",\"type\":\"CDSView\"},{\"attributes\":{},\"id\":\"3193\",\"type\":\"UnionRenderers\"},{\"attributes\":{\"label\":{\"value\":\"United Kingdom\"},\"renderers\":[{\"id\":\"3251\"}]},\"id\":\"3269\",\"type\":\"LegendItem\"},{\"attributes\":{},\"id\":\"3176\",\"type\":\"BasicTickFormatter\"},{\"attributes\":{},\"id\":\"3266\",\"type\":\"UnionRenderers\"},{\"attributes\":{},\"id\":\"3179\",\"type\":\"Selection\"},{\"attributes\":{\"active_drag\":{\"id\":\"3160\"},\"active_scroll\":{\"id\":\"3161\"},\"tools\":[{\"id\":\"3138\"},{\"id\":\"3159\"},{\"id\":\"3160\"},{\"id\":\"3161\"},{\"id\":\"3162\"},{\"id\":\"3163\"}]},\"id\":\"3165\",\"type\":\"Toolbar\"},{\"attributes\":{},\"id\":\"3222\",\"type\":\"Selection\"},{\"attributes\":{\"line_color\":\"#fc4f30\",\"line_width\":2,\"x\":{\"field\":\"Year\"},\"y\":{\"field\":\"Solar (TWh growth - equivalent)\"}},\"id\":\"3220\",\"type\":\"Line\"},{\"attributes\":{},\"id\":\"3177\",\"type\":\"AllLabels\"},{\"attributes\":{\"data\":{\"Country\":[\"Switzerland\",\"Switzerland\",\"Switzerland\",\"Switzerland\",\"Switzerland\",\"Switzerland\",\"Switzerland\",\"Switzerland\",\"Switzerland\",\"Switzerland\",\"Switzerland\",\"Switzerland\",\"Switzerland\",\"Switzerland\",\"Switzerland\",\"Switzerland\",\"Switzerland\",\"Switzerland\",\"Switzerland\",\"Switzerland\",\"Switzerland\",\"Switzerland\",\"Switzerland\",\"Switzerland\",\"Switzerland\",\"Switzerland\",\"Switzerland\",\"Switzerland\",\"Switzerland\",\"Switzerland\",\"Switzerland\",\"Switzerland\"],\"Solar (TWh growth - equivalent)\":{\"__ndarray__\":\"AAAAAAAAAAD8qfHSTWJQP/yp8dJNYlA//Knx0k1iUD/8qfHSTWJQP/yp8dJNYlA//Knx0k1iUD8AAAAAAAAAAPyp8dJNYlA//Knx0k1iYD8AAAAAAAAAAAAAAAAAAAAAAAAAAAAAAAB7FK5H4XqEPwAAAAAAAAAAAAAAAAAAAAAAAAAAAAAAAHsUrkfheoQ/AAAAAAAAAAB7FK5H4XqUP3sUrkfheqQ/exSuR+F6tD+kcD0K16PAP5qZmZmZmck/w/UoXI/C1T/sUbgehevRP+F6FK5H4co/ZmZmZmZm1j9I4XoUrkfRP3E9CtejcM0/4XoUrkfh2j+PwvUoXI/SPw==\",\"dtype\":\"float64\",\"order\":\"little\",\"shape\":[32]},\"Solar_left_parenthesis_TWh_growth_hyphen_minus_equivalent_right_parenthesis\":{\"__ndarray__\":\"AAAAAAAAAAD8qfHSTWJQP/yp8dJNYlA//Knx0k1iUD/8qfHSTWJQP/yp8dJNYlA//Knx0k1iUD8AAAAAAAAAAPyp8dJNYlA//Knx0k1iYD8AAAAAAAAAAAAAAAAAAAAAAAAAAAAAAAB7FK5H4XqEPwAAAAAAAAAAAAAAAAAAAAAAAAAAAAAAAHsUrkfheoQ/AAAAAAAAAAB7FK5H4XqUP3sUrkfheqQ/exSuR+F6tD+kcD0K16PAP5qZmZmZmck/w/UoXI/C1T/sUbgehevRP+F6FK5H4co/ZmZmZmZm1j9I4XoUrkfRP3E9CtejcM0/4XoUrkfh2j+PwvUoXI/SPw==\",\"dtype\":\"float64\",\"order\":\"little\",\"shape\":[32]},\"Year\":[1990,1991,1992,1993,1994,1995,1996,1997,1998,1999,2000,2001,2002,2003,2004,2005,2006,2007,2008,2009,2010,2011,2012,2013,2014,2015,2016,2017,2018,2019,2020,2021]},\"selected\":{\"id\":\"3222\"},\"selection_policy\":{\"id\":\"3240\"}},\"id\":\"3221\",\"type\":\"ColumnDataSource\"},{\"attributes\":{\"children\":[{\"id\":\"3142\"}],\"height\":400,\"margin\":[0,0,0,0],\"name\":\"Row03110\",\"sizing_mode\":\"fixed\",\"tags\":[\"embedded\"],\"width\":700},\"id\":\"3135\",\"type\":\"Row\"},{\"attributes\":{\"data\":{\"Country\":[\"Germany\",\"Germany\",\"Germany\",\"Germany\",\"Germany\",\"Germany\",\"Germany\",\"Germany\",\"Germany\",\"Germany\",\"Germany\",\"Germany\",\"Germany\",\"Germany\",\"Germany\",\"Germany\",\"Germany\",\"Germany\",\"Germany\",\"Germany\",\"Germany\",\"Germany\",\"Germany\",\"Germany\",\"Germany\",\"Germany\",\"Germany\",\"Germany\",\"Germany\",\"Germany\",\"Germany\",\"Germany\",\"Germany\"],\"Solar (TWh growth - equivalent)\":{\"__ndarray__\":\"AAAAAAAAAAAAAAAAAAAAAAAAAAAAAAAAAAAAAAAAAAB7FK5H4XqEPwAAAAAAAAAAAAAAAAAAAAB7FK5H4XqEP3sUrkfhepQ/exSuR+F6hL+4HoXrUbieP7gehetRuK4/7FG4HoXrsT+4HoXrUbi+PwAAAAAAANA/CtejcD0K5z8UrkfhehTuP4XrUbgehes/cT0K16Nw9T9I4XoUrkcBQJqZmZmZmRRAexSuR+F6H0AfhetRuB4bQIXrUbgehRJAMzMzMzMzFEBcj8L1KFwFQClcj8L1KOS/zczMzMzM9D89CtejcD0QQHE9CtejcO0/exSuR+F6FEB7FK5H4XrEv0jhehSuRyNA\",\"dtype\":\"float64\",\"order\":\"little\",\"shape\":[33]},\"Solar_left_parenthesis_TWh_growth_hyphen_minus_equivalent_right_parenthesis\":{\"__ndarray__\":\"AAAAAAAAAAAAAAAAAAAAAAAAAAAAAAAAAAAAAAAAAAB7FK5H4XqEPwAAAAAAAAAAAAAAAAAAAAB7FK5H4XqEP3sUrkfhepQ/exSuR+F6hL+4HoXrUbieP7gehetRuK4/7FG4HoXrsT+4HoXrUbi+PwAAAAAAANA/CtejcD0K5z8UrkfhehTuP4XrUbgehes/cT0K16Nw9T9I4XoUrkcBQJqZmZmZmRRAexSuR+F6H0AfhetRuB4bQIXrUbgehRJAMzMzMzMzFEBcj8L1KFwFQClcj8L1KOS/zczMzMzM9D89CtejcD0QQHE9CtejcO0/exSuR+F6FEB7FK5H4XrEv0jhehSuRyNA\",\"dtype\":\"float64\",\"order\":\"little\",\"shape\":[33]},\"Year\":[1990,1991,1992,1993,1994,1995,1996,1997,1998,1999,2000,2001,2002,2003,2004,2005,2006,2007,2008,2009,2010,2011,2012,2013,2014,2015,2016,2017,2018,2019,2020,2021,2022]},\"selected\":{\"id\":\"3179\"},\"selection_policy\":{\"id\":\"3193\"}},\"id\":\"3178\",\"type\":\"ColumnDataSource\"},{\"attributes\":{\"data\":{\"Country\":[\"Spain\",\"Spain\",\"Spain\",\"Spain\",\"Spain\",\"Spain\",\"Spain\",\"Spain\",\"Spain\",\"Spain\",\"Spain\",\"Spain\",\"Spain\",\"Spain\",\"Spain\",\"Spain\",\"Spain\",\"Spain\",\"Spain\",\"Spain\",\"Spain\",\"Spain\",\"Spain\",\"Spain\",\"Spain\",\"Spain\",\"Spain\",\"Spain\",\"Spain\",\"Spain\",\"Spain\",\"Spain\",\"Spain\"],\"Solar (TWh growth - equivalent)\":{\"__ndarray__\":\"AAAAAAAAAAAAAAAAAAAAAAAAAAAAAAAAAAAAAAAAAAAAAAAAAAAAAHsUrkfheoQ/AAAAAAAAAAAAAAAAAAAAAAAAAAAAAAAAexSuR+F6hD97FK5H4XqUv3sUrkfheoQ/AAAAAAAAAAAAAAAAAAAAAAAAAAAAAAAAuB6F61G4nj/sUbgeheuxP5qZmZmZmdk/exSuR+F6AEDXo3A9CtcLQBSuR+F6FPI/rkfhehSuAUCPwvUoXI8EQBSuR+F6FPI/PQrXo3A94j9SuB6F61HIPylcj8L1KMy/UrgehetR6D+PwvUoXI/6v+F6FK5H4QJASOF6FK5HFkC4HoXrUbgZQK5H4XoUrhZA\",\"dtype\":\"float64\",\"order\":\"little\",\"shape\":[33]},\"Solar_left_parenthesis_TWh_growth_hyphen_minus_equivalent_right_parenthesis\":{\"__ndarray__\":\"AAAAAAAAAAAAAAAAAAAAAAAAAAAAAAAAAAAAAAAAAAAAAAAAAAAAAHsUrkfheoQ/AAAAAAAAAAAAAAAAAAAAAAAAAAAAAAAAexSuR+F6hD97FK5H4XqUv3sUrkfheoQ/AAAAAAAAAAAAAAAAAAAAAAAAAAAAAAAAuB6F61G4nj/sUbgeheuxP5qZmZmZmdk/exSuR+F6AEDXo3A9CtcLQBSuR+F6FPI/rkfhehSuAUCPwvUoXI8EQBSuR+F6FPI/PQrXo3A94j9SuB6F61HIPylcj8L1KMy/UrgehetR6D+PwvUoXI/6v+F6FK5H4QJASOF6FK5HFkC4HoXrUbgZQK5H4XoUrhZA\",\"dtype\":\"float64\",\"order\":\"little\",\"shape\":[33]},\"Year\":[1990,1991,1992,1993,1994,1995,1996,1997,1998,1999,2000,2001,2002,2003,2004,2005,2006,2007,2008,2009,2010,2011,2012,2013,2014,2015,2016,2017,2018,2019,2020,2021,2022]},\"selected\":{\"id\":\"3200\"},\"selection_policy\":{\"id\":\"3216\"}},\"id\":\"3199\",\"type\":\"ColumnDataSource\"},{\"attributes\":{\"source\":{\"id\":\"3221\"}},\"id\":\"3228\",\"type\":\"CDSView\"},{\"attributes\":{\"line_color\":\"#6d904f\",\"line_width\":2,\"x\":{\"field\":\"Year\"},\"y\":{\"field\":\"Solar (TWh growth - equivalent)\"}},\"id\":\"3270\",\"type\":\"Line\"},{\"attributes\":{},\"id\":\"3173\",\"type\":\"BasicTickFormatter\"},{\"attributes\":{\"end\":2022.0,\"reset_end\":2022.0,\"reset_start\":1990.0,\"start\":1990.0,\"tags\":[[[\"Year\",\"Year\",null]]]},\"id\":\"3136\",\"type\":\"Range1d\"},{\"attributes\":{\"line_alpha\":0.1,\"line_color\":\"#e5ae38\",\"line_width\":2,\"x\":{\"field\":\"Year\"},\"y\":{\"field\":\"Solar (TWh growth - equivalent)\"}},\"id\":\"3225\",\"type\":\"Line\"},{\"attributes\":{\"line_alpha\":0.2,\"line_color\":\"#e5ae38\",\"line_width\":2,\"x\":{\"field\":\"Year\"},\"y\":{\"field\":\"Solar (TWh growth - equivalent)\"}},\"id\":\"3226\",\"type\":\"Line\"},{\"attributes\":{\"line_color\":\"#30a2da\",\"line_width\":2,\"x\":{\"field\":\"Year\"},\"y\":{\"field\":\"Solar (TWh growth - equivalent)\"}},\"id\":\"3181\",\"type\":\"Line\"},{\"attributes\":{\"end\":10.770000000000001,\"reset_end\":10.770000000000001,\"reset_start\":-2.79,\"start\":-2.79,\"tags\":[[[\"Solar (TWh growth - equivalent)\",\"Solar (TWh growth - equivalent)\",null]]]},\"id\":\"3137\",\"type\":\"Range1d\"}],\"root_ids\":[\"3135\"]},\"title\":\"Bokeh Application\",\"version\":\"2.4.3\"}};\n",
       "    var render_items = [{\"docid\":\"90f17074-a1ed-4801-8c17-69c3f9cdf8ef\",\"root_ids\":[\"3135\"],\"roots\":{\"3135\":\"2ca50e20-5a15-48a0-9305-dc7c07e1bfab\"}}];\n",
       "    root.Bokeh.embed.embed_items_notebook(docs_json, render_items);\n",
       "    for (const render_item of render_items) {\n",
       "      for (const root_id of render_item.root_ids) {\n",
       "\tconst id_el = document.getElementById(root_id)\n",
       "\tif (id_el.children.length && (id_el.children[0].className === 'bk-root')) {\n",
       "\t  const root_el = id_el.children[0]\n",
       "\t  root_el.id = root_el.id + '-rendered'\n",
       "\t}\n",
       "      }\n",
       "    }\n",
       "  }\n",
       "  if (root.Bokeh !== undefined && root.Bokeh.Panel !== undefined) {\n",
       "    embed_document(root);\n",
       "  } else {\n",
       "    var attempts = 0;\n",
       "    var timer = setInterval(function(root) {\n",
       "      if (root.Bokeh !== undefined && root.Bokeh.Panel !== undefined) {\n",
       "        clearInterval(timer);\n",
       "        embed_document(root);\n",
       "      } else if (document.readyState == \"complete\") {\n",
       "        attempts++;\n",
       "        if (attempts > 200) {\n",
       "          clearInterval(timer);\n",
       "          console.log(\"Bokeh: ERROR: Unable to run BokehJS code because BokehJS library is missing\");\n",
       "        }\n",
       "      }\n",
       "    }, 25, root)\n",
       "  }\n",
       "})(window);</script>"
      ],
      "text/plain": [
       ":NdOverlay   [Country]\n",
       "   :Curve   [Year]   (Solar (TWh growth - equivalent))"
      ]
     },
     "metadata": {
      "application/vnd.holoviews_exec.v0+json": {
       "id": "3135"
      }
     },
     "output_type": "display_data"
    },
    {
     "data": {},
     "metadata": {},
     "output_type": "display_data"
    },
    {
     "data": {
      "application/vnd.holoviews_exec.v0+json": "",
      "text/html": [
       "<div id='3372'>\n",
       "  <div class=\"bk-root\" id=\"7651c162-e5da-4182-b847-9c77f1ab1eeb\" data-root-id=\"3372\"></div>\n",
       "</div>\n",
       "<script type=\"application/javascript\">(function(root) {\n",
       "  function embed_document(root) {\n",
       "    var docs_json = {\"fd0c7343-9413-427c-8652-74a4f3a0ffa6\":{\"defs\":[{\"extends\":null,\"module\":null,\"name\":\"ReactiveHTML1\",\"overrides\":[],\"properties\":[]},{\"extends\":null,\"module\":null,\"name\":\"FlexBox1\",\"overrides\":[],\"properties\":[{\"default\":\"flex-start\",\"kind\":null,\"name\":\"align_content\"},{\"default\":\"flex-start\",\"kind\":null,\"name\":\"align_items\"},{\"default\":\"row\",\"kind\":null,\"name\":\"flex_direction\"},{\"default\":\"wrap\",\"kind\":null,\"name\":\"flex_wrap\"},{\"default\":\"flex-start\",\"kind\":null,\"name\":\"justify_content\"}]},{\"extends\":null,\"module\":null,\"name\":\"GridStack1\",\"overrides\":[],\"properties\":[{\"default\":\"warn\",\"kind\":null,\"name\":\"mode\"},{\"default\":null,\"kind\":null,\"name\":\"ncols\"},{\"default\":null,\"kind\":null,\"name\":\"nrows\"},{\"default\":true,\"kind\":null,\"name\":\"allow_resize\"},{\"default\":true,\"kind\":null,\"name\":\"allow_drag\"},{\"default\":[],\"kind\":null,\"name\":\"state\"}]},{\"extends\":null,\"module\":null,\"name\":\"click1\",\"overrides\":[],\"properties\":[{\"default\":\"\",\"kind\":null,\"name\":\"terminal_output\"},{\"default\":\"\",\"kind\":null,\"name\":\"debug_name\"},{\"default\":0,\"kind\":null,\"name\":\"clears\"}]},{\"extends\":null,\"module\":null,\"name\":\"NotificationAreaBase1\",\"overrides\":[],\"properties\":[{\"default\":\"bottom-right\",\"kind\":null,\"name\":\"position\"},{\"default\":0,\"kind\":null,\"name\":\"_clear\"}]},{\"extends\":null,\"module\":null,\"name\":\"NotificationArea1\",\"overrides\":[],\"properties\":[{\"default\":[],\"kind\":null,\"name\":\"notifications\"},{\"default\":\"bottom-right\",\"kind\":null,\"name\":\"position\"},{\"default\":0,\"kind\":null,\"name\":\"_clear\"},{\"default\":[{\"background\":\"#ffc107\",\"icon\":{\"className\":\"fas fa-exclamation-triangle\",\"color\":\"white\",\"tagName\":\"i\"},\"type\":\"warning\"},{\"background\":\"#007bff\",\"icon\":{\"className\":\"fas fa-info-circle\",\"color\":\"white\",\"tagName\":\"i\"},\"type\":\"info\"}],\"kind\":null,\"name\":\"types\"}]},{\"extends\":null,\"module\":null,\"name\":\"Notification\",\"overrides\":[],\"properties\":[{\"default\":null,\"kind\":null,\"name\":\"background\"},{\"default\":3000,\"kind\":null,\"name\":\"duration\"},{\"default\":null,\"kind\":null,\"name\":\"icon\"},{\"default\":\"\",\"kind\":null,\"name\":\"message\"},{\"default\":null,\"kind\":null,\"name\":\"notification_type\"},{\"default\":false,\"kind\":null,\"name\":\"_destroyed\"}]},{\"extends\":null,\"module\":null,\"name\":\"TemplateActions1\",\"overrides\":[],\"properties\":[{\"default\":0,\"kind\":null,\"name\":\"open_modal\"},{\"default\":0,\"kind\":null,\"name\":\"close_modal\"}]},{\"extends\":null,\"module\":null,\"name\":\"MaterialTemplateActions1\",\"overrides\":[],\"properties\":[{\"default\":0,\"kind\":null,\"name\":\"open_modal\"},{\"default\":0,\"kind\":null,\"name\":\"close_modal\"}]}],\"roots\":{\"references\":[{\"attributes\":{\"coordinates\":null,\"data_source\":{\"id\":\"3436\"},\"glyph\":{\"id\":\"3439\"},\"group\":null,\"hover_glyph\":null,\"muted_glyph\":{\"id\":\"3441\"},\"nonselection_glyph\":{\"id\":\"3440\"},\"selection_glyph\":{\"id\":\"3457\"},\"view\":{\"id\":\"3443\"}},\"id\":\"3442\",\"type\":\"GlyphRenderer\"},{\"attributes\":{\"line_color\":\"#fc4f30\",\"line_width\":2,\"x\":{\"field\":\"Year\"},\"y\":{\"field\":\"Solar (% growth)\"}},\"id\":\"3439\",\"type\":\"Line\"},{\"attributes\":{\"coordinates\":null,\"group\":null,\"text\":\"Annual Growth in % Solar Energy Generation\",\"text_color\":\"black\",\"text_font_size\":\"12pt\"},\"id\":\"3380\",\"type\":\"Title\"},{\"attributes\":{\"data\":{\"Country\":[\"United Kingdom\",\"United Kingdom\",\"United Kingdom\",\"United Kingdom\",\"United Kingdom\",\"United Kingdom\",\"United Kingdom\",\"United Kingdom\",\"United Kingdom\",\"United Kingdom\",\"United Kingdom\",\"United Kingdom\",\"United Kingdom\",\"United Kingdom\",\"United Kingdom\",\"United Kingdom\",\"United Kingdom\",\"United Kingdom\",\"United Kingdom\",\"United Kingdom\",\"United Kingdom\",\"United Kingdom\",\"United Kingdom\",\"United Kingdom\",\"United Kingdom\",\"United Kingdom\",\"United Kingdom\",\"United Kingdom\",\"United Kingdom\",\"United Kingdom\",\"United Kingdom\",\"United Kingdom\"],\"Solar (% growth)\":{\"__ndarray__\":\"AAAAAAAAAAAAAAAAAAAAAAAAAAAAAAAAAAAAAAAAAAAAAAAAAAAAAAAAAAAAAAAAAAAAAAAAAAAAAAAAAAAAAAAAAAAAAAAAAAAAAAAAAAAAAAAAAAAAAAAAAAAAAAAAAAAAAAAAAAAAAAAAAAAAAAAAAAAAAAAAAAAAAAAAAAAAAAAAAAAAAAAAAAAAAAAAAAAAAAAAWUAAAAAAAAAAAAAAAAAAAFlAAAAAAABAf0AAAAAAAOh8QDMzMzMzc0hA//////9fWUCamZmZmXlVQM3MzMzMDENAZmZmZmZmJEBnZmZmZmYmQGdmZmZmZvY/zczMzMzMCECamZmZmZkZwA==\",\"dtype\":\"float64\",\"order\":\"little\",\"shape\":[32]},\"Solar_left_parenthesis_percent_growth_right_parenthesis\":{\"__ndarray__\":\"AAAAAAAAAAAAAAAAAAAAAAAAAAAAAAAAAAAAAAAAAAAAAAAAAAAAAAAAAAAAAAAAAAAAAAAAAAAAAAAAAAAAAAAAAAAAAAAAAAAAAAAAAAAAAAAAAAAAAAAAAAAAAAAAAAAAAAAAAAAAAAAAAAAAAAAAAAAAAAAAAAAAAAAAAAAAAAAAAAAAAAAAAAAAAAAAAAAAAAAAWUAAAAAAAAAAAAAAAAAAAFlAAAAAAABAf0AAAAAAAOh8QDMzMzMzc0hA//////9fWUCamZmZmXlVQM3MzMzMDENAZmZmZmZmJEBnZmZmZmYmQGdmZmZmZvY/zczMzMzMCECamZmZmZkZwA==\",\"dtype\":\"float64\",\"order\":\"little\",\"shape\":[32]},\"Year\":[1990,1991,1992,1993,1994,1995,1996,1997,1998,1999,2000,2001,2002,2003,2004,2005,2006,2007,2008,2009,2010,2011,2012,2013,2014,2015,2016,2017,2018,2019,2020,2021]},\"selected\":{\"id\":\"3483\"},\"selection_policy\":{\"id\":\"3503\"}},\"id\":\"3482\",\"type\":\"ColumnDataSource\"},{\"attributes\":{},\"id\":\"3397\",\"type\":\"PanTool\"},{\"attributes\":{\"line_alpha\":0.1,\"line_color\":\"#fc4f30\",\"line_width\":2,\"x\":{\"field\":\"Year\"},\"y\":{\"field\":\"Solar (% growth)\"}},\"id\":\"3440\",\"type\":\"Line\"},{\"attributes\":{\"axis\":{\"id\":\"3388\"},\"coordinates\":null,\"grid_line_color\":null,\"group\":null,\"ticker\":null},\"id\":\"3391\",\"type\":\"Grid\"},{\"attributes\":{\"line_alpha\":0.2,\"line_color\":\"#fc4f30\",\"line_width\":2,\"x\":{\"field\":\"Year\"},\"y\":{\"field\":\"Solar (% growth)\"}},\"id\":\"3441\",\"type\":\"Line\"},{\"attributes\":{\"axis_label\":\"Year\",\"coordinates\":null,\"formatter\":{\"id\":\"3410\"},\"group\":null,\"major_label_policy\":{\"id\":\"3411\"},\"ticker\":{\"id\":\"3389\"}},\"id\":\"3388\",\"type\":\"LinearAxis\"},{\"attributes\":{\"line_color\":\"#e5ae38\",\"line_width\":2,\"x\":{\"field\":\"Year\"},\"y\":{\"field\":\"Solar (% growth)\"}},\"id\":\"3481\",\"type\":\"Line\"},{\"attributes\":{},\"id\":\"3386\",\"type\":\"LinearScale\"},{\"attributes\":{\"source\":{\"id\":\"3436\"}},\"id\":\"3443\",\"type\":\"CDSView\"},{\"attributes\":{\"line_color\":\"#e5ae38\",\"line_width\":2,\"x\":{\"field\":\"Year\"},\"y\":{\"field\":\"Solar (% growth)\"}},\"id\":\"3461\",\"type\":\"Line\"},{\"attributes\":{\"label\":{\"value\":\"Spain\"},\"renderers\":[{\"id\":\"3442\"}]},\"id\":\"3456\",\"type\":\"LegendItem\"},{\"attributes\":{},\"id\":\"3389\",\"type\":\"BasicTicker\"},{\"attributes\":{\"line_color\":\"#6d904f\",\"line_width\":2,\"x\":{\"field\":\"Year\"},\"y\":{\"field\":\"Solar (% growth)\"}},\"id\":\"3485\",\"type\":\"Line\"},{\"attributes\":{},\"id\":\"3411\",\"type\":\"AllLabels\"},{\"attributes\":{\"axis_label\":\"Solar (% growth)\",\"coordinates\":null,\"formatter\":{\"id\":\"3413\"},\"group\":null,\"major_label_policy\":{\"id\":\"3414\"},\"ticker\":{\"id\":\"3393\"}},\"id\":\"3392\",\"type\":\"LinearAxis\"},{\"attributes\":{\"axis\":{\"id\":\"3392\"},\"coordinates\":null,\"dimension\":1,\"grid_line_color\":null,\"group\":null,\"ticker\":null},\"id\":\"3395\",\"type\":\"Grid\"},{\"attributes\":{},\"id\":\"3393\",\"type\":\"BasicTicker\"},{\"attributes\":{},\"id\":\"3398\",\"type\":\"WheelZoomTool\"},{\"attributes\":{},\"id\":\"3453\",\"type\":\"UnionRenderers\"},{\"attributes\":{},\"id\":\"3483\",\"type\":\"Selection\"},{\"attributes\":{\"overlay\":{\"id\":\"3401\"}},\"id\":\"3399\",\"type\":\"BoxZoomTool\"},{\"attributes\":{},\"id\":\"3396\",\"type\":\"SaveTool\"},{\"attributes\":{\"line_alpha\":0.1,\"line_color\":\"#6d904f\",\"line_width\":2,\"x\":{\"field\":\"Year\"},\"y\":{\"field\":\"Solar (% growth)\"}},\"id\":\"3486\",\"type\":\"Line\"},{\"attributes\":{},\"id\":\"3400\",\"type\":\"ResetTool\"},{\"attributes\":{\"line_alpha\":0.2,\"line_color\":\"#6d904f\",\"line_width\":2,\"x\":{\"field\":\"Year\"},\"y\":{\"field\":\"Solar (% growth)\"}},\"id\":\"3487\",\"type\":\"Line\"},{\"attributes\":{\"coordinates\":null,\"data_source\":{\"id\":\"3482\"},\"glyph\":{\"id\":\"3485\"},\"group\":null,\"hover_glyph\":null,\"muted_glyph\":{\"id\":\"3487\"},\"nonselection_glyph\":{\"id\":\"3486\"},\"selection_glyph\":{\"id\":\"3507\"},\"view\":{\"id\":\"3489\"}},\"id\":\"3488\",\"type\":\"GlyphRenderer\"},{\"attributes\":{\"bottom_units\":\"screen\",\"coordinates\":null,\"fill_alpha\":0.5,\"fill_color\":\"lightgrey\",\"group\":null,\"left_units\":\"screen\",\"level\":\"overlay\",\"line_alpha\":1.0,\"line_color\":\"black\",\"line_dash\":[4,4],\"line_width\":2,\"right_units\":\"screen\",\"syncable\":false,\"top_units\":\"screen\"},\"id\":\"3401\",\"type\":\"BoxAnnotation\"},{\"attributes\":{\"source\":{\"id\":\"3482\"}},\"id\":\"3489\",\"type\":\"CDSView\"},{\"attributes\":{},\"id\":\"3430\",\"type\":\"UnionRenderers\"},{\"attributes\":{\"label\":{\"value\":\"United Kingdom\"},\"renderers\":[{\"id\":\"3488\"}]},\"id\":\"3506\",\"type\":\"LegendItem\"},{\"attributes\":{\"coordinates\":null,\"data_source\":{\"id\":\"3415\"},\"glyph\":{\"id\":\"3418\"},\"group\":null,\"hover_glyph\":null,\"muted_glyph\":{\"id\":\"3420\"},\"nonselection_glyph\":{\"id\":\"3419\"},\"selection_glyph\":{\"id\":\"3435\"},\"view\":{\"id\":\"3422\"}},\"id\":\"3421\",\"type\":\"GlyphRenderer\"},{\"attributes\":{},\"id\":\"3416\",\"type\":\"Selection\"},{\"attributes\":{},\"id\":\"3503\",\"type\":\"UnionRenderers\"},{\"attributes\":{\"line_color\":\"#30a2da\",\"line_width\":2,\"x\":{\"field\":\"Year\"},\"y\":{\"field\":\"Solar (% growth)\"}},\"id\":\"3418\",\"type\":\"Line\"},{\"attributes\":{},\"id\":\"3459\",\"type\":\"Selection\"},{\"attributes\":{\"click_policy\":\"mute\",\"coordinates\":null,\"group\":null,\"items\":[{\"id\":\"3434\"},{\"id\":\"3456\"},{\"id\":\"3480\"},{\"id\":\"3506\"}],\"location\":[0,0],\"title\":\"Country\"},\"id\":\"3433\",\"type\":\"Legend\"},{\"attributes\":{\"end\":556.67,\"reset_end\":556.67,\"reset_start\":-123.37,\"start\":-123.37,\"tags\":[[[\"Solar (% growth)\",\"Solar (% growth)\",null]]]},\"id\":\"3374\",\"type\":\"Range1d\"},{\"attributes\":{\"end\":2022.0,\"reset_end\":2022.0,\"reset_start\":1990.0,\"start\":1990.0,\"tags\":[[[\"Year\",\"Year\",null]]]},\"id\":\"3373\",\"type\":\"Range1d\"},{\"attributes\":{\"line_color\":\"#fc4f30\",\"line_width\":2,\"x\":{\"field\":\"Year\"},\"y\":{\"field\":\"Solar (% growth)\"}},\"id\":\"3457\",\"type\":\"Line\"},{\"attributes\":{\"data\":{\"Country\":[\"Spain\",\"Spain\",\"Spain\",\"Spain\",\"Spain\",\"Spain\",\"Spain\",\"Spain\",\"Spain\",\"Spain\",\"Spain\",\"Spain\",\"Spain\",\"Spain\",\"Spain\",\"Spain\",\"Spain\",\"Spain\",\"Spain\",\"Spain\",\"Spain\",\"Spain\",\"Spain\",\"Spain\",\"Spain\",\"Spain\",\"Spain\",\"Spain\",\"Spain\",\"Spain\",\"Spain\",\"Spain\",\"Spain\"],\"Solar (% growth)\":{\"__ndarray__\":\"AAAAAAAAAAAAAAAAAAAAAAAAAAAAAAAAAAAAAAAAAAAAAAAAAAAAAAAAAAAAAFlAAAAAAAAAAAAAAAAAAAAAAAAAAAAAAAAAAAAAAAAASUDNzMzMzKxQwAAAAAAAAFlAAAAAAAAAAAAAAAAAAAAAAAAAAAAAAAAAAAAAAADAYkAAAAAAAIBhQM3MzMzM1HRANDMzMzPDeEDNzMzMzNxgQJqZmZmZmTJAMzMzMzOzPkDNzMzMzEw7QM3MzMzMzCJAmZmZmZmZEUBnZmZmZmb2P5qZmZmZmfm/Z2ZmZmZmFkAAAAAAAAAnwAAAAAAAgDJAMzMzMzNzQkCamZmZmRk/QGZmZmZm5jRA\",\"dtype\":\"float64\",\"order\":\"little\",\"shape\":[33]},\"Solar_left_parenthesis_percent_growth_right_parenthesis\":{\"__ndarray__\":\"AAAAAAAAAAAAAAAAAAAAAAAAAAAAAAAAAAAAAAAAAAAAAAAAAAAAAAAAAAAAAFlAAAAAAAAAAAAAAAAAAAAAAAAAAAAAAAAAAAAAAAAASUDNzMzMzKxQwAAAAAAAAFlAAAAAAAAAAAAAAAAAAAAAAAAAAAAAAAAAAAAAAADAYkAAAAAAAIBhQM3MzMzM1HRANDMzMzPDeEDNzMzMzNxgQJqZmZmZmTJAMzMzMzOzPkDNzMzMzEw7QM3MzMzMzCJAmZmZmZmZEUBnZmZmZmb2P5qZmZmZmfm/Z2ZmZmZmFkAAAAAAAAAnwAAAAAAAgDJAMzMzMzNzQkCamZmZmRk/QGZmZmZm5jRA\",\"dtype\":\"float64\",\"order\":\"little\",\"shape\":[33]},\"Year\":[1990,1991,1992,1993,1994,1995,1996,1997,1998,1999,2000,2001,2002,2003,2004,2005,2006,2007,2008,2009,2010,2011,2012,2013,2014,2015,2016,2017,2018,2019,2020,2021,2022]},\"selected\":{\"id\":\"3437\"},\"selection_policy\":{\"id\":\"3453\"}},\"id\":\"3436\",\"type\":\"ColumnDataSource\"},{\"attributes\":{},\"id\":\"3384\",\"type\":\"LinearScale\"},{\"attributes\":{\"children\":[{\"id\":\"3379\"}],\"height\":400,\"margin\":[0,0,0,0],\"name\":\"Row03346\",\"sizing_mode\":\"fixed\",\"tags\":[\"embedded\"],\"width\":700},\"id\":\"3372\",\"type\":\"Row\"},{\"attributes\":{\"line_alpha\":0.1,\"line_color\":\"#30a2da\",\"line_width\":2,\"x\":{\"field\":\"Year\"},\"y\":{\"field\":\"Solar (% growth)\"}},\"id\":\"3419\",\"type\":\"Line\"},{\"attributes\":{\"line_alpha\":0.2,\"line_color\":\"#30a2da\",\"line_width\":2,\"x\":{\"field\":\"Year\"},\"y\":{\"field\":\"Solar (% growth)\"}},\"id\":\"3420\",\"type\":\"Line\"},{\"attributes\":{\"data\":{\"Country\":[\"Germany\",\"Germany\",\"Germany\",\"Germany\",\"Germany\",\"Germany\",\"Germany\",\"Germany\",\"Germany\",\"Germany\",\"Germany\",\"Germany\",\"Germany\",\"Germany\",\"Germany\",\"Germany\",\"Germany\",\"Germany\",\"Germany\",\"Germany\",\"Germany\",\"Germany\",\"Germany\",\"Germany\",\"Germany\",\"Germany\",\"Germany\",\"Germany\",\"Germany\",\"Germany\",\"Germany\",\"Germany\",\"Germany\"],\"Solar (% growth)\":{\"__ndarray__\":\"AAAAAAAAAAAAAAAAAAAAAAAAAAAAAAAAAAAAAAAAAAAAAAAAAAAAAAAAAAAAAAAAAAAAAAAAAAAAAAAAAABZQAAAAAAAAFlAAAAAAAAAOcAAAAAAAABZQAAAAAAAAFlAZmZmZmYmTUCamZmZmZlPQGdmZmZmJlRAMzMzMzMTYECamZmZmVlSQJqZmZmZWUNAAAAAAADARUAzMzMzM3NIQDMzMzMzk1NAZ2ZmZmbGUEDMzMzMzExBQJmZmZmZmTFAzczMzMxMMECZmZmZmZkdQJqZmZmZmfm/NDMzMzMzC0CZmZmZmZkkQM3MzMzMzABAAAAAAAAAJ0AzMzMzMzPTvwAAAAAAgDNA\",\"dtype\":\"float64\",\"order\":\"little\",\"shape\":[33]},\"Solar_left_parenthesis_percent_growth_right_parenthesis\":{\"__ndarray__\":\"AAAAAAAAAAAAAAAAAAAAAAAAAAAAAAAAAAAAAAAAAAAAAAAAAAAAAAAAAAAAAAAAAAAAAAAAAAAAAAAAAABZQAAAAAAAAFlAAAAAAAAAOcAAAAAAAABZQAAAAAAAAFlAZmZmZmYmTUCamZmZmZlPQGdmZmZmJlRAMzMzMzMTYECamZmZmVlSQJqZmZmZWUNAAAAAAADARUAzMzMzM3NIQDMzMzMzk1NAZ2ZmZmbGUEDMzMzMzExBQJmZmZmZmTFAzczMzMxMMECZmZmZmZkdQJqZmZmZmfm/NDMzMzMzC0CZmZmZmZkkQM3MzMzMzABAAAAAAAAAJ0AzMzMzMzPTvwAAAAAAgDNA\",\"dtype\":\"float64\",\"order\":\"little\",\"shape\":[33]},\"Year\":[1990,1991,1992,1993,1994,1995,1996,1997,1998,1999,2000,2001,2002,2003,2004,2005,2006,2007,2008,2009,2010,2011,2012,2013,2014,2015,2016,2017,2018,2019,2020,2021,2022]},\"selected\":{\"id\":\"3416\"},\"selection_policy\":{\"id\":\"3430\"}},\"id\":\"3415\",\"type\":\"ColumnDataSource\"},{\"attributes\":{\"line_color\":\"#6d904f\",\"line_width\":2,\"x\":{\"field\":\"Year\"},\"y\":{\"field\":\"Solar (% growth)\"}},\"id\":\"3507\",\"type\":\"Line\"},{\"attributes\":{\"line_alpha\":0.1,\"line_color\":\"#e5ae38\",\"line_width\":2,\"x\":{\"field\":\"Year\"},\"y\":{\"field\":\"Solar (% growth)\"}},\"id\":\"3462\",\"type\":\"Line\"},{\"attributes\":{\"line_alpha\":0.2,\"line_color\":\"#e5ae38\",\"line_width\":2,\"x\":{\"field\":\"Year\"},\"y\":{\"field\":\"Solar (% growth)\"}},\"id\":\"3463\",\"type\":\"Line\"},{\"attributes\":{\"coordinates\":null,\"data_source\":{\"id\":\"3458\"},\"glyph\":{\"id\":\"3461\"},\"group\":null,\"hover_glyph\":null,\"muted_glyph\":{\"id\":\"3463\"},\"nonselection_glyph\":{\"id\":\"3462\"},\"selection_glyph\":{\"id\":\"3481\"},\"view\":{\"id\":\"3465\"}},\"id\":\"3464\",\"type\":\"GlyphRenderer\"},{\"attributes\":{\"callback\":null,\"renderers\":[{\"id\":\"3421\"},{\"id\":\"3442\"},{\"id\":\"3464\"},{\"id\":\"3488\"}],\"tags\":[\"hv_created\"],\"tooltips\":[[\"Country\",\"@{Country}\"],[\"Year\",\"@{Year}\"],[\"Solar (% growth)\",\"@{Solar_left_parenthesis_percent_growth_right_parenthesis}\"]]},\"id\":\"3375\",\"type\":\"HoverTool\"},{\"attributes\":{\"source\":{\"id\":\"3458\"}},\"id\":\"3465\",\"type\":\"CDSView\"},{\"attributes\":{},\"id\":\"3414\",\"type\":\"AllLabels\"},{\"attributes\":{\"label\":{\"value\":\"Switzerland\"},\"renderers\":[{\"id\":\"3464\"}]},\"id\":\"3480\",\"type\":\"LegendItem\"},{\"attributes\":{},\"id\":\"3477\",\"type\":\"UnionRenderers\"},{\"attributes\":{\"label\":{\"value\":\"Germany\"},\"renderers\":[{\"id\":\"3421\"}]},\"id\":\"3434\",\"type\":\"LegendItem\"},{\"attributes\":{\"active_drag\":{\"id\":\"3397\"},\"active_scroll\":{\"id\":\"3398\"},\"tools\":[{\"id\":\"3375\"},{\"id\":\"3396\"},{\"id\":\"3397\"},{\"id\":\"3398\"},{\"id\":\"3399\"},{\"id\":\"3400\"}]},\"id\":\"3402\",\"type\":\"Toolbar\"},{\"attributes\":{},\"id\":\"3437\",\"type\":\"Selection\"},{\"attributes\":{\"source\":{\"id\":\"3415\"}},\"id\":\"3422\",\"type\":\"CDSView\"},{\"attributes\":{\"line_color\":\"#30a2da\",\"line_width\":2,\"x\":{\"field\":\"Year\"},\"y\":{\"field\":\"Solar (% growth)\"}},\"id\":\"3435\",\"type\":\"Line\"},{\"attributes\":{},\"id\":\"3413\",\"type\":\"BasicTickFormatter\"},{\"attributes\":{\"below\":[{\"id\":\"3388\"}],\"center\":[{\"id\":\"3391\"},{\"id\":\"3395\"}],\"height\":400,\"left\":[{\"id\":\"3392\"}],\"margin\":[5,5,5,5],\"min_border_bottom\":10,\"min_border_left\":10,\"min_border_right\":10,\"min_border_top\":10,\"renderers\":[{\"id\":\"3421\"},{\"id\":\"3442\"},{\"id\":\"3464\"},{\"id\":\"3488\"}],\"right\":[{\"id\":\"3433\"}],\"sizing_mode\":\"fixed\",\"title\":{\"id\":\"3380\"},\"toolbar\":{\"id\":\"3402\"},\"width\":700,\"x_range\":{\"id\":\"3373\"},\"x_scale\":{\"id\":\"3384\"},\"y_range\":{\"id\":\"3374\"},\"y_scale\":{\"id\":\"3386\"}},\"id\":\"3379\",\"subtype\":\"Figure\",\"type\":\"Plot\"},{\"attributes\":{},\"id\":\"3410\",\"type\":\"BasicTickFormatter\"},{\"attributes\":{\"data\":{\"Country\":[\"Switzerland\",\"Switzerland\",\"Switzerland\",\"Switzerland\",\"Switzerland\",\"Switzerland\",\"Switzerland\",\"Switzerland\",\"Switzerland\",\"Switzerland\",\"Switzerland\",\"Switzerland\",\"Switzerland\",\"Switzerland\",\"Switzerland\",\"Switzerland\",\"Switzerland\",\"Switzerland\",\"Switzerland\",\"Switzerland\",\"Switzerland\",\"Switzerland\",\"Switzerland\",\"Switzerland\",\"Switzerland\",\"Switzerland\",\"Switzerland\",\"Switzerland\",\"Switzerland\",\"Switzerland\",\"Switzerland\",\"Switzerland\"],\"Solar (% growth)\":{\"__ndarray__\":\"AAAAAAAAAAAAAAAAAABZQAAAAAAAAElAZ2ZmZmamQEAAAAAAAAA5QAAAAAAAADRAMzMzMzOzMEAAAAAAAAAAAJmZmZmZmSxAAAAAAAAAOUAAAAAAAAAAAAAAAAAAAAAAAAAAAAAAAAAAAAAAAABZQAAAAAAAAAAAAAAAAAAAAAAAAAAAAAAAAAAAAAAAAElAAAAAAAAAAADNzMzMzKxQQAAAAAAAAFRAmpmZmZk5VkAAAAAAACBTQM3MzMzMrFBAAAAAAAAAUUBnZmZmZqZAQM3MzMzMzDJAzczMzMxMOkCamZmZmRkwQJmZmZmZmSdAzczMzMxMM0BnZmZmZmYmQA==\",\"dtype\":\"float64\",\"order\":\"little\",\"shape\":[32]},\"Solar_left_parenthesis_percent_growth_right_parenthesis\":{\"__ndarray__\":\"AAAAAAAAAAAAAAAAAABZQAAAAAAAAElAZ2ZmZmamQEAAAAAAAAA5QAAAAAAAADRAMzMzMzOzMEAAAAAAAAAAAJmZmZmZmSxAAAAAAAAAOUAAAAAAAAAAAAAAAAAAAAAAAAAAAAAAAAAAAAAAAABZQAAAAAAAAAAAAAAAAAAAAAAAAAAAAAAAAAAAAAAAAElAAAAAAAAAAADNzMzMzKxQQAAAAAAAAFRAmpmZmZk5VkAAAAAAACBTQM3MzMzMrFBAAAAAAAAAUUBnZmZmZqZAQM3MzMzMzDJAzczMzMxMOkCamZmZmRkwQJmZmZmZmSdAzczMzMxMM0BnZmZmZmYmQA==\",\"dtype\":\"float64\",\"order\":\"little\",\"shape\":[32]},\"Year\":[1990,1991,1992,1993,1994,1995,1996,1997,1998,1999,2000,2001,2002,2003,2004,2005,2006,2007,2008,2009,2010,2011,2012,2013,2014,2015,2016,2017,2018,2019,2020,2021]},\"selected\":{\"id\":\"3459\"},\"selection_policy\":{\"id\":\"3477\"}},\"id\":\"3458\",\"type\":\"ColumnDataSource\"}],\"root_ids\":[\"3372\"]},\"title\":\"Bokeh Application\",\"version\":\"2.4.3\"}};\n",
       "    var render_items = [{\"docid\":\"fd0c7343-9413-427c-8652-74a4f3a0ffa6\",\"root_ids\":[\"3372\"],\"roots\":{\"3372\":\"7651c162-e5da-4182-b847-9c77f1ab1eeb\"}}];\n",
       "    root.Bokeh.embed.embed_items_notebook(docs_json, render_items);\n",
       "    for (const render_item of render_items) {\n",
       "      for (const root_id of render_item.root_ids) {\n",
       "\tconst id_el = document.getElementById(root_id)\n",
       "\tif (id_el.children.length && (id_el.children[0].className === 'bk-root')) {\n",
       "\t  const root_el = id_el.children[0]\n",
       "\t  root_el.id = root_el.id + '-rendered'\n",
       "\t}\n",
       "      }\n",
       "    }\n",
       "  }\n",
       "  if (root.Bokeh !== undefined && root.Bokeh.Panel !== undefined) {\n",
       "    embed_document(root);\n",
       "  } else {\n",
       "    var attempts = 0;\n",
       "    var timer = setInterval(function(root) {\n",
       "      if (root.Bokeh !== undefined && root.Bokeh.Panel !== undefined) {\n",
       "        clearInterval(timer);\n",
       "        embed_document(root);\n",
       "      } else if (document.readyState == \"complete\") {\n",
       "        attempts++;\n",
       "        if (attempts > 200) {\n",
       "          clearInterval(timer);\n",
       "          console.log(\"Bokeh: ERROR: Unable to run BokehJS code because BokehJS library is missing\");\n",
       "        }\n",
       "      }\n",
       "    }, 25, root)\n",
       "  }\n",
       "})(window);</script>"
      ],
      "text/plain": [
       ":NdOverlay   [Country]\n",
       "   :Curve   [Year]   (Solar (% growth))"
      ]
     },
     "metadata": {
      "application/vnd.holoviews_exec.v0+json": {
       "id": "3372"
      }
     },
     "output_type": "display_data"
    }
   ],
   "source": [
    "lineplot(df_solar_generation, 'Year', 'Electricity from solar (TWh)', 'Country', 'Solar Energy Generation')\n",
    "lineplot(df_solar_generation, 'Year', 'Solar (TWh growth - equivalent)', 'Country', 'Annual Change Solar Energy Generation')\n",
    "lineplot(df_solar_generation, 'Year', 'Solar (% growth)', 'Country', 'Annual Growth in % Solar Energy Generation')"
   ]
  },
  {
   "attachments": {},
   "cell_type": "markdown",
   "metadata": {},
   "source": [
    "### Hydro"
   ]
  },
  {
   "cell_type": "code",
   "execution_count": 22,
   "metadata": {},
   "outputs": [
    {
     "data": {},
     "metadata": {},
     "output_type": "display_data"
    },
    {
     "data": {
      "application/vnd.holoviews_exec.v0+json": "",
      "text/html": [
       "<div id='3609'>\n",
       "  <div class=\"bk-root\" id=\"4aea8ffe-4aed-4a76-9427-55e81ae86126\" data-root-id=\"3609\"></div>\n",
       "</div>\n",
       "<script type=\"application/javascript\">(function(root) {\n",
       "  function embed_document(root) {\n",
       "    var docs_json = {\"e9488daa-b4cc-4614-adb6-02962c6e2268\":{\"defs\":[{\"extends\":null,\"module\":null,\"name\":\"ReactiveHTML1\",\"overrides\":[],\"properties\":[]},{\"extends\":null,\"module\":null,\"name\":\"FlexBox1\",\"overrides\":[],\"properties\":[{\"default\":\"flex-start\",\"kind\":null,\"name\":\"align_content\"},{\"default\":\"flex-start\",\"kind\":null,\"name\":\"align_items\"},{\"default\":\"row\",\"kind\":null,\"name\":\"flex_direction\"},{\"default\":\"wrap\",\"kind\":null,\"name\":\"flex_wrap\"},{\"default\":\"flex-start\",\"kind\":null,\"name\":\"justify_content\"}]},{\"extends\":null,\"module\":null,\"name\":\"GridStack1\",\"overrides\":[],\"properties\":[{\"default\":\"warn\",\"kind\":null,\"name\":\"mode\"},{\"default\":null,\"kind\":null,\"name\":\"ncols\"},{\"default\":null,\"kind\":null,\"name\":\"nrows\"},{\"default\":true,\"kind\":null,\"name\":\"allow_resize\"},{\"default\":true,\"kind\":null,\"name\":\"allow_drag\"},{\"default\":[],\"kind\":null,\"name\":\"state\"}]},{\"extends\":null,\"module\":null,\"name\":\"click1\",\"overrides\":[],\"properties\":[{\"default\":\"\",\"kind\":null,\"name\":\"terminal_output\"},{\"default\":\"\",\"kind\":null,\"name\":\"debug_name\"},{\"default\":0,\"kind\":null,\"name\":\"clears\"}]},{\"extends\":null,\"module\":null,\"name\":\"NotificationAreaBase1\",\"overrides\":[],\"properties\":[{\"default\":\"bottom-right\",\"kind\":null,\"name\":\"position\"},{\"default\":0,\"kind\":null,\"name\":\"_clear\"}]},{\"extends\":null,\"module\":null,\"name\":\"NotificationArea1\",\"overrides\":[],\"properties\":[{\"default\":[],\"kind\":null,\"name\":\"notifications\"},{\"default\":\"bottom-right\",\"kind\":null,\"name\":\"position\"},{\"default\":0,\"kind\":null,\"name\":\"_clear\"},{\"default\":[{\"background\":\"#ffc107\",\"icon\":{\"className\":\"fas fa-exclamation-triangle\",\"color\":\"white\",\"tagName\":\"i\"},\"type\":\"warning\"},{\"background\":\"#007bff\",\"icon\":{\"className\":\"fas fa-info-circle\",\"color\":\"white\",\"tagName\":\"i\"},\"type\":\"info\"}],\"kind\":null,\"name\":\"types\"}]},{\"extends\":null,\"module\":null,\"name\":\"Notification\",\"overrides\":[],\"properties\":[{\"default\":null,\"kind\":null,\"name\":\"background\"},{\"default\":3000,\"kind\":null,\"name\":\"duration\"},{\"default\":null,\"kind\":null,\"name\":\"icon\"},{\"default\":\"\",\"kind\":null,\"name\":\"message\"},{\"default\":null,\"kind\":null,\"name\":\"notification_type\"},{\"default\":false,\"kind\":null,\"name\":\"_destroyed\"}]},{\"extends\":null,\"module\":null,\"name\":\"TemplateActions1\",\"overrides\":[],\"properties\":[{\"default\":0,\"kind\":null,\"name\":\"open_modal\"},{\"default\":0,\"kind\":null,\"name\":\"close_modal\"}]},{\"extends\":null,\"module\":null,\"name\":\"MaterialTemplateActions1\",\"overrides\":[],\"properties\":[{\"default\":0,\"kind\":null,\"name\":\"open_modal\"},{\"default\":0,\"kind\":null,\"name\":\"close_modal\"}]}],\"roots\":{\"references\":[{\"attributes\":{\"coordinates\":null,\"group\":null,\"text\":\"Hydro Energy Generation\",\"text_color\":\"black\",\"text_font_size\":\"12pt\"},\"id\":\"3617\",\"type\":\"Title\"},{\"attributes\":{\"coordinates\":null,\"data_source\":{\"id\":\"3673\"},\"glyph\":{\"id\":\"3676\"},\"group\":null,\"hover_glyph\":null,\"muted_glyph\":{\"id\":\"3678\"},\"nonselection_glyph\":{\"id\":\"3677\"},\"selection_glyph\":{\"id\":\"3694\"},\"view\":{\"id\":\"3680\"}},\"id\":\"3679\",\"type\":\"GlyphRenderer\"},{\"attributes\":{\"axis_label\":\"Year\",\"coordinates\":null,\"formatter\":{\"id\":\"3647\"},\"group\":null,\"major_label_policy\":{\"id\":\"3648\"},\"ticker\":{\"id\":\"3626\"}},\"id\":\"3625\",\"type\":\"LinearAxis\"},{\"attributes\":{\"line_alpha\":0.1,\"line_color\":\"#fc4f30\",\"line_width\":2,\"x\":{\"field\":\"Year\"},\"y\":{\"field\":\"Electricity from hydro (TWh)\"}},\"id\":\"3677\",\"type\":\"Line\"},{\"attributes\":{\"line_alpha\":0.2,\"line_color\":\"#fc4f30\",\"line_width\":2,\"x\":{\"field\":\"Year\"},\"y\":{\"field\":\"Electricity from hydro (TWh)\"}},\"id\":\"3678\",\"type\":\"Line\"},{\"attributes\":{},\"id\":\"3634\",\"type\":\"PanTool\"},{\"attributes\":{\"axis\":{\"id\":\"3625\"},\"coordinates\":null,\"grid_line_color\":null,\"group\":null,\"ticker\":null},\"id\":\"3628\",\"type\":\"Grid\"},{\"attributes\":{\"source\":{\"id\":\"3673\"}},\"id\":\"3680\",\"type\":\"CDSView\"},{\"attributes\":{\"line_color\":\"#e5ae38\",\"line_width\":2,\"x\":{\"field\":\"Year\"},\"y\":{\"field\":\"Electricity from hydro (TWh)\"}},\"id\":\"3698\",\"type\":\"Line\"},{\"attributes\":{\"line_color\":\"#e5ae38\",\"line_width\":2,\"x\":{\"field\":\"Year\"},\"y\":{\"field\":\"Electricity from hydro (TWh)\"}},\"id\":\"3718\",\"type\":\"Line\"},{\"attributes\":{},\"id\":\"3626\",\"type\":\"BasicTicker\"},{\"attributes\":{\"label\":{\"value\":\"Spain\"},\"renderers\":[{\"id\":\"3679\"}]},\"id\":\"3693\",\"type\":\"LegendItem\"},{\"attributes\":{},\"id\":\"3648\",\"type\":\"AllLabels\"},{\"attributes\":{\"axis_label\":\"Electricity from hydro (TWh)\",\"coordinates\":null,\"formatter\":{\"id\":\"3650\"},\"group\":null,\"major_label_policy\":{\"id\":\"3651\"},\"ticker\":{\"id\":\"3630\"}},\"id\":\"3629\",\"type\":\"LinearAxis\"},{\"attributes\":{\"axis\":{\"id\":\"3629\"},\"coordinates\":null,\"dimension\":1,\"grid_line_color\":null,\"group\":null,\"ticker\":null},\"id\":\"3632\",\"type\":\"Grid\"},{\"attributes\":{\"line_color\":\"#6d904f\",\"line_width\":2,\"x\":{\"field\":\"Year\"},\"y\":{\"field\":\"Electricity from hydro (TWh)\"}},\"id\":\"3722\",\"type\":\"Line\"},{\"attributes\":{},\"id\":\"3630\",\"type\":\"BasicTicker\"},{\"attributes\":{},\"id\":\"3635\",\"type\":\"WheelZoomTool\"},{\"attributes\":{},\"id\":\"3690\",\"type\":\"UnionRenderers\"},{\"attributes\":{},\"id\":\"3633\",\"type\":\"SaveTool\"},{\"attributes\":{},\"id\":\"3720\",\"type\":\"Selection\"},{\"attributes\":{\"overlay\":{\"id\":\"3638\"}},\"id\":\"3636\",\"type\":\"BoxZoomTool\"},{\"attributes\":{},\"id\":\"3637\",\"type\":\"ResetTool\"},{\"attributes\":{\"line_alpha\":0.1,\"line_color\":\"#6d904f\",\"line_width\":2,\"x\":{\"field\":\"Year\"},\"y\":{\"field\":\"Electricity from hydro (TWh)\"}},\"id\":\"3723\",\"type\":\"Line\"},{\"attributes\":{\"bottom_units\":\"screen\",\"coordinates\":null,\"fill_alpha\":0.5,\"fill_color\":\"lightgrey\",\"group\":null,\"left_units\":\"screen\",\"level\":\"overlay\",\"line_alpha\":1.0,\"line_color\":\"black\",\"line_dash\":[4,4],\"line_width\":2,\"right_units\":\"screen\",\"syncable\":false,\"top_units\":\"screen\"},\"id\":\"3638\",\"type\":\"BoxAnnotation\"},{\"attributes\":{\"line_alpha\":0.2,\"line_color\":\"#6d904f\",\"line_width\":2,\"x\":{\"field\":\"Year\"},\"y\":{\"field\":\"Electricity from hydro (TWh)\"}},\"id\":\"3724\",\"type\":\"Line\"},{\"attributes\":{\"coordinates\":null,\"data_source\":{\"id\":\"3719\"},\"glyph\":{\"id\":\"3722\"},\"group\":null,\"hover_glyph\":null,\"muted_glyph\":{\"id\":\"3724\"},\"nonselection_glyph\":{\"id\":\"3723\"},\"selection_glyph\":{\"id\":\"3744\"},\"view\":{\"id\":\"3726\"}},\"id\":\"3725\",\"type\":\"GlyphRenderer\"},{\"attributes\":{},\"id\":\"3667\",\"type\":\"UnionRenderers\"},{\"attributes\":{\"source\":{\"id\":\"3719\"}},\"id\":\"3726\",\"type\":\"CDSView\"},{\"attributes\":{\"label\":{\"value\":\"United Kingdom\"},\"renderers\":[{\"id\":\"3725\"}]},\"id\":\"3743\",\"type\":\"LegendItem\"},{\"attributes\":{},\"id\":\"3740\",\"type\":\"UnionRenderers\"},{\"attributes\":{\"click_policy\":\"mute\",\"coordinates\":null,\"group\":null,\"items\":[{\"id\":\"3671\"},{\"id\":\"3693\"},{\"id\":\"3717\"},{\"id\":\"3743\"}],\"location\":[0,0],\"title\":\"Country\"},\"id\":\"3670\",\"type\":\"Legend\"},{\"attributes\":{\"active_drag\":{\"id\":\"3634\"},\"active_scroll\":{\"id\":\"3635\"},\"tools\":[{\"id\":\"3612\"},{\"id\":\"3633\"},{\"id\":\"3634\"},{\"id\":\"3635\"},{\"id\":\"3636\"},{\"id\":\"3637\"}]},\"id\":\"3639\",\"type\":\"Toolbar\"},{\"attributes\":{\"data\":{\"Country\":[\"Germany\",\"Germany\",\"Germany\",\"Germany\",\"Germany\",\"Germany\",\"Germany\",\"Germany\",\"Germany\",\"Germany\",\"Germany\",\"Germany\",\"Germany\",\"Germany\",\"Germany\",\"Germany\",\"Germany\",\"Germany\",\"Germany\",\"Germany\",\"Germany\",\"Germany\",\"Germany\",\"Germany\",\"Germany\",\"Germany\",\"Germany\",\"Germany\",\"Germany\",\"Germany\",\"Germany\",\"Germany\",\"Germany\"],\"Electricity from hydro (TWh)\":{\"__ndarray__\":\"rkfhehRuMUBI4XoUrsctQGZmZmZmZjFA4XoUrkfhMUCuR+F6FO4zQEjhehSuxzVA9ihcj8L1NUBcj8L1KFwxQLgehetRODFAZmZmZmamM0B7FK5H4bo1QHsUrkfhujZAH4XrUbgeN0BSuB6F61EyQAAAAAAAwDRApHA9CtejM0BI4XoUrgc0QOxRuB6FKzVAcT0K16NwNEBI4XoUrgczQDMzMzMz8zRA7FG4HoWrMUAAAAAAAMA1QAAAAAAAADdA16NwPQqXM0B7FK5H4foyQM3MzMzMjDRAZmZmZmYmNEBxPQrXo7AxQHsUrkfhujNAuB6F61G4MkApXI/C9agzQDMzMzMzczFA\",\"dtype\":\"float64\",\"order\":\"little\",\"shape\":[33]},\"Electricity_from_hydro_left_parenthesis_TWh_right_parenthesis\":{\"__ndarray__\":\"rkfhehRuMUBI4XoUrsctQGZmZmZmZjFA4XoUrkfhMUCuR+F6FO4zQEjhehSuxzVA9ihcj8L1NUBcj8L1KFwxQLgehetRODFAZmZmZmamM0B7FK5H4bo1QHsUrkfhujZAH4XrUbgeN0BSuB6F61EyQAAAAAAAwDRApHA9CtejM0BI4XoUrgc0QOxRuB6FKzVAcT0K16NwNEBI4XoUrgczQDMzMzMz8zRA7FG4HoWrMUAAAAAAAMA1QAAAAAAAADdA16NwPQqXM0B7FK5H4foyQM3MzMzMjDRAZmZmZmYmNEBxPQrXo7AxQHsUrkfhujNAuB6F61G4MkApXI/C9agzQDMzMzMzczFA\",\"dtype\":\"float64\",\"order\":\"little\",\"shape\":[33]},\"Year\":[1990,1991,1992,1993,1994,1995,1996,1997,1998,1999,2000,2001,2002,2003,2004,2005,2006,2007,2008,2009,2010,2011,2012,2013,2014,2015,2016,2017,2018,2019,2020,2021,2022]},\"selected\":{\"id\":\"3653\"},\"selection_policy\":{\"id\":\"3667\"}},\"id\":\"3652\",\"type\":\"ColumnDataSource\"},{\"attributes\":{\"children\":[{\"id\":\"3616\"}],\"height\":400,\"margin\":[0,0,0,0],\"name\":\"Row03582\",\"sizing_mode\":\"fixed\",\"tags\":[\"embedded\"],\"width\":700},\"id\":\"3609\",\"type\":\"Row\"},{\"attributes\":{\"line_color\":\"#fc4f30\",\"line_width\":2,\"x\":{\"field\":\"Year\"},\"y\":{\"field\":\"Electricity from hydro (TWh)\"}},\"id\":\"3694\",\"type\":\"Line\"},{\"attributes\":{\"data\":{\"Country\":[\"United Kingdom\",\"United Kingdom\",\"United Kingdom\",\"United Kingdom\",\"United Kingdom\",\"United Kingdom\",\"United Kingdom\",\"United Kingdom\",\"United Kingdom\",\"United Kingdom\",\"United Kingdom\",\"United Kingdom\",\"United Kingdom\",\"United Kingdom\",\"United Kingdom\",\"United Kingdom\",\"United Kingdom\",\"United Kingdom\",\"United Kingdom\",\"United Kingdom\",\"United Kingdom\",\"United Kingdom\",\"United Kingdom\",\"United Kingdom\",\"United Kingdom\",\"United Kingdom\",\"United Kingdom\",\"United Kingdom\",\"United Kingdom\",\"United Kingdom\",\"United Kingdom\",\"United Kingdom\"],\"Electricity from hydro (TWh)\":{\"__ndarray__\":\"16NwPQrXFEB7FK5H4XoSQLgehetRuBVAMzMzMzMzEUBcj8L1KFwUQFyPwvUoXBNAH4XrUbgeC0CuR+F6FK4QQHsUrkfhehRAXI/C9ShcFUBcj8L1KFwUQD0K16NwPRBAKVyPwvUoE0DXo3A9CtcJQFyPwvUoXBNArkfhehSuE0Bcj8L1KFwSQFK4HoXrURRAj8L1KFyPFEDsUbgehesUQLgehetRuAxAw/UoXI/CFkA9CtejcD0VQM3MzMzMzBJAj8L1KFyPF0AzMzMzMzMZQHsUrkfhehVAhetRuB6FF0DD9Shcj8IVQLgehetRuBdAuB6F61G4GkBcj8L1KFwWQA==\",\"dtype\":\"float64\",\"order\":\"little\",\"shape\":[32]},\"Electricity_from_hydro_left_parenthesis_TWh_right_parenthesis\":{\"__ndarray__\":\"16NwPQrXFEB7FK5H4XoSQLgehetRuBVAMzMzMzMzEUBcj8L1KFwUQFyPwvUoXBNAH4XrUbgeC0CuR+F6FK4QQHsUrkfhehRAXI/C9ShcFUBcj8L1KFwUQD0K16NwPRBAKVyPwvUoE0DXo3A9CtcJQFyPwvUoXBNArkfhehSuE0Bcj8L1KFwSQFK4HoXrURRAj8L1KFyPFEDsUbgehesUQLgehetRuAxAw/UoXI/CFkA9CtejcD0VQM3MzMzMzBJAj8L1KFyPF0AzMzMzMzMZQHsUrkfhehVAhetRuB6FF0DD9Shcj8IVQLgehetRuBdAuB6F61G4GkBcj8L1KFwWQA==\",\"dtype\":\"float64\",\"order\":\"little\",\"shape\":[32]},\"Year\":[1990,1991,1992,1993,1994,1995,1996,1997,1998,1999,2000,2001,2002,2003,2004,2005,2006,2007,2008,2009,2010,2011,2012,2013,2014,2015,2016,2017,2018,2019,2020,2021]},\"selected\":{\"id\":\"3720\"},\"selection_policy\":{\"id\":\"3740\"}},\"id\":\"3719\",\"type\":\"ColumnDataSource\"},{\"attributes\":{},\"id\":\"3696\",\"type\":\"Selection\"},{\"attributes\":{\"callback\":null,\"renderers\":[{\"id\":\"3658\"},{\"id\":\"3679\"},{\"id\":\"3701\"},{\"id\":\"3725\"}],\"tags\":[\"hv_created\"],\"tooltips\":[[\"Country\",\"@{Country}\"],[\"Year\",\"@{Year}\"],[\"Electricity from hydro (TWh)\",\"@{Electricity_from_hydro_left_parenthesis_TWh_right_parenthesis}\"]]},\"id\":\"3612\",\"type\":\"HoverTool\"},{\"attributes\":{\"source\":{\"id\":\"3652\"}},\"id\":\"3659\",\"type\":\"CDSView\"},{\"attributes\":{\"line_alpha\":0.1,\"line_color\":\"#30a2da\",\"line_width\":2,\"x\":{\"field\":\"Year\"},\"y\":{\"field\":\"Electricity from hydro (TWh)\"}},\"id\":\"3656\",\"type\":\"Line\"},{\"attributes\":{\"line_alpha\":0.1,\"line_color\":\"#e5ae38\",\"line_width\":2,\"x\":{\"field\":\"Year\"},\"y\":{\"field\":\"Electricity from hydro (TWh)\"}},\"id\":\"3699\",\"type\":\"Line\"},{\"attributes\":{\"line_alpha\":0.2,\"line_color\":\"#e5ae38\",\"line_width\":2,\"x\":{\"field\":\"Year\"},\"y\":{\"field\":\"Electricity from hydro (TWh)\"}},\"id\":\"3700\",\"type\":\"Line\"},{\"attributes\":{\"coordinates\":null,\"data_source\":{\"id\":\"3695\"},\"glyph\":{\"id\":\"3698\"},\"group\":null,\"hover_glyph\":null,\"muted_glyph\":{\"id\":\"3700\"},\"nonselection_glyph\":{\"id\":\"3699\"},\"selection_glyph\":{\"id\":\"3718\"},\"view\":{\"id\":\"3702\"}},\"id\":\"3701\",\"type\":\"GlyphRenderer\"},{\"attributes\":{},\"id\":\"3650\",\"type\":\"BasicTickFormatter\"},{\"attributes\":{\"source\":{\"id\":\"3695\"}},\"id\":\"3702\",\"type\":\"CDSView\"},{\"attributes\":{\"line_color\":\"#6d904f\",\"line_width\":2,\"x\":{\"field\":\"Year\"},\"y\":{\"field\":\"Electricity from hydro (TWh)\"}},\"id\":\"3744\",\"type\":\"Line\"},{\"attributes\":{},\"id\":\"3651\",\"type\":\"AllLabels\"},{\"attributes\":{\"label\":{\"value\":\"Switzerland\"},\"renderers\":[{\"id\":\"3701\"}]},\"id\":\"3717\",\"type\":\"LegendItem\"},{\"attributes\":{},\"id\":\"3714\",\"type\":\"UnionRenderers\"},{\"attributes\":{\"end\":46.206999999999994,\"reset_end\":46.206999999999994,\"reset_start\":-0.677,\"start\":-0.677,\"tags\":[[[\"Electricity from hydro (TWh)\",\"Electricity from hydro (TWh)\",null]]]},\"id\":\"3611\",\"type\":\"Range1d\"},{\"attributes\":{\"end\":2022.0,\"reset_end\":2022.0,\"reset_start\":1990.0,\"start\":1990.0,\"tags\":[[[\"Year\",\"Year\",null]]]},\"id\":\"3610\",\"type\":\"Range1d\"},{\"attributes\":{},\"id\":\"3621\",\"type\":\"LinearScale\"},{\"attributes\":{\"data\":{\"Country\":[\"Spain\",\"Spain\",\"Spain\",\"Spain\",\"Spain\",\"Spain\",\"Spain\",\"Spain\",\"Spain\",\"Spain\",\"Spain\",\"Spain\",\"Spain\",\"Spain\",\"Spain\",\"Spain\",\"Spain\",\"Spain\",\"Spain\",\"Spain\",\"Spain\",\"Spain\",\"Spain\",\"Spain\",\"Spain\",\"Spain\",\"Spain\",\"Spain\",\"Spain\",\"Spain\",\"Spain\",\"Spain\",\"Spain\"],\"Electricity from hydro (TWh)\":{\"__ndarray__\":\"uB6F61F4OUAAAAAAAEA7QOxRuB6F6zJA7FG4HoVrOEA9CtejcD08QBSuR+F6FDdAhetRuB7lQ0AAAAAAAGBBQB+F61G4/kBAUrgehevRNkDD9Shcj0I8QFK4HoXrcURAuB6F61E4NUA9CtejcD1EQBSuR+F6FD9ApHA9CtdjMkD2KFyPwvU5QI/C9ShcTztAXI/C9ShcN0ApXI/C9Wg6QGZmZmZmJkVAmpmZmZmZPkDNzMzMzIw0QI/C9Shcb0JA9ihcj8KVQ0CkcD0K1yM8QDMzMzMzM0JAUrgehetRMkAK16NwPSpBQGZmZmZmpjhAw/UoXI+CPkDhehSuR6E9QM3MzMzMzDJA\",\"dtype\":\"float64\",\"order\":\"little\",\"shape\":[33]},\"Electricity_from_hydro_left_parenthesis_TWh_right_parenthesis\":{\"__ndarray__\":\"uB6F61F4OUAAAAAAAEA7QOxRuB6F6zJA7FG4HoVrOEA9CtejcD08QBSuR+F6FDdAhetRuB7lQ0AAAAAAAGBBQB+F61G4/kBAUrgehevRNkDD9Shcj0I8QFK4HoXrcURAuB6F61E4NUA9CtejcD1EQBSuR+F6FD9ApHA9CtdjMkD2KFyPwvU5QI/C9ShcTztAXI/C9ShcN0ApXI/C9Wg6QGZmZmZmJkVAmpmZmZmZPkDNzMzMzIw0QI/C9Shcb0JA9ihcj8KVQ0CkcD0K1yM8QDMzMzMzM0JAUrgehetRMkAK16NwPSpBQGZmZmZmpjhAw/UoXI+CPkDhehSuR6E9QM3MzMzMzDJA\",\"dtype\":\"float64\",\"order\":\"little\",\"shape\":[33]},\"Year\":[1990,1991,1992,1993,1994,1995,1996,1997,1998,1999,2000,2001,2002,2003,2004,2005,2006,2007,2008,2009,2010,2011,2012,2013,2014,2015,2016,2017,2018,2019,2020,2021,2022]},\"selected\":{\"id\":\"3674\"},\"selection_policy\":{\"id\":\"3690\"}},\"id\":\"3673\",\"type\":\"ColumnDataSource\"},{\"attributes\":{\"line_alpha\":0.2,\"line_color\":\"#30a2da\",\"line_width\":2,\"x\":{\"field\":\"Year\"},\"y\":{\"field\":\"Electricity from hydro (TWh)\"}},\"id\":\"3657\",\"type\":\"Line\"},{\"attributes\":{\"line_color\":\"#fc4f30\",\"line_width\":2,\"x\":{\"field\":\"Year\"},\"y\":{\"field\":\"Electricity from hydro (TWh)\"}},\"id\":\"3676\",\"type\":\"Line\"},{\"attributes\":{\"below\":[{\"id\":\"3625\"}],\"center\":[{\"id\":\"3628\"},{\"id\":\"3632\"}],\"height\":400,\"left\":[{\"id\":\"3629\"}],\"margin\":[5,5,5,5],\"min_border_bottom\":10,\"min_border_left\":10,\"min_border_right\":10,\"min_border_top\":10,\"renderers\":[{\"id\":\"3658\"},{\"id\":\"3679\"},{\"id\":\"3701\"},{\"id\":\"3725\"}],\"right\":[{\"id\":\"3670\"}],\"sizing_mode\":\"fixed\",\"title\":{\"id\":\"3617\"},\"toolbar\":{\"id\":\"3639\"},\"width\":700,\"x_range\":{\"id\":\"3610\"},\"x_scale\":{\"id\":\"3621\"},\"y_range\":{\"id\":\"3611\"},\"y_scale\":{\"id\":\"3623\"}},\"id\":\"3616\",\"subtype\":\"Figure\",\"type\":\"Plot\"},{\"attributes\":{\"label\":{\"value\":\"Germany\"},\"renderers\":[{\"id\":\"3658\"}]},\"id\":\"3671\",\"type\":\"LegendItem\"},{\"attributes\":{\"line_color\":\"#30a2da\",\"line_width\":2,\"x\":{\"field\":\"Year\"},\"y\":{\"field\":\"Electricity from hydro (TWh)\"}},\"id\":\"3655\",\"type\":\"Line\"},{\"attributes\":{\"line_color\":\"#30a2da\",\"line_width\":2,\"x\":{\"field\":\"Year\"},\"y\":{\"field\":\"Electricity from hydro (TWh)\"}},\"id\":\"3672\",\"type\":\"Line\"},{\"attributes\":{\"data\":{\"Country\":[\"Switzerland\",\"Switzerland\",\"Switzerland\",\"Switzerland\",\"Switzerland\",\"Switzerland\",\"Switzerland\",\"Switzerland\",\"Switzerland\",\"Switzerland\",\"Switzerland\",\"Switzerland\",\"Switzerland\",\"Switzerland\",\"Switzerland\",\"Switzerland\",\"Switzerland\",\"Switzerland\",\"Switzerland\",\"Switzerland\",\"Switzerland\",\"Switzerland\",\"Switzerland\",\"Switzerland\",\"Switzerland\",\"Switzerland\",\"Switzerland\",\"Switzerland\",\"Switzerland\",\"Switzerland\",\"Switzerland\",\"Switzerland\"],\"Electricity from hydro (TWh)\":{\"__ndarray__\":\"0y07xD/MPUDkMJi/QgpAQFxV9l0RWkBAnG7ZIf7jQUB1kNeDSYlDQIKN69/1lUFA5A8Gnnu/PEAr3sg88gVBQMAHr13avEBAKGIRww4BREDNzMzMzOxAQIXrUbgeJUNAKVyPwvUoQEAzMzMzM/M/QHE9Ctej8D5AKVyPwvWoPECF61G4HkU8QK5H4XoULkBAexSuR+GaQEAK16NwPWpAQOF6FK5HoUBAKVyPwvXoPUCkcD0K1+NBQHE9Ctej0EFAj8L1KFyPQUBxPQrXo7BBQHsUrkfh+j9AexSuR+F6P0DNzMzMzAxAQBSuR+F6lEFAj8L1KFzvQkB7FK5H4XpCQA==\",\"dtype\":\"float64\",\"order\":\"little\",\"shape\":[32]},\"Electricity_from_hydro_left_parenthesis_TWh_right_parenthesis\":{\"__ndarray__\":\"0y07xD/MPUDkMJi/QgpAQFxV9l0RWkBAnG7ZIf7jQUB1kNeDSYlDQIKN69/1lUFA5A8Gnnu/PEAr3sg88gVBQMAHr13avEBAKGIRww4BREDNzMzMzOxAQIXrUbgeJUNAKVyPwvUoQEAzMzMzM/M/QHE9Ctej8D5AKVyPwvWoPECF61G4HkU8QK5H4XoULkBAexSuR+GaQEAK16NwPWpAQOF6FK5HoUBAKVyPwvXoPUCkcD0K1+NBQHE9Ctej0EFAj8L1KFyPQUBxPQrXo7BBQHsUrkfh+j9AexSuR+F6P0DNzMzMzAxAQBSuR+F6lEFAj8L1KFzvQkB7FK5H4XpCQA==\",\"dtype\":\"float64\",\"order\":\"little\",\"shape\":[32]},\"Year\":[1990,1991,1992,1993,1994,1995,1996,1997,1998,1999,2000,2001,2002,2003,2004,2005,2006,2007,2008,2009,2010,2011,2012,2013,2014,2015,2016,2017,2018,2019,2020,2021]},\"selected\":{\"id\":\"3696\"},\"selection_policy\":{\"id\":\"3714\"}},\"id\":\"3695\",\"type\":\"ColumnDataSource\"},{\"attributes\":{\"coordinates\":null,\"data_source\":{\"id\":\"3652\"},\"glyph\":{\"id\":\"3655\"},\"group\":null,\"hover_glyph\":null,\"muted_glyph\":{\"id\":\"3657\"},\"nonselection_glyph\":{\"id\":\"3656\"},\"selection_glyph\":{\"id\":\"3672\"},\"view\":{\"id\":\"3659\"}},\"id\":\"3658\",\"type\":\"GlyphRenderer\"},{\"attributes\":{},\"id\":\"3674\",\"type\":\"Selection\"},{\"attributes\":{},\"id\":\"3647\",\"type\":\"BasicTickFormatter\"},{\"attributes\":{},\"id\":\"3623\",\"type\":\"LinearScale\"},{\"attributes\":{},\"id\":\"3653\",\"type\":\"Selection\"}],\"root_ids\":[\"3609\"]},\"title\":\"Bokeh Application\",\"version\":\"2.4.3\"}};\n",
       "    var render_items = [{\"docid\":\"e9488daa-b4cc-4614-adb6-02962c6e2268\",\"root_ids\":[\"3609\"],\"roots\":{\"3609\":\"4aea8ffe-4aed-4a76-9427-55e81ae86126\"}}];\n",
       "    root.Bokeh.embed.embed_items_notebook(docs_json, render_items);\n",
       "    for (const render_item of render_items) {\n",
       "      for (const root_id of render_item.root_ids) {\n",
       "\tconst id_el = document.getElementById(root_id)\n",
       "\tif (id_el.children.length && (id_el.children[0].className === 'bk-root')) {\n",
       "\t  const root_el = id_el.children[0]\n",
       "\t  root_el.id = root_el.id + '-rendered'\n",
       "\t}\n",
       "      }\n",
       "    }\n",
       "  }\n",
       "  if (root.Bokeh !== undefined && root.Bokeh.Panel !== undefined) {\n",
       "    embed_document(root);\n",
       "  } else {\n",
       "    var attempts = 0;\n",
       "    var timer = setInterval(function(root) {\n",
       "      if (root.Bokeh !== undefined && root.Bokeh.Panel !== undefined) {\n",
       "        clearInterval(timer);\n",
       "        embed_document(root);\n",
       "      } else if (document.readyState == \"complete\") {\n",
       "        attempts++;\n",
       "        if (attempts > 200) {\n",
       "          clearInterval(timer);\n",
       "          console.log(\"Bokeh: ERROR: Unable to run BokehJS code because BokehJS library is missing\");\n",
       "        }\n",
       "      }\n",
       "    }, 25, root)\n",
       "  }\n",
       "})(window);</script>"
      ],
      "text/plain": [
       ":NdOverlay   [Country]\n",
       "   :Curve   [Year]   (Electricity from hydro (TWh))"
      ]
     },
     "metadata": {
      "application/vnd.holoviews_exec.v0+json": {
       "id": "3609"
      }
     },
     "output_type": "display_data"
    },
    {
     "data": {},
     "metadata": {},
     "output_type": "display_data"
    },
    {
     "data": {
      "application/vnd.holoviews_exec.v0+json": "",
      "text/html": [
       "<div id='3846'>\n",
       "  <div class=\"bk-root\" id=\"320b528d-6a24-45a3-8e6f-46f3fc266f56\" data-root-id=\"3846\"></div>\n",
       "</div>\n",
       "<script type=\"application/javascript\">(function(root) {\n",
       "  function embed_document(root) {\n",
       "    var docs_json = {\"846bc307-f2a9-4cf4-baca-5de0e5978afb\":{\"defs\":[{\"extends\":null,\"module\":null,\"name\":\"ReactiveHTML1\",\"overrides\":[],\"properties\":[]},{\"extends\":null,\"module\":null,\"name\":\"FlexBox1\",\"overrides\":[],\"properties\":[{\"default\":\"flex-start\",\"kind\":null,\"name\":\"align_content\"},{\"default\":\"flex-start\",\"kind\":null,\"name\":\"align_items\"},{\"default\":\"row\",\"kind\":null,\"name\":\"flex_direction\"},{\"default\":\"wrap\",\"kind\":null,\"name\":\"flex_wrap\"},{\"default\":\"flex-start\",\"kind\":null,\"name\":\"justify_content\"}]},{\"extends\":null,\"module\":null,\"name\":\"GridStack1\",\"overrides\":[],\"properties\":[{\"default\":\"warn\",\"kind\":null,\"name\":\"mode\"},{\"default\":null,\"kind\":null,\"name\":\"ncols\"},{\"default\":null,\"kind\":null,\"name\":\"nrows\"},{\"default\":true,\"kind\":null,\"name\":\"allow_resize\"},{\"default\":true,\"kind\":null,\"name\":\"allow_drag\"},{\"default\":[],\"kind\":null,\"name\":\"state\"}]},{\"extends\":null,\"module\":null,\"name\":\"click1\",\"overrides\":[],\"properties\":[{\"default\":\"\",\"kind\":null,\"name\":\"terminal_output\"},{\"default\":\"\",\"kind\":null,\"name\":\"debug_name\"},{\"default\":0,\"kind\":null,\"name\":\"clears\"}]},{\"extends\":null,\"module\":null,\"name\":\"NotificationAreaBase1\",\"overrides\":[],\"properties\":[{\"default\":\"bottom-right\",\"kind\":null,\"name\":\"position\"},{\"default\":0,\"kind\":null,\"name\":\"_clear\"}]},{\"extends\":null,\"module\":null,\"name\":\"NotificationArea1\",\"overrides\":[],\"properties\":[{\"default\":[],\"kind\":null,\"name\":\"notifications\"},{\"default\":\"bottom-right\",\"kind\":null,\"name\":\"position\"},{\"default\":0,\"kind\":null,\"name\":\"_clear\"},{\"default\":[{\"background\":\"#ffc107\",\"icon\":{\"className\":\"fas fa-exclamation-triangle\",\"color\":\"white\",\"tagName\":\"i\"},\"type\":\"warning\"},{\"background\":\"#007bff\",\"icon\":{\"className\":\"fas fa-info-circle\",\"color\":\"white\",\"tagName\":\"i\"},\"type\":\"info\"}],\"kind\":null,\"name\":\"types\"}]},{\"extends\":null,\"module\":null,\"name\":\"Notification\",\"overrides\":[],\"properties\":[{\"default\":null,\"kind\":null,\"name\":\"background\"},{\"default\":3000,\"kind\":null,\"name\":\"duration\"},{\"default\":null,\"kind\":null,\"name\":\"icon\"},{\"default\":\"\",\"kind\":null,\"name\":\"message\"},{\"default\":null,\"kind\":null,\"name\":\"notification_type\"},{\"default\":false,\"kind\":null,\"name\":\"_destroyed\"}]},{\"extends\":null,\"module\":null,\"name\":\"TemplateActions1\",\"overrides\":[],\"properties\":[{\"default\":0,\"kind\":null,\"name\":\"open_modal\"},{\"default\":0,\"kind\":null,\"name\":\"close_modal\"}]},{\"extends\":null,\"module\":null,\"name\":\"MaterialTemplateActions1\",\"overrides\":[],\"properties\":[{\"default\":0,\"kind\":null,\"name\":\"open_modal\"},{\"default\":0,\"kind\":null,\"name\":\"close_modal\"}]}],\"roots\":{\"references\":[{\"attributes\":{\"line_alpha\":0.2,\"line_color\":\"#6d904f\",\"line_width\":2,\"x\":{\"field\":\"Year\"},\"y\":{\"field\":\"Hydro (TWh growth - equivalent)\"}},\"id\":\"3961\",\"type\":\"Line\"},{\"attributes\":{\"coordinates\":null,\"data_source\":{\"id\":\"3956\"},\"glyph\":{\"id\":\"3959\"},\"group\":null,\"hover_glyph\":null,\"muted_glyph\":{\"id\":\"3961\"},\"nonselection_glyph\":{\"id\":\"3960\"},\"selection_glyph\":{\"id\":\"3981\"},\"view\":{\"id\":\"3963\"}},\"id\":\"3962\",\"type\":\"GlyphRenderer\"},{\"attributes\":{\"source\":{\"id\":\"3956\"}},\"id\":\"3963\",\"type\":\"CDSView\"},{\"attributes\":{\"data\":{\"Country\":[\"Germany\",\"Germany\",\"Germany\",\"Germany\",\"Germany\",\"Germany\",\"Germany\",\"Germany\",\"Germany\",\"Germany\",\"Germany\",\"Germany\",\"Germany\",\"Germany\",\"Germany\",\"Germany\",\"Germany\",\"Germany\",\"Germany\",\"Germany\",\"Germany\",\"Germany\",\"Germany\",\"Germany\",\"Germany\",\"Germany\",\"Germany\",\"Germany\",\"Germany\",\"Germany\",\"Germany\",\"Germany\",\"Germany\"],\"Hydro (TWh growth - equivalent)\":{\"__ndarray__\":\"AAAAAAAAAABSuB6F61EEwBSuR+F6FARAuB6F61G43j9mZmZmZmYAQJqZmZmZmf0/CtejcD0Kxz9mZmZmZmYSwOxRuB6F68G/cT0K16NwA0CkcD0K16MAQAAAAAAAAPA/9ihcj8L12D8zMzMzMzMTwHE9CtejcANAw/UoXI/C8b/2KFyPwvXYPz0K16NwPfI/XI/C9Shc57+PwvUoXI/2v7gehetRuP4/PQrXo3A9CsBSuB6F61EQQAAAAAAAAPQ/SOF6FK5HC8CF61G4HoXjvx+F61G4Hvk/mpmZmZmZ2b+uR+F6FK4DwFK4HoXrUQBAKVyPwvUo8L8UrkfhehTuP65H4XoUrgHA\",\"dtype\":\"float64\",\"order\":\"little\",\"shape\":[33]},\"Hydro_left_parenthesis_TWh_growth_hyphen_minus_equivalent_right_parenthesis\":{\"__ndarray__\":\"AAAAAAAAAABSuB6F61EEwBSuR+F6FARAuB6F61G43j9mZmZmZmYAQJqZmZmZmf0/CtejcD0Kxz9mZmZmZmYSwOxRuB6F68G/cT0K16NwA0CkcD0K16MAQAAAAAAAAPA/9ihcj8L12D8zMzMzMzMTwHE9CtejcANAw/UoXI/C8b/2KFyPwvXYPz0K16NwPfI/XI/C9Shc57+PwvUoXI/2v7gehetRuP4/PQrXo3A9CsBSuB6F61EQQAAAAAAAAPQ/SOF6FK5HC8CF61G4HoXjvx+F61G4Hvk/mpmZmZmZ2b+uR+F6FK4DwFK4HoXrUQBAKVyPwvUo8L8UrkfhehTuP65H4XoUrgHA\",\"dtype\":\"float64\",\"order\":\"little\",\"shape\":[33]},\"Year\":[1990,1991,1992,1993,1994,1995,1996,1997,1998,1999,2000,2001,2002,2003,2004,2005,2006,2007,2008,2009,2010,2011,2012,2013,2014,2015,2016,2017,2018,2019,2020,2021,2022]},\"selected\":{\"id\":\"3890\"},\"selection_policy\":{\"id\":\"3904\"}},\"id\":\"3889\",\"type\":\"ColumnDataSource\"},{\"attributes\":{\"bottom_units\":\"screen\",\"coordinates\":null,\"fill_alpha\":0.5,\"fill_color\":\"lightgrey\",\"group\":null,\"left_units\":\"screen\",\"level\":\"overlay\",\"line_alpha\":1.0,\"line_color\":\"black\",\"line_dash\":[4,4],\"line_width\":2,\"right_units\":\"screen\",\"syncable\":false,\"top_units\":\"screen\"},\"id\":\"3875\",\"type\":\"BoxAnnotation\"},{\"attributes\":{\"label\":{\"value\":\"United Kingdom\"},\"renderers\":[{\"id\":\"3962\"}]},\"id\":\"3980\",\"type\":\"LegendItem\"},{\"attributes\":{},\"id\":\"3904\",\"type\":\"UnionRenderers\"},{\"attributes\":{},\"id\":\"3977\",\"type\":\"UnionRenderers\"},{\"attributes\":{},\"id\":\"3890\",\"type\":\"Selection\"},{\"attributes\":{\"line_alpha\":0.2,\"line_color\":\"#30a2da\",\"line_width\":2,\"x\":{\"field\":\"Year\"},\"y\":{\"field\":\"Hydro (TWh growth - equivalent)\"}},\"id\":\"3894\",\"type\":\"Line\"},{\"attributes\":{},\"id\":\"3884\",\"type\":\"BasicTickFormatter\"},{\"attributes\":{},\"id\":\"3885\",\"type\":\"AllLabels\"},{\"attributes\":{},\"id\":\"3887\",\"type\":\"BasicTickFormatter\"},{\"attributes\":{},\"id\":\"3888\",\"type\":\"AllLabels\"},{\"attributes\":{\"line_color\":\"#fc4f30\",\"line_width\":2,\"x\":{\"field\":\"Year\"},\"y\":{\"field\":\"Hydro (TWh growth - equivalent)\"}},\"id\":\"3931\",\"type\":\"Line\"},{\"attributes\":{\"line_color\":\"#e5ae38\",\"line_width\":2,\"x\":{\"field\":\"Year\"},\"y\":{\"field\":\"Hydro (TWh growth - equivalent)\"}},\"id\":\"3935\",\"type\":\"Line\"},{\"attributes\":{\"callback\":null,\"renderers\":[{\"id\":\"3895\"},{\"id\":\"3916\"},{\"id\":\"3938\"},{\"id\":\"3962\"}],\"tags\":[\"hv_created\"],\"tooltips\":[[\"Country\",\"@{Country}\"],[\"Year\",\"@{Year}\"],[\"Hydro (TWh growth - equivalent)\",\"@{Hydro_left_parenthesis_TWh_growth_hyphen_minus_equivalent_right_parenthesis}\"]]},\"id\":\"3849\",\"type\":\"HoverTool\"},{\"attributes\":{},\"id\":\"3933\",\"type\":\"Selection\"},{\"attributes\":{\"line_color\":\"#6d904f\",\"line_width\":2,\"x\":{\"field\":\"Year\"},\"y\":{\"field\":\"Hydro (TWh growth - equivalent)\"}},\"id\":\"3981\",\"type\":\"Line\"},{\"attributes\":{\"coordinates\":null,\"data_source\":{\"id\":\"3889\"},\"glyph\":{\"id\":\"3892\"},\"group\":null,\"hover_glyph\":null,\"muted_glyph\":{\"id\":\"3894\"},\"nonselection_glyph\":{\"id\":\"3893\"},\"selection_glyph\":{\"id\":\"3909\"},\"view\":{\"id\":\"3896\"}},\"id\":\"3895\",\"type\":\"GlyphRenderer\"},{\"attributes\":{\"line_alpha\":0.1,\"line_color\":\"#e5ae38\",\"line_width\":2,\"x\":{\"field\":\"Year\"},\"y\":{\"field\":\"Hydro (TWh growth - equivalent)\"}},\"id\":\"3936\",\"type\":\"Line\"},{\"attributes\":{\"line_alpha\":0.2,\"line_color\":\"#e5ae38\",\"line_width\":2,\"x\":{\"field\":\"Year\"},\"y\":{\"field\":\"Hydro (TWh growth - equivalent)\"}},\"id\":\"3937\",\"type\":\"Line\"},{\"attributes\":{\"coordinates\":null,\"data_source\":{\"id\":\"3932\"},\"glyph\":{\"id\":\"3935\"},\"group\":null,\"hover_glyph\":null,\"muted_glyph\":{\"id\":\"3937\"},\"nonselection_glyph\":{\"id\":\"3936\"},\"selection_glyph\":{\"id\":\"3955\"},\"view\":{\"id\":\"3939\"}},\"id\":\"3938\",\"type\":\"GlyphRenderer\"},{\"attributes\":{\"line_color\":\"#30a2da\",\"line_width\":2,\"x\":{\"field\":\"Year\"},\"y\":{\"field\":\"Hydro (TWh growth - equivalent)\"}},\"id\":\"3892\",\"type\":\"Line\"},{\"attributes\":{\"source\":{\"id\":\"3932\"}},\"id\":\"3939\",\"type\":\"CDSView\"},{\"attributes\":{\"end\":2022.0,\"reset_end\":2022.0,\"reset_start\":1990.0,\"start\":1990.0,\"tags\":[[[\"Year\",\"Year\",null]]]},\"id\":\"3847\",\"type\":\"Range1d\"},{\"attributes\":{\"line_color\":\"#6d904f\",\"line_width\":2,\"x\":{\"field\":\"Year\"},\"y\":{\"field\":\"Hydro (TWh growth - equivalent)\"}},\"id\":\"3959\",\"type\":\"Line\"},{\"attributes\":{\"label\":{\"value\":\"Switzerland\"},\"renderers\":[{\"id\":\"3938\"}]},\"id\":\"3954\",\"type\":\"LegendItem\"},{\"attributes\":{\"end\":23.153000000000002,\"reset_end\":23.153000000000002,\"reset_start\":-23.563000000000002,\"start\":-23.563000000000002,\"tags\":[[[\"Hydro (TWh growth - equivalent)\",\"Hydro (TWh growth - equivalent)\",null]]]},\"id\":\"3848\",\"type\":\"Range1d\"},{\"attributes\":{\"label\":{\"value\":\"Germany\"},\"renderers\":[{\"id\":\"3895\"}]},\"id\":\"3908\",\"type\":\"LegendItem\"},{\"attributes\":{\"data\":{\"Country\":[\"Spain\",\"Spain\",\"Spain\",\"Spain\",\"Spain\",\"Spain\",\"Spain\",\"Spain\",\"Spain\",\"Spain\",\"Spain\",\"Spain\",\"Spain\",\"Spain\",\"Spain\",\"Spain\",\"Spain\",\"Spain\",\"Spain\",\"Spain\",\"Spain\",\"Spain\",\"Spain\",\"Spain\",\"Spain\",\"Spain\",\"Spain\",\"Spain\",\"Spain\",\"Spain\",\"Spain\",\"Spain\",\"Spain\"],\"Hydro (TWh growth - equivalent)\":{\"__ndarray__\":\"AAAAAAAAAAB7FK5H4Xr8Pylcj8L1qCDAAAAAAAAAFkCPwvUoXI8OQKRwPQrXoxTA9ihcj8K1MEApXI/C9SgUwFK4HoXrUei/16NwPQpXJsDD9Shcj8IVQMP1KFyPQilA7FG4HoWrM8DD9Shcj0IzQM3MzMzMzCLA4XoUrkdhKcBI4XoUrkceQJqZmZmZmfU/mpmZmZmZD8BmZmZmZmYIQEjhehSuxy9AZmZmZmZmJ8CamZmZmRkkwFK4HoXrUTBAZmZmZmZmAkCPwvUoXA8mwIXrUbgehSBAFK5H4XoUMsDD9ShcjwIwQFyPwvUoXCPAcT0K16NwF0ApXI/C9Sjsvylcj8L1qCXA\",\"dtype\":\"float64\",\"order\":\"little\",\"shape\":[33]},\"Hydro_left_parenthesis_TWh_growth_hyphen_minus_equivalent_right_parenthesis\":{\"__ndarray__\":\"AAAAAAAAAAB7FK5H4Xr8Pylcj8L1qCDAAAAAAAAAFkCPwvUoXI8OQKRwPQrXoxTA9ihcj8K1MEApXI/C9SgUwFK4HoXrUei/16NwPQpXJsDD9Shcj8IVQMP1KFyPQilA7FG4HoWrM8DD9Shcj0IzQM3MzMzMzCLA4XoUrkdhKcBI4XoUrkceQJqZmZmZmfU/mpmZmZmZD8BmZmZmZmYIQEjhehSuxy9AZmZmZmZmJ8CamZmZmRkkwFK4HoXrUTBAZmZmZmZmAkCPwvUoXA8mwIXrUbgehSBAFK5H4XoUMsDD9ShcjwIwQFyPwvUoXCPAcT0K16NwF0ApXI/C9Sjsvylcj8L1qCXA\",\"dtype\":\"float64\",\"order\":\"little\",\"shape\":[33]},\"Year\":[1990,1991,1992,1993,1994,1995,1996,1997,1998,1999,2000,2001,2002,2003,2004,2005,2006,2007,2008,2009,2010,2011,2012,2013,2014,2015,2016,2017,2018,2019,2020,2021,2022]},\"selected\":{\"id\":\"3911\"},\"selection_policy\":{\"id\":\"3927\"}},\"id\":\"3910\",\"type\":\"ColumnDataSource\"},{\"attributes\":{\"line_alpha\":0.1,\"line_color\":\"#30a2da\",\"line_width\":2,\"x\":{\"field\":\"Year\"},\"y\":{\"field\":\"Hydro (TWh growth - equivalent)\"}},\"id\":\"3893\",\"type\":\"Line\"},{\"attributes\":{},\"id\":\"3858\",\"type\":\"LinearScale\"},{\"attributes\":{},\"id\":\"3951\",\"type\":\"UnionRenderers\"},{\"attributes\":{\"below\":[{\"id\":\"3862\"}],\"center\":[{\"id\":\"3865\"},{\"id\":\"3869\"}],\"height\":400,\"left\":[{\"id\":\"3866\"}],\"margin\":[5,5,5,5],\"min_border_bottom\":10,\"min_border_left\":10,\"min_border_right\":10,\"min_border_top\":10,\"renderers\":[{\"id\":\"3895\"},{\"id\":\"3916\"},{\"id\":\"3938\"},{\"id\":\"3962\"}],\"right\":[{\"id\":\"3907\"}],\"sizing_mode\":\"fixed\",\"title\":{\"id\":\"3854\"},\"toolbar\":{\"id\":\"3876\"},\"width\":700,\"x_range\":{\"id\":\"3847\"},\"x_scale\":{\"id\":\"3858\"},\"y_range\":{\"id\":\"3848\"},\"y_scale\":{\"id\":\"3860\"}},\"id\":\"3853\",\"subtype\":\"Figure\",\"type\":\"Plot\"},{\"attributes\":{},\"id\":\"3911\",\"type\":\"Selection\"},{\"attributes\":{\"line_color\":\"#30a2da\",\"line_width\":2,\"x\":{\"field\":\"Year\"},\"y\":{\"field\":\"Hydro (TWh growth - equivalent)\"}},\"id\":\"3909\",\"type\":\"Line\"},{\"attributes\":{\"data\":{\"Country\":[\"Switzerland\",\"Switzerland\",\"Switzerland\",\"Switzerland\",\"Switzerland\",\"Switzerland\",\"Switzerland\",\"Switzerland\",\"Switzerland\",\"Switzerland\",\"Switzerland\",\"Switzerland\",\"Switzerland\",\"Switzerland\",\"Switzerland\",\"Switzerland\",\"Switzerland\",\"Switzerland\",\"Switzerland\",\"Switzerland\",\"Switzerland\",\"Switzerland\",\"Switzerland\",\"Switzerland\",\"Switzerland\",\"Switzerland\",\"Switzerland\",\"Switzerland\",\"Switzerland\",\"Switzerland\",\"Switzerland\",\"Switzerland\"],\"Hydro (TWh growth - equivalent)\":{\"__ndarray__\":\"AAAAAAAAAACoxks3iUECQFYOLbKd7+M/ObTIdr6fCECHFtnO91MKQGiR7Xw/NQ/AGQRWDi2yGcD+1HjpJjEVQBKDwMqhReK/bxKDwMohGkBvEoPAyqEYwMP1KFyPwhFA4XoUrkfhF8CuR+F6FK7Xvylcj8L1KPC/PQrXo3A9AsD2KFyPwvXYv1yPwvUoXBBAMzMzMzMz6z9SuB6F61HYv4XrUbgehds/zczMzMzMCsB7FK5H4XoXQDMzMzMzM8O/UrgehetR4L+kcD0K16PQPzMzMzMzMwvAAAAAAAAA4L/Xo3A9CtfjP3sUrkfheghArkfhehSuBUAfhetRuB7tvw==\",\"dtype\":\"float64\",\"order\":\"little\",\"shape\":[32]},\"Hydro_left_parenthesis_TWh_growth_hyphen_minus_equivalent_right_parenthesis\":{\"__ndarray__\":\"AAAAAAAAAACoxks3iUECQFYOLbKd7+M/ObTIdr6fCECHFtnO91MKQGiR7Xw/NQ/AGQRWDi2yGcD+1HjpJjEVQBKDwMqhReK/bxKDwMohGkBvEoPAyqEYwMP1KFyPwhFA4XoUrkfhF8CuR+F6FK7Xvylcj8L1KPC/PQrXo3A9AsD2KFyPwvXYv1yPwvUoXBBAMzMzMzMz6z9SuB6F61HYv4XrUbgehds/zczMzMzMCsB7FK5H4XoXQDMzMzMzM8O/UrgehetR4L+kcD0K16PQPzMzMzMzMwvAAAAAAAAA4L/Xo3A9CtfjP3sUrkfheghArkfhehSuBUAfhetRuB7tvw==\",\"dtype\":\"float64\",\"order\":\"little\",\"shape\":[32]},\"Year\":[1990,1991,1992,1993,1994,1995,1996,1997,1998,1999,2000,2001,2002,2003,2004,2005,2006,2007,2008,2009,2010,2011,2012,2013,2014,2015,2016,2017,2018,2019,2020,2021]},\"selected\":{\"id\":\"3933\"},\"selection_policy\":{\"id\":\"3951\"}},\"id\":\"3932\",\"type\":\"ColumnDataSource\"},{\"attributes\":{\"source\":{\"id\":\"3889\"}},\"id\":\"3896\",\"type\":\"CDSView\"},{\"attributes\":{\"coordinates\":null,\"data_source\":{\"id\":\"3910\"},\"glyph\":{\"id\":\"3913\"},\"group\":null,\"hover_glyph\":null,\"muted_glyph\":{\"id\":\"3915\"},\"nonselection_glyph\":{\"id\":\"3914\"},\"selection_glyph\":{\"id\":\"3931\"},\"view\":{\"id\":\"3917\"}},\"id\":\"3916\",\"type\":\"GlyphRenderer\"},{\"attributes\":{\"coordinates\":null,\"group\":null,\"text\":\"Annual Change Hydro Energy Generation\",\"text_color\":\"black\",\"text_font_size\":\"12pt\"},\"id\":\"3854\",\"type\":\"Title\"},{\"attributes\":{},\"id\":\"3957\",\"type\":\"Selection\"},{\"attributes\":{},\"id\":\"3871\",\"type\":\"PanTool\"},{\"attributes\":{\"axis\":{\"id\":\"3862\"},\"coordinates\":null,\"grid_line_color\":null,\"group\":null,\"ticker\":null},\"id\":\"3865\",\"type\":\"Grid\"},{\"attributes\":{\"line_alpha\":0.1,\"line_color\":\"#fc4f30\",\"line_width\":2,\"x\":{\"field\":\"Year\"},\"y\":{\"field\":\"Hydro (TWh growth - equivalent)\"}},\"id\":\"3914\",\"type\":\"Line\"},{\"attributes\":{\"axis_label\":\"Year\",\"coordinates\":null,\"formatter\":{\"id\":\"3884\"},\"group\":null,\"major_label_policy\":{\"id\":\"3885\"},\"ticker\":{\"id\":\"3863\"}},\"id\":\"3862\",\"type\":\"LinearAxis\"},{\"attributes\":{\"line_alpha\":0.2,\"line_color\":\"#fc4f30\",\"line_width\":2,\"x\":{\"field\":\"Year\"},\"y\":{\"field\":\"Hydro (TWh growth - equivalent)\"}},\"id\":\"3915\",\"type\":\"Line\"},{\"attributes\":{\"line_color\":\"#e5ae38\",\"line_width\":2,\"x\":{\"field\":\"Year\"},\"y\":{\"field\":\"Hydro (TWh growth - equivalent)\"}},\"id\":\"3955\",\"type\":\"Line\"},{\"attributes\":{},\"id\":\"3860\",\"type\":\"LinearScale\"},{\"attributes\":{\"line_color\":\"#fc4f30\",\"line_width\":2,\"x\":{\"field\":\"Year\"},\"y\":{\"field\":\"Hydro (TWh growth - equivalent)\"}},\"id\":\"3913\",\"type\":\"Line\"},{\"attributes\":{\"source\":{\"id\":\"3910\"}},\"id\":\"3917\",\"type\":\"CDSView\"},{\"attributes\":{},\"id\":\"3863\",\"type\":\"BasicTicker\"},{\"attributes\":{\"children\":[{\"id\":\"3853\"}],\"height\":400,\"margin\":[0,0,0,0],\"name\":\"Row03818\",\"sizing_mode\":\"fixed\",\"tags\":[\"embedded\"],\"width\":700},\"id\":\"3846\",\"type\":\"Row\"},{\"attributes\":{\"label\":{\"value\":\"Spain\"},\"renderers\":[{\"id\":\"3916\"}]},\"id\":\"3930\",\"type\":\"LegendItem\"},{\"attributes\":{\"axis_label\":\"Hydro (TWh growth - equivalent)\",\"coordinates\":null,\"formatter\":{\"id\":\"3887\"},\"group\":null,\"major_label_policy\":{\"id\":\"3888\"},\"ticker\":{\"id\":\"3867\"}},\"id\":\"3866\",\"type\":\"LinearAxis\"},{\"attributes\":{\"data\":{\"Country\":[\"United Kingdom\",\"United Kingdom\",\"United Kingdom\",\"United Kingdom\",\"United Kingdom\",\"United Kingdom\",\"United Kingdom\",\"United Kingdom\",\"United Kingdom\",\"United Kingdom\",\"United Kingdom\",\"United Kingdom\",\"United Kingdom\",\"United Kingdom\",\"United Kingdom\",\"United Kingdom\",\"United Kingdom\",\"United Kingdom\",\"United Kingdom\",\"United Kingdom\",\"United Kingdom\",\"United Kingdom\",\"United Kingdom\",\"United Kingdom\",\"United Kingdom\",\"United Kingdom\",\"United Kingdom\",\"United Kingdom\",\"United Kingdom\",\"United Kingdom\",\"United Kingdom\",\"United Kingdom\"],\"Hydro (TWh growth - equivalent)\":{\"__ndarray__\":\"AAAAAAAAAADhehSuR+Hiv+xRuB6F6+k/FK5H4XoU8r9I4XoUrkfpPwAAAAAAANC/MzMzMzMz97/2KFyPwvXoP2ZmZmZmZu4/KVyPwvUozD8AAAAAAADQv3sUrkfhevC/XI/C9Shc5z/2KFyPwvX4v8P1KFyPwvk/exSuR+F6tD8fhetRuB7Vv1yPwvUoXN8/uB6F61G4rj8K16NwPQq3Pz0K16NwPfq/zczMzMzMAEBSuB6F61HYv4XrUbgeheO/CtejcD0K8z89CtejcD3aP8P1KFyPwu2/UrgehetR4D8pXI/C9Sjcv1yPwvUoXN8/AAAAAAAA6D9xPQrXo3Dxvw==\",\"dtype\":\"float64\",\"order\":\"little\",\"shape\":[32]},\"Hydro_left_parenthesis_TWh_growth_hyphen_minus_equivalent_right_parenthesis\":{\"__ndarray__\":\"AAAAAAAAAADhehSuR+Hiv+xRuB6F6+k/FK5H4XoU8r9I4XoUrkfpPwAAAAAAANC/MzMzMzMz97/2KFyPwvXoP2ZmZmZmZu4/KVyPwvUozD8AAAAAAADQv3sUrkfhevC/XI/C9Shc5z/2KFyPwvX4v8P1KFyPwvk/exSuR+F6tD8fhetRuB7Vv1yPwvUoXN8/uB6F61G4rj8K16NwPQq3Pz0K16NwPfq/zczMzMzMAEBSuB6F61HYv4XrUbgeheO/CtejcD0K8z89CtejcD3aP8P1KFyPwu2/UrgehetR4D8pXI/C9Sjcv1yPwvUoXN8/AAAAAAAA6D9xPQrXo3Dxvw==\",\"dtype\":\"float64\",\"order\":\"little\",\"shape\":[32]},\"Year\":[1990,1991,1992,1993,1994,1995,1996,1997,1998,1999,2000,2001,2002,2003,2004,2005,2006,2007,2008,2009,2010,2011,2012,2013,2014,2015,2016,2017,2018,2019,2020,2021]},\"selected\":{\"id\":\"3957\"},\"selection_policy\":{\"id\":\"3977\"}},\"id\":\"3956\",\"type\":\"ColumnDataSource\"},{\"attributes\":{\"click_policy\":\"mute\",\"coordinates\":null,\"group\":null,\"items\":[{\"id\":\"3908\"},{\"id\":\"3930\"},{\"id\":\"3954\"},{\"id\":\"3980\"}],\"location\":[0,0],\"title\":\"Country\"},\"id\":\"3907\",\"type\":\"Legend\"},{\"attributes\":{\"axis\":{\"id\":\"3866\"},\"coordinates\":null,\"dimension\":1,\"grid_line_color\":null,\"group\":null,\"ticker\":null},\"id\":\"3869\",\"type\":\"Grid\"},{\"attributes\":{},\"id\":\"3867\",\"type\":\"BasicTicker\"},{\"attributes\":{},\"id\":\"3872\",\"type\":\"WheelZoomTool\"},{\"attributes\":{\"line_alpha\":0.1,\"line_color\":\"#6d904f\",\"line_width\":2,\"x\":{\"field\":\"Year\"},\"y\":{\"field\":\"Hydro (TWh growth - equivalent)\"}},\"id\":\"3960\",\"type\":\"Line\"},{\"attributes\":{},\"id\":\"3927\",\"type\":\"UnionRenderers\"},{\"attributes\":{},\"id\":\"3874\",\"type\":\"ResetTool\"},{\"attributes\":{},\"id\":\"3870\",\"type\":\"SaveTool\"},{\"attributes\":{\"active_drag\":{\"id\":\"3871\"},\"active_scroll\":{\"id\":\"3872\"},\"tools\":[{\"id\":\"3849\"},{\"id\":\"3870\"},{\"id\":\"3871\"},{\"id\":\"3872\"},{\"id\":\"3873\"},{\"id\":\"3874\"}]},\"id\":\"3876\",\"type\":\"Toolbar\"},{\"attributes\":{\"overlay\":{\"id\":\"3875\"}},\"id\":\"3873\",\"type\":\"BoxZoomTool\"}],\"root_ids\":[\"3846\"]},\"title\":\"Bokeh Application\",\"version\":\"2.4.3\"}};\n",
       "    var render_items = [{\"docid\":\"846bc307-f2a9-4cf4-baca-5de0e5978afb\",\"root_ids\":[\"3846\"],\"roots\":{\"3846\":\"320b528d-6a24-45a3-8e6f-46f3fc266f56\"}}];\n",
       "    root.Bokeh.embed.embed_items_notebook(docs_json, render_items);\n",
       "    for (const render_item of render_items) {\n",
       "      for (const root_id of render_item.root_ids) {\n",
       "\tconst id_el = document.getElementById(root_id)\n",
       "\tif (id_el.children.length && (id_el.children[0].className === 'bk-root')) {\n",
       "\t  const root_el = id_el.children[0]\n",
       "\t  root_el.id = root_el.id + '-rendered'\n",
       "\t}\n",
       "      }\n",
       "    }\n",
       "  }\n",
       "  if (root.Bokeh !== undefined && root.Bokeh.Panel !== undefined) {\n",
       "    embed_document(root);\n",
       "  } else {\n",
       "    var attempts = 0;\n",
       "    var timer = setInterval(function(root) {\n",
       "      if (root.Bokeh !== undefined && root.Bokeh.Panel !== undefined) {\n",
       "        clearInterval(timer);\n",
       "        embed_document(root);\n",
       "      } else if (document.readyState == \"complete\") {\n",
       "        attempts++;\n",
       "        if (attempts > 200) {\n",
       "          clearInterval(timer);\n",
       "          console.log(\"Bokeh: ERROR: Unable to run BokehJS code because BokehJS library is missing\");\n",
       "        }\n",
       "      }\n",
       "    }, 25, root)\n",
       "  }\n",
       "})(window);</script>"
      ],
      "text/plain": [
       ":NdOverlay   [Country]\n",
       "   :Curve   [Year]   (Hydro (TWh growth - equivalent))"
      ]
     },
     "metadata": {
      "application/vnd.holoviews_exec.v0+json": {
       "id": "3846"
      }
     },
     "output_type": "display_data"
    },
    {
     "data": {},
     "metadata": {},
     "output_type": "display_data"
    },
    {
     "data": {
      "application/vnd.holoviews_exec.v0+json": "",
      "text/html": [
       "<div id='4083'>\n",
       "  <div class=\"bk-root\" id=\"dd9c1cdb-19d3-45b1-b16a-99d0d71faf5e\" data-root-id=\"4083\"></div>\n",
       "</div>\n",
       "<script type=\"application/javascript\">(function(root) {\n",
       "  function embed_document(root) {\n",
       "    var docs_json = {\"39367e86-0085-48d2-8644-7c77ed17cb2c\":{\"defs\":[{\"extends\":null,\"module\":null,\"name\":\"ReactiveHTML1\",\"overrides\":[],\"properties\":[]},{\"extends\":null,\"module\":null,\"name\":\"FlexBox1\",\"overrides\":[],\"properties\":[{\"default\":\"flex-start\",\"kind\":null,\"name\":\"align_content\"},{\"default\":\"flex-start\",\"kind\":null,\"name\":\"align_items\"},{\"default\":\"row\",\"kind\":null,\"name\":\"flex_direction\"},{\"default\":\"wrap\",\"kind\":null,\"name\":\"flex_wrap\"},{\"default\":\"flex-start\",\"kind\":null,\"name\":\"justify_content\"}]},{\"extends\":null,\"module\":null,\"name\":\"GridStack1\",\"overrides\":[],\"properties\":[{\"default\":\"warn\",\"kind\":null,\"name\":\"mode\"},{\"default\":null,\"kind\":null,\"name\":\"ncols\"},{\"default\":null,\"kind\":null,\"name\":\"nrows\"},{\"default\":true,\"kind\":null,\"name\":\"allow_resize\"},{\"default\":true,\"kind\":null,\"name\":\"allow_drag\"},{\"default\":[],\"kind\":null,\"name\":\"state\"}]},{\"extends\":null,\"module\":null,\"name\":\"click1\",\"overrides\":[],\"properties\":[{\"default\":\"\",\"kind\":null,\"name\":\"terminal_output\"},{\"default\":\"\",\"kind\":null,\"name\":\"debug_name\"},{\"default\":0,\"kind\":null,\"name\":\"clears\"}]},{\"extends\":null,\"module\":null,\"name\":\"NotificationAreaBase1\",\"overrides\":[],\"properties\":[{\"default\":\"bottom-right\",\"kind\":null,\"name\":\"position\"},{\"default\":0,\"kind\":null,\"name\":\"_clear\"}]},{\"extends\":null,\"module\":null,\"name\":\"NotificationArea1\",\"overrides\":[],\"properties\":[{\"default\":[],\"kind\":null,\"name\":\"notifications\"},{\"default\":\"bottom-right\",\"kind\":null,\"name\":\"position\"},{\"default\":0,\"kind\":null,\"name\":\"_clear\"},{\"default\":[{\"background\":\"#ffc107\",\"icon\":{\"className\":\"fas fa-exclamation-triangle\",\"color\":\"white\",\"tagName\":\"i\"},\"type\":\"warning\"},{\"background\":\"#007bff\",\"icon\":{\"className\":\"fas fa-info-circle\",\"color\":\"white\",\"tagName\":\"i\"},\"type\":\"info\"}],\"kind\":null,\"name\":\"types\"}]},{\"extends\":null,\"module\":null,\"name\":\"Notification\",\"overrides\":[],\"properties\":[{\"default\":null,\"kind\":null,\"name\":\"background\"},{\"default\":3000,\"kind\":null,\"name\":\"duration\"},{\"default\":null,\"kind\":null,\"name\":\"icon\"},{\"default\":\"\",\"kind\":null,\"name\":\"message\"},{\"default\":null,\"kind\":null,\"name\":\"notification_type\"},{\"default\":false,\"kind\":null,\"name\":\"_destroyed\"}]},{\"extends\":null,\"module\":null,\"name\":\"TemplateActions1\",\"overrides\":[],\"properties\":[{\"default\":0,\"kind\":null,\"name\":\"open_modal\"},{\"default\":0,\"kind\":null,\"name\":\"close_modal\"}]},{\"extends\":null,\"module\":null,\"name\":\"MaterialTemplateActions1\",\"overrides\":[],\"properties\":[{\"default\":0,\"kind\":null,\"name\":\"open_modal\"},{\"default\":0,\"kind\":null,\"name\":\"close_modal\"}]}],\"roots\":{\"references\":[{\"attributes\":{\"source\":{\"id\":\"4169\"}},\"id\":\"4176\",\"type\":\"CDSView\"},{\"attributes\":{\"line_color\":\"#fc4f30\",\"line_width\":2,\"x\":{\"field\":\"Year\"},\"y\":{\"field\":\"Hydro (% growth)\"}},\"id\":\"4168\",\"type\":\"Line\"},{\"attributes\":{\"coordinates\":null,\"data_source\":{\"id\":\"4169\"},\"glyph\":{\"id\":\"4172\"},\"group\":null,\"hover_glyph\":null,\"muted_glyph\":{\"id\":\"4174\"},\"nonselection_glyph\":{\"id\":\"4173\"},\"selection_glyph\":{\"id\":\"4192\"},\"view\":{\"id\":\"4176\"}},\"id\":\"4175\",\"type\":\"GlyphRenderer\"},{\"attributes\":{},\"id\":\"4170\",\"type\":\"Selection\"},{\"attributes\":{\"line_alpha\":0.2,\"line_color\":\"#e5ae38\",\"line_width\":2,\"x\":{\"field\":\"Year\"},\"y\":{\"field\":\"Hydro (% growth)\"}},\"id\":\"4174\",\"type\":\"Line\"},{\"attributes\":{\"line_alpha\":0.1,\"line_color\":\"#e5ae38\",\"line_width\":2,\"x\":{\"field\":\"Year\"},\"y\":{\"field\":\"Hydro (% growth)\"}},\"id\":\"4173\",\"type\":\"Line\"},{\"attributes\":{\"line_color\":\"#6d904f\",\"line_width\":2,\"x\":{\"field\":\"Year\"},\"y\":{\"field\":\"Hydro (% growth)\"}},\"id\":\"4218\",\"type\":\"Line\"},{\"attributes\":{\"callback\":null,\"renderers\":[{\"id\":\"4132\"},{\"id\":\"4153\"},{\"id\":\"4175\"},{\"id\":\"4199\"}],\"tags\":[\"hv_created\"],\"tooltips\":[[\"Country\",\"@{Country}\"],[\"Year\",\"@{Year}\"],[\"Hydro (% growth)\",\"@{Hydro_left_parenthesis_percent_growth_right_parenthesis}\"]]},\"id\":\"4086\",\"type\":\"HoverTool\"},{\"attributes\":{\"line_alpha\":0.2,\"line_color\":\"#6d904f\",\"line_width\":2,\"x\":{\"field\":\"Year\"},\"y\":{\"field\":\"Hydro (% growth)\"}},\"id\":\"4198\",\"type\":\"Line\"},{\"attributes\":{\"line_color\":\"#e5ae38\",\"line_width\":2,\"x\":{\"field\":\"Year\"},\"y\":{\"field\":\"Hydro (% growth)\"}},\"id\":\"4172\",\"type\":\"Line\"},{\"attributes\":{\"label\":{\"value\":\"Switzerland\"},\"renderers\":[{\"id\":\"4175\"}]},\"id\":\"4191\",\"type\":\"LegendItem\"},{\"attributes\":{},\"id\":\"4141\",\"type\":\"UnionRenderers\"},{\"attributes\":{\"click_policy\":\"mute\",\"coordinates\":null,\"group\":null,\"items\":[{\"id\":\"4145\"},{\"id\":\"4167\"},{\"id\":\"4191\"},{\"id\":\"4217\"}],\"location\":[0,0],\"title\":\"Country\"},\"id\":\"4144\",\"type\":\"Legend\"},{\"attributes\":{},\"id\":\"4188\",\"type\":\"UnionRenderers\"},{\"attributes\":{\"data\":{\"Country\":[\"Spain\",\"Spain\",\"Spain\",\"Spain\",\"Spain\",\"Spain\",\"Spain\",\"Spain\",\"Spain\",\"Spain\",\"Spain\",\"Spain\",\"Spain\",\"Spain\",\"Spain\",\"Spain\",\"Spain\",\"Spain\",\"Spain\",\"Spain\",\"Spain\",\"Spain\",\"Spain\",\"Spain\",\"Spain\",\"Spain\",\"Spain\",\"Spain\",\"Spain\",\"Spain\",\"Spain\",\"Spain\",\"Spain\"],\"Hydro (% growth)\":{\"__ndarray__\":\"AAAAAAAAAAABAAAAAAAcQJmZmZmZmT7AmZmZmZkZPUAzMzMzMzMvQM3MzMzMTDLAmZmZmZkZUkBmZmZmZmYpwJmZmZmZmQHAMzMzMzNzQMDMzMzMzMw3QJqZmZmZWUZAzczMzMwMSMAzMzMzM7NWQDQzMzMzMzfAZmZmZmZmRMCZmZmZmZlEQM3MzMzMzBRA////////LMA0MzMzMzMqQJmZmZmZGU5ANDMzMzOzO8BnZmZmZmZAwJqZmZmZ2VNAzczMzMzMGEAyMzMzMzM8wGZmZmZmZj1AmpmZmZnZSMCamZmZmdlVQDIzMzMzMzzAzMzMzMzMN0A0MzMzMzMHwM3MzMzMTELA\",\"dtype\":\"float64\",\"order\":\"little\",\"shape\":[33]},\"Hydro_left_parenthesis_percent_growth_right_parenthesis\":{\"__ndarray__\":\"AAAAAAAAAAABAAAAAAAcQJmZmZmZmT7AmZmZmZkZPUAzMzMzMzMvQM3MzMzMTDLAmZmZmZkZUkBmZmZmZmYpwJmZmZmZmQHAMzMzMzNzQMDMzMzMzMw3QJqZmZmZWUZAzczMzMwMSMAzMzMzM7NWQDQzMzMzMzfAZmZmZmZmRMCZmZmZmZlEQM3MzMzMzBRA////////LMA0MzMzMzMqQJmZmZmZGU5ANDMzMzOzO8BnZmZmZmZAwJqZmZmZ2VNAzczMzMzMGEAyMzMzMzM8wGZmZmZmZj1AmpmZmZnZSMCamZmZmdlVQDIzMzMzMzzAzMzMzMzMN0A0MzMzMzMHwM3MzMzMTELA\",\"dtype\":\"float64\",\"order\":\"little\",\"shape\":[33]},\"Year\":[1990,1991,1992,1993,1994,1995,1996,1997,1998,1999,2000,2001,2002,2003,2004,2005,2006,2007,2008,2009,2010,2011,2012,2013,2014,2015,2016,2017,2018,2019,2020,2021,2022]},\"selected\":{\"id\":\"4148\"},\"selection_policy\":{\"id\":\"4164\"}},\"id\":\"4147\",\"type\":\"ColumnDataSource\"},{\"attributes\":{\"end\":2022.0,\"reset_end\":2022.0,\"reset_start\":1990.0,\"start\":1990.0,\"tags\":[[[\"Year\",\"Year\",null]]]},\"id\":\"4084\",\"type\":\"Range1d\"},{\"attributes\":{\"end\":104.85,\"reset_end\":104.85,\"reset_start\":-63.75,\"start\":-63.75,\"tags\":[[[\"Hydro (% growth)\",\"Hydro (% growth)\",null]]]},\"id\":\"4085\",\"type\":\"Range1d\"},{\"attributes\":{},\"id\":\"4095\",\"type\":\"LinearScale\"},{\"attributes\":{\"line_color\":\"#30a2da\",\"line_width\":2,\"x\":{\"field\":\"Year\"},\"y\":{\"field\":\"Hydro (% growth)\"}},\"id\":\"4146\",\"type\":\"Line\"},{\"attributes\":{\"source\":{\"id\":\"4147\"}},\"id\":\"4154\",\"type\":\"CDSView\"},{\"attributes\":{\"below\":[{\"id\":\"4099\"}],\"center\":[{\"id\":\"4102\"},{\"id\":\"4106\"}],\"height\":400,\"left\":[{\"id\":\"4103\"}],\"margin\":[5,5,5,5],\"min_border_bottom\":10,\"min_border_left\":10,\"min_border_right\":10,\"min_border_top\":10,\"renderers\":[{\"id\":\"4132\"},{\"id\":\"4153\"},{\"id\":\"4175\"},{\"id\":\"4199\"}],\"right\":[{\"id\":\"4144\"}],\"sizing_mode\":\"fixed\",\"title\":{\"id\":\"4091\"},\"toolbar\":{\"id\":\"4113\"},\"width\":700,\"x_range\":{\"id\":\"4084\"},\"x_scale\":{\"id\":\"4095\"},\"y_range\":{\"id\":\"4085\"},\"y_scale\":{\"id\":\"4097\"}},\"id\":\"4090\",\"subtype\":\"Figure\",\"type\":\"Plot\"},{\"attributes\":{\"line_color\":\"#fc4f30\",\"line_width\":2,\"x\":{\"field\":\"Year\"},\"y\":{\"field\":\"Hydro (% growth)\"}},\"id\":\"4150\",\"type\":\"Line\"},{\"attributes\":{},\"id\":\"4127\",\"type\":\"Selection\"},{\"attributes\":{\"coordinates\":null,\"data_source\":{\"id\":\"4147\"},\"glyph\":{\"id\":\"4150\"},\"group\":null,\"hover_glyph\":null,\"muted_glyph\":{\"id\":\"4152\"},\"nonselection_glyph\":{\"id\":\"4151\"},\"selection_glyph\":{\"id\":\"4168\"},\"view\":{\"id\":\"4154\"}},\"id\":\"4153\",\"type\":\"GlyphRenderer\"},{\"attributes\":{\"line_alpha\":0.2,\"line_color\":\"#fc4f30\",\"line_width\":2,\"x\":{\"field\":\"Year\"},\"y\":{\"field\":\"Hydro (% growth)\"}},\"id\":\"4152\",\"type\":\"Line\"},{\"attributes\":{\"line_alpha\":0.1,\"line_color\":\"#fc4f30\",\"line_width\":2,\"x\":{\"field\":\"Year\"},\"y\":{\"field\":\"Hydro (% growth)\"}},\"id\":\"4151\",\"type\":\"Line\"},{\"attributes\":{},\"id\":\"4194\",\"type\":\"Selection\"},{\"attributes\":{\"coordinates\":null,\"group\":null,\"text\":\"Annual Growth in % Hydro Energy Generation\",\"text_color\":\"black\",\"text_font_size\":\"12pt\"},\"id\":\"4091\",\"type\":\"Title\"},{\"attributes\":{\"data\":{\"Country\":[\"United Kingdom\",\"United Kingdom\",\"United Kingdom\",\"United Kingdom\",\"United Kingdom\",\"United Kingdom\",\"United Kingdom\",\"United Kingdom\",\"United Kingdom\",\"United Kingdom\",\"United Kingdom\",\"United Kingdom\",\"United Kingdom\",\"United Kingdom\",\"United Kingdom\",\"United Kingdom\",\"United Kingdom\",\"United Kingdom\",\"United Kingdom\",\"United Kingdom\",\"United Kingdom\",\"United Kingdom\",\"United Kingdom\",\"United Kingdom\",\"United Kingdom\",\"United Kingdom\",\"United Kingdom\",\"United Kingdom\",\"United Kingdom\",\"United Kingdom\",\"United Kingdom\",\"United Kingdom\"],\"Hydro (% growth)\":{\"__ndarray__\":\"AAAAAAAAAACamZmZmZkmwAAAAAAAgDFAzczMzMzMNMBmZmZmZmYyQJqZmZmZmRPAAAAAAAAAPsAAAAAAAAA3QM3MzMzMzDZAMzMzMzMzEUDNzMzMzMwSwDQzMzMzMzTAAAAAAAAAMkDNzMzMzExAwGZmZmZm5khANDMzMzMz+z/NzMzMzMwawGZmZmZmZiVAMzMzMzMz8z/MzMzMzMz8P2ZmZmZmZj/AAAAAAABATUDNzMzMzMwawAAAAAAAACfAzczMzMxMOUABAAAAAAAcQJmZmZmZmS3AAAAAAAAAI0AAAAAAAAAewAAAAAAAACJAMzMzMzMzKUDNzMzMzEwwwA==\",\"dtype\":\"float64\",\"order\":\"little\",\"shape\":[32]},\"Hydro_left_parenthesis_percent_growth_right_parenthesis\":{\"__ndarray__\":\"AAAAAAAAAACamZmZmZkmwAAAAAAAgDFAzczMzMzMNMBmZmZmZmYyQJqZmZmZmRPAAAAAAAAAPsAAAAAAAAA3QM3MzMzMzDZAMzMzMzMzEUDNzMzMzMwSwDQzMzMzMzTAAAAAAAAAMkDNzMzMzExAwGZmZmZm5khANDMzMzMz+z/NzMzMzMwawGZmZmZmZiVAMzMzMzMz8z/MzMzMzMz8P2ZmZmZmZj/AAAAAAABATUDNzMzMzMwawAAAAAAAACfAzczMzMxMOUABAAAAAAAcQJmZmZmZmS3AAAAAAAAAI0AAAAAAAAAewAAAAAAAACJAMzMzMzMzKUDNzMzMzEwwwA==\",\"dtype\":\"float64\",\"order\":\"little\",\"shape\":[32]},\"Year\":[1990,1991,1992,1993,1994,1995,1996,1997,1998,1999,2000,2001,2002,2003,2004,2005,2006,2007,2008,2009,2010,2011,2012,2013,2014,2015,2016,2017,2018,2019,2020,2021]},\"selected\":{\"id\":\"4194\"},\"selection_policy\":{\"id\":\"4214\"}},\"id\":\"4193\",\"type\":\"ColumnDataSource\"},{\"attributes\":{},\"id\":\"4108\",\"type\":\"PanTool\"},{\"attributes\":{},\"id\":\"4148\",\"type\":\"Selection\"},{\"attributes\":{\"data\":{\"Country\":[\"Germany\",\"Germany\",\"Germany\",\"Germany\",\"Germany\",\"Germany\",\"Germany\",\"Germany\",\"Germany\",\"Germany\",\"Germany\",\"Germany\",\"Germany\",\"Germany\",\"Germany\",\"Germany\",\"Germany\",\"Germany\",\"Germany\",\"Germany\",\"Germany\",\"Germany\",\"Germany\",\"Germany\",\"Germany\",\"Germany\",\"Germany\",\"Germany\",\"Germany\",\"Germany\",\"Germany\",\"Germany\",\"Germany\"],\"Hydro (% growth)\":{\"__ndarray__\":\"AAAAAAAAAAAzMzMzMzMtwGdmZmZm5jBAZ2ZmZmZmBkAAAAAAAAAnQJqZmZmZmSJAmpmZmZmZ6T9mZmZmZuY0wJqZmZmZmem/MjMzMzMzLEAzMzMzMzMlQGZmZmZmZhJANDMzMzMz+z/NzMzMzMw0wJqZmZmZmSpAMzMzMzMzFcAAAAAAAAAAQM3MzMzMzBZANDMzMzMzC8CamZmZmZkbwDQzMzMzMyRAZmZmZmZmL8CamZmZmRk3QM3MzMzMzBZAmZmZmZmZLcDNzMzMzMwIwJqZmZmZmSBAZmZmZmZm/r9mZmZmZmYowAAAAAAAACdAZmZmZmZmFMAAAAAAAAAUQGdmZmZmZibA\",\"dtype\":\"float64\",\"order\":\"little\",\"shape\":[33]},\"Hydro_left_parenthesis_percent_growth_right_parenthesis\":{\"__ndarray__\":\"AAAAAAAAAAAzMzMzMzMtwGdmZmZm5jBAZ2ZmZmZmBkAAAAAAAAAnQJqZmZmZmSJAmpmZmZmZ6T9mZmZmZuY0wJqZmZmZmem/MjMzMzMzLEAzMzMzMzMlQGZmZmZmZhJANDMzMzMz+z/NzMzMzMw0wJqZmZmZmSpAMzMzMzMzFcAAAAAAAAAAQM3MzMzMzBZANDMzMzMzC8CamZmZmZkbwDQzMzMzMyRAZmZmZmZmL8CamZmZmRk3QM3MzMzMzBZAmZmZmZmZLcDNzMzMzMwIwJqZmZmZmSBAZmZmZmZm/r9mZmZmZmYowAAAAAAAACdAZmZmZmZmFMAAAAAAAAAUQGdmZmZmZibA\",\"dtype\":\"float64\",\"order\":\"little\",\"shape\":[33]},\"Year\":[1990,1991,1992,1993,1994,1995,1996,1997,1998,1999,2000,2001,2002,2003,2004,2005,2006,2007,2008,2009,2010,2011,2012,2013,2014,2015,2016,2017,2018,2019,2020,2021,2022]},\"selected\":{\"id\":\"4127\"},\"selection_policy\":{\"id\":\"4141\"}},\"id\":\"4126\",\"type\":\"ColumnDataSource\"},{\"attributes\":{\"line_color\":\"#e5ae38\",\"line_width\":2,\"x\":{\"field\":\"Year\"},\"y\":{\"field\":\"Hydro (% growth)\"}},\"id\":\"4192\",\"type\":\"Line\"},{\"attributes\":{\"label\":{\"value\":\"Spain\"},\"renderers\":[{\"id\":\"4153\"}]},\"id\":\"4167\",\"type\":\"LegendItem\"},{\"attributes\":{\"axis\":{\"id\":\"4099\"},\"coordinates\":null,\"grid_line_color\":null,\"group\":null,\"ticker\":null},\"id\":\"4102\",\"type\":\"Grid\"},{\"attributes\":{\"axis_label\":\"Year\",\"coordinates\":null,\"formatter\":{\"id\":\"4121\"},\"group\":null,\"major_label_policy\":{\"id\":\"4122\"},\"ticker\":{\"id\":\"4100\"}},\"id\":\"4099\",\"type\":\"LinearAxis\"},{\"attributes\":{},\"id\":\"4097\",\"type\":\"LinearScale\"},{\"attributes\":{\"label\":{\"value\":\"Germany\"},\"renderers\":[{\"id\":\"4132\"}]},\"id\":\"4145\",\"type\":\"LegendItem\"},{\"attributes\":{\"children\":[{\"id\":\"4090\"}],\"height\":400,\"margin\":[0,0,0,0],\"name\":\"Row04054\",\"sizing_mode\":\"fixed\",\"tags\":[\"embedded\"],\"width\":700},\"id\":\"4083\",\"type\":\"Row\"},{\"attributes\":{\"source\":{\"id\":\"4126\"}},\"id\":\"4133\",\"type\":\"CDSView\"},{\"attributes\":{\"line_color\":\"#6d904f\",\"line_width\":2,\"x\":{\"field\":\"Year\"},\"y\":{\"field\":\"Hydro (% growth)\"}},\"id\":\"4196\",\"type\":\"Line\"},{\"attributes\":{\"line_alpha\":0.1,\"line_color\":\"#30a2da\",\"line_width\":2,\"x\":{\"field\":\"Year\"},\"y\":{\"field\":\"Hydro (% growth)\"}},\"id\":\"4130\",\"type\":\"Line\"},{\"attributes\":{},\"id\":\"4100\",\"type\":\"BasicTicker\"},{\"attributes\":{},\"id\":\"4164\",\"type\":\"UnionRenderers\"},{\"attributes\":{\"coordinates\":null,\"data_source\":{\"id\":\"4193\"},\"glyph\":{\"id\":\"4196\"},\"group\":null,\"hover_glyph\":null,\"muted_glyph\":{\"id\":\"4198\"},\"nonselection_glyph\":{\"id\":\"4197\"},\"selection_glyph\":{\"id\":\"4218\"},\"view\":{\"id\":\"4200\"}},\"id\":\"4199\",\"type\":\"GlyphRenderer\"},{\"attributes\":{\"axis_label\":\"Hydro (% growth)\",\"coordinates\":null,\"formatter\":{\"id\":\"4124\"},\"group\":null,\"major_label_policy\":{\"id\":\"4125\"},\"ticker\":{\"id\":\"4104\"}},\"id\":\"4103\",\"type\":\"LinearAxis\"},{\"attributes\":{\"data\":{\"Country\":[\"Switzerland\",\"Switzerland\",\"Switzerland\",\"Switzerland\",\"Switzerland\",\"Switzerland\",\"Switzerland\",\"Switzerland\",\"Switzerland\",\"Switzerland\",\"Switzerland\",\"Switzerland\",\"Switzerland\",\"Switzerland\",\"Switzerland\",\"Switzerland\",\"Switzerland\",\"Switzerland\",\"Switzerland\",\"Switzerland\",\"Switzerland\",\"Switzerland\",\"Switzerland\",\"Switzerland\",\"Switzerland\",\"Switzerland\",\"Switzerland\",\"Switzerland\",\"Switzerland\",\"Switzerland\",\"Switzerland\",\"Switzerland\"],\"Hydro (% growth)\":{\"__ndarray__\":\"AAAAAAAAAADNzMzMzMweQGZmZmZmZv4/zczMzMzMIkBmZmZmZmYiQAAAAAAAACTAzczMzMxMMsBmZmZmZmYyQDQzMzMzM/u/AAAAAACAM0DNzMzMzMwuwDQzMzMzMypAMzMzMzMzL8CZmZmZmZnxv5qZmZmZmQnAmZmZmZmZHcBnZmZmZmb2v////////yxAzczMzMzMBECZmZmZmZnxv83MzMzMzPQ/NDMzMzMzJMCamZmZmZkzQJqZmZmZmdm/Z2ZmZmZm9r9nZmZmZmbmPzMzMzMzMyPAmpmZmZmZ+b8AAAAAAAAAQAAAAAAAACNAzczMzMzMHkAzMzMzMzMDwA==\",\"dtype\":\"float64\",\"order\":\"little\",\"shape\":[32]},\"Hydro_left_parenthesis_percent_growth_right_parenthesis\":{\"__ndarray__\":\"AAAAAAAAAADNzMzMzMweQGZmZmZmZv4/zczMzMzMIkBmZmZmZmYiQAAAAAAAACTAzczMzMxMMsBmZmZmZmYyQDQzMzMzM/u/AAAAAACAM0DNzMzMzMwuwDQzMzMzMypAMzMzMzMzL8CZmZmZmZnxv5qZmZmZmQnAmZmZmZmZHcBnZmZmZmb2v////////yxAzczMzMzMBECZmZmZmZnxv83MzMzMzPQ/NDMzMzMzJMCamZmZmZkzQJqZmZmZmdm/Z2ZmZmZm9r9nZmZmZmbmPzMzMzMzMyPAmpmZmZmZ+b8AAAAAAAAAQAAAAAAAACNAzczMzMzMHkAzMzMzMzMDwA==\",\"dtype\":\"float64\",\"order\":\"little\",\"shape\":[32]},\"Year\":[1990,1991,1992,1993,1994,1995,1996,1997,1998,1999,2000,2001,2002,2003,2004,2005,2006,2007,2008,2009,2010,2011,2012,2013,2014,2015,2016,2017,2018,2019,2020,2021]},\"selected\":{\"id\":\"4170\"},\"selection_policy\":{\"id\":\"4188\"}},\"id\":\"4169\",\"type\":\"ColumnDataSource\"},{\"attributes\":{\"axis\":{\"id\":\"4103\"},\"coordinates\":null,\"dimension\":1,\"grid_line_color\":null,\"group\":null,\"ticker\":null},\"id\":\"4106\",\"type\":\"Grid\"},{\"attributes\":{\"line_alpha\":0.2,\"line_color\":\"#30a2da\",\"line_width\":2,\"x\":{\"field\":\"Year\"},\"y\":{\"field\":\"Hydro (% growth)\"}},\"id\":\"4131\",\"type\":\"Line\"},{\"attributes\":{\"source\":{\"id\":\"4193\"}},\"id\":\"4200\",\"type\":\"CDSView\"},{\"attributes\":{},\"id\":\"4104\",\"type\":\"BasicTicker\"},{\"attributes\":{},\"id\":\"4109\",\"type\":\"WheelZoomTool\"},{\"attributes\":{\"line_color\":\"#30a2da\",\"line_width\":2,\"x\":{\"field\":\"Year\"},\"y\":{\"field\":\"Hydro (% growth)\"}},\"id\":\"4129\",\"type\":\"Line\"},{\"attributes\":{\"line_alpha\":0.1,\"line_color\":\"#6d904f\",\"line_width\":2,\"x\":{\"field\":\"Year\"},\"y\":{\"field\":\"Hydro (% growth)\"}},\"id\":\"4197\",\"type\":\"Line\"},{\"attributes\":{\"coordinates\":null,\"data_source\":{\"id\":\"4126\"},\"glyph\":{\"id\":\"4129\"},\"group\":null,\"hover_glyph\":null,\"muted_glyph\":{\"id\":\"4131\"},\"nonselection_glyph\":{\"id\":\"4130\"},\"selection_glyph\":{\"id\":\"4146\"},\"view\":{\"id\":\"4133\"}},\"id\":\"4132\",\"type\":\"GlyphRenderer\"},{\"attributes\":{},\"id\":\"4107\",\"type\":\"SaveTool\"},{\"attributes\":{},\"id\":\"4214\",\"type\":\"UnionRenderers\"},{\"attributes\":{\"overlay\":{\"id\":\"4112\"}},\"id\":\"4110\",\"type\":\"BoxZoomTool\"},{\"attributes\":{\"label\":{\"value\":\"United Kingdom\"},\"renderers\":[{\"id\":\"4199\"}]},\"id\":\"4217\",\"type\":\"LegendItem\"},{\"attributes\":{},\"id\":\"4111\",\"type\":\"ResetTool\"},{\"attributes\":{\"bottom_units\":\"screen\",\"coordinates\":null,\"fill_alpha\":0.5,\"fill_color\":\"lightgrey\",\"group\":null,\"left_units\":\"screen\",\"level\":\"overlay\",\"line_alpha\":1.0,\"line_color\":\"black\",\"line_dash\":[4,4],\"line_width\":2,\"right_units\":\"screen\",\"syncable\":false,\"top_units\":\"screen\"},\"id\":\"4112\",\"type\":\"BoxAnnotation\"},{\"attributes\":{\"active_drag\":{\"id\":\"4108\"},\"active_scroll\":{\"id\":\"4109\"},\"tools\":[{\"id\":\"4086\"},{\"id\":\"4107\"},{\"id\":\"4108\"},{\"id\":\"4109\"},{\"id\":\"4110\"},{\"id\":\"4111\"}]},\"id\":\"4113\",\"type\":\"Toolbar\"},{\"attributes\":{},\"id\":\"4121\",\"type\":\"BasicTickFormatter\"},{\"attributes\":{},\"id\":\"4122\",\"type\":\"AllLabels\"},{\"attributes\":{},\"id\":\"4124\",\"type\":\"BasicTickFormatter\"},{\"attributes\":{},\"id\":\"4125\",\"type\":\"AllLabels\"}],\"root_ids\":[\"4083\"]},\"title\":\"Bokeh Application\",\"version\":\"2.4.3\"}};\n",
       "    var render_items = [{\"docid\":\"39367e86-0085-48d2-8644-7c77ed17cb2c\",\"root_ids\":[\"4083\"],\"roots\":{\"4083\":\"dd9c1cdb-19d3-45b1-b16a-99d0d71faf5e\"}}];\n",
       "    root.Bokeh.embed.embed_items_notebook(docs_json, render_items);\n",
       "    for (const render_item of render_items) {\n",
       "      for (const root_id of render_item.root_ids) {\n",
       "\tconst id_el = document.getElementById(root_id)\n",
       "\tif (id_el.children.length && (id_el.children[0].className === 'bk-root')) {\n",
       "\t  const root_el = id_el.children[0]\n",
       "\t  root_el.id = root_el.id + '-rendered'\n",
       "\t}\n",
       "      }\n",
       "    }\n",
       "  }\n",
       "  if (root.Bokeh !== undefined && root.Bokeh.Panel !== undefined) {\n",
       "    embed_document(root);\n",
       "  } else {\n",
       "    var attempts = 0;\n",
       "    var timer = setInterval(function(root) {\n",
       "      if (root.Bokeh !== undefined && root.Bokeh.Panel !== undefined) {\n",
       "        clearInterval(timer);\n",
       "        embed_document(root);\n",
       "      } else if (document.readyState == \"complete\") {\n",
       "        attempts++;\n",
       "        if (attempts > 200) {\n",
       "          clearInterval(timer);\n",
       "          console.log(\"Bokeh: ERROR: Unable to run BokehJS code because BokehJS library is missing\");\n",
       "        }\n",
       "      }\n",
       "    }, 25, root)\n",
       "  }\n",
       "})(window);</script>"
      ],
      "text/plain": [
       ":NdOverlay   [Country]\n",
       "   :Curve   [Year]   (Hydro (% growth))"
      ]
     },
     "metadata": {
      "application/vnd.holoviews_exec.v0+json": {
       "id": "4083"
      }
     },
     "output_type": "display_data"
    }
   ],
   "source": [
    "lineplot(df_hydro_generation, 'Year', 'Electricity from hydro (TWh)', 'Country', 'Hydro Energy Generation')\n",
    "lineplot(df_hydro_generation, 'Year', 'Hydro (TWh growth - equivalent)', 'Country', 'Annual Change Hydro Energy Generation')\n",
    "lineplot(df_hydro_generation, 'Year', 'Hydro (% growth)', 'Country', 'Annual Growth in % Hydro Energy Generation')"
   ]
  },
  {
   "attachments": {},
   "cell_type": "markdown",
   "metadata": {},
   "source": [
    "### Wind"
   ]
  },
  {
   "cell_type": "code",
   "execution_count": 23,
   "metadata": {},
   "outputs": [
    {
     "data": {},
     "metadata": {},
     "output_type": "display_data"
    },
    {
     "data": {
      "application/vnd.holoviews_exec.v0+json": "",
      "text/html": [
       "<div id='4320'>\n",
       "  <div class=\"bk-root\" id=\"bfeecfa2-027e-402b-ae11-dc0defc33096\" data-root-id=\"4320\"></div>\n",
       "</div>\n",
       "<script type=\"application/javascript\">(function(root) {\n",
       "  function embed_document(root) {\n",
       "    var docs_json = {\"72283be5-f6f4-4b72-a6e4-d1717391ffcd\":{\"defs\":[{\"extends\":null,\"module\":null,\"name\":\"ReactiveHTML1\",\"overrides\":[],\"properties\":[]},{\"extends\":null,\"module\":null,\"name\":\"FlexBox1\",\"overrides\":[],\"properties\":[{\"default\":\"flex-start\",\"kind\":null,\"name\":\"align_content\"},{\"default\":\"flex-start\",\"kind\":null,\"name\":\"align_items\"},{\"default\":\"row\",\"kind\":null,\"name\":\"flex_direction\"},{\"default\":\"wrap\",\"kind\":null,\"name\":\"flex_wrap\"},{\"default\":\"flex-start\",\"kind\":null,\"name\":\"justify_content\"}]},{\"extends\":null,\"module\":null,\"name\":\"GridStack1\",\"overrides\":[],\"properties\":[{\"default\":\"warn\",\"kind\":null,\"name\":\"mode\"},{\"default\":null,\"kind\":null,\"name\":\"ncols\"},{\"default\":null,\"kind\":null,\"name\":\"nrows\"},{\"default\":true,\"kind\":null,\"name\":\"allow_resize\"},{\"default\":true,\"kind\":null,\"name\":\"allow_drag\"},{\"default\":[],\"kind\":null,\"name\":\"state\"}]},{\"extends\":null,\"module\":null,\"name\":\"click1\",\"overrides\":[],\"properties\":[{\"default\":\"\",\"kind\":null,\"name\":\"terminal_output\"},{\"default\":\"\",\"kind\":null,\"name\":\"debug_name\"},{\"default\":0,\"kind\":null,\"name\":\"clears\"}]},{\"extends\":null,\"module\":null,\"name\":\"NotificationAreaBase1\",\"overrides\":[],\"properties\":[{\"default\":\"bottom-right\",\"kind\":null,\"name\":\"position\"},{\"default\":0,\"kind\":null,\"name\":\"_clear\"}]},{\"extends\":null,\"module\":null,\"name\":\"NotificationArea1\",\"overrides\":[],\"properties\":[{\"default\":[],\"kind\":null,\"name\":\"notifications\"},{\"default\":\"bottom-right\",\"kind\":null,\"name\":\"position\"},{\"default\":0,\"kind\":null,\"name\":\"_clear\"},{\"default\":[{\"background\":\"#ffc107\",\"icon\":{\"className\":\"fas fa-exclamation-triangle\",\"color\":\"white\",\"tagName\":\"i\"},\"type\":\"warning\"},{\"background\":\"#007bff\",\"icon\":{\"className\":\"fas fa-info-circle\",\"color\":\"white\",\"tagName\":\"i\"},\"type\":\"info\"}],\"kind\":null,\"name\":\"types\"}]},{\"extends\":null,\"module\":null,\"name\":\"Notification\",\"overrides\":[],\"properties\":[{\"default\":null,\"kind\":null,\"name\":\"background\"},{\"default\":3000,\"kind\":null,\"name\":\"duration\"},{\"default\":null,\"kind\":null,\"name\":\"icon\"},{\"default\":\"\",\"kind\":null,\"name\":\"message\"},{\"default\":null,\"kind\":null,\"name\":\"notification_type\"},{\"default\":false,\"kind\":null,\"name\":\"_destroyed\"}]},{\"extends\":null,\"module\":null,\"name\":\"TemplateActions1\",\"overrides\":[],\"properties\":[{\"default\":0,\"kind\":null,\"name\":\"open_modal\"},{\"default\":0,\"kind\":null,\"name\":\"close_modal\"}]},{\"extends\":null,\"module\":null,\"name\":\"MaterialTemplateActions1\",\"overrides\":[],\"properties\":[{\"default\":0,\"kind\":null,\"name\":\"open_modal\"},{\"default\":0,\"kind\":null,\"name\":\"close_modal\"}]}],\"roots\":{\"references\":[{\"attributes\":{\"line_alpha\":0.2,\"line_color\":\"#30a2da\",\"line_width\":2,\"x\":{\"field\":\"Year\"},\"y\":{\"field\":\"Electricity from wind (TWh)\"}},\"id\":\"4368\",\"type\":\"Line\"},{\"attributes\":{},\"id\":\"4359\",\"type\":\"AllLabels\"},{\"attributes\":{},\"id\":\"4346\",\"type\":\"WheelZoomTool\"},{\"attributes\":{},\"id\":\"4345\",\"type\":\"PanTool\"},{\"attributes\":{},\"id\":\"4344\",\"type\":\"SaveTool\"},{\"attributes\":{\"overlay\":{\"id\":\"4349\"}},\"id\":\"4347\",\"type\":\"BoxZoomTool\"},{\"attributes\":{},\"id\":\"4348\",\"type\":\"ResetTool\"},{\"attributes\":{\"coordinates\":null,\"data_source\":{\"id\":\"4406\"},\"glyph\":{\"id\":\"4409\"},\"group\":null,\"hover_glyph\":null,\"muted_glyph\":{\"id\":\"4411\"},\"nonselection_glyph\":{\"id\":\"4410\"},\"selection_glyph\":{\"id\":\"4429\"},\"view\":{\"id\":\"4413\"}},\"id\":\"4412\",\"type\":\"GlyphRenderer\"},{\"attributes\":{\"bottom_units\":\"screen\",\"coordinates\":null,\"fill_alpha\":0.5,\"fill_color\":\"lightgrey\",\"group\":null,\"left_units\":\"screen\",\"level\":\"overlay\",\"line_alpha\":1.0,\"line_color\":\"black\",\"line_dash\":[4,4],\"line_width\":2,\"right_units\":\"screen\",\"syncable\":false,\"top_units\":\"screen\"},\"id\":\"4349\",\"type\":\"BoxAnnotation\"},{\"attributes\":{\"axis\":{\"id\":\"4340\"},\"coordinates\":null,\"dimension\":1,\"grid_line_color\":null,\"group\":null,\"ticker\":null},\"id\":\"4343\",\"type\":\"Grid\"},{\"attributes\":{\"end\":145.31,\"reset_end\":145.31,\"reset_start\":-13.21,\"start\":-13.21,\"tags\":[[[\"Electricity from wind (TWh)\",\"Electricity from wind (TWh)\",null]]]},\"id\":\"4322\",\"type\":\"Range1d\"},{\"attributes\":{\"line_color\":\"#fc4f30\",\"line_width\":2,\"x\":{\"field\":\"Year\"},\"y\":{\"field\":\"Electricity from wind (TWh)\"}},\"id\":\"4405\",\"type\":\"Line\"},{\"attributes\":{\"source\":{\"id\":\"4406\"}},\"id\":\"4413\",\"type\":\"CDSView\"},{\"attributes\":{\"line_color\":\"#30a2da\",\"line_width\":2,\"x\":{\"field\":\"Year\"},\"y\":{\"field\":\"Electricity from wind (TWh)\"}},\"id\":\"4366\",\"type\":\"Line\"},{\"attributes\":{\"source\":{\"id\":\"4363\"}},\"id\":\"4370\",\"type\":\"CDSView\"},{\"attributes\":{},\"id\":\"4407\",\"type\":\"Selection\"},{\"attributes\":{\"line_alpha\":0.2,\"line_color\":\"#e5ae38\",\"line_width\":2,\"x\":{\"field\":\"Year\"},\"y\":{\"field\":\"Electricity from wind (TWh)\"}},\"id\":\"4411\",\"type\":\"Line\"},{\"attributes\":{\"line_alpha\":0.1,\"line_color\":\"#e5ae38\",\"line_width\":2,\"x\":{\"field\":\"Year\"},\"y\":{\"field\":\"Electricity from wind (TWh)\"}},\"id\":\"4410\",\"type\":\"Line\"},{\"attributes\":{\"line_color\":\"#6d904f\",\"line_width\":2,\"x\":{\"field\":\"Year\"},\"y\":{\"field\":\"Electricity from wind (TWh)\"}},\"id\":\"4455\",\"type\":\"Line\"},{\"attributes\":{\"active_drag\":{\"id\":\"4345\"},\"active_scroll\":{\"id\":\"4346\"},\"tools\":[{\"id\":\"4323\"},{\"id\":\"4344\"},{\"id\":\"4345\"},{\"id\":\"4346\"},{\"id\":\"4347\"},{\"id\":\"4348\"}]},\"id\":\"4350\",\"type\":\"Toolbar\"},{\"attributes\":{\"line_alpha\":0.2,\"line_color\":\"#6d904f\",\"line_width\":2,\"x\":{\"field\":\"Year\"},\"y\":{\"field\":\"Electricity from wind (TWh)\"}},\"id\":\"4435\",\"type\":\"Line\"},{\"attributes\":{\"line_color\":\"#e5ae38\",\"line_width\":2,\"x\":{\"field\":\"Year\"},\"y\":{\"field\":\"Electricity from wind (TWh)\"}},\"id\":\"4409\",\"type\":\"Line\"},{\"attributes\":{},\"id\":\"4361\",\"type\":\"BasicTickFormatter\"},{\"attributes\":{\"label\":{\"value\":\"Switzerland\"},\"renderers\":[{\"id\":\"4412\"}]},\"id\":\"4428\",\"type\":\"LegendItem\"},{\"attributes\":{},\"id\":\"4362\",\"type\":\"AllLabels\"},{\"attributes\":{},\"id\":\"4425\",\"type\":\"UnionRenderers\"},{\"attributes\":{\"line_alpha\":0.1,\"line_color\":\"#30a2da\",\"line_width\":2,\"x\":{\"field\":\"Year\"},\"y\":{\"field\":\"Electricity from wind (TWh)\"}},\"id\":\"4367\",\"type\":\"Line\"},{\"attributes\":{\"coordinates\":null,\"data_source\":{\"id\":\"4363\"},\"glyph\":{\"id\":\"4366\"},\"group\":null,\"hover_glyph\":null,\"muted_glyph\":{\"id\":\"4368\"},\"nonselection_glyph\":{\"id\":\"4367\"},\"selection_glyph\":{\"id\":\"4383\"},\"view\":{\"id\":\"4370\"}},\"id\":\"4369\",\"type\":\"GlyphRenderer\"},{\"attributes\":{\"data\":{\"Country\":[\"Spain\",\"Spain\",\"Spain\",\"Spain\",\"Spain\",\"Spain\",\"Spain\",\"Spain\",\"Spain\",\"Spain\",\"Spain\",\"Spain\",\"Spain\",\"Spain\",\"Spain\",\"Spain\",\"Spain\",\"Spain\",\"Spain\",\"Spain\",\"Spain\",\"Spain\",\"Spain\",\"Spain\",\"Spain\",\"Spain\",\"Spain\",\"Spain\",\"Spain\",\"Spain\",\"Spain\",\"Spain\",\"Spain\"],\"Electricity from wind (TWh)\":{\"__ndarray__\":\"exSuR+F6hD97FK5H4XqEP5qZmZmZmbk/uB6F61G4vj/D9Shcj8LFP0jhehSuR9E/CtejcD0K1z+uR+F6FK7nP5qZmZmZmfU/7FG4HoXrBUDsUbgehesSQArXo3A9ChtArkfhehSuIkCkcD0K1yMoQGZmZmZmZi9ArkfhehQuNUDNzMzMzEw3QFK4HoXrkTtAmpmZmZl5QECPwvUoXA9DQMP1KFyPIkZA9ihcj8J1RUBcj8L1KLxIQDMzMzMz00tA4XoUrkcBSkAK16NwPapIQDMzMzMzc0hAcT0K16OQSEAzMzMzM3NJQDMzMzMz00tAuB6F61E4TEBI4XoUrgdPQM3MzMzM7E5A\",\"dtype\":\"float64\",\"order\":\"little\",\"shape\":[33]},\"Electricity_from_wind_left_parenthesis_TWh_right_parenthesis\":{\"__ndarray__\":\"exSuR+F6hD97FK5H4XqEP5qZmZmZmbk/uB6F61G4vj/D9Shcj8LFP0jhehSuR9E/CtejcD0K1z+uR+F6FK7nP5qZmZmZmfU/7FG4HoXrBUDsUbgehesSQArXo3A9ChtArkfhehSuIkCkcD0K1yMoQGZmZmZmZi9ArkfhehQuNUDNzMzMzEw3QFK4HoXrkTtAmpmZmZl5QECPwvUoXA9DQMP1KFyPIkZA9ihcj8J1RUBcj8L1KLxIQDMzMzMz00tA4XoUrkcBSkAK16NwPapIQDMzMzMzc0hAcT0K16OQSEAzMzMzM3NJQDMzMzMz00tAuB6F61E4TEBI4XoUrgdPQM3MzMzM7E5A\",\"dtype\":\"float64\",\"order\":\"little\",\"shape\":[33]},\"Year\":[1990,1991,1992,1993,1994,1995,1996,1997,1998,1999,2000,2001,2002,2003,2004,2005,2006,2007,2008,2009,2010,2011,2012,2013,2014,2015,2016,2017,2018,2019,2020,2021,2022]},\"selected\":{\"id\":\"4385\"},\"selection_policy\":{\"id\":\"4401\"}},\"id\":\"4384\",\"type\":\"ColumnDataSource\"},{\"attributes\":{\"below\":[{\"id\":\"4336\"}],\"center\":[{\"id\":\"4339\"},{\"id\":\"4343\"}],\"height\":400,\"left\":[{\"id\":\"4340\"}],\"margin\":[5,5,5,5],\"min_border_bottom\":10,\"min_border_left\":10,\"min_border_right\":10,\"min_border_top\":10,\"renderers\":[{\"id\":\"4369\"},{\"id\":\"4390\"},{\"id\":\"4412\"},{\"id\":\"4436\"}],\"right\":[{\"id\":\"4381\"}],\"sizing_mode\":\"fixed\",\"title\":{\"id\":\"4328\"},\"toolbar\":{\"id\":\"4350\"},\"width\":700,\"x_range\":{\"id\":\"4321\"},\"x_scale\":{\"id\":\"4332\"},\"y_range\":{\"id\":\"4322\"},\"y_scale\":{\"id\":\"4334\"}},\"id\":\"4327\",\"subtype\":\"Figure\",\"type\":\"Plot\"},{\"attributes\":{\"click_policy\":\"mute\",\"coordinates\":null,\"group\":null,\"items\":[{\"id\":\"4382\"},{\"id\":\"4404\"},{\"id\":\"4428\"},{\"id\":\"4454\"}],\"location\":[0,0],\"title\":\"Country\"},\"id\":\"4381\",\"type\":\"Legend\"},{\"attributes\":{\"line_color\":\"#30a2da\",\"line_width\":2,\"x\":{\"field\":\"Year\"},\"y\":{\"field\":\"Electricity from wind (TWh)\"}},\"id\":\"4383\",\"type\":\"Line\"},{\"attributes\":{\"data\":{\"Country\":[\"Germany\",\"Germany\",\"Germany\",\"Germany\",\"Germany\",\"Germany\",\"Germany\",\"Germany\",\"Germany\",\"Germany\",\"Germany\",\"Germany\",\"Germany\",\"Germany\",\"Germany\",\"Germany\",\"Germany\",\"Germany\",\"Germany\",\"Germany\",\"Germany\",\"Germany\",\"Germany\",\"Germany\",\"Germany\",\"Germany\",\"Germany\",\"Germany\",\"Germany\",\"Germany\",\"Germany\",\"Germany\",\"Germany\"],\"Electricity from wind (TWh)\":{\"__ndarray__\":\"7FG4HoXrsT8pXI/C9SjMP4/C9Shcj9I/cT0K16Nw5T/hehSuR+H2P1yPwvUoXPs/pHA9CtejAEA9CtejcD0IQFyPwvUoXBJAH4XrUbgeFkAzMzMzM7MiQOxRuB6F6yRAuB6F61G4L0DXo3A9ChczQIXrUbgeBTpAhetRuB7FO0BSuB6F61E/QOF6FK5HQURAcT0K16OwRED2KFyPwrVDQGZmZmZmRkNArkfhehTuSEDXo3A9CtdJQB+F61G4XkpAAAAAAABATUBI4XoUridUQHsUrkfh+lNAXI/C9ShsWkDNzMzMzHxbQClcj8L1eF9AMzMzMzODYECamZmZmalcQGZmZmZmhl9A\",\"dtype\":\"float64\",\"order\":\"little\",\"shape\":[33]},\"Electricity_from_wind_left_parenthesis_TWh_right_parenthesis\":{\"__ndarray__\":\"7FG4HoXrsT8pXI/C9SjMP4/C9Shcj9I/cT0K16Nw5T/hehSuR+H2P1yPwvUoXPs/pHA9CtejAEA9CtejcD0IQFyPwvUoXBJAH4XrUbgeFkAzMzMzM7MiQOxRuB6F6yRAuB6F61G4L0DXo3A9ChczQIXrUbgeBTpAhetRuB7FO0BSuB6F61E/QOF6FK5HQURAcT0K16OwRED2KFyPwrVDQGZmZmZmRkNArkfhehTuSEDXo3A9CtdJQB+F61G4XkpAAAAAAABATUBI4XoUridUQHsUrkfh+lNAXI/C9ShsWkDNzMzMzHxbQClcj8L1eF9AMzMzMzODYECamZmZmalcQGZmZmZmhl9A\",\"dtype\":\"float64\",\"order\":\"little\",\"shape\":[33]},\"Year\":[1990,1991,1992,1993,1994,1995,1996,1997,1998,1999,2000,2001,2002,2003,2004,2005,2006,2007,2008,2009,2010,2011,2012,2013,2014,2015,2016,2017,2018,2019,2020,2021,2022]},\"selected\":{\"id\":\"4364\"},\"selection_policy\":{\"id\":\"4378\"}},\"id\":\"4363\",\"type\":\"ColumnDataSource\"},{\"attributes\":{\"source\":{\"id\":\"4384\"}},\"id\":\"4391\",\"type\":\"CDSView\"},{\"attributes\":{\"line_color\":\"#fc4f30\",\"line_width\":2,\"x\":{\"field\":\"Year\"},\"y\":{\"field\":\"Electricity from wind (TWh)\"}},\"id\":\"4387\",\"type\":\"Line\"},{\"attributes\":{\"coordinates\":null,\"data_source\":{\"id\":\"4384\"},\"glyph\":{\"id\":\"4387\"},\"group\":null,\"hover_glyph\":null,\"muted_glyph\":{\"id\":\"4389\"},\"nonselection_glyph\":{\"id\":\"4388\"},\"selection_glyph\":{\"id\":\"4405\"},\"view\":{\"id\":\"4391\"}},\"id\":\"4390\",\"type\":\"GlyphRenderer\"},{\"attributes\":{\"line_alpha\":0.2,\"line_color\":\"#fc4f30\",\"line_width\":2,\"x\":{\"field\":\"Year\"},\"y\":{\"field\":\"Electricity from wind (TWh)\"}},\"id\":\"4389\",\"type\":\"Line\"},{\"attributes\":{\"label\":{\"value\":\"Germany\"},\"renderers\":[{\"id\":\"4369\"}]},\"id\":\"4382\",\"type\":\"LegendItem\"},{\"attributes\":{\"line_alpha\":0.1,\"line_color\":\"#fc4f30\",\"line_width\":2,\"x\":{\"field\":\"Year\"},\"y\":{\"field\":\"Electricity from wind (TWh)\"}},\"id\":\"4388\",\"type\":\"Line\"},{\"attributes\":{},\"id\":\"4431\",\"type\":\"Selection\"},{\"attributes\":{\"callback\":null,\"renderers\":[{\"id\":\"4369\"},{\"id\":\"4390\"},{\"id\":\"4412\"},{\"id\":\"4436\"}],\"tags\":[\"hv_created\"],\"tooltips\":[[\"Country\",\"@{Country}\"],[\"Year\",\"@{Year}\"],[\"Electricity from wind (TWh)\",\"@{Electricity_from_wind_left_parenthesis_TWh_right_parenthesis}\"]]},\"id\":\"4323\",\"type\":\"HoverTool\"},{\"attributes\":{\"data\":{\"Country\":[\"United Kingdom\",\"United Kingdom\",\"United Kingdom\",\"United Kingdom\",\"United Kingdom\",\"United Kingdom\",\"United Kingdom\",\"United Kingdom\",\"United Kingdom\",\"United Kingdom\",\"United Kingdom\",\"United Kingdom\",\"United Kingdom\",\"United Kingdom\",\"United Kingdom\",\"United Kingdom\",\"United Kingdom\",\"United Kingdom\",\"United Kingdom\",\"United Kingdom\",\"United Kingdom\",\"United Kingdom\",\"United Kingdom\",\"United Kingdom\",\"United Kingdom\",\"United Kingdom\",\"United Kingdom\",\"United Kingdom\",\"United Kingdom\",\"United Kingdom\",\"United Kingdom\",\"United Kingdom\"],\"Electricity from wind (TWh)\":{\"__ndarray__\":\"exSuR+F6hD97FK5H4XqEP3sUrkfheqQ/KVyPwvUozD/D9Shcj8LVP/YoXI/C9dg/XI/C9Shc3z9xPQrXo3DlPylcj8L1KOw/MzMzMzMz6z9mZmZmZmbuPwrXo3A9Cu8/KVyPwvUo9D+kcD0K16P0PwrXo3A9Cv8/MzMzMzMzB0DsUbgehesQQBSuR+F6FBVAexSuR+F6HECPwvUoXI8iQBSuR+F6lCRA7FG4HoXrL0CamZmZmdkzQGZmZmZmZjxA9ihcj8L1P0DD9ShcjyJEQBSuR+F6lEJAUrgehevRSEAUrkfhenRMQIXrUbgeFVBAKVyPwvVoUkDhehSuR0FQQA==\",\"dtype\":\"float64\",\"order\":\"little\",\"shape\":[32]},\"Electricity_from_wind_left_parenthesis_TWh_right_parenthesis\":{\"__ndarray__\":\"exSuR+F6hD97FK5H4XqEP3sUrkfheqQ/KVyPwvUozD/D9Shcj8LVP/YoXI/C9dg/XI/C9Shc3z9xPQrXo3DlPylcj8L1KOw/MzMzMzMz6z9mZmZmZmbuPwrXo3A9Cu8/KVyPwvUo9D+kcD0K16P0PwrXo3A9Cv8/MzMzMzMzB0DsUbgehesQQBSuR+F6FBVAexSuR+F6HECPwvUoXI8iQBSuR+F6lCRA7FG4HoXrL0CamZmZmdkzQGZmZmZmZjxA9ihcj8L1P0DD9ShcjyJEQBSuR+F6lEJAUrgehevRSEAUrkfhenRMQIXrUbgeFVBAKVyPwvVoUkDhehSuR0FQQA==\",\"dtype\":\"float64\",\"order\":\"little\",\"shape\":[32]},\"Year\":[1990,1991,1992,1993,1994,1995,1996,1997,1998,1999,2000,2001,2002,2003,2004,2005,2006,2007,2008,2009,2010,2011,2012,2013,2014,2015,2016,2017,2018,2019,2020,2021]},\"selected\":{\"id\":\"4431\"},\"selection_policy\":{\"id\":\"4451\"}},\"id\":\"4430\",\"type\":\"ColumnDataSource\"},{\"attributes\":{\"children\":[{\"id\":\"4327\"}],\"height\":400,\"margin\":[0,0,0,0],\"name\":\"Row04290\",\"sizing_mode\":\"fixed\",\"tags\":[\"embedded\"],\"width\":700},\"id\":\"4320\",\"type\":\"Row\"},{\"attributes\":{},\"id\":\"4385\",\"type\":\"Selection\"},{\"attributes\":{\"line_color\":\"#e5ae38\",\"line_width\":2,\"x\":{\"field\":\"Year\"},\"y\":{\"field\":\"Electricity from wind (TWh)\"}},\"id\":\"4429\",\"type\":\"Line\"},{\"attributes\":{\"label\":{\"value\":\"Spain\"},\"renderers\":[{\"id\":\"4390\"}]},\"id\":\"4404\",\"type\":\"LegendItem\"},{\"attributes\":{},\"id\":\"4332\",\"type\":\"LinearScale\"},{\"attributes\":{\"line_color\":\"#6d904f\",\"line_width\":2,\"x\":{\"field\":\"Year\"},\"y\":{\"field\":\"Electricity from wind (TWh)\"}},\"id\":\"4433\",\"type\":\"Line\"},{\"attributes\":{},\"id\":\"4401\",\"type\":\"UnionRenderers\"},{\"attributes\":{\"coordinates\":null,\"data_source\":{\"id\":\"4430\"},\"glyph\":{\"id\":\"4433\"},\"group\":null,\"hover_glyph\":null,\"muted_glyph\":{\"id\":\"4435\"},\"nonselection_glyph\":{\"id\":\"4434\"},\"selection_glyph\":{\"id\":\"4455\"},\"view\":{\"id\":\"4437\"}},\"id\":\"4436\",\"type\":\"GlyphRenderer\"},{\"attributes\":{\"source\":{\"id\":\"4430\"}},\"id\":\"4437\",\"type\":\"CDSView\"},{\"attributes\":{\"coordinates\":null,\"group\":null,\"text\":\"Wind Energy Generation\",\"text_color\":\"black\",\"text_font_size\":\"12pt\"},\"id\":\"4328\",\"type\":\"Title\"},{\"attributes\":{},\"id\":\"4364\",\"type\":\"Selection\"},{\"attributes\":{\"line_alpha\":0.1,\"line_color\":\"#6d904f\",\"line_width\":2,\"x\":{\"field\":\"Year\"},\"y\":{\"field\":\"Electricity from wind (TWh)\"}},\"id\":\"4434\",\"type\":\"Line\"},{\"attributes\":{},\"id\":\"4378\",\"type\":\"UnionRenderers\"},{\"attributes\":{\"axis\":{\"id\":\"4336\"},\"coordinates\":null,\"grid_line_color\":null,\"group\":null,\"ticker\":null},\"id\":\"4339\",\"type\":\"Grid\"},{\"attributes\":{},\"id\":\"4451\",\"type\":\"UnionRenderers\"},{\"attributes\":{\"axis_label\":\"Year\",\"coordinates\":null,\"formatter\":{\"id\":\"4358\"},\"group\":null,\"major_label_policy\":{\"id\":\"4359\"},\"ticker\":{\"id\":\"4337\"}},\"id\":\"4336\",\"type\":\"LinearAxis\"},{\"attributes\":{\"label\":{\"value\":\"United Kingdom\"},\"renderers\":[{\"id\":\"4436\"}]},\"id\":\"4454\",\"type\":\"LegendItem\"},{\"attributes\":{},\"id\":\"4334\",\"type\":\"LinearScale\"},{\"attributes\":{\"data\":{\"Country\":[\"Switzerland\",\"Switzerland\",\"Switzerland\",\"Switzerland\",\"Switzerland\",\"Switzerland\",\"Switzerland\",\"Switzerland\",\"Switzerland\",\"Switzerland\",\"Switzerland\",\"Switzerland\",\"Switzerland\",\"Switzerland\",\"Switzerland\",\"Switzerland\",\"Switzerland\",\"Switzerland\",\"Switzerland\",\"Switzerland\",\"Switzerland\",\"Switzerland\",\"Switzerland\",\"Switzerland\",\"Switzerland\",\"Switzerland\",\"Switzerland\",\"Switzerland\",\"Switzerland\",\"Switzerland\",\"Switzerland\",\"Switzerland\"],\"Electricity from wind (TWh)\":{\"__ndarray__\":\"AAAAAAAAAAAAAAAAAAAAAAAAAAAAAAAAAAAAAAAAAAAAAAAAAAAAAAAAAAAAAAAA/Knx0k1iUD/8qfHSTWJgP/p+arx0k2g/+n5qvHSTaD8AAAAAAAAAAAAAAAAAAAAAAAAAAAAAAAAAAAAAAAAAAHsUrkfheoQ/exSuR+F6hD97FK5H4XqEP3sUrkfhepQ/exSuR+F6lD97FK5H4XqUP3sUrkfheqQ/7FG4HoXrsT8K16NwPQq3PwrXo3A9Crc/mpmZmZmZuT8pXI/C9Si8Pylcj8L1KLw/pHA9CtejwD+4HoXrUbi+PzMzMzMzM8M/MzMzMzMzwz8zMzMzMzPDPw==\",\"dtype\":\"float64\",\"order\":\"little\",\"shape\":[32]},\"Electricity_from_wind_left_parenthesis_TWh_right_parenthesis\":{\"__ndarray__\":\"AAAAAAAAAAAAAAAAAAAAAAAAAAAAAAAAAAAAAAAAAAAAAAAAAAAAAAAAAAAAAAAA/Knx0k1iUD/8qfHSTWJgP/p+arx0k2g/+n5qvHSTaD8AAAAAAAAAAAAAAAAAAAAAAAAAAAAAAAAAAAAAAAAAAHsUrkfheoQ/exSuR+F6hD97FK5H4XqEP3sUrkfhepQ/exSuR+F6lD97FK5H4XqUP3sUrkfheqQ/7FG4HoXrsT8K16NwPQq3PwrXo3A9Crc/mpmZmZmZuT8pXI/C9Si8Pylcj8L1KLw/pHA9CtejwD+4HoXrUbi+PzMzMzMzM8M/MzMzMzMzwz8zMzMzMzPDPw==\",\"dtype\":\"float64\",\"order\":\"little\",\"shape\":[32]},\"Year\":[1990,1991,1992,1993,1994,1995,1996,1997,1998,1999,2000,2001,2002,2003,2004,2005,2006,2007,2008,2009,2010,2011,2012,2013,2014,2015,2016,2017,2018,2019,2020,2021]},\"selected\":{\"id\":\"4407\"},\"selection_policy\":{\"id\":\"4425\"}},\"id\":\"4406\",\"type\":\"ColumnDataSource\"},{\"attributes\":{},\"id\":\"4337\",\"type\":\"BasicTicker\"},{\"attributes\":{},\"id\":\"4358\",\"type\":\"BasicTickFormatter\"},{\"attributes\":{\"end\":2022.0,\"reset_end\":2022.0,\"reset_start\":1990.0,\"start\":1990.0,\"tags\":[[[\"Year\",\"Year\",null]]]},\"id\":\"4321\",\"type\":\"Range1d\"},{\"attributes\":{\"axis_label\":\"Electricity from wind (TWh)\",\"coordinates\":null,\"formatter\":{\"id\":\"4361\"},\"group\":null,\"major_label_policy\":{\"id\":\"4362\"},\"ticker\":{\"id\":\"4341\"}},\"id\":\"4340\",\"type\":\"LinearAxis\"},{\"attributes\":{},\"id\":\"4341\",\"type\":\"BasicTicker\"}],\"root_ids\":[\"4320\"]},\"title\":\"Bokeh Application\",\"version\":\"2.4.3\"}};\n",
       "    var render_items = [{\"docid\":\"72283be5-f6f4-4b72-a6e4-d1717391ffcd\",\"root_ids\":[\"4320\"],\"roots\":{\"4320\":\"bfeecfa2-027e-402b-ae11-dc0defc33096\"}}];\n",
       "    root.Bokeh.embed.embed_items_notebook(docs_json, render_items);\n",
       "    for (const render_item of render_items) {\n",
       "      for (const root_id of render_item.root_ids) {\n",
       "\tconst id_el = document.getElementById(root_id)\n",
       "\tif (id_el.children.length && (id_el.children[0].className === 'bk-root')) {\n",
       "\t  const root_el = id_el.children[0]\n",
       "\t  root_el.id = root_el.id + '-rendered'\n",
       "\t}\n",
       "      }\n",
       "    }\n",
       "  }\n",
       "  if (root.Bokeh !== undefined && root.Bokeh.Panel !== undefined) {\n",
       "    embed_document(root);\n",
       "  } else {\n",
       "    var attempts = 0;\n",
       "    var timer = setInterval(function(root) {\n",
       "      if (root.Bokeh !== undefined && root.Bokeh.Panel !== undefined) {\n",
       "        clearInterval(timer);\n",
       "        embed_document(root);\n",
       "      } else if (document.readyState == \"complete\") {\n",
       "        attempts++;\n",
       "        if (attempts > 200) {\n",
       "          clearInterval(timer);\n",
       "          console.log(\"Bokeh: ERROR: Unable to run BokehJS code because BokehJS library is missing\");\n",
       "        }\n",
       "      }\n",
       "    }, 25, root)\n",
       "  }\n",
       "})(window);</script>"
      ],
      "text/plain": [
       ":NdOverlay   [Country]\n",
       "   :Curve   [Year]   (Electricity from wind (TWh))"
      ]
     },
     "metadata": {
      "application/vnd.holoviews_exec.v0+json": {
       "id": "4320"
      }
     },
     "output_type": "display_data"
    },
    {
     "data": {},
     "metadata": {},
     "output_type": "display_data"
    },
    {
     "data": {
      "application/vnd.holoviews_exec.v0+json": "",
      "text/html": [
       "<div id='4557'>\n",
       "  <div class=\"bk-root\" id=\"55871501-2f37-4ed5-8ca9-7ab331708848\" data-root-id=\"4557\"></div>\n",
       "</div>\n",
       "<script type=\"application/javascript\">(function(root) {\n",
       "  function embed_document(root) {\n",
       "    var docs_json = {\"82455607-7cd9-4fb0-a418-dec3905d1a18\":{\"defs\":[{\"extends\":null,\"module\":null,\"name\":\"ReactiveHTML1\",\"overrides\":[],\"properties\":[]},{\"extends\":null,\"module\":null,\"name\":\"FlexBox1\",\"overrides\":[],\"properties\":[{\"default\":\"flex-start\",\"kind\":null,\"name\":\"align_content\"},{\"default\":\"flex-start\",\"kind\":null,\"name\":\"align_items\"},{\"default\":\"row\",\"kind\":null,\"name\":\"flex_direction\"},{\"default\":\"wrap\",\"kind\":null,\"name\":\"flex_wrap\"},{\"default\":\"flex-start\",\"kind\":null,\"name\":\"justify_content\"}]},{\"extends\":null,\"module\":null,\"name\":\"GridStack1\",\"overrides\":[],\"properties\":[{\"default\":\"warn\",\"kind\":null,\"name\":\"mode\"},{\"default\":null,\"kind\":null,\"name\":\"ncols\"},{\"default\":null,\"kind\":null,\"name\":\"nrows\"},{\"default\":true,\"kind\":null,\"name\":\"allow_resize\"},{\"default\":true,\"kind\":null,\"name\":\"allow_drag\"},{\"default\":[],\"kind\":null,\"name\":\"state\"}]},{\"extends\":null,\"module\":null,\"name\":\"click1\",\"overrides\":[],\"properties\":[{\"default\":\"\",\"kind\":null,\"name\":\"terminal_output\"},{\"default\":\"\",\"kind\":null,\"name\":\"debug_name\"},{\"default\":0,\"kind\":null,\"name\":\"clears\"}]},{\"extends\":null,\"module\":null,\"name\":\"NotificationAreaBase1\",\"overrides\":[],\"properties\":[{\"default\":\"bottom-right\",\"kind\":null,\"name\":\"position\"},{\"default\":0,\"kind\":null,\"name\":\"_clear\"}]},{\"extends\":null,\"module\":null,\"name\":\"NotificationArea1\",\"overrides\":[],\"properties\":[{\"default\":[],\"kind\":null,\"name\":\"notifications\"},{\"default\":\"bottom-right\",\"kind\":null,\"name\":\"position\"},{\"default\":0,\"kind\":null,\"name\":\"_clear\"},{\"default\":[{\"background\":\"#ffc107\",\"icon\":{\"className\":\"fas fa-exclamation-triangle\",\"color\":\"white\",\"tagName\":\"i\"},\"type\":\"warning\"},{\"background\":\"#007bff\",\"icon\":{\"className\":\"fas fa-info-circle\",\"color\":\"white\",\"tagName\":\"i\"},\"type\":\"info\"}],\"kind\":null,\"name\":\"types\"}]},{\"extends\":null,\"module\":null,\"name\":\"Notification\",\"overrides\":[],\"properties\":[{\"default\":null,\"kind\":null,\"name\":\"background\"},{\"default\":3000,\"kind\":null,\"name\":\"duration\"},{\"default\":null,\"kind\":null,\"name\":\"icon\"},{\"default\":\"\",\"kind\":null,\"name\":\"message\"},{\"default\":null,\"kind\":null,\"name\":\"notification_type\"},{\"default\":false,\"kind\":null,\"name\":\"_destroyed\"}]},{\"extends\":null,\"module\":null,\"name\":\"TemplateActions1\",\"overrides\":[],\"properties\":[{\"default\":0,\"kind\":null,\"name\":\"open_modal\"},{\"default\":0,\"kind\":null,\"name\":\"close_modal\"}]},{\"extends\":null,\"module\":null,\"name\":\"MaterialTemplateActions1\",\"overrides\":[],\"properties\":[{\"default\":0,\"kind\":null,\"name\":\"open_modal\"},{\"default\":0,\"kind\":null,\"name\":\"close_modal\"}]}],\"roots\":{\"references\":[{\"attributes\":{},\"id\":\"4615\",\"type\":\"UnionRenderers\"},{\"attributes\":{\"coordinates\":null,\"data_source\":{\"id\":\"4643\"},\"glyph\":{\"id\":\"4646\"},\"group\":null,\"hover_glyph\":null,\"muted_glyph\":{\"id\":\"4648\"},\"nonselection_glyph\":{\"id\":\"4647\"},\"selection_glyph\":{\"id\":\"4666\"},\"view\":{\"id\":\"4650\"}},\"id\":\"4649\",\"type\":\"GlyphRenderer\"},{\"attributes\":{},\"id\":\"4601\",\"type\":\"Selection\"},{\"attributes\":{},\"id\":\"4595\",\"type\":\"BasicTickFormatter\"},{\"attributes\":{\"line_color\":\"#fc4f30\",\"line_width\":2,\"x\":{\"field\":\"Year\"},\"y\":{\"field\":\"Wind (TWh growth - equivalent)\"}},\"id\":\"4642\",\"type\":\"Line\"},{\"attributes\":{\"source\":{\"id\":\"4643\"}},\"id\":\"4650\",\"type\":\"CDSView\"},{\"attributes\":{},\"id\":\"4596\",\"type\":\"AllLabels\"},{\"attributes\":{},\"id\":\"4598\",\"type\":\"BasicTickFormatter\"},{\"attributes\":{},\"id\":\"4599\",\"type\":\"AllLabels\"},{\"attributes\":{},\"id\":\"4644\",\"type\":\"Selection\"},{\"attributes\":{\"line_alpha\":0.2,\"line_color\":\"#e5ae38\",\"line_width\":2,\"x\":{\"field\":\"Year\"},\"y\":{\"field\":\"Wind (TWh growth - equivalent)\"}},\"id\":\"4648\",\"type\":\"Line\"},{\"attributes\":{\"line_color\":\"#6d904f\",\"line_width\":2,\"x\":{\"field\":\"Year\"},\"y\":{\"field\":\"Wind (TWh growth - equivalent)\"}},\"id\":\"4692\",\"type\":\"Line\"},{\"attributes\":{\"line_alpha\":0.1,\"line_color\":\"#e5ae38\",\"line_width\":2,\"x\":{\"field\":\"Year\"},\"y\":{\"field\":\"Wind (TWh growth - equivalent)\"}},\"id\":\"4647\",\"type\":\"Line\"},{\"attributes\":{},\"id\":\"4668\",\"type\":\"Selection\"},{\"attributes\":{\"coordinates\":null,\"data_source\":{\"id\":\"4600\"},\"glyph\":{\"id\":\"4603\"},\"group\":null,\"hover_glyph\":null,\"muted_glyph\":{\"id\":\"4605\"},\"nonselection_glyph\":{\"id\":\"4604\"},\"selection_glyph\":{\"id\":\"4620\"},\"view\":{\"id\":\"4607\"}},\"id\":\"4606\",\"type\":\"GlyphRenderer\"},{\"attributes\":{\"line_color\":\"#e5ae38\",\"line_width\":2,\"x\":{\"field\":\"Year\"},\"y\":{\"field\":\"Wind (TWh growth - equivalent)\"}},\"id\":\"4646\",\"type\":\"Line\"},{\"attributes\":{\"label\":{\"value\":\"Switzerland\"},\"renderers\":[{\"id\":\"4649\"}]},\"id\":\"4665\",\"type\":\"LegendItem\"},{\"attributes\":{\"line_color\":\"#30a2da\",\"line_width\":2,\"x\":{\"field\":\"Year\"},\"y\":{\"field\":\"Wind (TWh growth - equivalent)\"}},\"id\":\"4603\",\"type\":\"Line\"},{\"attributes\":{\"source\":{\"id\":\"4667\"}},\"id\":\"4674\",\"type\":\"CDSView\"},{\"attributes\":{},\"id\":\"4662\",\"type\":\"UnionRenderers\"},{\"attributes\":{\"line_alpha\":0.2,\"line_color\":\"#30a2da\",\"line_width\":2,\"x\":{\"field\":\"Year\"},\"y\":{\"field\":\"Wind (TWh growth - equivalent)\"}},\"id\":\"4605\",\"type\":\"Line\"},{\"attributes\":{\"data\":{\"Country\":[\"Switzerland\",\"Switzerland\",\"Switzerland\",\"Switzerland\",\"Switzerland\",\"Switzerland\",\"Switzerland\",\"Switzerland\",\"Switzerland\",\"Switzerland\",\"Switzerland\",\"Switzerland\",\"Switzerland\",\"Switzerland\",\"Switzerland\",\"Switzerland\",\"Switzerland\",\"Switzerland\",\"Switzerland\",\"Switzerland\",\"Switzerland\",\"Switzerland\",\"Switzerland\",\"Switzerland\",\"Switzerland\",\"Switzerland\",\"Switzerland\",\"Switzerland\",\"Switzerland\",\"Switzerland\",\"Switzerland\",\"Switzerland\"],\"Wind (TWh growth - equivalent)\":{\"__ndarray__\":\"AAAAAAAAAAAAAAAAAAAAAAAAAAAAAAAAAAAAAAAAAAAAAAAAAAAAAAAAAAAAAAAA/Knx0k1iUD/8qfHSTWJQP/yp8dJNYlA/AAAAAAAAAAD6fmq8dJNovwAAAAAAAAAAAAAAAAAAAAAAAAAAAAAAAHsUrkfheoQ/AAAAAAAAAAAAAAAAAAAAAHsUrkfheoQ/AAAAAAAAAAAAAAAAAAAAAHsUrkfhepQ/uB6F61G4nj97FK5H4XqUPwAAAAAAAAAAexSuR+F6hD97FK5H4XqEPwAAAAAAAAAAexSuR+F6lD97FK5H4XqEv7gehetRuJ4/AAAAAAAAAAAAAAAAAAAAAA==\",\"dtype\":\"float64\",\"order\":\"little\",\"shape\":[32]},\"Wind_left_parenthesis_TWh_growth_hyphen_minus_equivalent_right_parenthesis\":{\"__ndarray__\":\"AAAAAAAAAAAAAAAAAAAAAAAAAAAAAAAAAAAAAAAAAAAAAAAAAAAAAAAAAAAAAAAA/Knx0k1iUD/8qfHSTWJQP/yp8dJNYlA/AAAAAAAAAAD6fmq8dJNovwAAAAAAAAAAAAAAAAAAAAAAAAAAAAAAAHsUrkfheoQ/AAAAAAAAAAAAAAAAAAAAAHsUrkfheoQ/AAAAAAAAAAAAAAAAAAAAAHsUrkfhepQ/uB6F61G4nj97FK5H4XqUPwAAAAAAAAAAexSuR+F6hD97FK5H4XqEPwAAAAAAAAAAexSuR+F6lD97FK5H4XqEv7gehetRuJ4/AAAAAAAAAAAAAAAAAAAAAA==\",\"dtype\":\"float64\",\"order\":\"little\",\"shape\":[32]},\"Year\":[1990,1991,1992,1993,1994,1995,1996,1997,1998,1999,2000,2001,2002,2003,2004,2005,2006,2007,2008,2009,2010,2011,2012,2013,2014,2015,2016,2017,2018,2019,2020,2021]},\"selected\":{\"id\":\"4644\"},\"selection_policy\":{\"id\":\"4662\"}},\"id\":\"4643\",\"type\":\"ColumnDataSource\"},{\"attributes\":{\"data\":{\"Country\":[\"Spain\",\"Spain\",\"Spain\",\"Spain\",\"Spain\",\"Spain\",\"Spain\",\"Spain\",\"Spain\",\"Spain\",\"Spain\",\"Spain\",\"Spain\",\"Spain\",\"Spain\",\"Spain\",\"Spain\",\"Spain\",\"Spain\",\"Spain\",\"Spain\",\"Spain\",\"Spain\",\"Spain\",\"Spain\",\"Spain\",\"Spain\",\"Spain\",\"Spain\",\"Spain\",\"Spain\",\"Spain\",\"Spain\"],\"Wind (TWh growth - equivalent)\":{\"__ndarray__\":\"AAAAAAAAAAAAAAAAAAAAAArXo3A9Crc/exSuR+F6lD+amZmZmZmpP5qZmZmZmbk/CtejcD0Ktz9SuB6F61HYP4XrUbgeheM/PQrXo3A99j/Xo3A9Ctf/Pz0K16NwPQBApHA9CtejBEDXo3A9CtcFQArXo3A9Cg1A7FG4HoXrFUD2KFyPwvUAQBSuR+F6FBFAhetRuB6FFUCuR+F6FK4UQJqZmZmZmRhAmpmZmZmZ9b8zMzMzMzMaQLgehetRuBhAH4XrUbgeDcBxPQrXo3AFwIXrUbgehdu/cT0K16NwzT9SuB6F61H8PwAAAAAAABNASOF6FK5H6T97FK5H4XoWQOF6FK5H4cq/\",\"dtype\":\"float64\",\"order\":\"little\",\"shape\":[33]},\"Wind_left_parenthesis_TWh_growth_hyphen_minus_equivalent_right_parenthesis\":{\"__ndarray__\":\"AAAAAAAAAAAAAAAAAAAAAArXo3A9Crc/exSuR+F6lD+amZmZmZmpP5qZmZmZmbk/CtejcD0Ktz9SuB6F61HYP4XrUbgeheM/PQrXo3A99j/Xo3A9Ctf/Pz0K16NwPQBApHA9CtejBEDXo3A9CtcFQArXo3A9Cg1A7FG4HoXrFUD2KFyPwvUAQBSuR+F6FBFAhetRuB6FFUCuR+F6FK4UQJqZmZmZmRhAmpmZmZmZ9b8zMzMzMzMaQLgehetRuBhAH4XrUbgeDcBxPQrXo3AFwIXrUbgehdu/cT0K16NwzT9SuB6F61H8PwAAAAAAABNASOF6FK5H6T97FK5H4XoWQOF6FK5H4cq/\",\"dtype\":\"float64\",\"order\":\"little\",\"shape\":[33]},\"Year\":[1990,1991,1992,1993,1994,1995,1996,1997,1998,1999,2000,2001,2002,2003,2004,2005,2006,2007,2008,2009,2010,2011,2012,2013,2014,2015,2016,2017,2018,2019,2020,2021,2022]},\"selected\":{\"id\":\"4622\"},\"selection_policy\":{\"id\":\"4638\"}},\"id\":\"4621\",\"type\":\"ColumnDataSource\"},{\"attributes\":{\"click_policy\":\"mute\",\"coordinates\":null,\"group\":null,\"items\":[{\"id\":\"4619\"},{\"id\":\"4641\"},{\"id\":\"4665\"},{\"id\":\"4691\"}],\"location\":[0,0],\"title\":\"Country\"},\"id\":\"4618\",\"type\":\"Legend\"},{\"attributes\":{\"below\":[{\"id\":\"4573\"}],\"center\":[{\"id\":\"4576\"},{\"id\":\"4580\"}],\"height\":400,\"left\":[{\"id\":\"4577\"}],\"margin\":[5,5,5,5],\"min_border_bottom\":10,\"min_border_left\":10,\"min_border_right\":10,\"min_border_top\":10,\"renderers\":[{\"id\":\"4606\"},{\"id\":\"4627\"},{\"id\":\"4649\"},{\"id\":\"4673\"}],\"right\":[{\"id\":\"4618\"}],\"sizing_mode\":\"fixed\",\"title\":{\"id\":\"4565\"},\"toolbar\":{\"id\":\"4587\"},\"width\":700,\"x_range\":{\"id\":\"4558\"},\"x_scale\":{\"id\":\"4569\"},\"y_range\":{\"id\":\"4559\"},\"y_scale\":{\"id\":\"4571\"}},\"id\":\"4564\",\"subtype\":\"Figure\",\"type\":\"Plot\"},{\"attributes\":{\"line_alpha\":0.1,\"line_color\":\"#30a2da\",\"line_width\":2,\"x\":{\"field\":\"Year\"},\"y\":{\"field\":\"Wind (TWh growth - equivalent)\"}},\"id\":\"4604\",\"type\":\"Line\"},{\"attributes\":{\"source\":{\"id\":\"4600\"}},\"id\":\"4607\",\"type\":\"CDSView\"},{\"attributes\":{\"line_color\":\"#30a2da\",\"line_width\":2,\"x\":{\"field\":\"Year\"},\"y\":{\"field\":\"Wind (TWh growth - equivalent)\"}},\"id\":\"4620\",\"type\":\"Line\"},{\"attributes\":{\"source\":{\"id\":\"4621\"}},\"id\":\"4628\",\"type\":\"CDSView\"},{\"attributes\":{\"data\":{\"Country\":[\"United Kingdom\",\"United Kingdom\",\"United Kingdom\",\"United Kingdom\",\"United Kingdom\",\"United Kingdom\",\"United Kingdom\",\"United Kingdom\",\"United Kingdom\",\"United Kingdom\",\"United Kingdom\",\"United Kingdom\",\"United Kingdom\",\"United Kingdom\",\"United Kingdom\",\"United Kingdom\",\"United Kingdom\",\"United Kingdom\",\"United Kingdom\",\"United Kingdom\",\"United Kingdom\",\"United Kingdom\",\"United Kingdom\",\"United Kingdom\",\"United Kingdom\",\"United Kingdom\",\"United Kingdom\",\"United Kingdom\",\"United Kingdom\",\"United Kingdom\",\"United Kingdom\",\"United Kingdom\"],\"Wind (TWh growth - equivalent)\":{\"__ndarray__\":\"AAAAAAAAAAAAAAAAAAAAALgehetRuJ4/CtejcD0Kxz+4HoXrUbi+P5qZmZmZmak/mpmZmZmZuT8K16NwPQrHP+F6FK5H4co/uB6F61G4nr+amZmZmZm5P3sUrkfhepQ/j8L1KFyP0j+4HoXrUbieP83MzMzMzOQ/uB6F61G47j9I4XoUrkf1P6RwPQrXo/A/mpmZmZmZ/T9I4XoUrkcBQClcj8L1KPA/rkfhehSuFkAfhetRuB4PQJqZmZmZGSFAexSuR+F6DEAfhetRuJ4gQOF6FK5H4QjA9ihcj8L1KEAUrkfhehQdQK5H4XoUrh1AH4XrUbieIkA9CtejcD0hwA==\",\"dtype\":\"float64\",\"order\":\"little\",\"shape\":[32]},\"Wind_left_parenthesis_TWh_growth_hyphen_minus_equivalent_right_parenthesis\":{\"__ndarray__\":\"AAAAAAAAAAAAAAAAAAAAALgehetRuJ4/CtejcD0Kxz+4HoXrUbi+P5qZmZmZmak/mpmZmZmZuT8K16NwPQrHP+F6FK5H4co/uB6F61G4nr+amZmZmZm5P3sUrkfhepQ/j8L1KFyP0j+4HoXrUbieP83MzMzMzOQ/uB6F61G47j9I4XoUrkf1P6RwPQrXo/A/mpmZmZmZ/T9I4XoUrkcBQClcj8L1KPA/rkfhehSuFkAfhetRuB4PQJqZmZmZGSFAexSuR+F6DEAfhetRuJ4gQOF6FK5H4QjA9ihcj8L1KEAUrkfhehQdQK5H4XoUrh1AH4XrUbieIkA9CtejcD0hwA==\",\"dtype\":\"float64\",\"order\":\"little\",\"shape\":[32]},\"Year\":[1990,1991,1992,1993,1994,1995,1996,1997,1998,1999,2000,2001,2002,2003,2004,2005,2006,2007,2008,2009,2010,2011,2012,2013,2014,2015,2016,2017,2018,2019,2020,2021]},\"selected\":{\"id\":\"4668\"},\"selection_policy\":{\"id\":\"4688\"}},\"id\":\"4667\",\"type\":\"ColumnDataSource\"},{\"attributes\":{\"line_color\":\"#fc4f30\",\"line_width\":2,\"x\":{\"field\":\"Year\"},\"y\":{\"field\":\"Wind (TWh growth - equivalent)\"}},\"id\":\"4624\",\"type\":\"Line\"},{\"attributes\":{\"label\":{\"value\":\"Germany\"},\"renderers\":[{\"id\":\"4606\"}]},\"id\":\"4619\",\"type\":\"LegendItem\"},{\"attributes\":{\"coordinates\":null,\"data_source\":{\"id\":\"4621\"},\"glyph\":{\"id\":\"4624\"},\"group\":null,\"hover_glyph\":null,\"muted_glyph\":{\"id\":\"4626\"},\"nonselection_glyph\":{\"id\":\"4625\"},\"selection_glyph\":{\"id\":\"4642\"},\"view\":{\"id\":\"4628\"}},\"id\":\"4627\",\"type\":\"GlyphRenderer\"},{\"attributes\":{\"line_alpha\":0.2,\"line_color\":\"#fc4f30\",\"line_width\":2,\"x\":{\"field\":\"Year\"},\"y\":{\"field\":\"Wind (TWh growth - equivalent)\"}},\"id\":\"4626\",\"type\":\"Line\"},{\"attributes\":{\"line_alpha\":0.1,\"line_color\":\"#fc4f30\",\"line_width\":2,\"x\":{\"field\":\"Year\"},\"y\":{\"field\":\"Wind (TWh growth - equivalent)\"}},\"id\":\"4625\",\"type\":\"Line\"},{\"attributes\":{},\"id\":\"4569\",\"type\":\"LinearScale\"},{\"attributes\":{\"coordinates\":null,\"data_source\":{\"id\":\"4667\"},\"glyph\":{\"id\":\"4670\"},\"group\":null,\"hover_glyph\":null,\"muted_glyph\":{\"id\":\"4672\"},\"nonselection_glyph\":{\"id\":\"4671\"},\"selection_glyph\":{\"id\":\"4692\"},\"view\":{\"id\":\"4674\"}},\"id\":\"4673\",\"type\":\"GlyphRenderer\"},{\"attributes\":{},\"id\":\"4582\",\"type\":\"PanTool\"},{\"attributes\":{\"coordinates\":null,\"group\":null,\"text\":\"Annual Change Wind Energy Generation\",\"text_color\":\"black\",\"text_font_size\":\"12pt\"},\"id\":\"4565\",\"type\":\"Title\"},{\"attributes\":{},\"id\":\"4622\",\"type\":\"Selection\"},{\"attributes\":{\"line_color\":\"#e5ae38\",\"line_width\":2,\"x\":{\"field\":\"Year\"},\"y\":{\"field\":\"Wind (TWh growth - equivalent)\"}},\"id\":\"4666\",\"type\":\"Line\"},{\"attributes\":{\"label\":{\"value\":\"Spain\"},\"renderers\":[{\"id\":\"4627\"}]},\"id\":\"4641\",\"type\":\"LegendItem\"},{\"attributes\":{\"axis\":{\"id\":\"4573\"},\"coordinates\":null,\"grid_line_color\":null,\"group\":null,\"ticker\":null},\"id\":\"4576\",\"type\":\"Grid\"},{\"attributes\":{\"axis_label\":\"Year\",\"coordinates\":null,\"formatter\":{\"id\":\"4595\"},\"group\":null,\"major_label_policy\":{\"id\":\"4596\"},\"ticker\":{\"id\":\"4574\"}},\"id\":\"4573\",\"type\":\"LinearAxis\"},{\"attributes\":{\"end\":2022.0,\"reset_end\":2022.0,\"reset_start\":1990.0,\"start\":1990.0,\"tags\":[[[\"Year\",\"Year\",null]]]},\"id\":\"4558\",\"type\":\"Range1d\"},{\"attributes\":{},\"id\":\"4571\",\"type\":\"LinearScale\"},{\"attributes\":{\"line_color\":\"#6d904f\",\"line_width\":2,\"x\":{\"field\":\"Year\"},\"y\":{\"field\":\"Wind (TWh growth - equivalent)\"}},\"id\":\"4670\",\"type\":\"Line\"},{\"attributes\":{},\"id\":\"4574\",\"type\":\"BasicTicker\"},{\"attributes\":{},\"id\":\"4638\",\"type\":\"UnionRenderers\"},{\"attributes\":{\"axis_label\":\"Wind (TWh growth - equivalent)\",\"coordinates\":null,\"formatter\":{\"id\":\"4598\"},\"group\":null,\"major_label_policy\":{\"id\":\"4599\"},\"ticker\":{\"id\":\"4578\"}},\"id\":\"4577\",\"type\":\"LinearAxis\"},{\"attributes\":{\"axis\":{\"id\":\"4577\"},\"coordinates\":null,\"dimension\":1,\"grid_line_color\":null,\"group\":null,\"ticker\":null},\"id\":\"4580\",\"type\":\"Grid\"},{\"attributes\":{\"line_alpha\":0.2,\"line_color\":\"#6d904f\",\"line_width\":2,\"x\":{\"field\":\"Year\"},\"y\":{\"field\":\"Wind (TWh growth - equivalent)\"}},\"id\":\"4672\",\"type\":\"Line\"},{\"attributes\":{},\"id\":\"4578\",\"type\":\"BasicTicker\"},{\"attributes\":{\"line_alpha\":0.1,\"line_color\":\"#6d904f\",\"line_width\":2,\"x\":{\"field\":\"Year\"},\"y\":{\"field\":\"Wind (TWh growth - equivalent)\"}},\"id\":\"4671\",\"type\":\"Line\"},{\"attributes\":{},\"id\":\"4583\",\"type\":\"WheelZoomTool\"},{\"attributes\":{\"children\":[{\"id\":\"4564\"}],\"height\":400,\"margin\":[0,0,0,0],\"name\":\"Row04526\",\"sizing_mode\":\"fixed\",\"tags\":[\"embedded\"],\"width\":700},\"id\":\"4557\",\"type\":\"Row\"},{\"attributes\":{\"data\":{\"Country\":[\"Germany\",\"Germany\",\"Germany\",\"Germany\",\"Germany\",\"Germany\",\"Germany\",\"Germany\",\"Germany\",\"Germany\",\"Germany\",\"Germany\",\"Germany\",\"Germany\",\"Germany\",\"Germany\",\"Germany\",\"Germany\",\"Germany\",\"Germany\",\"Germany\",\"Germany\",\"Germany\",\"Germany\",\"Germany\",\"Germany\",\"Germany\",\"Germany\",\"Germany\",\"Germany\",\"Germany\",\"Germany\",\"Germany\"],\"Wind (TWh growth - equivalent)\":{\"__ndarray__\":\"AAAAAAAAAAAzMzMzMzPDP+xRuB6F67E/UrgehetR2D9SuB6F61HoP+xRuB6F69E/rkfhehSu1z9mZmZmZmbuP/YoXI/C9fg/FK5H4XoU7j+PwvUoXI8OQMP1KFyPwvE/mpmZmZmZFUDXo3A9CtcJQLgehetRuBtAAAAAAAAA/D9mZmZmZmYMQOF6FK5HYSJA16NwPQrX6z9cj8L1KFz/v9ejcD0K1+u/H4XrUbieJkAfhetRuB79P/YoXI/C9fA/CtejcD0KF0AfhetRuB42QGZmZmZmZua/hetRuB7FOUAK16NwPQoRQOF6FK5H4S9A16NwPQrXGEAzMzMzM3MxwGZmZmZm5iZA\",\"dtype\":\"float64\",\"order\":\"little\",\"shape\":[33]},\"Wind_left_parenthesis_TWh_growth_hyphen_minus_equivalent_right_parenthesis\":{\"__ndarray__\":\"AAAAAAAAAAAzMzMzMzPDP+xRuB6F67E/UrgehetR2D9SuB6F61HoP+xRuB6F69E/rkfhehSu1z9mZmZmZmbuP/YoXI/C9fg/FK5H4XoU7j+PwvUoXI8OQMP1KFyPwvE/mpmZmZmZFUDXo3A9CtcJQLgehetRuBtAAAAAAAAA/D9mZmZmZmYMQOF6FK5HYSJA16NwPQrX6z9cj8L1KFz/v9ejcD0K1+u/H4XrUbieJkAfhetRuB79P/YoXI/C9fA/CtejcD0KF0AfhetRuB42QGZmZmZmZua/hetRuB7FOUAK16NwPQoRQOF6FK5H4S9A16NwPQrXGEAzMzMzM3MxwGZmZmZm5iZA\",\"dtype\":\"float64\",\"order\":\"little\",\"shape\":[33]},\"Year\":[1990,1991,1992,1993,1994,1995,1996,1997,1998,1999,2000,2001,2002,2003,2004,2005,2006,2007,2008,2009,2010,2011,2012,2013,2014,2015,2016,2017,2018,2019,2020,2021,2022]},\"selected\":{\"id\":\"4601\"},\"selection_policy\":{\"id\":\"4615\"}},\"id\":\"4600\",\"type\":\"ColumnDataSource\"},{\"attributes\":{},\"id\":\"4581\",\"type\":\"SaveTool\"},{\"attributes\":{\"callback\":null,\"renderers\":[{\"id\":\"4606\"},{\"id\":\"4627\"},{\"id\":\"4649\"},{\"id\":\"4673\"}],\"tags\":[\"hv_created\"],\"tooltips\":[[\"Country\",\"@{Country}\"],[\"Year\",\"@{Year}\"],[\"Wind (TWh growth - equivalent)\",\"@{Wind_left_parenthesis_TWh_growth_hyphen_minus_equivalent_right_parenthesis}\"]]},\"id\":\"4560\",\"type\":\"HoverTool\"},{\"attributes\":{\"overlay\":{\"id\":\"4586\"}},\"id\":\"4584\",\"type\":\"BoxZoomTool\"},{\"attributes\":{},\"id\":\"4585\",\"type\":\"ResetTool\"},{\"attributes\":{\"label\":{\"value\":\"United Kingdom\"},\"renderers\":[{\"id\":\"4673\"}]},\"id\":\"4691\",\"type\":\"LegendItem\"},{\"attributes\":{\"end\":30.092,\"reset_end\":30.092,\"reset_start\":-21.772,\"start\":-21.772,\"tags\":[[[\"Wind (TWh growth - equivalent)\",\"Wind (TWh growth - equivalent)\",null]]]},\"id\":\"4559\",\"type\":\"Range1d\"},{\"attributes\":{\"bottom_units\":\"screen\",\"coordinates\":null,\"fill_alpha\":0.5,\"fill_color\":\"lightgrey\",\"group\":null,\"left_units\":\"screen\",\"level\":\"overlay\",\"line_alpha\":1.0,\"line_color\":\"black\",\"line_dash\":[4,4],\"line_width\":2,\"right_units\":\"screen\",\"syncable\":false,\"top_units\":\"screen\"},\"id\":\"4586\",\"type\":\"BoxAnnotation\"},{\"attributes\":{\"active_drag\":{\"id\":\"4582\"},\"active_scroll\":{\"id\":\"4583\"},\"tools\":[{\"id\":\"4560\"},{\"id\":\"4581\"},{\"id\":\"4582\"},{\"id\":\"4583\"},{\"id\":\"4584\"},{\"id\":\"4585\"}]},\"id\":\"4587\",\"type\":\"Toolbar\"},{\"attributes\":{},\"id\":\"4688\",\"type\":\"UnionRenderers\"}],\"root_ids\":[\"4557\"]},\"title\":\"Bokeh Application\",\"version\":\"2.4.3\"}};\n",
       "    var render_items = [{\"docid\":\"82455607-7cd9-4fb0-a418-dec3905d1a18\",\"root_ids\":[\"4557\"],\"roots\":{\"4557\":\"55871501-2f37-4ed5-8ca9-7ab331708848\"}}];\n",
       "    root.Bokeh.embed.embed_items_notebook(docs_json, render_items);\n",
       "    for (const render_item of render_items) {\n",
       "      for (const root_id of render_item.root_ids) {\n",
       "\tconst id_el = document.getElementById(root_id)\n",
       "\tif (id_el.children.length && (id_el.children[0].className === 'bk-root')) {\n",
       "\t  const root_el = id_el.children[0]\n",
       "\t  root_el.id = root_el.id + '-rendered'\n",
       "\t}\n",
       "      }\n",
       "    }\n",
       "  }\n",
       "  if (root.Bokeh !== undefined && root.Bokeh.Panel !== undefined) {\n",
       "    embed_document(root);\n",
       "  } else {\n",
       "    var attempts = 0;\n",
       "    var timer = setInterval(function(root) {\n",
       "      if (root.Bokeh !== undefined && root.Bokeh.Panel !== undefined) {\n",
       "        clearInterval(timer);\n",
       "        embed_document(root);\n",
       "      } else if (document.readyState == \"complete\") {\n",
       "        attempts++;\n",
       "        if (attempts > 200) {\n",
       "          clearInterval(timer);\n",
       "          console.log(\"Bokeh: ERROR: Unable to run BokehJS code because BokehJS library is missing\");\n",
       "        }\n",
       "      }\n",
       "    }, 25, root)\n",
       "  }\n",
       "})(window);</script>"
      ],
      "text/plain": [
       ":NdOverlay   [Country]\n",
       "   :Curve   [Year]   (Wind (TWh growth - equivalent))"
      ]
     },
     "metadata": {
      "application/vnd.holoviews_exec.v0+json": {
       "id": "4557"
      }
     },
     "output_type": "display_data"
    },
    {
     "data": {},
     "metadata": {},
     "output_type": "display_data"
    },
    {
     "data": {
      "application/vnd.holoviews_exec.v0+json": "",
      "text/html": [
       "<div id='4794'>\n",
       "  <div class=\"bk-root\" id=\"a5152876-6481-432e-9df2-443285dec087\" data-root-id=\"4794\"></div>\n",
       "</div>\n",
       "<script type=\"application/javascript\">(function(root) {\n",
       "  function embed_document(root) {\n",
       "    var docs_json = {\"a5f16422-1631-4976-9e9e-36340b2c1229\":{\"defs\":[{\"extends\":null,\"module\":null,\"name\":\"ReactiveHTML1\",\"overrides\":[],\"properties\":[]},{\"extends\":null,\"module\":null,\"name\":\"FlexBox1\",\"overrides\":[],\"properties\":[{\"default\":\"flex-start\",\"kind\":null,\"name\":\"align_content\"},{\"default\":\"flex-start\",\"kind\":null,\"name\":\"align_items\"},{\"default\":\"row\",\"kind\":null,\"name\":\"flex_direction\"},{\"default\":\"wrap\",\"kind\":null,\"name\":\"flex_wrap\"},{\"default\":\"flex-start\",\"kind\":null,\"name\":\"justify_content\"}]},{\"extends\":null,\"module\":null,\"name\":\"GridStack1\",\"overrides\":[],\"properties\":[{\"default\":\"warn\",\"kind\":null,\"name\":\"mode\"},{\"default\":null,\"kind\":null,\"name\":\"ncols\"},{\"default\":null,\"kind\":null,\"name\":\"nrows\"},{\"default\":true,\"kind\":null,\"name\":\"allow_resize\"},{\"default\":true,\"kind\":null,\"name\":\"allow_drag\"},{\"default\":[],\"kind\":null,\"name\":\"state\"}]},{\"extends\":null,\"module\":null,\"name\":\"click1\",\"overrides\":[],\"properties\":[{\"default\":\"\",\"kind\":null,\"name\":\"terminal_output\"},{\"default\":\"\",\"kind\":null,\"name\":\"debug_name\"},{\"default\":0,\"kind\":null,\"name\":\"clears\"}]},{\"extends\":null,\"module\":null,\"name\":\"NotificationAreaBase1\",\"overrides\":[],\"properties\":[{\"default\":\"bottom-right\",\"kind\":null,\"name\":\"position\"},{\"default\":0,\"kind\":null,\"name\":\"_clear\"}]},{\"extends\":null,\"module\":null,\"name\":\"NotificationArea1\",\"overrides\":[],\"properties\":[{\"default\":[],\"kind\":null,\"name\":\"notifications\"},{\"default\":\"bottom-right\",\"kind\":null,\"name\":\"position\"},{\"default\":0,\"kind\":null,\"name\":\"_clear\"},{\"default\":[{\"background\":\"#ffc107\",\"icon\":{\"className\":\"fas fa-exclamation-triangle\",\"color\":\"white\",\"tagName\":\"i\"},\"type\":\"warning\"},{\"background\":\"#007bff\",\"icon\":{\"className\":\"fas fa-info-circle\",\"color\":\"white\",\"tagName\":\"i\"},\"type\":\"info\"}],\"kind\":null,\"name\":\"types\"}]},{\"extends\":null,\"module\":null,\"name\":\"Notification\",\"overrides\":[],\"properties\":[{\"default\":null,\"kind\":null,\"name\":\"background\"},{\"default\":3000,\"kind\":null,\"name\":\"duration\"},{\"default\":null,\"kind\":null,\"name\":\"icon\"},{\"default\":\"\",\"kind\":null,\"name\":\"message\"},{\"default\":null,\"kind\":null,\"name\":\"notification_type\"},{\"default\":false,\"kind\":null,\"name\":\"_destroyed\"}]},{\"extends\":null,\"module\":null,\"name\":\"TemplateActions1\",\"overrides\":[],\"properties\":[{\"default\":0,\"kind\":null,\"name\":\"open_modal\"},{\"default\":0,\"kind\":null,\"name\":\"close_modal\"}]},{\"extends\":null,\"module\":null,\"name\":\"MaterialTemplateActions1\",\"overrides\":[],\"properties\":[{\"default\":0,\"kind\":null,\"name\":\"open_modal\"},{\"default\":0,\"kind\":null,\"name\":\"close_modal\"}]}],\"roots\":{\"references\":[{\"attributes\":{\"line_alpha\":0.2,\"line_color\":\"#6d904f\",\"line_width\":2,\"x\":{\"field\":\"Year\"},\"y\":{\"field\":\"Wind (% growth)\"}},\"id\":\"4909\",\"type\":\"Line\"},{\"attributes\":{},\"id\":\"4819\",\"type\":\"PanTool\"},{\"attributes\":{},\"id\":\"4875\",\"type\":\"UnionRenderers\"},{\"attributes\":{\"active_drag\":{\"id\":\"4819\"},\"active_scroll\":{\"id\":\"4820\"},\"tools\":[{\"id\":\"4797\"},{\"id\":\"4818\"},{\"id\":\"4819\"},{\"id\":\"4820\"},{\"id\":\"4821\"},{\"id\":\"4822\"}]},\"id\":\"4824\",\"type\":\"Toolbar\"},{\"attributes\":{\"line_alpha\":0.1,\"line_color\":\"#6d904f\",\"line_width\":2,\"x\":{\"field\":\"Year\"},\"y\":{\"field\":\"Wind (% growth)\"}},\"id\":\"4908\",\"type\":\"Line\"},{\"attributes\":{\"axis_label\":\"Wind (% growth)\",\"coordinates\":null,\"formatter\":{\"id\":\"4835\"},\"group\":null,\"major_label_policy\":{\"id\":\"4836\"},\"ticker\":{\"id\":\"4815\"}},\"id\":\"4814\",\"type\":\"LinearAxis\"},{\"attributes\":{\"source\":{\"id\":\"4904\"}},\"id\":\"4911\",\"type\":\"CDSView\"},{\"attributes\":{\"axis\":{\"id\":\"4814\"},\"coordinates\":null,\"dimension\":1,\"grid_line_color\":null,\"group\":null,\"ticker\":null},\"id\":\"4817\",\"type\":\"Grid\"},{\"attributes\":{},\"id\":\"4815\",\"type\":\"BasicTicker\"},{\"attributes\":{},\"id\":\"4820\",\"type\":\"WheelZoomTool\"},{\"attributes\":{\"coordinates\":null,\"data_source\":{\"id\":\"4904\"},\"glyph\":{\"id\":\"4907\"},\"group\":null,\"hover_glyph\":null,\"muted_glyph\":{\"id\":\"4909\"},\"nonselection_glyph\":{\"id\":\"4908\"},\"selection_glyph\":{\"id\":\"4929\"},\"view\":{\"id\":\"4911\"}},\"id\":\"4910\",\"type\":\"GlyphRenderer\"},{\"attributes\":{\"label\":{\"value\":\"United Kingdom\"},\"renderers\":[{\"id\":\"4910\"}]},\"id\":\"4928\",\"type\":\"LegendItem\"},{\"attributes\":{},\"id\":\"4818\",\"type\":\"SaveTool\"},{\"attributes\":{\"overlay\":{\"id\":\"4823\"}},\"id\":\"4821\",\"type\":\"BoxZoomTool\"},{\"attributes\":{},\"id\":\"4852\",\"type\":\"UnionRenderers\"},{\"attributes\":{},\"id\":\"4925\",\"type\":\"UnionRenderers\"},{\"attributes\":{},\"id\":\"4822\",\"type\":\"ResetTool\"},{\"attributes\":{\"bottom_units\":\"screen\",\"coordinates\":null,\"fill_alpha\":0.5,\"fill_color\":\"lightgrey\",\"group\":null,\"left_units\":\"screen\",\"level\":\"overlay\",\"line_alpha\":1.0,\"line_color\":\"black\",\"line_dash\":[4,4],\"line_width\":2,\"right_units\":\"screen\",\"syncable\":false,\"top_units\":\"screen\"},\"id\":\"4823\",\"type\":\"BoxAnnotation\"},{\"attributes\":{\"line_color\":\"#e5ae38\",\"line_width\":2,\"x\":{\"field\":\"Year\"},\"y\":{\"field\":\"Wind (% growth)\"}},\"id\":\"4883\",\"type\":\"Line\"},{\"attributes\":{},\"id\":\"4838\",\"type\":\"Selection\"},{\"attributes\":{\"source\":{\"id\":\"4880\"}},\"id\":\"4887\",\"type\":\"CDSView\"},{\"attributes\":{},\"id\":\"4835\",\"type\":\"BasicTickFormatter\"},{\"attributes\":{},\"id\":\"4806\",\"type\":\"LinearScale\"},{\"attributes\":{},\"id\":\"4905\",\"type\":\"Selection\"},{\"attributes\":{\"line_alpha\":0.2,\"line_color\":\"#e5ae38\",\"line_width\":2,\"x\":{\"field\":\"Year\"},\"y\":{\"field\":\"Wind (% growth)\"}},\"id\":\"4885\",\"type\":\"Line\"},{\"attributes\":{\"line_alpha\":0.1,\"line_color\":\"#e5ae38\",\"line_width\":2,\"x\":{\"field\":\"Year\"},\"y\":{\"field\":\"Wind (% growth)\"}},\"id\":\"4884\",\"type\":\"Line\"},{\"attributes\":{\"coordinates\":null,\"data_source\":{\"id\":\"4880\"},\"glyph\":{\"id\":\"4883\"},\"group\":null,\"hover_glyph\":null,\"muted_glyph\":{\"id\":\"4885\"},\"nonselection_glyph\":{\"id\":\"4884\"},\"selection_glyph\":{\"id\":\"4903\"},\"view\":{\"id\":\"4887\"}},\"id\":\"4886\",\"type\":\"GlyphRenderer\"},{\"attributes\":{\"label\":{\"value\":\"Germany\"},\"renderers\":[{\"id\":\"4843\"}]},\"id\":\"4856\",\"type\":\"LegendItem\"},{\"attributes\":{\"line_color\":\"#6d904f\",\"line_width\":2,\"x\":{\"field\":\"Year\"},\"y\":{\"field\":\"Wind (% growth)\"}},\"id\":\"4929\",\"type\":\"Line\"},{\"attributes\":{\"end\":2022.0,\"reset_end\":2022.0,\"reset_start\":1990.0,\"start\":1990.0,\"tags\":[[[\"Year\",\"Year\",null]]]},\"id\":\"4795\",\"type\":\"Range1d\"},{\"attributes\":{\"label\":{\"value\":\"Switzerland\"},\"renderers\":[{\"id\":\"4886\"}]},\"id\":\"4902\",\"type\":\"LegendItem\"},{\"attributes\":{\"data\":{\"Country\":[\"Spain\",\"Spain\",\"Spain\",\"Spain\",\"Spain\",\"Spain\",\"Spain\",\"Spain\",\"Spain\",\"Spain\",\"Spain\",\"Spain\",\"Spain\",\"Spain\",\"Spain\",\"Spain\",\"Spain\",\"Spain\",\"Spain\",\"Spain\",\"Spain\",\"Spain\",\"Spain\",\"Spain\",\"Spain\",\"Spain\",\"Spain\",\"Spain\",\"Spain\",\"Spain\",\"Spain\",\"Spain\",\"Spain\"],\"Wind (% growth)\":{\"__ndarray__\":\"AAAAAAAAAAAAAAAAAAAAAAAAAAAAIIxAAAAAAAAANECZmZmZmdlEQGZmZmZmZk1AZ2ZmZmamQEBnZmZmZmZaQJmZmZmZmVRAAAAAAADAWUBmZmZmZiZSQDMzMzMzc0VAmpmZmZkZQ0AzMzMzMzM9QJmZmZmZGT5AMzMzMzNzQUAAAAAAAAAkQM3MzMzMTDJAAAAAAACAM0BmZmZmZmYvQJqZmZmZGTBAAAAAAAAACMCZmZmZmZkuQAAAAAAAAClAAAAAAAAAGsDNzMzMzMwUwMzMzMzMzOy/AAAAAAAA4D/MzMzMzMwMQJqZmZmZmSJAZ2ZmZmZm9j8AAAAAAAAkQDMzMzMzM9O/\",\"dtype\":\"float64\",\"order\":\"little\",\"shape\":[33]},\"Wind_left_parenthesis_percent_growth_right_parenthesis\":{\"__ndarray__\":\"AAAAAAAAAAAAAAAAAAAAAAAAAAAAIIxAAAAAAAAANECZmZmZmdlEQGZmZmZmZk1AZ2ZmZmamQEBnZmZmZmZaQJmZmZmZmVRAAAAAAADAWUBmZmZmZiZSQDMzMzMzc0VAmpmZmZkZQ0AzMzMzMzM9QJmZmZmZGT5AMzMzMzNzQUAAAAAAAAAkQM3MzMzMTDJAAAAAAACAM0BmZmZmZmYvQJqZmZmZGTBAAAAAAAAACMCZmZmZmZkuQAAAAAAAAClAAAAAAAAAGsDNzMzMzMwUwMzMzMzMzOy/AAAAAAAA4D/MzMzMzMwMQJqZmZmZmSJAZ2ZmZmZm9j8AAAAAAAAkQDMzMzMzM9O/\",\"dtype\":\"float64\",\"order\":\"little\",\"shape\":[33]},\"Year\":[1990,1991,1992,1993,1994,1995,1996,1997,1998,1999,2000,2001,2002,2003,2004,2005,2006,2007,2008,2009,2010,2011,2012,2013,2014,2015,2016,2017,2018,2019,2020,2021,2022]},\"selected\":{\"id\":\"4859\"},\"selection_policy\":{\"id\":\"4875\"}},\"id\":\"4858\",\"type\":\"ColumnDataSource\"},{\"attributes\":{},\"id\":\"4899\",\"type\":\"UnionRenderers\"},{\"attributes\":{\"callback\":null,\"renderers\":[{\"id\":\"4843\"},{\"id\":\"4864\"},{\"id\":\"4886\"},{\"id\":\"4910\"}],\"tags\":[\"hv_created\"],\"tooltips\":[[\"Country\",\"@{Country}\"],[\"Year\",\"@{Year}\"],[\"Wind (% growth)\",\"@{Wind_left_parenthesis_percent_growth_right_parenthesis}\"]]},\"id\":\"4797\",\"type\":\"HoverTool\"},{\"attributes\":{\"data\":{\"Country\":[\"Germany\",\"Germany\",\"Germany\",\"Germany\",\"Germany\",\"Germany\",\"Germany\",\"Germany\",\"Germany\",\"Germany\",\"Germany\",\"Germany\",\"Germany\",\"Germany\",\"Germany\",\"Germany\",\"Germany\",\"Germany\",\"Germany\",\"Germany\",\"Germany\",\"Germany\",\"Germany\",\"Germany\",\"Germany\",\"Germany\",\"Germany\",\"Germany\",\"Germany\",\"Germany\",\"Germany\",\"Germany\",\"Germany\"],\"Wind (% growth)\":{\"__ndarray__\":\"AAAAAAAAAACZmZmZmclqQM3MzMzMzD9AAAAAAABgYECZmZmZmVlcQJqZmZmZmTNAmpmZmZmZNUCamZmZmdlGQAAAAAAAwElAAAAAAACANEBmZmZmZkZRQMzMzMzMzCdAzczMzMzMSUBmZmZmZmY0QGZmZmZmJkJAzczMzMzMGkCamZmZmZkpQMzMzMzMTD1AzczMzMzMAEDNzMzMzMwSwJmZmZmZmQHAzMzMzMxMPUCZmZmZmZkNQM3MzMzMzABAzczMzMzMJUBmZmZmZuZCQMzMzMzMzOy/mpmZmZkZQEAAAAAAAAAQQP///////yxAmpmZmZmZE0BnZmZmZmYqwAAAAAAAACRA\",\"dtype\":\"float64\",\"order\":\"little\",\"shape\":[33]},\"Wind_left_parenthesis_percent_growth_right_parenthesis\":{\"__ndarray__\":\"AAAAAAAAAACZmZmZmclqQM3MzMzMzD9AAAAAAABgYECZmZmZmVlcQJqZmZmZmTNAmpmZmZmZNUCamZmZmdlGQAAAAAAAwElAAAAAAACANEBmZmZmZkZRQMzMzMzMzCdAzczMzMzMSUBmZmZmZmY0QGZmZmZmJkJAzczMzMzMGkCamZmZmZkpQMzMzMzMTD1AzczMzMzMAEDNzMzMzMwSwJmZmZmZmQHAzMzMzMxMPUCZmZmZmZkNQM3MzMzMzABAzczMzMzMJUBmZmZmZuZCQMzMzMzMzOy/mpmZmZkZQEAAAAAAAAAQQP///////yxAmpmZmZmZE0BnZmZmZmYqwAAAAAAAACRA\",\"dtype\":\"float64\",\"order\":\"little\",\"shape\":[33]},\"Year\":[1990,1991,1992,1993,1994,1995,1996,1997,1998,1999,2000,2001,2002,2003,2004,2005,2006,2007,2008,2009,2010,2011,2012,2013,2014,2015,2016,2017,2018,2019,2020,2021,2022]},\"selected\":{\"id\":\"4838\"},\"selection_policy\":{\"id\":\"4852\"}},\"id\":\"4837\",\"type\":\"ColumnDataSource\"},{\"attributes\":{\"children\":[{\"id\":\"4801\"}],\"height\":400,\"margin\":[0,0,0,0],\"name\":\"Row04762\",\"sizing_mode\":\"fixed\",\"tags\":[\"embedded\"],\"width\":700},\"id\":\"4794\",\"type\":\"Row\"},{\"attributes\":{\"end\":1000.0,\"reset_end\":1000.0,\"reset_start\":-200.0,\"start\":-200.0,\"tags\":[[[\"Wind (% growth)\",\"Wind (% growth)\",null]]]},\"id\":\"4796\",\"type\":\"Range1d\"},{\"attributes\":{},\"id\":\"4833\",\"type\":\"AllLabels\"},{\"attributes\":{\"below\":[{\"id\":\"4810\"}],\"center\":[{\"id\":\"4813\"},{\"id\":\"4817\"}],\"height\":400,\"left\":[{\"id\":\"4814\"}],\"margin\":[5,5,5,5],\"min_border_bottom\":10,\"min_border_left\":10,\"min_border_right\":10,\"min_border_top\":10,\"renderers\":[{\"id\":\"4843\"},{\"id\":\"4864\"},{\"id\":\"4886\"},{\"id\":\"4910\"}],\"right\":[{\"id\":\"4855\"}],\"sizing_mode\":\"fixed\",\"title\":{\"id\":\"4802\"},\"toolbar\":{\"id\":\"4824\"},\"width\":700,\"x_range\":{\"id\":\"4795\"},\"x_scale\":{\"id\":\"4806\"},\"y_range\":{\"id\":\"4796\"},\"y_scale\":{\"id\":\"4808\"}},\"id\":\"4801\",\"subtype\":\"Figure\",\"type\":\"Plot\"},{\"attributes\":{\"coordinates\":null,\"data_source\":{\"id\":\"4858\"},\"glyph\":{\"id\":\"4861\"},\"group\":null,\"hover_glyph\":null,\"muted_glyph\":{\"id\":\"4863\"},\"nonselection_glyph\":{\"id\":\"4862\"},\"selection_glyph\":{\"id\":\"4879\"},\"view\":{\"id\":\"4865\"}},\"id\":\"4864\",\"type\":\"GlyphRenderer\"},{\"attributes\":{\"line_alpha\":0.2,\"line_color\":\"#30a2da\",\"line_width\":2,\"x\":{\"field\":\"Year\"},\"y\":{\"field\":\"Wind (% growth)\"}},\"id\":\"4842\",\"type\":\"Line\"},{\"attributes\":{\"source\":{\"id\":\"4858\"}},\"id\":\"4865\",\"type\":\"CDSView\"},{\"attributes\":{\"line_color\":\"#30a2da\",\"line_width\":2,\"x\":{\"field\":\"Year\"},\"y\":{\"field\":\"Wind (% growth)\"}},\"id\":\"4840\",\"type\":\"Line\"},{\"attributes\":{\"coordinates\":null,\"data_source\":{\"id\":\"4837\"},\"glyph\":{\"id\":\"4840\"},\"group\":null,\"hover_glyph\":null,\"muted_glyph\":{\"id\":\"4842\"},\"nonselection_glyph\":{\"id\":\"4841\"},\"selection_glyph\":{\"id\":\"4857\"},\"view\":{\"id\":\"4844\"}},\"id\":\"4843\",\"type\":\"GlyphRenderer\"},{\"attributes\":{\"line_color\":\"#30a2da\",\"line_width\":2,\"x\":{\"field\":\"Year\"},\"y\":{\"field\":\"Wind (% growth)\"}},\"id\":\"4857\",\"type\":\"Line\"},{\"attributes\":{},\"id\":\"4836\",\"type\":\"AllLabels\"},{\"attributes\":{\"data\":{\"Country\":[\"Switzerland\",\"Switzerland\",\"Switzerland\",\"Switzerland\",\"Switzerland\",\"Switzerland\",\"Switzerland\",\"Switzerland\",\"Switzerland\",\"Switzerland\",\"Switzerland\",\"Switzerland\",\"Switzerland\",\"Switzerland\",\"Switzerland\",\"Switzerland\",\"Switzerland\",\"Switzerland\",\"Switzerland\",\"Switzerland\",\"Switzerland\",\"Switzerland\",\"Switzerland\",\"Switzerland\",\"Switzerland\",\"Switzerland\",\"Switzerland\",\"Switzerland\",\"Switzerland\",\"Switzerland\",\"Switzerland\",\"Switzerland\"],\"Wind (% growth)\":{\"__ndarray__\":\"AAAAAAAAAAAAAAAAAAAAAAAAAAAAAAAAAAAAAAAAAAAAAAAAAAAAAAAAAAAAAAAAAAAAAAAAAAAAAAAAAABZQAAAAAAAAElAAAAAAAAAAAAAAAAAAABZwAAAAAAAAAAAAAAAAAAAAAAAAAAAAAAAAAAAAAAAAAAAAAAAAAAAAAAAAAAAAAAAAAAAAAAAAFlAAAAAAAAAAAAAAAAAAAAAAAAAAAAAAFlAAAAAAADAUkCZmZmZmZk8QAAAAAAAAAAAMzMzMzMzJkAAAAAAAAAkQAAAAAAAAAAAMzMzMzMzMkDNzMzMzMwewAAAAAAAADlAAAAAAAAAAAAAAAAAAAAAAA==\",\"dtype\":\"float64\",\"order\":\"little\",\"shape\":[32]},\"Wind_left_parenthesis_percent_growth_right_parenthesis\":{\"__ndarray__\":\"AAAAAAAAAAAAAAAAAAAAAAAAAAAAAAAAAAAAAAAAAAAAAAAAAAAAAAAAAAAAAAAAAAAAAAAAAAAAAAAAAABZQAAAAAAAAElAAAAAAAAAAAAAAAAAAABZwAAAAAAAAAAAAAAAAAAAAAAAAAAAAAAAAAAAAAAAAAAAAAAAAAAAAAAAAAAAAAAAAAAAAAAAAFlAAAAAAAAAAAAAAAAAAAAAAAAAAAAAAFlAAAAAAADAUkCZmZmZmZk8QAAAAAAAAAAAMzMzMzMzJkAAAAAAAAAkQAAAAAAAAAAAMzMzMzMzMkDNzMzMzMwewAAAAAAAADlAAAAAAAAAAAAAAAAAAAAAAA==\",\"dtype\":\"float64\",\"order\":\"little\",\"shape\":[32]},\"Year\":[1990,1991,1992,1993,1994,1995,1996,1997,1998,1999,2000,2001,2002,2003,2004,2005,2006,2007,2008,2009,2010,2011,2012,2013,2014,2015,2016,2017,2018,2019,2020,2021]},\"selected\":{\"id\":\"4881\"},\"selection_policy\":{\"id\":\"4899\"}},\"id\":\"4880\",\"type\":\"ColumnDataSource\"},{\"attributes\":{\"line_color\":\"#fc4f30\",\"line_width\":2,\"x\":{\"field\":\"Year\"},\"y\":{\"field\":\"Wind (% growth)\"}},\"id\":\"4861\",\"type\":\"Line\"},{\"attributes\":{},\"id\":\"4881\",\"type\":\"Selection\"},{\"attributes\":{\"line_alpha\":0.2,\"line_color\":\"#fc4f30\",\"line_width\":2,\"x\":{\"field\":\"Year\"},\"y\":{\"field\":\"Wind (% growth)\"}},\"id\":\"4863\",\"type\":\"Line\"},{\"attributes\":{\"line_alpha\":0.1,\"line_color\":\"#fc4f30\",\"line_width\":2,\"x\":{\"field\":\"Year\"},\"y\":{\"field\":\"Wind (% growth)\"}},\"id\":\"4862\",\"type\":\"Line\"},{\"attributes\":{\"click_policy\":\"mute\",\"coordinates\":null,\"group\":null,\"items\":[{\"id\":\"4856\"},{\"id\":\"4878\"},{\"id\":\"4902\"},{\"id\":\"4928\"}],\"location\":[0,0],\"title\":\"Country\"},\"id\":\"4855\",\"type\":\"Legend\"},{\"attributes\":{},\"id\":\"4832\",\"type\":\"BasicTickFormatter\"},{\"attributes\":{\"axis\":{\"id\":\"4810\"},\"coordinates\":null,\"grid_line_color\":null,\"group\":null,\"ticker\":null},\"id\":\"4813\",\"type\":\"Grid\"},{\"attributes\":{\"coordinates\":null,\"group\":null,\"text\":\"Annual Growth in % Wind Energy Generation\",\"text_color\":\"black\",\"text_font_size\":\"12pt\"},\"id\":\"4802\",\"type\":\"Title\"},{\"attributes\":{\"line_color\":\"#e5ae38\",\"line_width\":2,\"x\":{\"field\":\"Year\"},\"y\":{\"field\":\"Wind (% growth)\"}},\"id\":\"4903\",\"type\":\"Line\"},{\"attributes\":{\"line_color\":\"#fc4f30\",\"line_width\":2,\"x\":{\"field\":\"Year\"},\"y\":{\"field\":\"Wind (% growth)\"}},\"id\":\"4879\",\"type\":\"Line\"},{\"attributes\":{},\"id\":\"4859\",\"type\":\"Selection\"},{\"attributes\":{\"source\":{\"id\":\"4837\"}},\"id\":\"4844\",\"type\":\"CDSView\"},{\"attributes\":{\"label\":{\"value\":\"Spain\"},\"renderers\":[{\"id\":\"4864\"}]},\"id\":\"4878\",\"type\":\"LegendItem\"},{\"attributes\":{},\"id\":\"4811\",\"type\":\"BasicTicker\"},{\"attributes\":{\"data\":{\"Country\":[\"United Kingdom\",\"United Kingdom\",\"United Kingdom\",\"United Kingdom\",\"United Kingdom\",\"United Kingdom\",\"United Kingdom\",\"United Kingdom\",\"United Kingdom\",\"United Kingdom\",\"United Kingdom\",\"United Kingdom\",\"United Kingdom\",\"United Kingdom\",\"United Kingdom\",\"United Kingdom\",\"United Kingdom\",\"United Kingdom\",\"United Kingdom\",\"United Kingdom\",\"United Kingdom\",\"United Kingdom\",\"United Kingdom\",\"United Kingdom\",\"United Kingdom\",\"United Kingdom\",\"United Kingdom\",\"United Kingdom\",\"United Kingdom\",\"United Kingdom\",\"United Kingdom\",\"United Kingdom\"],\"Wind (% growth)\":{\"__ndarray__\":\"AAAAAAAAAAAAAAAAAAAAAAAAAAAAwHJAAAAAAAAgfEABAAAAAEBLQGZmZmZmZi1AmpmZmZmZOUCamZmZmVlCQM3MzMzMTD9ANDMzMzMzC8CZmZmZmZknQM3MzMzMzABAZmZmZmbmPUAzMzMzMzMDQDMzMzMzM0lAAAAAAADASEAzMzMzM/NGQJqZmZmZmThAzMzMzMyMQUDNzMzMzEw+QM3MzMzMzCVAzczMzMyMS0BmZmZmZmY4QM3MzMzMjEVAAAAAAAAAKUAAAAAAAAA6QM3MzMzMzB7AzczMzMzMQEAzMzMzMzMtQAAAAAAAACpA////////LEBnZmZmZmYnwA==\",\"dtype\":\"float64\",\"order\":\"little\",\"shape\":[32]},\"Wind_left_parenthesis_percent_growth_right_parenthesis\":{\"__ndarray__\":\"AAAAAAAAAAAAAAAAAAAAAAAAAAAAwHJAAAAAAAAgfEABAAAAAEBLQGZmZmZmZi1AmpmZmZmZOUCamZmZmVlCQM3MzMzMTD9ANDMzMzMzC8CZmZmZmZknQM3MzMzMzABAZmZmZmbmPUAzMzMzMzMDQDMzMzMzM0lAAAAAAADASEAzMzMzM/NGQJqZmZmZmThAzMzMzMyMQUDNzMzMzEw+QM3MzMzMzCVAzczMzMyMS0BmZmZmZmY4QM3MzMzMjEVAAAAAAAAAKUAAAAAAAAA6QM3MzMzMzB7AzczMzMzMQEAzMzMzMzMtQAAAAAAAACpA////////LEBnZmZmZmYnwA==\",\"dtype\":\"float64\",\"order\":\"little\",\"shape\":[32]},\"Year\":[1990,1991,1992,1993,1994,1995,1996,1997,1998,1999,2000,2001,2002,2003,2004,2005,2006,2007,2008,2009,2010,2011,2012,2013,2014,2015,2016,2017,2018,2019,2020,2021]},\"selected\":{\"id\":\"4905\"},\"selection_policy\":{\"id\":\"4925\"}},\"id\":\"4904\",\"type\":\"ColumnDataSource\"},{\"attributes\":{},\"id\":\"4808\",\"type\":\"LinearScale\"},{\"attributes\":{\"axis_label\":\"Year\",\"coordinates\":null,\"formatter\":{\"id\":\"4832\"},\"group\":null,\"major_label_policy\":{\"id\":\"4833\"},\"ticker\":{\"id\":\"4811\"}},\"id\":\"4810\",\"type\":\"LinearAxis\"},{\"attributes\":{\"line_alpha\":0.1,\"line_color\":\"#30a2da\",\"line_width\":2,\"x\":{\"field\":\"Year\"},\"y\":{\"field\":\"Wind (% growth)\"}},\"id\":\"4841\",\"type\":\"Line\"},{\"attributes\":{\"line_color\":\"#6d904f\",\"line_width\":2,\"x\":{\"field\":\"Year\"},\"y\":{\"field\":\"Wind (% growth)\"}},\"id\":\"4907\",\"type\":\"Line\"}],\"root_ids\":[\"4794\"]},\"title\":\"Bokeh Application\",\"version\":\"2.4.3\"}};\n",
       "    var render_items = [{\"docid\":\"a5f16422-1631-4976-9e9e-36340b2c1229\",\"root_ids\":[\"4794\"],\"roots\":{\"4794\":\"a5152876-6481-432e-9df2-443285dec087\"}}];\n",
       "    root.Bokeh.embed.embed_items_notebook(docs_json, render_items);\n",
       "    for (const render_item of render_items) {\n",
       "      for (const root_id of render_item.root_ids) {\n",
       "\tconst id_el = document.getElementById(root_id)\n",
       "\tif (id_el.children.length && (id_el.children[0].className === 'bk-root')) {\n",
       "\t  const root_el = id_el.children[0]\n",
       "\t  root_el.id = root_el.id + '-rendered'\n",
       "\t}\n",
       "      }\n",
       "    }\n",
       "  }\n",
       "  if (root.Bokeh !== undefined && root.Bokeh.Panel !== undefined) {\n",
       "    embed_document(root);\n",
       "  } else {\n",
       "    var attempts = 0;\n",
       "    var timer = setInterval(function(root) {\n",
       "      if (root.Bokeh !== undefined && root.Bokeh.Panel !== undefined) {\n",
       "        clearInterval(timer);\n",
       "        embed_document(root);\n",
       "      } else if (document.readyState == \"complete\") {\n",
       "        attempts++;\n",
       "        if (attempts > 200) {\n",
       "          clearInterval(timer);\n",
       "          console.log(\"Bokeh: ERROR: Unable to run BokehJS code because BokehJS library is missing\");\n",
       "        }\n",
       "      }\n",
       "    }, 25, root)\n",
       "  }\n",
       "})(window);</script>"
      ],
      "text/plain": [
       ":NdOverlay   [Country]\n",
       "   :Curve   [Year]   (Wind (% growth))"
      ]
     },
     "metadata": {
      "application/vnd.holoviews_exec.v0+json": {
       "id": "4794"
      }
     },
     "output_type": "display_data"
    }
   ],
   "source": [
    "lineplot(df_wind_generation, 'Year', 'Electricity from wind (TWh)', 'Country', 'Wind Energy Generation')\n",
    "lineplot(df_wind_generation, 'Year', 'Wind (TWh growth - equivalent)', 'Country', 'Annual Change Wind Energy Generation')\n",
    "lineplot(df_wind_generation, 'Year', 'Wind (% growth)', 'Country', 'Annual Growth in % Wind Energy Generation')"
   ]
  },
  {
   "attachments": {},
   "cell_type": "markdown",
   "metadata": {},
   "source": [
    "### Other"
   ]
  },
  {
   "cell_type": "code",
   "execution_count": 28,
   "metadata": {},
   "outputs": [
    {
     "data": {},
     "metadata": {},
     "output_type": "display_data"
    },
    {
     "data": {
      "application/vnd.holoviews_exec.v0+json": "",
      "text/html": [
       "<div id='5742'>\n",
       "  <div class=\"bk-root\" id=\"65616d4b-9ce1-4c59-8703-ae927fabc813\" data-root-id=\"5742\"></div>\n",
       "</div>\n",
       "<script type=\"application/javascript\">(function(root) {\n",
       "  function embed_document(root) {\n",
       "    var docs_json = {\"d1a5f5d9-9b9c-4552-9ca6-1c13c9673bc4\":{\"defs\":[{\"extends\":null,\"module\":null,\"name\":\"ReactiveHTML1\",\"overrides\":[],\"properties\":[]},{\"extends\":null,\"module\":null,\"name\":\"FlexBox1\",\"overrides\":[],\"properties\":[{\"default\":\"flex-start\",\"kind\":null,\"name\":\"align_content\"},{\"default\":\"flex-start\",\"kind\":null,\"name\":\"align_items\"},{\"default\":\"row\",\"kind\":null,\"name\":\"flex_direction\"},{\"default\":\"wrap\",\"kind\":null,\"name\":\"flex_wrap\"},{\"default\":\"flex-start\",\"kind\":null,\"name\":\"justify_content\"}]},{\"extends\":null,\"module\":null,\"name\":\"GridStack1\",\"overrides\":[],\"properties\":[{\"default\":\"warn\",\"kind\":null,\"name\":\"mode\"},{\"default\":null,\"kind\":null,\"name\":\"ncols\"},{\"default\":null,\"kind\":null,\"name\":\"nrows\"},{\"default\":true,\"kind\":null,\"name\":\"allow_resize\"},{\"default\":true,\"kind\":null,\"name\":\"allow_drag\"},{\"default\":[],\"kind\":null,\"name\":\"state\"}]},{\"extends\":null,\"module\":null,\"name\":\"click1\",\"overrides\":[],\"properties\":[{\"default\":\"\",\"kind\":null,\"name\":\"terminal_output\"},{\"default\":\"\",\"kind\":null,\"name\":\"debug_name\"},{\"default\":0,\"kind\":null,\"name\":\"clears\"}]},{\"extends\":null,\"module\":null,\"name\":\"NotificationAreaBase1\",\"overrides\":[],\"properties\":[{\"default\":\"bottom-right\",\"kind\":null,\"name\":\"position\"},{\"default\":0,\"kind\":null,\"name\":\"_clear\"}]},{\"extends\":null,\"module\":null,\"name\":\"NotificationArea1\",\"overrides\":[],\"properties\":[{\"default\":[],\"kind\":null,\"name\":\"notifications\"},{\"default\":\"bottom-right\",\"kind\":null,\"name\":\"position\"},{\"default\":0,\"kind\":null,\"name\":\"_clear\"},{\"default\":[{\"background\":\"#ffc107\",\"icon\":{\"className\":\"fas fa-exclamation-triangle\",\"color\":\"white\",\"tagName\":\"i\"},\"type\":\"warning\"},{\"background\":\"#007bff\",\"icon\":{\"className\":\"fas fa-info-circle\",\"color\":\"white\",\"tagName\":\"i\"},\"type\":\"info\"}],\"kind\":null,\"name\":\"types\"}]},{\"extends\":null,\"module\":null,\"name\":\"Notification\",\"overrides\":[],\"properties\":[{\"default\":null,\"kind\":null,\"name\":\"background\"},{\"default\":3000,\"kind\":null,\"name\":\"duration\"},{\"default\":null,\"kind\":null,\"name\":\"icon\"},{\"default\":\"\",\"kind\":null,\"name\":\"message\"},{\"default\":null,\"kind\":null,\"name\":\"notification_type\"},{\"default\":false,\"kind\":null,\"name\":\"_destroyed\"}]},{\"extends\":null,\"module\":null,\"name\":\"TemplateActions1\",\"overrides\":[],\"properties\":[{\"default\":0,\"kind\":null,\"name\":\"open_modal\"},{\"default\":0,\"kind\":null,\"name\":\"close_modal\"}]},{\"extends\":null,\"module\":null,\"name\":\"MaterialTemplateActions1\",\"overrides\":[],\"properties\":[{\"default\":0,\"kind\":null,\"name\":\"open_modal\"},{\"default\":0,\"kind\":null,\"name\":\"close_modal\"}]}],\"roots\":{\"references\":[{\"attributes\":{\"coordinates\":null,\"data_source\":{\"id\":\"5806\"},\"glyph\":{\"id\":\"5809\"},\"group\":null,\"hover_glyph\":null,\"muted_glyph\":{\"id\":\"5811\"},\"nonselection_glyph\":{\"id\":\"5810\"},\"selection_glyph\":{\"id\":\"5827\"},\"view\":{\"id\":\"5813\"}},\"id\":\"5812\",\"type\":\"GlyphRenderer\"},{\"attributes\":{\"children\":[{\"id\":\"5749\"}],\"height\":400,\"margin\":[0,0,0,0],\"name\":\"Row05706\",\"sizing_mode\":\"fixed\",\"tags\":[\"embedded\"],\"width\":700},\"id\":\"5742\",\"type\":\"Row\"},{\"attributes\":{\"line_alpha\":0.1,\"line_color\":\"#fc4f30\",\"line_width\":2,\"x\":{\"field\":\"Year\"},\"y\":{\"field\":\"Other renewables including bioenergy (TWh)\"}},\"id\":\"5810\",\"type\":\"Line\"},{\"attributes\":{\"line_alpha\":0.2,\"line_color\":\"#fc4f30\",\"line_width\":2,\"x\":{\"field\":\"Year\"},\"y\":{\"field\":\"Other renewables including bioenergy (TWh)\"}},\"id\":\"5811\",\"type\":\"Line\"},{\"attributes\":{\"click_policy\":\"mute\",\"coordinates\":null,\"group\":null,\"items\":[{\"id\":\"5804\"},{\"id\":\"5826\"},{\"id\":\"5850\"},{\"id\":\"5876\"}],\"location\":[0,0],\"title\":\"Country\"},\"id\":\"5803\",\"type\":\"Legend\"},{\"attributes\":{\"source\":{\"id\":\"5806\"}},\"id\":\"5813\",\"type\":\"CDSView\"},{\"attributes\":{\"callback\":null,\"renderers\":[{\"id\":\"5791\"},{\"id\":\"5812\"},{\"id\":\"5834\"},{\"id\":\"5858\"}],\"tags\":[\"hv_created\"],\"tooltips\":[[\"Country\",\"@{Country}\"],[\"Year\",\"@{Year}\"],[\"Other renewables including bioenergy (TWh)\",\"@{Other_renewables_including_bioenergy_left_parenthesis_TWh_right_parenthesis}\"]]},\"id\":\"5745\",\"type\":\"HoverTool\"},{\"attributes\":{\"below\":[{\"id\":\"5758\"}],\"center\":[{\"id\":\"5761\"},{\"id\":\"5765\"}],\"height\":400,\"left\":[{\"id\":\"5762\"}],\"margin\":[5,5,5,5],\"min_border_bottom\":10,\"min_border_left\":10,\"min_border_right\":10,\"min_border_top\":10,\"renderers\":[{\"id\":\"5791\"},{\"id\":\"5812\"},{\"id\":\"5834\"},{\"id\":\"5858\"}],\"right\":[{\"id\":\"5803\"}],\"sizing_mode\":\"fixed\",\"title\":{\"id\":\"5750\"},\"toolbar\":{\"id\":\"5772\"},\"width\":700,\"x_range\":{\"id\":\"5743\"},\"x_scale\":{\"id\":\"5754\"},\"y_range\":{\"id\":\"5744\"},\"y_scale\":{\"id\":\"5756\"}},\"id\":\"5749\",\"subtype\":\"Figure\",\"type\":\"Plot\"},{\"attributes\":{},\"id\":\"5754\",\"type\":\"LinearScale\"},{\"attributes\":{\"label\":{\"value\":\"Spain\"},\"renderers\":[{\"id\":\"5812\"}]},\"id\":\"5826\",\"type\":\"LegendItem\"},{\"attributes\":{\"source\":{\"id\":\"5828\"}},\"id\":\"5835\",\"type\":\"CDSView\"},{\"attributes\":{\"line_color\":\"#e5ae38\",\"line_width\":2,\"x\":{\"field\":\"Year\"},\"y\":{\"field\":\"Other renewables including bioenergy (TWh)\"}},\"id\":\"5851\",\"type\":\"Line\"},{\"attributes\":{\"end\":2022.0,\"reset_end\":2022.0,\"reset_start\":1990.0,\"start\":1990.0,\"tags\":[[[\"Year\",\"Year\",null]]]},\"id\":\"5743\",\"type\":\"Range1d\"},{\"attributes\":{},\"id\":\"5823\",\"type\":\"UnionRenderers\"},{\"attributes\":{},\"id\":\"5853\",\"type\":\"Selection\"},{\"attributes\":{\"label\":{\"value\":\"United Kingdom\"},\"renderers\":[{\"id\":\"5858\"}]},\"id\":\"5876\",\"type\":\"LegendItem\"},{\"attributes\":{\"coordinates\":null,\"data_source\":{\"id\":\"5852\"},\"glyph\":{\"id\":\"5855\"},\"group\":null,\"hover_glyph\":null,\"muted_glyph\":{\"id\":\"5857\"},\"nonselection_glyph\":{\"id\":\"5856\"},\"selection_glyph\":{\"id\":\"5877\"},\"view\":{\"id\":\"5859\"}},\"id\":\"5858\",\"type\":\"GlyphRenderer\"},{\"attributes\":{\"coordinates\":null,\"group\":null,\"text\":\"Other Energy Generation includind Bioenergy\",\"text_color\":\"black\",\"text_font_size\":\"12pt\"},\"id\":\"5750\",\"type\":\"Title\"},{\"attributes\":{},\"id\":\"5768\",\"type\":\"WheelZoomTool\"},{\"attributes\":{\"axis\":{\"id\":\"5758\"},\"coordinates\":null,\"grid_line_color\":null,\"group\":null,\"ticker\":null},\"id\":\"5761\",\"type\":\"Grid\"},{\"attributes\":{},\"id\":\"5873\",\"type\":\"UnionRenderers\"},{\"attributes\":{\"axis_label\":\"Year\",\"coordinates\":null,\"formatter\":{\"id\":\"5780\"},\"group\":null,\"major_label_policy\":{\"id\":\"5781\"},\"ticker\":{\"id\":\"5759\"}},\"id\":\"5758\",\"type\":\"LinearAxis\"},{\"attributes\":{},\"id\":\"5756\",\"type\":\"LinearScale\"},{\"attributes\":{\"source\":{\"id\":\"5852\"}},\"id\":\"5859\",\"type\":\"CDSView\"},{\"attributes\":{},\"id\":\"5759\",\"type\":\"BasicTicker\"},{\"attributes\":{},\"id\":\"5767\",\"type\":\"PanTool\"},{\"attributes\":{\"axis_label\":\"Other renewables including bioenergy (TWh)\",\"coordinates\":null,\"formatter\":{\"id\":\"5783\"},\"group\":null,\"major_label_policy\":{\"id\":\"5784\"},\"ticker\":{\"id\":\"5763\"}},\"id\":\"5762\",\"type\":\"LinearAxis\"},{\"attributes\":{},\"id\":\"5763\",\"type\":\"BasicTicker\"},{\"attributes\":{},\"id\":\"5781\",\"type\":\"AllLabels\"},{\"attributes\":{},\"id\":\"5766\",\"type\":\"SaveTool\"},{\"attributes\":{\"overlay\":{\"id\":\"5771\"}},\"id\":\"5769\",\"type\":\"BoxZoomTool\"},{\"attributes\":{},\"id\":\"5770\",\"type\":\"ResetTool\"},{\"attributes\":{\"bottom_units\":\"screen\",\"coordinates\":null,\"fill_alpha\":0.5,\"fill_color\":\"lightgrey\",\"group\":null,\"left_units\":\"screen\",\"level\":\"overlay\",\"line_alpha\":1.0,\"line_color\":\"black\",\"line_dash\":[4,4],\"line_width\":2,\"right_units\":\"screen\",\"syncable\":false,\"top_units\":\"screen\"},\"id\":\"5771\",\"type\":\"BoxAnnotation\"},{\"attributes\":{\"coordinates\":null,\"data_source\":{\"id\":\"5828\"},\"glyph\":{\"id\":\"5831\"},\"group\":null,\"hover_glyph\":null,\"muted_glyph\":{\"id\":\"5833\"},\"nonselection_glyph\":{\"id\":\"5832\"},\"selection_glyph\":{\"id\":\"5851\"},\"view\":{\"id\":\"5835\"}},\"id\":\"5834\",\"type\":\"GlyphRenderer\"},{\"attributes\":{\"data\":{\"Country\":[\"Switzerland\",\"Switzerland\",\"Switzerland\",\"Switzerland\",\"Switzerland\",\"Switzerland\",\"Switzerland\",\"Switzerland\",\"Switzerland\",\"Switzerland\",\"Switzerland\",\"Switzerland\",\"Switzerland\",\"Switzerland\",\"Switzerland\",\"Switzerland\",\"Switzerland\",\"Switzerland\",\"Switzerland\",\"Switzerland\",\"Switzerland\",\"Switzerland\",\"Switzerland\",\"Switzerland\",\"Switzerland\",\"Switzerland\",\"Switzerland\",\"Switzerland\",\"Switzerland\",\"Switzerland\",\"Switzerland\",\"Switzerland\"],\"Other renewables including bioenergy (TWh)\":{\"__ndarray__\":\"1XjpJjEI3D+BlUOLbOfbPwrXo3A9Ct8/BoGVQ4ts3z+amZmZmZnhP5HtfD81XuI/2c73U+Ol4z91kxgEVg7lPz81XrpJDOY/K4cW2c735z/sUbgehevBP+xRuB6F68E/7FG4HoXrwT/sUbgehevBPzMzMzMzM8M/exSuR+F6xD97FK5H4XrEPzMzMzMzM8M/MzMzMzMzwz+kcD0K16PAP+xRuB6F68E/MzMzMzMzwz8zMzMzMzPDPzMzMzMzM8M/7FG4HoXrwT+4HoXrUbi+PzMzMzMzM8M/exSuR+F6xD8zMzMzMzPDPzMzMzMzM8M/w/UoXI/CxT8pXI/C9Si8Pw==\",\"dtype\":\"float64\",\"order\":\"little\",\"shape\":[32]},\"Other_renewables_including_bioenergy_left_parenthesis_TWh_right_parenthesis\":{\"__ndarray__\":\"1XjpJjEI3D+BlUOLbOfbPwrXo3A9Ct8/BoGVQ4ts3z+amZmZmZnhP5HtfD81XuI/2c73U+Ol4z91kxgEVg7lPz81XrpJDOY/K4cW2c735z/sUbgehevBP+xRuB6F68E/7FG4HoXrwT/sUbgehevBPzMzMzMzM8M/exSuR+F6xD97FK5H4XrEPzMzMzMzM8M/MzMzMzMzwz+kcD0K16PAP+xRuB6F68E/MzMzMzMzwz8zMzMzMzPDPzMzMzMzM8M/7FG4HoXrwT+4HoXrUbi+PzMzMzMzM8M/exSuR+F6xD8zMzMzMzPDPzMzMzMzM8M/w/UoXI/CxT8pXI/C9Si8Pw==\",\"dtype\":\"float64\",\"order\":\"little\",\"shape\":[32]},\"Year\":[1990,1991,1992,1993,1994,1995,1996,1997,1998,1999,2000,2001,2002,2003,2004,2005,2006,2007,2008,2009,2010,2011,2012,2013,2014,2015,2016,2017,2018,2019,2020,2021]},\"selected\":{\"id\":\"5829\"},\"selection_policy\":{\"id\":\"5847\"}},\"id\":\"5828\",\"type\":\"ColumnDataSource\"},{\"attributes\":{\"line_color\":\"#fc4f30\",\"line_width\":2,\"x\":{\"field\":\"Year\"},\"y\":{\"field\":\"Other renewables including bioenergy (TWh)\"}},\"id\":\"5827\",\"type\":\"Line\"},{\"attributes\":{\"coordinates\":null,\"data_source\":{\"id\":\"5785\"},\"glyph\":{\"id\":\"5788\"},\"group\":null,\"hover_glyph\":null,\"muted_glyph\":{\"id\":\"5790\"},\"nonselection_glyph\":{\"id\":\"5789\"},\"selection_glyph\":{\"id\":\"5805\"},\"view\":{\"id\":\"5792\"}},\"id\":\"5791\",\"type\":\"GlyphRenderer\"},{\"attributes\":{},\"id\":\"5786\",\"type\":\"Selection\"},{\"attributes\":{},\"id\":\"5829\",\"type\":\"Selection\"},{\"attributes\":{\"line_alpha\":0.2,\"line_color\":\"#e5ae38\",\"line_width\":2,\"x\":{\"field\":\"Year\"},\"y\":{\"field\":\"Other renewables including bioenergy (TWh)\"}},\"id\":\"5833\",\"type\":\"Line\"},{\"attributes\":{\"line_alpha\":0.1,\"line_color\":\"#e5ae38\",\"line_width\":2,\"x\":{\"field\":\"Year\"},\"y\":{\"field\":\"Other renewables including bioenergy (TWh)\"}},\"id\":\"5832\",\"type\":\"Line\"},{\"attributes\":{\"line_color\":\"#6d904f\",\"line_width\":2,\"x\":{\"field\":\"Year\"},\"y\":{\"field\":\"Other renewables including bioenergy (TWh)\"}},\"id\":\"5877\",\"type\":\"Line\"},{\"attributes\":{\"label\":{\"value\":\"Germany\"},\"renderers\":[{\"id\":\"5791\"}]},\"id\":\"5804\",\"type\":\"LegendItem\"},{\"attributes\":{},\"id\":\"5800\",\"type\":\"UnionRenderers\"},{\"attributes\":{\"line_color\":\"#6d904f\",\"line_width\":2,\"x\":{\"field\":\"Year\"},\"y\":{\"field\":\"Other renewables including bioenergy (TWh)\"}},\"id\":\"5855\",\"type\":\"Line\"},{\"attributes\":{},\"id\":\"5783\",\"type\":\"BasicTickFormatter\"},{\"attributes\":{\"line_color\":\"#e5ae38\",\"line_width\":2,\"x\":{\"field\":\"Year\"},\"y\":{\"field\":\"Other renewables including bioenergy (TWh)\"}},\"id\":\"5831\",\"type\":\"Line\"},{\"attributes\":{\"label\":{\"value\":\"Switzerland\"},\"renderers\":[{\"id\":\"5834\"}]},\"id\":\"5850\",\"type\":\"LegendItem\"},{\"attributes\":{\"source\":{\"id\":\"5785\"}},\"id\":\"5792\",\"type\":\"CDSView\"},{\"attributes\":{\"data\":{\"Country\":[\"Spain\",\"Spain\",\"Spain\",\"Spain\",\"Spain\",\"Spain\",\"Spain\",\"Spain\",\"Spain\",\"Spain\",\"Spain\",\"Spain\",\"Spain\",\"Spain\",\"Spain\",\"Spain\",\"Spain\",\"Spain\",\"Spain\",\"Spain\",\"Spain\",\"Spain\",\"Spain\",\"Spain\",\"Spain\",\"Spain\",\"Spain\",\"Spain\",\"Spain\",\"Spain\",\"Spain\",\"Spain\",\"Spain\"],\"Other renewables including bioenergy (TWh)\":{\"__ndarray__\":\"SOF6FK5H4T9I4XoUrkfhPz0K16NwPeI/j8L1KFyP4j97FK5H4XrkPylcj8L1KPA/SOF6FK5H8T9cj8L1KFz3P3sUrkfhevg/7FG4HoXr+T/Xo3A9Ctf3PxSuR+F6FPo/uB6F61G4BEBxPQrXo3AJQKRwPQrXowpAMzMzMzMzBUApXI/C9SgGQDMzMzMzMwdAFK5H4XoUCkDsUbgehesLQArXo3A9ChBAcT0K16NwEkDsUbgehesTQDMzMzMzMxdApHA9CtejFUAK16NwPQoXQMP1KFyPwhZAUrgehetRGECkcD0K16MXQFyPwvUoXBZArkfhehSuGEDXo3A9CtcbQEjhehSuRxtA\",\"dtype\":\"float64\",\"order\":\"little\",\"shape\":[33]},\"Other_renewables_including_bioenergy_left_parenthesis_TWh_right_parenthesis\":{\"__ndarray__\":\"SOF6FK5H4T9I4XoUrkfhPz0K16NwPeI/j8L1KFyP4j97FK5H4XrkPylcj8L1KPA/SOF6FK5H8T9cj8L1KFz3P3sUrkfhevg/7FG4HoXr+T/Xo3A9Ctf3PxSuR+F6FPo/uB6F61G4BEBxPQrXo3AJQKRwPQrXowpAMzMzMzMzBUApXI/C9SgGQDMzMzMzMwdAFK5H4XoUCkDsUbgehesLQArXo3A9ChBAcT0K16NwEkDsUbgehesTQDMzMzMzMxdApHA9CtejFUAK16NwPQoXQMP1KFyPwhZAUrgehetRGECkcD0K16MXQFyPwvUoXBZArkfhehSuGEDXo3A9CtcbQEjhehSuRxtA\",\"dtype\":\"float64\",\"order\":\"little\",\"shape\":[33]},\"Year\":[1990,1991,1992,1993,1994,1995,1996,1997,1998,1999,2000,2001,2002,2003,2004,2005,2006,2007,2008,2009,2010,2011,2012,2013,2014,2015,2016,2017,2018,2019,2020,2021,2022]},\"selected\":{\"id\":\"5807\"},\"selection_policy\":{\"id\":\"5823\"}},\"id\":\"5806\",\"type\":\"ColumnDataSource\"},{\"attributes\":{\"axis\":{\"id\":\"5762\"},\"coordinates\":null,\"dimension\":1,\"grid_line_color\":null,\"group\":null,\"ticker\":null},\"id\":\"5765\",\"type\":\"Grid\"},{\"attributes\":{},\"id\":\"5847\",\"type\":\"UnionRenderers\"},{\"attributes\":{\"active_drag\":{\"id\":\"5767\"},\"active_scroll\":{\"id\":\"5768\"},\"tools\":[{\"id\":\"5745\"},{\"id\":\"5766\"},{\"id\":\"5767\"},{\"id\":\"5768\"},{\"id\":\"5769\"},{\"id\":\"5770\"}]},\"id\":\"5772\",\"type\":\"Toolbar\"},{\"attributes\":{\"line_alpha\":0.1,\"line_color\":\"#30a2da\",\"line_width\":2,\"x\":{\"field\":\"Year\"},\"y\":{\"field\":\"Other renewables including bioenergy (TWh)\"}},\"id\":\"5789\",\"type\":\"Line\"},{\"attributes\":{\"data\":{\"Country\":[\"Germany\",\"Germany\",\"Germany\",\"Germany\",\"Germany\",\"Germany\",\"Germany\",\"Germany\",\"Germany\",\"Germany\",\"Germany\",\"Germany\",\"Germany\",\"Germany\",\"Germany\",\"Germany\",\"Germany\",\"Germany\",\"Germany\",\"Germany\",\"Germany\",\"Germany\",\"Germany\",\"Germany\",\"Germany\",\"Germany\",\"Germany\",\"Germany\",\"Germany\",\"Germany\",\"Germany\",\"Germany\",\"Germany\"],\"Other renewables including bioenergy (TWh)\":{\"__ndarray__\":\"mpmZmZmZ+T/sUbgehev9P1K4HoXrUQBAhetRuB6F/z+PwvUoXI8AQHE9CtejcANAAAAAAAAABEAzMzMzMzMFQHsUrkfheghAFK5H4XoUDEBSuB6F61ERQFyPwvUoXBJAPQrXo3A9FUBmZmZmZuYhQEjhehSuRyVA7FG4HoVrLUBxPQrXo/AyQB+F61G4njhACtejcD0KPEApXI/C9eg+QCkmb4CZ+UBAFK5H4Xp0QkA9CtejcJ1FQOxRuB6Fy0ZAUrgehesxSEDsh9hg4TpJQM3MzMzMjElAat/cXz2KSUBcj8L1KHxJQArXo3A9KklAFK5H4XqUSUAzMzMzM5NHQIXrUbgexUdA\",\"dtype\":\"float64\",\"order\":\"little\",\"shape\":[33]},\"Other_renewables_including_bioenergy_left_parenthesis_TWh_right_parenthesis\":{\"__ndarray__\":\"mpmZmZmZ+T/sUbgehev9P1K4HoXrUQBAhetRuB6F/z+PwvUoXI8AQHE9CtejcANAAAAAAAAABEAzMzMzMzMFQHsUrkfheghAFK5H4XoUDEBSuB6F61ERQFyPwvUoXBJAPQrXo3A9FUBmZmZmZuYhQEjhehSuRyVA7FG4HoVrLUBxPQrXo/AyQB+F61G4njhACtejcD0KPEApXI/C9eg+QCkmb4CZ+UBAFK5H4Xp0QkA9CtejcJ1FQOxRuB6Fy0ZAUrgehesxSEDsh9hg4TpJQM3MzMzMjElAat/cXz2KSUBcj8L1KHxJQArXo3A9KklAFK5H4XqUSUAzMzMzM5NHQIXrUbgexUdA\",\"dtype\":\"float64\",\"order\":\"little\",\"shape\":[33]},\"Year\":[1990,1991,1992,1993,1994,1995,1996,1997,1998,1999,2000,2001,2002,2003,2004,2005,2006,2007,2008,2009,2010,2011,2012,2013,2014,2015,2016,2017,2018,2019,2020,2021,2022]},\"selected\":{\"id\":\"5786\"},\"selection_policy\":{\"id\":\"5800\"}},\"id\":\"5785\",\"type\":\"ColumnDataSource\"},{\"attributes\":{\"line_color\":\"#fc4f30\",\"line_width\":2,\"x\":{\"field\":\"Year\"},\"y\":{\"field\":\"Other renewables including bioenergy (TWh)\"}},\"id\":\"5809\",\"type\":\"Line\"},{\"attributes\":{\"line_color\":\"#30a2da\",\"line_width\":2,\"x\":{\"field\":\"Year\"},\"y\":{\"field\":\"Other renewables including bioenergy (TWh)\"}},\"id\":\"5805\",\"type\":\"Line\"},{\"attributes\":{\"line_alpha\":0.2,\"line_color\":\"#30a2da\",\"line_width\":2,\"x\":{\"field\":\"Year\"},\"y\":{\"field\":\"Other renewables including bioenergy (TWh)\"}},\"id\":\"5790\",\"type\":\"Line\"},{\"attributes\":{\"line_color\":\"#30a2da\",\"line_width\":2,\"x\":{\"field\":\"Year\"},\"y\":{\"field\":\"Other renewables including bioenergy (TWh)\"}},\"id\":\"5788\",\"type\":\"Line\"},{\"attributes\":{\"data\":{\"Country\":[\"United Kingdom\",\"United Kingdom\",\"United Kingdom\",\"United Kingdom\",\"United Kingdom\",\"United Kingdom\",\"United Kingdom\",\"United Kingdom\",\"United Kingdom\",\"United Kingdom\",\"United Kingdom\",\"United Kingdom\",\"United Kingdom\",\"United Kingdom\",\"United Kingdom\",\"United Kingdom\",\"United Kingdom\",\"United Kingdom\",\"United Kingdom\",\"United Kingdom\",\"United Kingdom\",\"United Kingdom\",\"United Kingdom\",\"United Kingdom\",\"United Kingdom\",\"United Kingdom\",\"United Kingdom\",\"United Kingdom\",\"United Kingdom\",\"United Kingdom\",\"United Kingdom\",\"United Kingdom\"],\"Other renewables including bioenergy (TWh)\":{\"__ndarray__\":\"MzMzMzMz4z8UrkfhehTmP8P1KFyPwu0/MzMzMzMz8z9SuB6F61H4Pz0K16NwPfo/zczMzMzM/D/hehSuR+EAQDMzMzMzMwVAcT0K16NwC0CF61G4HoUPQB+F61G4HhJAUrgehetRFEBmZmZmZmYYQHE9CtejcB1AMzMzMzMzIkCPwvUoXI8iQClcj8L1qCJApHA9CtcjI0BxPQrXo3AlQIXrUbgehShAH4XrUbieKkD2KFyPwnUtQJqZmZmZGTJAH4XrUbieNkC4HoXrUXg8QI/C9ShcDz5AH4XrUbjeP0C4HoXrUXhBQGZmZmZmpkJAzczMzMwMQ0CPwvUoXI9DQA==\",\"dtype\":\"float64\",\"order\":\"little\",\"shape\":[32]},\"Other_renewables_including_bioenergy_left_parenthesis_TWh_right_parenthesis\":{\"__ndarray__\":\"MzMzMzMz4z8UrkfhehTmP8P1KFyPwu0/MzMzMzMz8z9SuB6F61H4Pz0K16NwPfo/zczMzMzM/D/hehSuR+EAQDMzMzMzMwVAcT0K16NwC0CF61G4HoUPQB+F61G4HhJAUrgehetRFEBmZmZmZmYYQHE9CtejcB1AMzMzMzMzIkCPwvUoXI8iQClcj8L1qCJApHA9CtcjI0BxPQrXo3AlQIXrUbgehShAH4XrUbieKkD2KFyPwnUtQJqZmZmZGTJAH4XrUbieNkC4HoXrUXg8QI/C9ShcDz5AH4XrUbjeP0C4HoXrUXhBQGZmZmZmpkJAzczMzMwMQ0CPwvUoXI9DQA==\",\"dtype\":\"float64\",\"order\":\"little\",\"shape\":[32]},\"Year\":[1990,1991,1992,1993,1994,1995,1996,1997,1998,1999,2000,2001,2002,2003,2004,2005,2006,2007,2008,2009,2010,2011,2012,2013,2014,2015,2016,2017,2018,2019,2020,2021]},\"selected\":{\"id\":\"5853\"},\"selection_policy\":{\"id\":\"5873\"}},\"id\":\"5852\",\"type\":\"ColumnDataSource\"},{\"attributes\":{},\"id\":\"5780\",\"type\":\"BasicTickFormatter\"},{\"attributes\":{\"end\":56.265,\"reset_end\":56.265,\"reset_start\":-4.995,\"start\":-4.995,\"tags\":[[[\"Other renewables including bioenergy (TWh)\",\"Other renewables including bioenergy (TWh)\",null]]]},\"id\":\"5744\",\"type\":\"Range1d\"},{\"attributes\":{},\"id\":\"5807\",\"type\":\"Selection\"},{\"attributes\":{},\"id\":\"5784\",\"type\":\"AllLabels\"},{\"attributes\":{\"line_alpha\":0.2,\"line_color\":\"#6d904f\",\"line_width\":2,\"x\":{\"field\":\"Year\"},\"y\":{\"field\":\"Other renewables including bioenergy (TWh)\"}},\"id\":\"5857\",\"type\":\"Line\"},{\"attributes\":{\"line_alpha\":0.1,\"line_color\":\"#6d904f\",\"line_width\":2,\"x\":{\"field\":\"Year\"},\"y\":{\"field\":\"Other renewables including bioenergy (TWh)\"}},\"id\":\"5856\",\"type\":\"Line\"}],\"root_ids\":[\"5742\"]},\"title\":\"Bokeh Application\",\"version\":\"2.4.3\"}};\n",
       "    var render_items = [{\"docid\":\"d1a5f5d9-9b9c-4552-9ca6-1c13c9673bc4\",\"root_ids\":[\"5742\"],\"roots\":{\"5742\":\"65616d4b-9ce1-4c59-8703-ae927fabc813\"}}];\n",
       "    root.Bokeh.embed.embed_items_notebook(docs_json, render_items);\n",
       "    for (const render_item of render_items) {\n",
       "      for (const root_id of render_item.root_ids) {\n",
       "\tconst id_el = document.getElementById(root_id)\n",
       "\tif (id_el.children.length && (id_el.children[0].className === 'bk-root')) {\n",
       "\t  const root_el = id_el.children[0]\n",
       "\t  root_el.id = root_el.id + '-rendered'\n",
       "\t}\n",
       "      }\n",
       "    }\n",
       "  }\n",
       "  if (root.Bokeh !== undefined && root.Bokeh.Panel !== undefined) {\n",
       "    embed_document(root);\n",
       "  } else {\n",
       "    var attempts = 0;\n",
       "    var timer = setInterval(function(root) {\n",
       "      if (root.Bokeh !== undefined && root.Bokeh.Panel !== undefined) {\n",
       "        clearInterval(timer);\n",
       "        embed_document(root);\n",
       "      } else if (document.readyState == \"complete\") {\n",
       "        attempts++;\n",
       "        if (attempts > 200) {\n",
       "          clearInterval(timer);\n",
       "          console.log(\"Bokeh: ERROR: Unable to run BokehJS code because BokehJS library is missing\");\n",
       "        }\n",
       "      }\n",
       "    }, 25, root)\n",
       "  }\n",
       "})(window);</script>"
      ],
      "text/plain": [
       ":NdOverlay   [Country]\n",
       "   :Curve   [Year]   (Other renewables including bioenergy (TWh))"
      ]
     },
     "metadata": {
      "application/vnd.holoviews_exec.v0+json": {
       "id": "5742"
      }
     },
     "output_type": "display_data"
    },
    {
     "data": {},
     "metadata": {},
     "output_type": "display_data"
    },
    {
     "data": {
      "application/vnd.holoviews_exec.v0+json": "",
      "text/html": [
       "<div id='5979'>\n",
       "  <div class=\"bk-root\" id=\"ec8ba802-1840-4cac-99b1-0ab74fb487d7\" data-root-id=\"5979\"></div>\n",
       "</div>\n",
       "<script type=\"application/javascript\">(function(root) {\n",
       "  function embed_document(root) {\n",
       "    var docs_json = {\"5829d14b-56bb-4cee-9302-8c6cc16410b1\":{\"defs\":[{\"extends\":null,\"module\":null,\"name\":\"ReactiveHTML1\",\"overrides\":[],\"properties\":[]},{\"extends\":null,\"module\":null,\"name\":\"FlexBox1\",\"overrides\":[],\"properties\":[{\"default\":\"flex-start\",\"kind\":null,\"name\":\"align_content\"},{\"default\":\"flex-start\",\"kind\":null,\"name\":\"align_items\"},{\"default\":\"row\",\"kind\":null,\"name\":\"flex_direction\"},{\"default\":\"wrap\",\"kind\":null,\"name\":\"flex_wrap\"},{\"default\":\"flex-start\",\"kind\":null,\"name\":\"justify_content\"}]},{\"extends\":null,\"module\":null,\"name\":\"GridStack1\",\"overrides\":[],\"properties\":[{\"default\":\"warn\",\"kind\":null,\"name\":\"mode\"},{\"default\":null,\"kind\":null,\"name\":\"ncols\"},{\"default\":null,\"kind\":null,\"name\":\"nrows\"},{\"default\":true,\"kind\":null,\"name\":\"allow_resize\"},{\"default\":true,\"kind\":null,\"name\":\"allow_drag\"},{\"default\":[],\"kind\":null,\"name\":\"state\"}]},{\"extends\":null,\"module\":null,\"name\":\"click1\",\"overrides\":[],\"properties\":[{\"default\":\"\",\"kind\":null,\"name\":\"terminal_output\"},{\"default\":\"\",\"kind\":null,\"name\":\"debug_name\"},{\"default\":0,\"kind\":null,\"name\":\"clears\"}]},{\"extends\":null,\"module\":null,\"name\":\"NotificationAreaBase1\",\"overrides\":[],\"properties\":[{\"default\":\"bottom-right\",\"kind\":null,\"name\":\"position\"},{\"default\":0,\"kind\":null,\"name\":\"_clear\"}]},{\"extends\":null,\"module\":null,\"name\":\"NotificationArea1\",\"overrides\":[],\"properties\":[{\"default\":[],\"kind\":null,\"name\":\"notifications\"},{\"default\":\"bottom-right\",\"kind\":null,\"name\":\"position\"},{\"default\":0,\"kind\":null,\"name\":\"_clear\"},{\"default\":[{\"background\":\"#ffc107\",\"icon\":{\"className\":\"fas fa-exclamation-triangle\",\"color\":\"white\",\"tagName\":\"i\"},\"type\":\"warning\"},{\"background\":\"#007bff\",\"icon\":{\"className\":\"fas fa-info-circle\",\"color\":\"white\",\"tagName\":\"i\"},\"type\":\"info\"}],\"kind\":null,\"name\":\"types\"}]},{\"extends\":null,\"module\":null,\"name\":\"Notification\",\"overrides\":[],\"properties\":[{\"default\":null,\"kind\":null,\"name\":\"background\"},{\"default\":3000,\"kind\":null,\"name\":\"duration\"},{\"default\":null,\"kind\":null,\"name\":\"icon\"},{\"default\":\"\",\"kind\":null,\"name\":\"message\"},{\"default\":null,\"kind\":null,\"name\":\"notification_type\"},{\"default\":false,\"kind\":null,\"name\":\"_destroyed\"}]},{\"extends\":null,\"module\":null,\"name\":\"TemplateActions1\",\"overrides\":[],\"properties\":[{\"default\":0,\"kind\":null,\"name\":\"open_modal\"},{\"default\":0,\"kind\":null,\"name\":\"close_modal\"}]},{\"extends\":null,\"module\":null,\"name\":\"MaterialTemplateActions1\",\"overrides\":[],\"properties\":[{\"default\":0,\"kind\":null,\"name\":\"open_modal\"},{\"default\":0,\"kind\":null,\"name\":\"close_modal\"}]}],\"roots\":{\"references\":[{\"attributes\":{\"coordinates\":null,\"data_source\":{\"id\":\"6089\"},\"glyph\":{\"id\":\"6092\"},\"group\":null,\"hover_glyph\":null,\"muted_glyph\":{\"id\":\"6094\"},\"nonselection_glyph\":{\"id\":\"6093\"},\"selection_glyph\":{\"id\":\"6114\"},\"view\":{\"id\":\"6096\"}},\"id\":\"6095\",\"type\":\"GlyphRenderer\"},{\"attributes\":{\"line_color\":\"#30a2da\",\"line_width\":2,\"x\":{\"field\":\"Year\"},\"y\":{\"field\":\"Other (TWh growth - equivalent)\"}},\"id\":\"6025\",\"type\":\"Line\"},{\"attributes\":{\"callback\":null,\"renderers\":[{\"id\":\"6028\"},{\"id\":\"6049\"},{\"id\":\"6071\"},{\"id\":\"6095\"}],\"tags\":[\"hv_created\"],\"tooltips\":[[\"Country\",\"@{Country}\"],[\"Year\",\"@{Year}\"],[\"Other (TWh growth - equivalent)\",\"@{Other_left_parenthesis_TWh_growth_hyphen_minus_equivalent_right_parenthesis}\"]]},\"id\":\"5982\",\"type\":\"HoverTool\"},{\"attributes\":{\"line_alpha\":0.1,\"line_color\":\"#30a2da\",\"line_width\":2,\"x\":{\"field\":\"Year\"},\"y\":{\"field\":\"Other (TWh growth - equivalent)\"}},\"id\":\"6026\",\"type\":\"Line\"},{\"attributes\":{\"line_alpha\":0.2,\"line_color\":\"#e5ae38\",\"line_width\":2,\"x\":{\"field\":\"Year\"},\"y\":{\"field\":\"Other (TWh growth - equivalent)\"}},\"id\":\"6070\",\"type\":\"Line\"},{\"attributes\":{\"data\":{\"Country\":[\"Switzerland\",\"Switzerland\",\"Switzerland\",\"Switzerland\",\"Switzerland\",\"Switzerland\",\"Switzerland\",\"Switzerland\",\"Switzerland\",\"Switzerland\",\"Switzerland\",\"Switzerland\",\"Switzerland\",\"Switzerland\",\"Switzerland\",\"Switzerland\",\"Switzerland\",\"Switzerland\",\"Switzerland\",\"Switzerland\",\"Switzerland\",\"Switzerland\",\"Switzerland\",\"Switzerland\",\"Switzerland\",\"Switzerland\",\"Switzerland\",\"Switzerland\",\"Switzerland\",\"Switzerland\",\"Switzerland\",\"Switzerland\"],\"Other (TWh growth - equivalent)\":{\"__ndarray__\":\"AAAAAAAAAAD8qfHSTWJgv0oMAiuHFqk/+n5qvHSTeD9oke18PzWuP/p+arx0k5g/exSuR+F6pD+6SQwCK4emP1g5tMh2vp8/uB6F61G4rj+wcmiR7XzjvwAAAAAAAAAAAAAAAAAAAAAAAAAAAAAAAHsUrkfheoQ/exSuR+F6hD8AAAAAAAAAAHsUrkfheoS/AAAAAAAAAAB7FK5H4XqUv3sUrkfheoQ/exSuR+F6hD8AAAAAAAAAAAAAAAAAAAAAexSuR+F6hL97FK5H4XqUv7gehetRuJ4/exSuR+F6hD97FK5H4XqEvwAAAAAAAAAAexSuR+F6lD+4HoXrUbiuvw==\",\"dtype\":\"float64\",\"order\":\"little\",\"shape\":[32]},\"Other_left_parenthesis_TWh_growth_hyphen_minus_equivalent_right_parenthesis\":{\"__ndarray__\":\"AAAAAAAAAAD8qfHSTWJgv0oMAiuHFqk/+n5qvHSTeD9oke18PzWuP/p+arx0k5g/exSuR+F6pD+6SQwCK4emP1g5tMh2vp8/uB6F61G4rj+wcmiR7XzjvwAAAAAAAAAAAAAAAAAAAAAAAAAAAAAAAHsUrkfheoQ/exSuR+F6hD8AAAAAAAAAAHsUrkfheoS/AAAAAAAAAAB7FK5H4XqUv3sUrkfheoQ/exSuR+F6hD8AAAAAAAAAAAAAAAAAAAAAexSuR+F6hL97FK5H4XqUv7gehetRuJ4/exSuR+F6hD97FK5H4XqEvwAAAAAAAAAAexSuR+F6lD+4HoXrUbiuvw==\",\"dtype\":\"float64\",\"order\":\"little\",\"shape\":[32]},\"Year\":[1990,1991,1992,1993,1994,1995,1996,1997,1998,1999,2000,2001,2002,2003,2004,2005,2006,2007,2008,2009,2010,2011,2012,2013,2014,2015,2016,2017,2018,2019,2020,2021]},\"selected\":{\"id\":\"6066\"},\"selection_policy\":{\"id\":\"6084\"}},\"id\":\"6065\",\"type\":\"ColumnDataSource\"},{\"attributes\":{\"coordinates\":null,\"data_source\":{\"id\":\"6022\"},\"glyph\":{\"id\":\"6025\"},\"group\":null,\"hover_glyph\":null,\"muted_glyph\":{\"id\":\"6027\"},\"nonselection_glyph\":{\"id\":\"6026\"},\"selection_glyph\":{\"id\":\"6042\"},\"view\":{\"id\":\"6029\"}},\"id\":\"6028\",\"type\":\"GlyphRenderer\"},{\"attributes\":{\"end\":7.353000000000001,\"reset_end\":7.353000000000001,\"reset_start\":-5.043,\"start\":-5.043,\"tags\":[[[\"Other (TWh growth - equivalent)\",\"Other (TWh growth - equivalent)\",null]]]},\"id\":\"5981\",\"type\":\"Range1d\"},{\"attributes\":{\"children\":[{\"id\":\"5986\"}],\"height\":400,\"margin\":[0,0,0,0],\"name\":\"Row05942\",\"sizing_mode\":\"fixed\",\"tags\":[\"embedded\"],\"width\":700},\"id\":\"5979\",\"type\":\"Row\"},{\"attributes\":{\"line_alpha\":0.2,\"line_color\":\"#30a2da\",\"line_width\":2,\"x\":{\"field\":\"Year\"},\"y\":{\"field\":\"Other (TWh growth - equivalent)\"}},\"id\":\"6027\",\"type\":\"Line\"},{\"attributes\":{\"line_color\":\"#e5ae38\",\"line_width\":2,\"x\":{\"field\":\"Year\"},\"y\":{\"field\":\"Other (TWh growth - equivalent)\"}},\"id\":\"6088\",\"type\":\"Line\"},{\"attributes\":{\"line_alpha\":0.1,\"line_color\":\"#e5ae38\",\"line_width\":2,\"x\":{\"field\":\"Year\"},\"y\":{\"field\":\"Other (TWh growth - equivalent)\"}},\"id\":\"6069\",\"type\":\"Line\"},{\"attributes\":{\"source\":{\"id\":\"6089\"}},\"id\":\"6096\",\"type\":\"CDSView\"},{\"attributes\":{\"source\":{\"id\":\"6022\"}},\"id\":\"6029\",\"type\":\"CDSView\"},{\"attributes\":{\"coordinates\":null,\"data_source\":{\"id\":\"6043\"},\"glyph\":{\"id\":\"6046\"},\"group\":null,\"hover_glyph\":null,\"muted_glyph\":{\"id\":\"6048\"},\"nonselection_glyph\":{\"id\":\"6047\"},\"selection_glyph\":{\"id\":\"6064\"},\"view\":{\"id\":\"6050\"}},\"id\":\"6049\",\"type\":\"GlyphRenderer\"},{\"attributes\":{\"label\":{\"value\":\"Germany\"},\"renderers\":[{\"id\":\"6028\"}]},\"id\":\"6041\",\"type\":\"LegendItem\"},{\"attributes\":{},\"id\":\"5991\",\"type\":\"LinearScale\"},{\"attributes\":{\"source\":{\"id\":\"6043\"}},\"id\":\"6050\",\"type\":\"CDSView\"},{\"attributes\":{},\"id\":\"6090\",\"type\":\"Selection\"},{\"attributes\":{\"click_policy\":\"mute\",\"coordinates\":null,\"group\":null,\"items\":[{\"id\":\"6041\"},{\"id\":\"6063\"},{\"id\":\"6087\"},{\"id\":\"6113\"}],\"location\":[0,0],\"title\":\"Country\"},\"id\":\"6040\",\"type\":\"Legend\"},{\"attributes\":{\"line_color\":\"#30a2da\",\"line_width\":2,\"x\":{\"field\":\"Year\"},\"y\":{\"field\":\"Other (TWh growth - equivalent)\"}},\"id\":\"6042\",\"type\":\"Line\"},{\"attributes\":{\"below\":[{\"id\":\"5995\"}],\"center\":[{\"id\":\"5998\"},{\"id\":\"6002\"}],\"height\":400,\"left\":[{\"id\":\"5999\"}],\"margin\":[5,5,5,5],\"min_border_bottom\":10,\"min_border_left\":10,\"min_border_right\":10,\"min_border_top\":10,\"renderers\":[{\"id\":\"6028\"},{\"id\":\"6049\"},{\"id\":\"6071\"},{\"id\":\"6095\"}],\"right\":[{\"id\":\"6040\"}],\"sizing_mode\":\"fixed\",\"title\":{\"id\":\"5987\"},\"toolbar\":{\"id\":\"6009\"},\"width\":700,\"x_range\":{\"id\":\"5980\"},\"x_scale\":{\"id\":\"5991\"},\"y_range\":{\"id\":\"5981\"},\"y_scale\":{\"id\":\"5993\"}},\"id\":\"5986\",\"subtype\":\"Figure\",\"type\":\"Plot\"},{\"attributes\":{\"line_alpha\":0.2,\"line_color\":\"#6d904f\",\"line_width\":2,\"x\":{\"field\":\"Year\"},\"y\":{\"field\":\"Other (TWh growth - equivalent)\"}},\"id\":\"6094\",\"type\":\"Line\"},{\"attributes\":{\"line_alpha\":0.1,\"line_color\":\"#6d904f\",\"line_width\":2,\"x\":{\"field\":\"Year\"},\"y\":{\"field\":\"Other (TWh growth - equivalent)\"}},\"id\":\"6093\",\"type\":\"Line\"},{\"attributes\":{},\"id\":\"6084\",\"type\":\"UnionRenderers\"},{\"attributes\":{\"line_color\":\"#fc4f30\",\"line_width\":2,\"x\":{\"field\":\"Year\"},\"y\":{\"field\":\"Other (TWh growth - equivalent)\"}},\"id\":\"6046\",\"type\":\"Line\"},{\"attributes\":{\"coordinates\":null,\"data_source\":{\"id\":\"6065\"},\"glyph\":{\"id\":\"6068\"},\"group\":null,\"hover_glyph\":null,\"muted_glyph\":{\"id\":\"6070\"},\"nonselection_glyph\":{\"id\":\"6069\"},\"selection_glyph\":{\"id\":\"6088\"},\"view\":{\"id\":\"6072\"}},\"id\":\"6071\",\"type\":\"GlyphRenderer\"},{\"attributes\":{\"line_alpha\":0.2,\"line_color\":\"#fc4f30\",\"line_width\":2,\"x\":{\"field\":\"Year\"},\"y\":{\"field\":\"Other (TWh growth - equivalent)\"}},\"id\":\"6048\",\"type\":\"Line\"},{\"attributes\":{\"line_alpha\":0.1,\"line_color\":\"#fc4f30\",\"line_width\":2,\"x\":{\"field\":\"Year\"},\"y\":{\"field\":\"Other (TWh growth - equivalent)\"}},\"id\":\"6047\",\"type\":\"Line\"},{\"attributes\":{\"line_color\":\"#6d904f\",\"line_width\":2,\"x\":{\"field\":\"Year\"},\"y\":{\"field\":\"Other (TWh growth - equivalent)\"}},\"id\":\"6092\",\"type\":\"Line\"},{\"attributes\":{\"label\":{\"value\":\"United Kingdom\"},\"renderers\":[{\"id\":\"6095\"}]},\"id\":\"6113\",\"type\":\"LegendItem\"},{\"attributes\":{\"coordinates\":null,\"group\":null,\"text\":\"Annual Change Other Energy Generation\",\"text_color\":\"black\",\"text_font_size\":\"12pt\"},\"id\":\"5987\",\"type\":\"Title\"},{\"attributes\":{},\"id\":\"6004\",\"type\":\"PanTool\"},{\"attributes\":{},\"id\":\"6110\",\"type\":\"UnionRenderers\"},{\"attributes\":{\"axis\":{\"id\":\"5995\"},\"coordinates\":null,\"grid_line_color\":null,\"group\":null,\"ticker\":null},\"id\":\"5998\",\"type\":\"Grid\"},{\"attributes\":{},\"id\":\"6044\",\"type\":\"Selection\"},{\"attributes\":{\"axis_label\":\"Year\",\"coordinates\":null,\"formatter\":{\"id\":\"6017\"},\"group\":null,\"major_label_policy\":{\"id\":\"6018\"},\"ticker\":{\"id\":\"5996\"}},\"id\":\"5995\",\"type\":\"LinearAxis\"},{\"attributes\":{\"line_color\":\"#fc4f30\",\"line_width\":2,\"x\":{\"field\":\"Year\"},\"y\":{\"field\":\"Other (TWh growth - equivalent)\"}},\"id\":\"6064\",\"type\":\"Line\"},{\"attributes\":{\"label\":{\"value\":\"Spain\"},\"renderers\":[{\"id\":\"6049\"}]},\"id\":\"6063\",\"type\":\"LegendItem\"},{\"attributes\":{},\"id\":\"5993\",\"type\":\"LinearScale\"},{\"attributes\":{},\"id\":\"5996\",\"type\":\"BasicTicker\"},{\"attributes\":{},\"id\":\"6018\",\"type\":\"AllLabels\"},{\"attributes\":{\"axis_label\":\"Other (TWh growth - equivalent)\",\"coordinates\":null,\"formatter\":{\"id\":\"6020\"},\"group\":null,\"major_label_policy\":{\"id\":\"6021\"},\"ticker\":{\"id\":\"6000\"}},\"id\":\"5999\",\"type\":\"LinearAxis\"},{\"attributes\":{},\"id\":\"6060\",\"type\":\"UnionRenderers\"},{\"attributes\":{\"axis\":{\"id\":\"5999\"},\"coordinates\":null,\"dimension\":1,\"grid_line_color\":null,\"group\":null,\"ticker\":null},\"id\":\"6002\",\"type\":\"Grid\"},{\"attributes\":{},\"id\":\"6000\",\"type\":\"BasicTicker\"},{\"attributes\":{},\"id\":\"6005\",\"type\":\"WheelZoomTool\"},{\"attributes\":{},\"id\":\"6003\",\"type\":\"SaveTool\"},{\"attributes\":{\"overlay\":{\"id\":\"6008\"}},\"id\":\"6006\",\"type\":\"BoxZoomTool\"},{\"attributes\":{},\"id\":\"6007\",\"type\":\"ResetTool\"},{\"attributes\":{},\"id\":\"6037\",\"type\":\"UnionRenderers\"},{\"attributes\":{\"bottom_units\":\"screen\",\"coordinates\":null,\"fill_alpha\":0.5,\"fill_color\":\"lightgrey\",\"group\":null,\"left_units\":\"screen\",\"level\":\"overlay\",\"line_alpha\":1.0,\"line_color\":\"black\",\"line_dash\":[4,4],\"line_width\":2,\"right_units\":\"screen\",\"syncable\":false,\"top_units\":\"screen\"},\"id\":\"6008\",\"type\":\"BoxAnnotation\"},{\"attributes\":{},\"id\":\"6020\",\"type\":\"BasicTickFormatter\"},{\"attributes\":{\"line_color\":\"#6d904f\",\"line_width\":2,\"x\":{\"field\":\"Year\"},\"y\":{\"field\":\"Other (TWh growth - equivalent)\"}},\"id\":\"6114\",\"type\":\"Line\"},{\"attributes\":{},\"id\":\"6017\",\"type\":\"BasicTickFormatter\"},{\"attributes\":{\"active_drag\":{\"id\":\"6004\"},\"active_scroll\":{\"id\":\"6005\"},\"tools\":[{\"id\":\"5982\"},{\"id\":\"6003\"},{\"id\":\"6004\"},{\"id\":\"6005\"},{\"id\":\"6006\"},{\"id\":\"6007\"}]},\"id\":\"6009\",\"type\":\"Toolbar\"},{\"attributes\":{\"label\":{\"value\":\"Switzerland\"},\"renderers\":[{\"id\":\"6071\"}]},\"id\":\"6087\",\"type\":\"LegendItem\"},{\"attributes\":{},\"id\":\"6066\",\"type\":\"Selection\"},{\"attributes\":{},\"id\":\"6023\",\"type\":\"Selection\"},{\"attributes\":{\"data\":{\"Country\":[\"Spain\",\"Spain\",\"Spain\",\"Spain\",\"Spain\",\"Spain\",\"Spain\",\"Spain\",\"Spain\",\"Spain\",\"Spain\",\"Spain\",\"Spain\",\"Spain\",\"Spain\",\"Spain\",\"Spain\",\"Spain\",\"Spain\",\"Spain\",\"Spain\",\"Spain\",\"Spain\",\"Spain\",\"Spain\",\"Spain\",\"Spain\",\"Spain\",\"Spain\",\"Spain\",\"Spain\",\"Spain\",\"Spain\"],\"Other (TWh growth - equivalent)\":{\"__ndarray__\":\"AAAAAAAAAAAAAAAAAAAAALgehetRuJ4/exSuR+F6hD+4HoXrUbiuP65H4XoUrtc/7FG4HoXrsT9SuB6F61HYP+xRuB6F67E/CtejcD0Ktz+kcD0K16PAv+xRuB6F68E/uB6F61G47j/hehSuR+HiPzMzMzMzM8M/w/UoXI/C5b+4HoXrUbi+P6RwPQrXo8A/CtejcD0K1z9xPQrXo3DNP6RwPQrXo+A/MzMzMzMz4z+uR+F6FK7XPz0K16NwPeo/9ihcj8L12L9mZmZmZmbWP+xRuB6F67G/9ihcj8L12D/D9Shcj8LFv3sUrkfhetS/j8L1KFyP4j9I4XoUrkfpP+xRuB6F68G/\",\"dtype\":\"float64\",\"order\":\"little\",\"shape\":[33]},\"Other_left_parenthesis_TWh_growth_hyphen_minus_equivalent_right_parenthesis\":{\"__ndarray__\":\"AAAAAAAAAAAAAAAAAAAAALgehetRuJ4/exSuR+F6hD+4HoXrUbiuP65H4XoUrtc/7FG4HoXrsT9SuB6F61HYP+xRuB6F67E/CtejcD0Ktz+kcD0K16PAv+xRuB6F68E/uB6F61G47j/hehSuR+HiPzMzMzMzM8M/w/UoXI/C5b+4HoXrUbi+P6RwPQrXo8A/CtejcD0K1z9xPQrXo3DNP6RwPQrXo+A/MzMzMzMz4z+uR+F6FK7XPz0K16NwPeo/9ihcj8L12L9mZmZmZmbWP+xRuB6F67G/9ihcj8L12D/D9Shcj8LFv3sUrkfhetS/j8L1KFyP4j9I4XoUrkfpP+xRuB6F68G/\",\"dtype\":\"float64\",\"order\":\"little\",\"shape\":[33]},\"Year\":[1990,1991,1992,1993,1994,1995,1996,1997,1998,1999,2000,2001,2002,2003,2004,2005,2006,2007,2008,2009,2010,2011,2012,2013,2014,2015,2016,2017,2018,2019,2020,2021,2022]},\"selected\":{\"id\":\"6044\"},\"selection_policy\":{\"id\":\"6060\"}},\"id\":\"6043\",\"type\":\"ColumnDataSource\"},{\"attributes\":{\"line_color\":\"#e5ae38\",\"line_width\":2,\"x\":{\"field\":\"Year\"},\"y\":{\"field\":\"Other (TWh growth - equivalent)\"}},\"id\":\"6068\",\"type\":\"Line\"},{\"attributes\":{\"data\":{\"Country\":[\"United Kingdom\",\"United Kingdom\",\"United Kingdom\",\"United Kingdom\",\"United Kingdom\",\"United Kingdom\",\"United Kingdom\",\"United Kingdom\",\"United Kingdom\",\"United Kingdom\",\"United Kingdom\",\"United Kingdom\",\"United Kingdom\",\"United Kingdom\",\"United Kingdom\",\"United Kingdom\",\"United Kingdom\",\"United Kingdom\",\"United Kingdom\",\"United Kingdom\",\"United Kingdom\",\"United Kingdom\",\"United Kingdom\",\"United Kingdom\",\"United Kingdom\",\"United Kingdom\",\"United Kingdom\",\"United Kingdom\",\"United Kingdom\",\"United Kingdom\",\"United Kingdom\",\"United Kingdom\"],\"Other (TWh growth - equivalent)\":{\"__ndarray__\":\"AAAAAAAAAAAK16NwPQq3P7gehetRuM4/SOF6FK5H0T97FK5H4XrUP7gehetRuL4/exSuR+F6xD/Xo3A9CtfTP0jhehSuR+E/9ihcj8L16D9SuB6F61HgP+F6FK5H4eI/mpmZmZmZ4T9SuB6F61HwPylcj8L1KPQ/16NwPQrX+z8K16NwPQrHP5qZmZmZmak/uB6F61G4zj9mZmZmZmbyP6RwPQrXo/g/zczMzMzM8D+4HoXrUbj2P/YoXI/C9QpAFK5H4XoUEkBmZmZmZmYXQHE9CtejcPk/9ihcj8L1/D+PwvUoXI8IQOF6FK5H4QJAmpmZmZmZ6T9SuB6F61HwPw==\",\"dtype\":\"float64\",\"order\":\"little\",\"shape\":[32]},\"Other_left_parenthesis_TWh_growth_hyphen_minus_equivalent_right_parenthesis\":{\"__ndarray__\":\"AAAAAAAAAAAK16NwPQq3P7gehetRuM4/SOF6FK5H0T97FK5H4XrUP7gehetRuL4/exSuR+F6xD/Xo3A9CtfTP0jhehSuR+E/9ihcj8L16D9SuB6F61HgP+F6FK5H4eI/mpmZmZmZ4T9SuB6F61HwPylcj8L1KPQ/16NwPQrX+z8K16NwPQrHP5qZmZmZmak/uB6F61G4zj9mZmZmZmbyP6RwPQrXo/g/zczMzMzM8D+4HoXrUbj2P/YoXI/C9QpAFK5H4XoUEkBmZmZmZmYXQHE9CtejcPk/9ihcj8L1/D+PwvUoXI8IQOF6FK5H4QJAmpmZmZmZ6T9SuB6F61HwPw==\",\"dtype\":\"float64\",\"order\":\"little\",\"shape\":[32]},\"Year\":[1990,1991,1992,1993,1994,1995,1996,1997,1998,1999,2000,2001,2002,2003,2004,2005,2006,2007,2008,2009,2010,2011,2012,2013,2014,2015,2016,2017,2018,2019,2020,2021]},\"selected\":{\"id\":\"6090\"},\"selection_policy\":{\"id\":\"6110\"}},\"id\":\"6089\",\"type\":\"ColumnDataSource\"},{\"attributes\":{\"end\":2022.0,\"reset_end\":2022.0,\"reset_start\":1990.0,\"start\":1990.0,\"tags\":[[[\"Year\",\"Year\",null]]]},\"id\":\"5980\",\"type\":\"Range1d\"},{\"attributes\":{},\"id\":\"6021\",\"type\":\"AllLabels\"},{\"attributes\":{\"data\":{\"Country\":[\"Germany\",\"Germany\",\"Germany\",\"Germany\",\"Germany\",\"Germany\",\"Germany\",\"Germany\",\"Germany\",\"Germany\",\"Germany\",\"Germany\",\"Germany\",\"Germany\",\"Germany\",\"Germany\",\"Germany\",\"Germany\",\"Germany\",\"Germany\",\"Germany\",\"Germany\",\"Germany\",\"Germany\",\"Germany\",\"Germany\",\"Germany\",\"Germany\",\"Germany\",\"Germany\",\"Germany\",\"Germany\",\"Germany\"],\"Other (TWh growth - equivalent)\":{\"__ndarray__\":\"AAAAAAAAAABI4XoUrkfRP8P1KFyPwsU/7FG4HoXrsb+amZmZmZm5PwrXo3A9Ctc/7FG4HoXrsT8zMzMzMzPDPz0K16NwPdo/zczMzMzM3D89CtejcD3qP6RwPQrXo9A/CtejcD0K5z8fhetRuB4NQArXo3A9Cvs/SOF6FK5HEEDsUbgehesQQLgehetRuBZAXI/C9ShcC0D2KFyPwvUGQFK4HoXrUQhArkfhehSuB0BI4XoUrkcZQOF6FK5H4QJAZmZmZmZmBkCPwvUoXI8AQHsUrkfheuQ/exSuR+F6lL8pXI/C9Si8v3sUrkfheuS/j8L1KFyP6j8K16NwPQoQwPYoXI/C9dg/\",\"dtype\":\"float64\",\"order\":\"little\",\"shape\":[33]},\"Other_left_parenthesis_TWh_growth_hyphen_minus_equivalent_right_parenthesis\":{\"__ndarray__\":\"AAAAAAAAAABI4XoUrkfRP8P1KFyPwsU/7FG4HoXrsb+amZmZmZm5PwrXo3A9Ctc/7FG4HoXrsT8zMzMzMzPDPz0K16NwPdo/zczMzMzM3D89CtejcD3qP6RwPQrXo9A/CtejcD0K5z8fhetRuB4NQArXo3A9Cvs/SOF6FK5HEEDsUbgehesQQLgehetRuBZAXI/C9ShcC0D2KFyPwvUGQFK4HoXrUQhArkfhehSuB0BI4XoUrkcZQOF6FK5H4QJAZmZmZmZmBkCPwvUoXI8AQHsUrkfheuQ/exSuR+F6lL8pXI/C9Si8v3sUrkfheuS/j8L1KFyP6j8K16NwPQoQwPYoXI/C9dg/\",\"dtype\":\"float64\",\"order\":\"little\",\"shape\":[33]},\"Year\":[1990,1991,1992,1993,1994,1995,1996,1997,1998,1999,2000,2001,2002,2003,2004,2005,2006,2007,2008,2009,2010,2011,2012,2013,2014,2015,2016,2017,2018,2019,2020,2021,2022]},\"selected\":{\"id\":\"6023\"},\"selection_policy\":{\"id\":\"6037\"}},\"id\":\"6022\",\"type\":\"ColumnDataSource\"},{\"attributes\":{\"source\":{\"id\":\"6065\"}},\"id\":\"6072\",\"type\":\"CDSView\"}],\"root_ids\":[\"5979\"]},\"title\":\"Bokeh Application\",\"version\":\"2.4.3\"}};\n",
       "    var render_items = [{\"docid\":\"5829d14b-56bb-4cee-9302-8c6cc16410b1\",\"root_ids\":[\"5979\"],\"roots\":{\"5979\":\"ec8ba802-1840-4cac-99b1-0ab74fb487d7\"}}];\n",
       "    root.Bokeh.embed.embed_items_notebook(docs_json, render_items);\n",
       "    for (const render_item of render_items) {\n",
       "      for (const root_id of render_item.root_ids) {\n",
       "\tconst id_el = document.getElementById(root_id)\n",
       "\tif (id_el.children.length && (id_el.children[0].className === 'bk-root')) {\n",
       "\t  const root_el = id_el.children[0]\n",
       "\t  root_el.id = root_el.id + '-rendered'\n",
       "\t}\n",
       "      }\n",
       "    }\n",
       "  }\n",
       "  if (root.Bokeh !== undefined && root.Bokeh.Panel !== undefined) {\n",
       "    embed_document(root);\n",
       "  } else {\n",
       "    var attempts = 0;\n",
       "    var timer = setInterval(function(root) {\n",
       "      if (root.Bokeh !== undefined && root.Bokeh.Panel !== undefined) {\n",
       "        clearInterval(timer);\n",
       "        embed_document(root);\n",
       "      } else if (document.readyState == \"complete\") {\n",
       "        attempts++;\n",
       "        if (attempts > 200) {\n",
       "          clearInterval(timer);\n",
       "          console.log(\"Bokeh: ERROR: Unable to run BokehJS code because BokehJS library is missing\");\n",
       "        }\n",
       "      }\n",
       "    }, 25, root)\n",
       "  }\n",
       "})(window);</script>"
      ],
      "text/plain": [
       ":NdOverlay   [Country]\n",
       "   :Curve   [Year]   (Other (TWh growth - equivalent))"
      ]
     },
     "metadata": {
      "application/vnd.holoviews_exec.v0+json": {
       "id": "5979"
      }
     },
     "output_type": "display_data"
    },
    {
     "data": {},
     "metadata": {},
     "output_type": "display_data"
    },
    {
     "data": {
      "application/vnd.holoviews_exec.v0+json": "",
      "text/html": [
       "<div id='6216'>\n",
       "  <div class=\"bk-root\" id=\"e773450a-e4d5-431e-80af-69ae9c84938b\" data-root-id=\"6216\"></div>\n",
       "</div>\n",
       "<script type=\"application/javascript\">(function(root) {\n",
       "  function embed_document(root) {\n",
       "    var docs_json = {\"02d69ba6-70fb-4609-8bd3-467d855ab772\":{\"defs\":[{\"extends\":null,\"module\":null,\"name\":\"ReactiveHTML1\",\"overrides\":[],\"properties\":[]},{\"extends\":null,\"module\":null,\"name\":\"FlexBox1\",\"overrides\":[],\"properties\":[{\"default\":\"flex-start\",\"kind\":null,\"name\":\"align_content\"},{\"default\":\"flex-start\",\"kind\":null,\"name\":\"align_items\"},{\"default\":\"row\",\"kind\":null,\"name\":\"flex_direction\"},{\"default\":\"wrap\",\"kind\":null,\"name\":\"flex_wrap\"},{\"default\":\"flex-start\",\"kind\":null,\"name\":\"justify_content\"}]},{\"extends\":null,\"module\":null,\"name\":\"GridStack1\",\"overrides\":[],\"properties\":[{\"default\":\"warn\",\"kind\":null,\"name\":\"mode\"},{\"default\":null,\"kind\":null,\"name\":\"ncols\"},{\"default\":null,\"kind\":null,\"name\":\"nrows\"},{\"default\":true,\"kind\":null,\"name\":\"allow_resize\"},{\"default\":true,\"kind\":null,\"name\":\"allow_drag\"},{\"default\":[],\"kind\":null,\"name\":\"state\"}]},{\"extends\":null,\"module\":null,\"name\":\"click1\",\"overrides\":[],\"properties\":[{\"default\":\"\",\"kind\":null,\"name\":\"terminal_output\"},{\"default\":\"\",\"kind\":null,\"name\":\"debug_name\"},{\"default\":0,\"kind\":null,\"name\":\"clears\"}]},{\"extends\":null,\"module\":null,\"name\":\"NotificationAreaBase1\",\"overrides\":[],\"properties\":[{\"default\":\"bottom-right\",\"kind\":null,\"name\":\"position\"},{\"default\":0,\"kind\":null,\"name\":\"_clear\"}]},{\"extends\":null,\"module\":null,\"name\":\"NotificationArea1\",\"overrides\":[],\"properties\":[{\"default\":[],\"kind\":null,\"name\":\"notifications\"},{\"default\":\"bottom-right\",\"kind\":null,\"name\":\"position\"},{\"default\":0,\"kind\":null,\"name\":\"_clear\"},{\"default\":[{\"background\":\"#ffc107\",\"icon\":{\"className\":\"fas fa-exclamation-triangle\",\"color\":\"white\",\"tagName\":\"i\"},\"type\":\"warning\"},{\"background\":\"#007bff\",\"icon\":{\"className\":\"fas fa-info-circle\",\"color\":\"white\",\"tagName\":\"i\"},\"type\":\"info\"}],\"kind\":null,\"name\":\"types\"}]},{\"extends\":null,\"module\":null,\"name\":\"Notification\",\"overrides\":[],\"properties\":[{\"default\":null,\"kind\":null,\"name\":\"background\"},{\"default\":3000,\"kind\":null,\"name\":\"duration\"},{\"default\":null,\"kind\":null,\"name\":\"icon\"},{\"default\":\"\",\"kind\":null,\"name\":\"message\"},{\"default\":null,\"kind\":null,\"name\":\"notification_type\"},{\"default\":false,\"kind\":null,\"name\":\"_destroyed\"}]},{\"extends\":null,\"module\":null,\"name\":\"TemplateActions1\",\"overrides\":[],\"properties\":[{\"default\":0,\"kind\":null,\"name\":\"open_modal\"},{\"default\":0,\"kind\":null,\"name\":\"close_modal\"}]},{\"extends\":null,\"module\":null,\"name\":\"MaterialTemplateActions1\",\"overrides\":[],\"properties\":[{\"default\":0,\"kind\":null,\"name\":\"open_modal\"},{\"default\":0,\"kind\":null,\"name\":\"close_modal\"}]}],\"roots\":{\"references\":[{\"attributes\":{\"below\":[{\"id\":\"6232\"}],\"center\":[{\"id\":\"6235\"},{\"id\":\"6239\"}],\"height\":400,\"left\":[{\"id\":\"6236\"}],\"margin\":[5,5,5,5],\"min_border_bottom\":10,\"min_border_left\":10,\"min_border_right\":10,\"min_border_top\":10,\"renderers\":[{\"id\":\"6265\"},{\"id\":\"6286\"},{\"id\":\"6308\"},{\"id\":\"6332\"}],\"right\":[{\"id\":\"6277\"}],\"sizing_mode\":\"fixed\",\"title\":{\"id\":\"6224\"},\"toolbar\":{\"id\":\"6246\"},\"width\":700,\"x_range\":{\"id\":\"6217\"},\"x_scale\":{\"id\":\"6228\"},\"y_range\":{\"id\":\"6218\"},\"y_scale\":{\"id\":\"6230\"}},\"id\":\"6223\",\"subtype\":\"Figure\",\"type\":\"Plot\"},{\"attributes\":{\"coordinates\":null,\"data_source\":{\"id\":\"6326\"},\"glyph\":{\"id\":\"6329\"},\"group\":null,\"hover_glyph\":null,\"muted_glyph\":{\"id\":\"6331\"},\"nonselection_glyph\":{\"id\":\"6330\"},\"selection_glyph\":{\"id\":\"6351\"},\"view\":{\"id\":\"6333\"}},\"id\":\"6332\",\"type\":\"GlyphRenderer\"},{\"attributes\":{\"source\":{\"id\":\"6280\"}},\"id\":\"6287\",\"type\":\"CDSView\"},{\"attributes\":{\"label\":{\"value\":\"Spain\"},\"renderers\":[{\"id\":\"6286\"}]},\"id\":\"6300\",\"type\":\"LegendItem\"},{\"attributes\":{\"coordinates\":null,\"group\":null,\"text\":\"Annual Growth in % Other Energy Generation\",\"text_color\":\"black\",\"text_font_size\":\"12pt\"},\"id\":\"6224\",\"type\":\"Title\"},{\"attributes\":{\"coordinates\":null,\"data_source\":{\"id\":\"6280\"},\"glyph\":{\"id\":\"6283\"},\"group\":null,\"hover_glyph\":null,\"muted_glyph\":{\"id\":\"6285\"},\"nonselection_glyph\":{\"id\":\"6284\"},\"selection_glyph\":{\"id\":\"6301\"},\"view\":{\"id\":\"6287\"}},\"id\":\"6286\",\"type\":\"GlyphRenderer\"},{\"attributes\":{},\"id\":\"6241\",\"type\":\"PanTool\"},{\"attributes\":{\"axis\":{\"id\":\"6232\"},\"coordinates\":null,\"grid_line_color\":null,\"group\":null,\"ticker\":null},\"id\":\"6235\",\"type\":\"Grid\"},{\"attributes\":{\"source\":{\"id\":\"6302\"}},\"id\":\"6309\",\"type\":\"CDSView\"},{\"attributes\":{\"line_color\":\"#e5ae38\",\"line_width\":2,\"x\":{\"field\":\"Year\"},\"y\":{\"field\":\"Other (% growth)\"}},\"id\":\"6325\",\"type\":\"Line\"},{\"attributes\":{\"axis_label\":\"Year\",\"coordinates\":null,\"formatter\":{\"id\":\"6254\"},\"group\":null,\"major_label_policy\":{\"id\":\"6255\"},\"ticker\":{\"id\":\"6233\"}},\"id\":\"6232\",\"type\":\"LinearAxis\"},{\"attributes\":{\"source\":{\"id\":\"6326\"}},\"id\":\"6333\",\"type\":\"CDSView\"},{\"attributes\":{\"click_policy\":\"mute\",\"coordinates\":null,\"group\":null,\"items\":[{\"id\":\"6278\"},{\"id\":\"6300\"},{\"id\":\"6324\"},{\"id\":\"6350\"}],\"location\":[0,0],\"title\":\"Country\"},\"id\":\"6277\",\"type\":\"Legend\"},{\"attributes\":{},\"id\":\"6230\",\"type\":\"LinearScale\"},{\"attributes\":{},\"id\":\"6258\",\"type\":\"AllLabels\"},{\"attributes\":{},\"id\":\"6233\",\"type\":\"BasicTicker\"},{\"attributes\":{},\"id\":\"6297\",\"type\":\"UnionRenderers\"},{\"attributes\":{},\"id\":\"6327\",\"type\":\"Selection\"},{\"attributes\":{},\"id\":\"6255\",\"type\":\"AllLabels\"},{\"attributes\":{\"axis_label\":\"Other (% growth)\",\"coordinates\":null,\"formatter\":{\"id\":\"6257\"},\"group\":null,\"major_label_policy\":{\"id\":\"6258\"},\"ticker\":{\"id\":\"6237\"}},\"id\":\"6236\",\"type\":\"LinearAxis\"},{\"attributes\":{\"axis\":{\"id\":\"6236\"},\"coordinates\":null,\"dimension\":1,\"grid_line_color\":null,\"group\":null,\"ticker\":null},\"id\":\"6239\",\"type\":\"Grid\"},{\"attributes\":{\"line_alpha\":0.2,\"line_color\":\"#6d904f\",\"line_width\":2,\"x\":{\"field\":\"Year\"},\"y\":{\"field\":\"Other (% growth)\"}},\"id\":\"6331\",\"type\":\"Line\"},{\"attributes\":{},\"id\":\"6237\",\"type\":\"BasicTicker\"},{\"attributes\":{\"line_alpha\":0.1,\"line_color\":\"#6d904f\",\"line_width\":2,\"x\":{\"field\":\"Year\"},\"y\":{\"field\":\"Other (% growth)\"}},\"id\":\"6330\",\"type\":\"Line\"},{\"attributes\":{},\"id\":\"6242\",\"type\":\"WheelZoomTool\"},{\"attributes\":{},\"id\":\"6240\",\"type\":\"SaveTool\"},{\"attributes\":{},\"id\":\"6257\",\"type\":\"BasicTickFormatter\"},{\"attributes\":{\"overlay\":{\"id\":\"6245\"}},\"id\":\"6243\",\"type\":\"BoxZoomTool\"},{\"attributes\":{\"line_color\":\"#6d904f\",\"line_width\":2,\"x\":{\"field\":\"Year\"},\"y\":{\"field\":\"Other (% growth)\"}},\"id\":\"6329\",\"type\":\"Line\"},{\"attributes\":{},\"id\":\"6244\",\"type\":\"ResetTool\"},{\"attributes\":{\"label\":{\"value\":\"United Kingdom\"},\"renderers\":[{\"id\":\"6332\"}]},\"id\":\"6350\",\"type\":\"LegendItem\"},{\"attributes\":{\"bottom_units\":\"screen\",\"coordinates\":null,\"fill_alpha\":0.5,\"fill_color\":\"lightgrey\",\"group\":null,\"left_units\":\"screen\",\"level\":\"overlay\",\"line_alpha\":1.0,\"line_color\":\"black\",\"line_dash\":[4,4],\"line_width\":2,\"right_units\":\"screen\",\"syncable\":false,\"top_units\":\"screen\"},\"id\":\"6245\",\"type\":\"BoxAnnotation\"},{\"attributes\":{\"children\":[{\"id\":\"6223\"}],\"height\":400,\"margin\":[0,0,0,0],\"name\":\"Row06178\",\"sizing_mode\":\"fixed\",\"tags\":[\"embedded\"],\"width\":700},\"id\":\"6216\",\"type\":\"Row\"},{\"attributes\":{},\"id\":\"6274\",\"type\":\"UnionRenderers\"},{\"attributes\":{\"line_color\":\"#30a2da\",\"line_width\":2,\"x\":{\"field\":\"Year\"},\"y\":{\"field\":\"Other (% growth)\"}},\"id\":\"6262\",\"type\":\"Line\"},{\"attributes\":{\"coordinates\":null,\"data_source\":{\"id\":\"6302\"},\"glyph\":{\"id\":\"6305\"},\"group\":null,\"hover_glyph\":null,\"muted_glyph\":{\"id\":\"6307\"},\"nonselection_glyph\":{\"id\":\"6306\"},\"selection_glyph\":{\"id\":\"6325\"},\"view\":{\"id\":\"6309\"}},\"id\":\"6308\",\"type\":\"GlyphRenderer\"},{\"attributes\":{\"line_alpha\":0.2,\"line_color\":\"#30a2da\",\"line_width\":2,\"x\":{\"field\":\"Year\"},\"y\":{\"field\":\"Other (% growth)\"}},\"id\":\"6264\",\"type\":\"Line\"},{\"attributes\":{\"end\":83.48,\"reset_end\":83.48,\"reset_start\":-96.28,\"start\":-96.28,\"tags\":[[[\"Other (% growth)\",\"Other (% growth)\",null]]]},\"id\":\"6218\",\"type\":\"Range1d\"},{\"attributes\":{\"data\":{\"Country\":[\"Switzerland\",\"Switzerland\",\"Switzerland\",\"Switzerland\",\"Switzerland\",\"Switzerland\",\"Switzerland\",\"Switzerland\",\"Switzerland\",\"Switzerland\",\"Switzerland\",\"Switzerland\",\"Switzerland\",\"Switzerland\",\"Switzerland\",\"Switzerland\",\"Switzerland\",\"Switzerland\",\"Switzerland\",\"Switzerland\",\"Switzerland\",\"Switzerland\",\"Switzerland\",\"Switzerland\",\"Switzerland\",\"Switzerland\",\"Switzerland\",\"Switzerland\",\"Switzerland\",\"Switzerland\",\"Switzerland\",\"Switzerland\"],\"Other (% growth)\":{\"__ndarray__\":\"AAAAAAAAAAAAAAAAAADgv2dmZmZmZiZAMzMzMzMz8z8AAAAAAAAoQJmZmZmZmRFAAQAAAAAAHEDMzMzMzMwcQM3MzMzMzBJAZmZmZmZmIUAzMzMzM1NUwAAAAAAAAAAAAAAAAAAAAAAAAAAAAAAAAGZmZmZmZhxAzczMzMzMGkAAAAAAAAAAAM3MzMzMzBjAAAAAAAAAAACamZmZmZkqwM3MzMzMzB5AZmZmZmZmHEAAAAAAAAAAAAAAAAAAAAAAzczMzMzMGsCZmZmZmZkswAAAAAAAADlAzczMzMzMGkDNzMzMzMwYwAAAAAAAAAAAmpmZmZmZKkBmZmZmZqZBwA==\",\"dtype\":\"float64\",\"order\":\"little\",\"shape\":[32]},\"Other_left_parenthesis_percent_growth_right_parenthesis\":{\"__ndarray__\":\"AAAAAAAAAAAAAAAAAADgv2dmZmZmZiZAMzMzMzMz8z8AAAAAAAAoQJmZmZmZmRFAAQAAAAAAHEDMzMzMzMwcQM3MzMzMzBJAZmZmZmZmIUAzMzMzM1NUwAAAAAAAAAAAAAAAAAAAAAAAAAAAAAAAAGZmZmZmZhxAzczMzMzMGkAAAAAAAAAAAM3MzMzMzBjAAAAAAAAAAACamZmZmZkqwM3MzMzMzB5AZmZmZmZmHEAAAAAAAAAAAAAAAAAAAAAAzczMzMzMGsCZmZmZmZkswAAAAAAAADlAzczMzMzMGkDNzMzMzMwYwAAAAAAAAAAAmpmZmZmZKkBmZmZmZqZBwA==\",\"dtype\":\"float64\",\"order\":\"little\",\"shape\":[32]},\"Year\":[1990,1991,1992,1993,1994,1995,1996,1997,1998,1999,2000,2001,2002,2003,2004,2005,2006,2007,2008,2009,2010,2011,2012,2013,2014,2015,2016,2017,2018,2019,2020,2021]},\"selected\":{\"id\":\"6303\"},\"selection_policy\":{\"id\":\"6321\"}},\"id\":\"6302\",\"type\":\"ColumnDataSource\"},{\"attributes\":{\"line_color\":\"#fc4f30\",\"line_width\":2,\"x\":{\"field\":\"Year\"},\"y\":{\"field\":\"Other (% growth)\"}},\"id\":\"6301\",\"type\":\"Line\"},{\"attributes\":{\"line_alpha\":0.1,\"line_color\":\"#30a2da\",\"line_width\":2,\"x\":{\"field\":\"Year\"},\"y\":{\"field\":\"Other (% growth)\"}},\"id\":\"6263\",\"type\":\"Line\"},{\"attributes\":{},\"id\":\"6303\",\"type\":\"Selection\"},{\"attributes\":{\"source\":{\"id\":\"6259\"}},\"id\":\"6266\",\"type\":\"CDSView\"},{\"attributes\":{},\"id\":\"6228\",\"type\":\"LinearScale\"},{\"attributes\":{\"line_color\":\"#6d904f\",\"line_width\":2,\"x\":{\"field\":\"Year\"},\"y\":{\"field\":\"Other (% growth)\"}},\"id\":\"6351\",\"type\":\"Line\"},{\"attributes\":{\"line_alpha\":0.2,\"line_color\":\"#e5ae38\",\"line_width\":2,\"x\":{\"field\":\"Year\"},\"y\":{\"field\":\"Other (% growth)\"}},\"id\":\"6307\",\"type\":\"Line\"},{\"attributes\":{\"line_alpha\":0.1,\"line_color\":\"#e5ae38\",\"line_width\":2,\"x\":{\"field\":\"Year\"},\"y\":{\"field\":\"Other (% growth)\"}},\"id\":\"6306\",\"type\":\"Line\"},{\"attributes\":{\"coordinates\":null,\"data_source\":{\"id\":\"6259\"},\"glyph\":{\"id\":\"6262\"},\"group\":null,\"hover_glyph\":null,\"muted_glyph\":{\"id\":\"6264\"},\"nonselection_glyph\":{\"id\":\"6263\"},\"selection_glyph\":{\"id\":\"6279\"},\"view\":{\"id\":\"6266\"}},\"id\":\"6265\",\"type\":\"GlyphRenderer\"},{\"attributes\":{},\"id\":\"6260\",\"type\":\"Selection\"},{\"attributes\":{},\"id\":\"6347\",\"type\":\"UnionRenderers\"},{\"attributes\":{\"line_color\":\"#e5ae38\",\"line_width\":2,\"x\":{\"field\":\"Year\"},\"y\":{\"field\":\"Other (% growth)\"}},\"id\":\"6305\",\"type\":\"Line\"},{\"attributes\":{\"label\":{\"value\":\"Switzerland\"},\"renderers\":[{\"id\":\"6308\"}]},\"id\":\"6324\",\"type\":\"LegendItem\"},{\"attributes\":{\"data\":{\"Country\":[\"Spain\",\"Spain\",\"Spain\",\"Spain\",\"Spain\",\"Spain\",\"Spain\",\"Spain\",\"Spain\",\"Spain\",\"Spain\",\"Spain\",\"Spain\",\"Spain\",\"Spain\",\"Spain\",\"Spain\",\"Spain\",\"Spain\",\"Spain\",\"Spain\",\"Spain\",\"Spain\",\"Spain\",\"Spain\",\"Spain\",\"Spain\",\"Spain\",\"Spain\",\"Spain\",\"Spain\",\"Spain\",\"Spain\"],\"Other (% growth)\":{\"__ndarray__\":\"AAAAAAAAAAAAAAAAAAAAAGdmZmZmZhZAzMzMzMzM/D+ZmZmZmZkkQGZmZmZm5kxAmpmZmZmZG0CZmZmZmZlBQDMzMzMzMxNAmZmZmZmZF0AAAAAAAAAgwM3MzMzMzCJAMzMzMzNzTUDNzMzMzMw2QM3MzMzMzBJAZmZmZmZmNMAAAAAAAAASQM3MzMzMzBJAzczMzMzMKEBmZmZmZmYcQMzMzMzMzC1AAAAAAAAALkAAAAAAAAAgQAAAAAAAgDBAzczMzMzMGsAAAAAAAAAaQDMzMzMzM/O/mpmZmZmZG0BnZmZmZmYGwJqZmZmZmRXAzczMzMzMJECamZmZmZkpQAAAAAAAAADA\",\"dtype\":\"float64\",\"order\":\"little\",\"shape\":[33]},\"Other_left_parenthesis_percent_growth_right_parenthesis\":{\"__ndarray__\":\"AAAAAAAAAAAAAAAAAAAAAGdmZmZmZhZAzMzMzMzM/D+ZmZmZmZkkQGZmZmZm5kxAmpmZmZmZG0CZmZmZmZlBQDMzMzMzMxNAmZmZmZmZF0AAAAAAAAAgwM3MzMzMzCJAMzMzMzNzTUDNzMzMzMw2QM3MzMzMzBJAZmZmZmZmNMAAAAAAAAASQM3MzMzMzBJAzczMzMzMKEBmZmZmZmYcQMzMzMzMzC1AAAAAAAAALkAAAAAAAAAgQAAAAAAAgDBAzczMzMzMGsAAAAAAAAAaQDMzMzMzM/O/mpmZmZmZG0BnZmZmZmYGwJqZmZmZmRXAzczMzMzMJECamZmZmZkpQAAAAAAAAADA\",\"dtype\":\"float64\",\"order\":\"little\",\"shape\":[33]},\"Year\":[1990,1991,1992,1993,1994,1995,1996,1997,1998,1999,2000,2001,2002,2003,2004,2005,2006,2007,2008,2009,2010,2011,2012,2013,2014,2015,2016,2017,2018,2019,2020,2021,2022]},\"selected\":{\"id\":\"6281\"},\"selection_policy\":{\"id\":\"6297\"}},\"id\":\"6280\",\"type\":\"ColumnDataSource\"},{\"attributes\":{},\"id\":\"6321\",\"type\":\"UnionRenderers\"},{\"attributes\":{\"label\":{\"value\":\"Germany\"},\"renderers\":[{\"id\":\"6265\"}]},\"id\":\"6278\",\"type\":\"LegendItem\"},{\"attributes\":{\"callback\":null,\"renderers\":[{\"id\":\"6265\"},{\"id\":\"6286\"},{\"id\":\"6308\"},{\"id\":\"6332\"}],\"tags\":[\"hv_created\"],\"tooltips\":[[\"Country\",\"@{Country}\"],[\"Year\",\"@{Year}\"],[\"Other (% growth)\",\"@{Other_left_parenthesis_percent_growth_right_parenthesis}\"]]},\"id\":\"6219\",\"type\":\"HoverTool\"},{\"attributes\":{\"active_drag\":{\"id\":\"6241\"},\"active_scroll\":{\"id\":\"6242\"},\"tools\":[{\"id\":\"6219\"},{\"id\":\"6240\"},{\"id\":\"6241\"},{\"id\":\"6242\"},{\"id\":\"6243\"},{\"id\":\"6244\"}]},\"id\":\"6246\",\"type\":\"Toolbar\"},{\"attributes\":{\"end\":2022.0,\"reset_end\":2022.0,\"reset_start\":1990.0,\"start\":1990.0,\"tags\":[[[\"Year\",\"Year\",null]]]},\"id\":\"6217\",\"type\":\"Range1d\"},{\"attributes\":{\"line_color\":\"#30a2da\",\"line_width\":2,\"x\":{\"field\":\"Year\"},\"y\":{\"field\":\"Other (% growth)\"}},\"id\":\"6279\",\"type\":\"Line\"},{\"attributes\":{\"data\":{\"Country\":[\"Germany\",\"Germany\",\"Germany\",\"Germany\",\"Germany\",\"Germany\",\"Germany\",\"Germany\",\"Germany\",\"Germany\",\"Germany\",\"Germany\",\"Germany\",\"Germany\",\"Germany\",\"Germany\",\"Germany\",\"Germany\",\"Germany\",\"Germany\",\"Germany\",\"Germany\",\"Germany\",\"Germany\",\"Germany\",\"Germany\",\"Germany\",\"Germany\",\"Germany\",\"Germany\",\"Germany\",\"Germany\",\"Germany\"],\"Other (% growth)\":{\"__ndarray__\":\"AAAAAAAAAABnZmZmZuYwQDMzMzMzMyJANDMzMzMzC8BmZmZmZmYUQGZmZmZmZjFANDMzMzMzB0AAAAAAAAAYQAAAAAAAAC9AZmZmZmZmLUBnZmZmZmY3QAAAAAAAABhAZmZmZmZmL0AAAAAAACBRQGZmZmZm5jJAZmZmZmYmQ0DMzMzMzMw8QAAAAAAAAD5AzszMzMzMK0BmZmZmZmYkQJqZmZmZmSNAZmZmZmZmIUCamZmZmRkxQAAAAAAAABZAZmZmZmZmGEAzMzMzMzMRQM3MzMzMzPQ/AAAAAAAAAICamZmZmZnJv83MzMzMzPS/mpmZmZmZ+T8zMzMzMzMfwJqZmZmZmek/\",\"dtype\":\"float64\",\"order\":\"little\",\"shape\":[33]},\"Other_left_parenthesis_percent_growth_right_parenthesis\":{\"__ndarray__\":\"AAAAAAAAAABnZmZmZuYwQDMzMzMzMyJANDMzMzMzC8BmZmZmZmYUQGZmZmZmZjFANDMzMzMzB0AAAAAAAAAYQAAAAAAAAC9AZmZmZmZmLUBnZmZmZmY3QAAAAAAAABhAZmZmZmZmL0AAAAAAACBRQGZmZmZm5jJAZmZmZmYmQ0DMzMzMzMw8QAAAAAAAAD5AzszMzMzMK0BmZmZmZmYkQJqZmZmZmSNAZmZmZmZmIUCamZmZmRkxQAAAAAAAABZAZmZmZmZmGEAzMzMzMzMRQM3MzMzMzPQ/AAAAAAAAAICamZmZmZnJv83MzMzMzPS/mpmZmZmZ+T8zMzMzMzMfwJqZmZmZmek/\",\"dtype\":\"float64\",\"order\":\"little\",\"shape\":[33]},\"Year\":[1990,1991,1992,1993,1994,1995,1996,1997,1998,1999,2000,2001,2002,2003,2004,2005,2006,2007,2008,2009,2010,2011,2012,2013,2014,2015,2016,2017,2018,2019,2020,2021,2022]},\"selected\":{\"id\":\"6260\"},\"selection_policy\":{\"id\":\"6274\"}},\"id\":\"6259\",\"type\":\"ColumnDataSource\"},{\"attributes\":{\"data\":{\"Country\":[\"United Kingdom\",\"United Kingdom\",\"United Kingdom\",\"United Kingdom\",\"United Kingdom\",\"United Kingdom\",\"United Kingdom\",\"United Kingdom\",\"United Kingdom\",\"United Kingdom\",\"United Kingdom\",\"United Kingdom\",\"United Kingdom\",\"United Kingdom\",\"United Kingdom\",\"United Kingdom\",\"United Kingdom\",\"United Kingdom\",\"United Kingdom\",\"United Kingdom\",\"United Kingdom\",\"United Kingdom\",\"United Kingdom\",\"United Kingdom\",\"United Kingdom\",\"United Kingdom\",\"United Kingdom\",\"United Kingdom\",\"United Kingdom\",\"United Kingdom\",\"United Kingdom\",\"United Kingdom\"],\"Other (% growth)\":{\"__ndarray__\":\"AAAAAAAAAAAAAAAAAAAuQGZmZmZmZkFA////////PEA0MzMzM7M6QJqZmZmZmR9AmpmZmZmZI0AzMzMzMzMxQJqZmZmZmTlAZmZmZmZmPUDMzMzMzMwtQAAAAAAAAC5AMzMzMzMzKECamZmZmRk0QDMzMzMzszRAmZmZmZmZN0AAAAAAAAAAQAAAAAAAAOA/zczMzMzMBEAAAAAAAAAoQMzMzMzMzCxAMzMzMzMzIUBmZmZmZmYlQGdmZmZm5jZAAAAAAAAAOUBnZmZmZuY5QGdmZmZmZhZAAAAAAAAAGEAzMzMzMzMjQDQzMzMzMxtAzczMzMzMAECamZmZmZkFQA==\",\"dtype\":\"float64\",\"order\":\"little\",\"shape\":[32]},\"Other_left_parenthesis_percent_growth_right_parenthesis\":{\"__ndarray__\":\"AAAAAAAAAAAAAAAAAAAuQGZmZmZmZkFA////////PEA0MzMzM7M6QJqZmZmZmR9AmpmZmZmZI0AzMzMzMzMxQJqZmZmZmTlAZmZmZmZmPUDMzMzMzMwtQAAAAAAAAC5AMzMzMzMzKECamZmZmRk0QDMzMzMzszRAmZmZmZmZN0AAAAAAAAAAQAAAAAAAAOA/zczMzMzMBEAAAAAAAAAoQMzMzMzMzCxAMzMzMzMzIUBmZmZmZmYlQGdmZmZm5jZAAAAAAAAAOUBnZmZmZuY5QGdmZmZmZhZAAAAAAAAAGEAzMzMzMzMjQDQzMzMzMxtAzczMzMzMAECamZmZmZkFQA==\",\"dtype\":\"float64\",\"order\":\"little\",\"shape\":[32]},\"Year\":[1990,1991,1992,1993,1994,1995,1996,1997,1998,1999,2000,2001,2002,2003,2004,2005,2006,2007,2008,2009,2010,2011,2012,2013,2014,2015,2016,2017,2018,2019,2020,2021]},\"selected\":{\"id\":\"6327\"},\"selection_policy\":{\"id\":\"6347\"}},\"id\":\"6326\",\"type\":\"ColumnDataSource\"},{\"attributes\":{\"line_color\":\"#fc4f30\",\"line_width\":2,\"x\":{\"field\":\"Year\"},\"y\":{\"field\":\"Other (% growth)\"}},\"id\":\"6283\",\"type\":\"Line\"},{\"attributes\":{\"line_alpha\":0.2,\"line_color\":\"#fc4f30\",\"line_width\":2,\"x\":{\"field\":\"Year\"},\"y\":{\"field\":\"Other (% growth)\"}},\"id\":\"6285\",\"type\":\"Line\"},{\"attributes\":{},\"id\":\"6254\",\"type\":\"BasicTickFormatter\"},{\"attributes\":{\"line_alpha\":0.1,\"line_color\":\"#fc4f30\",\"line_width\":2,\"x\":{\"field\":\"Year\"},\"y\":{\"field\":\"Other (% growth)\"}},\"id\":\"6284\",\"type\":\"Line\"},{\"attributes\":{},\"id\":\"6281\",\"type\":\"Selection\"}],\"root_ids\":[\"6216\"]},\"title\":\"Bokeh Application\",\"version\":\"2.4.3\"}};\n",
       "    var render_items = [{\"docid\":\"02d69ba6-70fb-4609-8bd3-467d855ab772\",\"root_ids\":[\"6216\"],\"roots\":{\"6216\":\"e773450a-e4d5-431e-80af-69ae9c84938b\"}}];\n",
       "    root.Bokeh.embed.embed_items_notebook(docs_json, render_items);\n",
       "    for (const render_item of render_items) {\n",
       "      for (const root_id of render_item.root_ids) {\n",
       "\tconst id_el = document.getElementById(root_id)\n",
       "\tif (id_el.children.length && (id_el.children[0].className === 'bk-root')) {\n",
       "\t  const root_el = id_el.children[0]\n",
       "\t  root_el.id = root_el.id + '-rendered'\n",
       "\t}\n",
       "      }\n",
       "    }\n",
       "  }\n",
       "  if (root.Bokeh !== undefined && root.Bokeh.Panel !== undefined) {\n",
       "    embed_document(root);\n",
       "  } else {\n",
       "    var attempts = 0;\n",
       "    var timer = setInterval(function(root) {\n",
       "      if (root.Bokeh !== undefined && root.Bokeh.Panel !== undefined) {\n",
       "        clearInterval(timer);\n",
       "        embed_document(root);\n",
       "      } else if (document.readyState == \"complete\") {\n",
       "        attempts++;\n",
       "        if (attempts > 200) {\n",
       "          clearInterval(timer);\n",
       "          console.log(\"Bokeh: ERROR: Unable to run BokehJS code because BokehJS library is missing\");\n",
       "        }\n",
       "      }\n",
       "    }, 25, root)\n",
       "  }\n",
       "})(window);</script>"
      ],
      "text/plain": [
       ":NdOverlay   [Country]\n",
       "   :Curve   [Year]   (Other (% growth))"
      ]
     },
     "metadata": {
      "application/vnd.holoviews_exec.v0+json": {
       "id": "6216"
      }
     },
     "output_type": "display_data"
    }
   ],
   "source": [
    "lineplot(df_other_generation, 'Year', 'Other renewables including bioenergy (TWh)', 'Country', 'Other Energy Generation includind Bioenergy')\n",
    "lineplot(df_other_generation, 'Year', 'Other (TWh growth - equivalent)', 'Country', 'Annual Change Other Energy Generation')\n",
    "lineplot(df_other_generation, 'Year', 'Other (% growth)', 'Country', 'Annual Growth in % Other Energy Generation')"
   ]
  }
 ],
 "metadata": {
  "kernelspec": {
   "display_name": "Python 3",
   "language": "python",
   "name": "python3"
  },
  "language_info": {
   "codemirror_mode": {
    "name": "ipython",
    "version": 3
   },
   "file_extension": ".py",
   "mimetype": "text/x-python",
   "name": "python",
   "nbconvert_exporter": "python",
   "pygments_lexer": "ipython3",
   "version": "3.9.7"
  },
  "orig_nbformat": 4,
  "vscode": {
   "interpreter": {
    "hash": "aee8b7b246df8f9039afb4144a1f6fd8d2ca17a180786b69acc140d282b71a49"
   }
  }
 },
 "nbformat": 4,
 "nbformat_minor": 2
}

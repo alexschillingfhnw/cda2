{
 "cells": [
  {
   "attachments": {},
   "cell_type": "markdown",
   "metadata": {},
   "source": [
    "# Explorative Datenanalyse - Solarenergie"
   ]
  },
  {
   "cell_type": "code",
   "execution_count": 18,
   "metadata": {},
   "outputs": [],
   "source": [
    "from helper import *"
   ]
  },
  {
   "attachments": {},
   "cell_type": "markdown",
   "metadata": {},
   "source": [
    "### Read data"
   ]
  },
  {
   "cell_type": "code",
   "execution_count": 19,
   "metadata": {},
   "outputs": [
    {
     "data": {
      "text/html": [
       "<div>\n",
       "<style scoped>\n",
       "    .dataframe tbody tr th:only-of-type {\n",
       "        vertical-align: middle;\n",
       "    }\n",
       "\n",
       "    .dataframe tbody tr th {\n",
       "        vertical-align: top;\n",
       "    }\n",
       "\n",
       "    .dataframe thead th {\n",
       "        text-align: right;\n",
       "    }\n",
       "</style>\n",
       "<table border=\"1\" class=\"dataframe\">\n",
       "  <thead>\n",
       "    <tr style=\"text-align: right;\">\n",
       "      <th></th>\n",
       "      <th>Entity</th>\n",
       "      <th>Code</th>\n",
       "      <th>Year</th>\n",
       "      <th>Electricity from solar (TWh)</th>\n",
       "    </tr>\n",
       "  </thead>\n",
       "  <tbody>\n",
       "    <tr>\n",
       "      <th>0</th>\n",
       "      <td>Afghanistan</td>\n",
       "      <td>AFG</td>\n",
       "      <td>2000</td>\n",
       "      <td>0.0</td>\n",
       "    </tr>\n",
       "    <tr>\n",
       "      <th>1</th>\n",
       "      <td>Afghanistan</td>\n",
       "      <td>AFG</td>\n",
       "      <td>2001</td>\n",
       "      <td>0.0</td>\n",
       "    </tr>\n",
       "    <tr>\n",
       "      <th>2</th>\n",
       "      <td>Afghanistan</td>\n",
       "      <td>AFG</td>\n",
       "      <td>2002</td>\n",
       "      <td>0.0</td>\n",
       "    </tr>\n",
       "    <tr>\n",
       "      <th>3</th>\n",
       "      <td>Afghanistan</td>\n",
       "      <td>AFG</td>\n",
       "      <td>2003</td>\n",
       "      <td>0.0</td>\n",
       "    </tr>\n",
       "    <tr>\n",
       "      <th>4</th>\n",
       "      <td>Afghanistan</td>\n",
       "      <td>AFG</td>\n",
       "      <td>2004</td>\n",
       "      <td>0.0</td>\n",
       "    </tr>\n",
       "  </tbody>\n",
       "</table>\n",
       "</div>"
      ],
      "text/plain": [
       "        Entity Code  Year  Electricity from solar (TWh)\n",
       "0  Afghanistan  AFG  2000                           0.0\n",
       "1  Afghanistan  AFG  2001                           0.0\n",
       "2  Afghanistan  AFG  2002                           0.0\n",
       "3  Afghanistan  AFG  2003                           0.0\n",
       "4  Afghanistan  AFG  2004                           0.0"
      ]
     },
     "execution_count": 19,
     "metadata": {},
     "output_type": "execute_result"
    }
   ],
   "source": [
    "df_solar_generation = pd.read_csv('Data/All/Solar/solar-energy-generation.csv')\n",
    "df_solar_generation.head()"
   ]
  },
  {
   "attachments": {},
   "cell_type": "markdown",
   "metadata": {},
   "source": [
    "## Prepare Dataframes"
   ]
  },
  {
   "cell_type": "code",
   "execution_count": 20,
   "metadata": {},
   "outputs": [],
   "source": [
    "df_solar_generation = wrangle_dataframe(df_solar_generation, \"Electricity from solar (TWh)\")"
   ]
  },
  {
   "cell_type": "code",
   "execution_count": 21,
   "metadata": {},
   "outputs": [
    {
     "data": {
      "text/html": [
       "<div>\n",
       "<style scoped>\n",
       "    .dataframe tbody tr th:only-of-type {\n",
       "        vertical-align: middle;\n",
       "    }\n",
       "\n",
       "    .dataframe tbody tr th {\n",
       "        vertical-align: top;\n",
       "    }\n",
       "\n",
       "    .dataframe thead th {\n",
       "        text-align: right;\n",
       "    }\n",
       "</style>\n",
       "<table border=\"1\" class=\"dataframe\">\n",
       "  <thead>\n",
       "    <tr style=\"text-align: right;\">\n",
       "      <th></th>\n",
       "      <th>Country</th>\n",
       "      <th>Year</th>\n",
       "      <th>Electricity from solar (TWh)</th>\n",
       "      <th>Solar (TWh growth - equivalent)</th>\n",
       "      <th>Solar (% growth)</th>\n",
       "    </tr>\n",
       "  </thead>\n",
       "  <tbody>\n",
       "    <tr>\n",
       "      <th>0</th>\n",
       "      <td>Germany</td>\n",
       "      <td>1990</td>\n",
       "      <td>0.00</td>\n",
       "      <td>0.00</td>\n",
       "      <td>0.0</td>\n",
       "    </tr>\n",
       "    <tr>\n",
       "      <th>1</th>\n",
       "      <td>Germany</td>\n",
       "      <td>1991</td>\n",
       "      <td>0.00</td>\n",
       "      <td>0.00</td>\n",
       "      <td>0.0</td>\n",
       "    </tr>\n",
       "    <tr>\n",
       "      <th>2</th>\n",
       "      <td>Germany</td>\n",
       "      <td>1992</td>\n",
       "      <td>0.00</td>\n",
       "      <td>0.00</td>\n",
       "      <td>0.0</td>\n",
       "    </tr>\n",
       "    <tr>\n",
       "      <th>3</th>\n",
       "      <td>Germany</td>\n",
       "      <td>1993</td>\n",
       "      <td>0.00</td>\n",
       "      <td>0.00</td>\n",
       "      <td>0.0</td>\n",
       "    </tr>\n",
       "    <tr>\n",
       "      <th>4</th>\n",
       "      <td>Germany</td>\n",
       "      <td>1994</td>\n",
       "      <td>0.01</td>\n",
       "      <td>0.01</td>\n",
       "      <td>0.0</td>\n",
       "    </tr>\n",
       "  </tbody>\n",
       "</table>\n",
       "</div>"
      ],
      "text/plain": [
       "   Country  Year  Electricity from solar (TWh)  \\\n",
       "0  Germany  1990                          0.00   \n",
       "1  Germany  1991                          0.00   \n",
       "2  Germany  1992                          0.00   \n",
       "3  Germany  1993                          0.00   \n",
       "4  Germany  1994                          0.01   \n",
       "\n",
       "   Solar (TWh growth - equivalent)  Solar (% growth)  \n",
       "0                             0.00               0.0  \n",
       "1                             0.00               0.0  \n",
       "2                             0.00               0.0  \n",
       "3                             0.00               0.0  \n",
       "4                             0.01               0.0  "
      ]
     },
     "execution_count": 21,
     "metadata": {},
     "output_type": "execute_result"
    }
   ],
   "source": [
    "df_solar_generation = add_growth_columns(df_solar_generation, 'Solar (TWh growth - equivalent)', 'Solar (% growth)', 'Electricity from solar (TWh)')\n",
    "df_solar_generation.head()"
   ]
  },
  {
   "attachments": {},
   "cell_type": "markdown",
   "metadata": {},
   "source": [
    "## Plots"
   ]
  },
  {
   "cell_type": "code",
   "execution_count": 22,
   "metadata": {},
   "outputs": [
    {
     "data": {},
     "metadata": {},
     "output_type": "display_data"
    },
    {
     "data": {
      "application/vnd.holoviews_exec.v0+json": "",
      "text/html": [
       "<div id='3135'>\n",
       "  <div class=\"bk-root\" id=\"b9584746-b8c0-45ce-a8ad-c6c6f63a797c\" data-root-id=\"3135\"></div>\n",
       "</div>\n",
       "<script type=\"application/javascript\">(function(root) {\n",
       "  function embed_document(root) {\n",
       "    var docs_json = {\"301a746a-ec40-4019-96ec-8f177645af40\":{\"defs\":[{\"extends\":null,\"module\":null,\"name\":\"ReactiveHTML1\",\"overrides\":[],\"properties\":[]},{\"extends\":null,\"module\":null,\"name\":\"FlexBox1\",\"overrides\":[],\"properties\":[{\"default\":\"flex-start\",\"kind\":null,\"name\":\"align_content\"},{\"default\":\"flex-start\",\"kind\":null,\"name\":\"align_items\"},{\"default\":\"row\",\"kind\":null,\"name\":\"flex_direction\"},{\"default\":\"wrap\",\"kind\":null,\"name\":\"flex_wrap\"},{\"default\":\"flex-start\",\"kind\":null,\"name\":\"justify_content\"}]},{\"extends\":null,\"module\":null,\"name\":\"GridStack1\",\"overrides\":[],\"properties\":[{\"default\":\"warn\",\"kind\":null,\"name\":\"mode\"},{\"default\":null,\"kind\":null,\"name\":\"ncols\"},{\"default\":null,\"kind\":null,\"name\":\"nrows\"},{\"default\":true,\"kind\":null,\"name\":\"allow_resize\"},{\"default\":true,\"kind\":null,\"name\":\"allow_drag\"},{\"default\":[],\"kind\":null,\"name\":\"state\"}]},{\"extends\":null,\"module\":null,\"name\":\"click1\",\"overrides\":[],\"properties\":[{\"default\":\"\",\"kind\":null,\"name\":\"terminal_output\"},{\"default\":\"\",\"kind\":null,\"name\":\"debug_name\"},{\"default\":0,\"kind\":null,\"name\":\"clears\"}]},{\"extends\":null,\"module\":null,\"name\":\"NotificationAreaBase1\",\"overrides\":[],\"properties\":[{\"default\":\"bottom-right\",\"kind\":null,\"name\":\"position\"},{\"default\":0,\"kind\":null,\"name\":\"_clear\"}]},{\"extends\":null,\"module\":null,\"name\":\"NotificationArea1\",\"overrides\":[],\"properties\":[{\"default\":[],\"kind\":null,\"name\":\"notifications\"},{\"default\":\"bottom-right\",\"kind\":null,\"name\":\"position\"},{\"default\":0,\"kind\":null,\"name\":\"_clear\"},{\"default\":[{\"background\":\"#ffc107\",\"icon\":{\"className\":\"fas fa-exclamation-triangle\",\"color\":\"white\",\"tagName\":\"i\"},\"type\":\"warning\"},{\"background\":\"#007bff\",\"icon\":{\"className\":\"fas fa-info-circle\",\"color\":\"white\",\"tagName\":\"i\"},\"type\":\"info\"}],\"kind\":null,\"name\":\"types\"}]},{\"extends\":null,\"module\":null,\"name\":\"Notification\",\"overrides\":[],\"properties\":[{\"default\":null,\"kind\":null,\"name\":\"background\"},{\"default\":3000,\"kind\":null,\"name\":\"duration\"},{\"default\":null,\"kind\":null,\"name\":\"icon\"},{\"default\":\"\",\"kind\":null,\"name\":\"message\"},{\"default\":null,\"kind\":null,\"name\":\"notification_type\"},{\"default\":false,\"kind\":null,\"name\":\"_destroyed\"}]},{\"extends\":null,\"module\":null,\"name\":\"TemplateActions1\",\"overrides\":[],\"properties\":[{\"default\":0,\"kind\":null,\"name\":\"open_modal\"},{\"default\":0,\"kind\":null,\"name\":\"close_modal\"}]},{\"extends\":null,\"module\":null,\"name\":\"MaterialTemplateActions1\",\"overrides\":[],\"properties\":[{\"default\":0,\"kind\":null,\"name\":\"open_modal\"},{\"default\":0,\"kind\":null,\"name\":\"close_modal\"}]}],\"roots\":{\"references\":[{\"attributes\":{\"below\":[{\"id\":\"3151\"}],\"center\":[{\"id\":\"3154\"},{\"id\":\"3158\"}],\"height\":400,\"left\":[{\"id\":\"3155\"}],\"margin\":[5,5,5,5],\"min_border_bottom\":10,\"min_border_left\":10,\"min_border_right\":10,\"min_border_top\":10,\"renderers\":[{\"id\":\"3184\"},{\"id\":\"3205\"},{\"id\":\"3227\"},{\"id\":\"3251\"}],\"right\":[{\"id\":\"3196\"}],\"sizing_mode\":\"fixed\",\"title\":{\"id\":\"3143\"},\"toolbar\":{\"id\":\"3165\"},\"width\":700,\"x_range\":{\"id\":\"3136\"},\"x_scale\":{\"id\":\"3147\"},\"y_range\":{\"id\":\"3137\"},\"y_scale\":{\"id\":\"3149\"}},\"id\":\"3142\",\"subtype\":\"Figure\",\"type\":\"Plot\"},{\"attributes\":{},\"id\":\"3179\",\"type\":\"Selection\"},{\"attributes\":{},\"id\":\"3200\",\"type\":\"Selection\"},{\"attributes\":{},\"id\":\"3147\",\"type\":\"LinearScale\"},{\"attributes\":{\"line_color\":\"#30a2da\",\"line_width\":2,\"x\":{\"field\":\"Year\"},\"y\":{\"field\":\"Electricity from solar (TWh)\"}},\"id\":\"3181\",\"type\":\"Line\"},{\"attributes\":{\"data\":{\"Country\":[\"United Kingdom\",\"United Kingdom\",\"United Kingdom\",\"United Kingdom\",\"United Kingdom\",\"United Kingdom\",\"United Kingdom\",\"United Kingdom\",\"United Kingdom\",\"United Kingdom\",\"United Kingdom\",\"United Kingdom\",\"United Kingdom\",\"United Kingdom\",\"United Kingdom\",\"United Kingdom\",\"United Kingdom\",\"United Kingdom\",\"United Kingdom\",\"United Kingdom\",\"United Kingdom\",\"United Kingdom\",\"United Kingdom\",\"United Kingdom\",\"United Kingdom\",\"United Kingdom\",\"United Kingdom\",\"United Kingdom\",\"United Kingdom\",\"United Kingdom\",\"United Kingdom\",\"United Kingdom\"],\"Electricity from solar (TWh)\":{\"__ndarray__\":\"AAAAAAAAAAAAAAAAAAAAAAAAAAAAAAAAAAAAAAAAAAAAAAAAAAAAAAAAAAAAAAAAAAAAAAAAAAAAAAAAAAAAAAAAAAAAAAAAAAAAAAAAAAAAAAAAAAAAAAAAAAAAAAAAAAAAAAAAAAAAAAAAAAAAAAAAAAAAAAAAexSuR+F6hD97FK5H4XqEP3sUrkfheoQ/exSuR+F6lD97FK5H4XqUP3sUrkfheqQ/uB6F61G4zj+amZmZmZn1PxSuR+F6FABAMzMzMzMzEEAfhetRuB4eQM3MzMzMzCRA7FG4HoXrJkB7FK5H4XopQNejcD0K1ylApHA9CtejKkBxPQrXo/AoQA==\",\"dtype\":\"float64\",\"order\":\"little\",\"shape\":[32]},\"Electricity_from_solar_left_parenthesis_TWh_right_parenthesis\":{\"__ndarray__\":\"AAAAAAAAAAAAAAAAAAAAAAAAAAAAAAAAAAAAAAAAAAAAAAAAAAAAAAAAAAAAAAAAAAAAAAAAAAAAAAAAAAAAAAAAAAAAAAAAAAAAAAAAAAAAAAAAAAAAAAAAAAAAAAAAAAAAAAAAAAAAAAAAAAAAAAAAAAAAAAAAexSuR+F6hD97FK5H4XqEP3sUrkfheoQ/exSuR+F6lD97FK5H4XqUP3sUrkfheqQ/uB6F61G4zj+amZmZmZn1PxSuR+F6FABAMzMzMzMzEEAfhetRuB4eQM3MzMzMzCRA7FG4HoXrJkB7FK5H4XopQNejcD0K1ylApHA9CtejKkBxPQrXo/AoQA==\",\"dtype\":\"float64\",\"order\":\"little\",\"shape\":[32]},\"Year\":[1990,1991,1992,1993,1994,1995,1996,1997,1998,1999,2000,2001,2002,2003,2004,2005,2006,2007,2008,2009,2010,2011,2012,2013,2014,2015,2016,2017,2018,2019,2020,2021]},\"selected\":{\"id\":\"3246\"},\"selection_policy\":{\"id\":\"3266\"}},\"id\":\"3245\",\"type\":\"ColumnDataSource\"},{\"attributes\":{\"callback\":null,\"renderers\":[{\"id\":\"3184\"},{\"id\":\"3205\"},{\"id\":\"3227\"},{\"id\":\"3251\"}],\"tags\":[\"hv_created\"],\"tooltips\":[[\"Country\",\"@{Country}\"],[\"Year\",\"@{Year}\"],[\"Electricity from solar (TWh)\",\"@{Electricity_from_solar_left_parenthesis_TWh_right_parenthesis}\"]]},\"id\":\"3138\",\"type\":\"HoverTool\"},{\"attributes\":{\"label\":{\"value\":\"Germany\"},\"renderers\":[{\"id\":\"3184\"}]},\"id\":\"3197\",\"type\":\"LegendItem\"},{\"attributes\":{\"line_color\":\"#30a2da\",\"line_width\":2,\"x\":{\"field\":\"Year\"},\"y\":{\"field\":\"Electricity from solar (TWh)\"}},\"id\":\"3198\",\"type\":\"Line\"},{\"attributes\":{\"line_alpha\":0.2,\"line_color\":\"#30a2da\",\"line_width\":2,\"x\":{\"field\":\"Year\"},\"y\":{\"field\":\"Electricity from solar (TWh)\"}},\"id\":\"3183\",\"type\":\"Line\"},{\"attributes\":{\"line_alpha\":0.1,\"line_color\":\"#30a2da\",\"line_width\":2,\"x\":{\"field\":\"Year\"},\"y\":{\"field\":\"Electricity from solar (TWh)\"}},\"id\":\"3182\",\"type\":\"Line\"},{\"attributes\":{\"coordinates\":null,\"data_source\":{\"id\":\"3178\"},\"glyph\":{\"id\":\"3181\"},\"group\":null,\"hover_glyph\":null,\"muted_glyph\":{\"id\":\"3183\"},\"nonselection_glyph\":{\"id\":\"3182\"},\"selection_glyph\":{\"id\":\"3198\"},\"view\":{\"id\":\"3185\"}},\"id\":\"3184\",\"type\":\"GlyphRenderer\"},{\"attributes\":{\"source\":{\"id\":\"3178\"}},\"id\":\"3185\",\"type\":\"CDSView\"},{\"attributes\":{\"click_policy\":\"mute\",\"coordinates\":null,\"group\":null,\"items\":[{\"id\":\"3197\"},{\"id\":\"3219\"},{\"id\":\"3243\"},{\"id\":\"3269\"}],\"location\":[0,0],\"title\":\"Country\"},\"id\":\"3196\",\"type\":\"Legend\"},{\"attributes\":{\"line_alpha\":0.1,\"line_color\":\"#fc4f30\",\"line_width\":2,\"x\":{\"field\":\"Year\"},\"y\":{\"field\":\"Electricity from solar (TWh)\"}},\"id\":\"3203\",\"type\":\"Line\"},{\"attributes\":{\"coordinates\":null,\"group\":null,\"text\":\"Solar Energy Generation\",\"text_color\":\"black\",\"text_font_size\":\"12pt\"},\"id\":\"3143\",\"type\":\"Title\"},{\"attributes\":{\"line_alpha\":0.2,\"line_color\":\"#fc4f30\",\"line_width\":2,\"x\":{\"field\":\"Year\"},\"y\":{\"field\":\"Electricity from solar (TWh)\"}},\"id\":\"3204\",\"type\":\"Line\"},{\"attributes\":{\"line_color\":\"#fc4f30\",\"line_width\":2,\"x\":{\"field\":\"Year\"},\"y\":{\"field\":\"Electricity from solar (TWh)\"}},\"id\":\"3202\",\"type\":\"Line\"},{\"attributes\":{\"line_color\":\"#e5ae38\",\"line_width\":2,\"x\":{\"field\":\"Year\"},\"y\":{\"field\":\"Electricity from solar (TWh)\"}},\"id\":\"3244\",\"type\":\"Line\"},{\"attributes\":{},\"id\":\"3160\",\"type\":\"PanTool\"},{\"attributes\":{\"coordinates\":null,\"data_source\":{\"id\":\"3199\"},\"glyph\":{\"id\":\"3202\"},\"group\":null,\"hover_glyph\":null,\"muted_glyph\":{\"id\":\"3204\"},\"nonselection_glyph\":{\"id\":\"3203\"},\"selection_glyph\":{\"id\":\"3220\"},\"view\":{\"id\":\"3206\"}},\"id\":\"3205\",\"type\":\"GlyphRenderer\"},{\"attributes\":{\"axis\":{\"id\":\"3151\"},\"coordinates\":null,\"grid_line_color\":null,\"group\":null,\"ticker\":null},\"id\":\"3154\",\"type\":\"Grid\"},{\"attributes\":{\"source\":{\"id\":\"3199\"}},\"id\":\"3206\",\"type\":\"CDSView\"},{\"attributes\":{\"axis_label\":\"Year\",\"coordinates\":null,\"formatter\":{\"id\":\"3173\"},\"group\":null,\"major_label_policy\":{\"id\":\"3174\"},\"ticker\":{\"id\":\"3152\"}},\"id\":\"3151\",\"type\":\"LinearAxis\"},{\"attributes\":{},\"id\":\"3266\",\"type\":\"UnionRenderers\"},{\"attributes\":{},\"id\":\"3149\",\"type\":\"LinearScale\"},{\"attributes\":{\"line_color\":\"#e5ae38\",\"line_width\":2,\"x\":{\"field\":\"Year\"},\"y\":{\"field\":\"Electricity from solar (TWh)\"}},\"id\":\"3224\",\"type\":\"Line\"},{\"attributes\":{\"line_color\":\"#6d904f\",\"line_width\":2,\"x\":{\"field\":\"Year\"},\"y\":{\"field\":\"Electricity from solar (TWh)\"}},\"id\":\"3248\",\"type\":\"Line\"},{\"attributes\":{},\"id\":\"3216\",\"type\":\"UnionRenderers\"},{\"attributes\":{},\"id\":\"3152\",\"type\":\"BasicTicker\"},{\"attributes\":{},\"id\":\"3174\",\"type\":\"AllLabels\"},{\"attributes\":{\"axis_label\":\"Electricity from solar (TWh)\",\"coordinates\":null,\"formatter\":{\"id\":\"3176\"},\"group\":null,\"major_label_policy\":{\"id\":\"3177\"},\"ticker\":{\"id\":\"3156\"}},\"id\":\"3155\",\"type\":\"LinearAxis\"},{\"attributes\":{},\"id\":\"3246\",\"type\":\"Selection\"},{\"attributes\":{\"axis\":{\"id\":\"3155\"},\"coordinates\":null,\"dimension\":1,\"grid_line_color\":null,\"group\":null,\"ticker\":null},\"id\":\"3158\",\"type\":\"Grid\"},{\"attributes\":{},\"id\":\"3156\",\"type\":\"BasicTicker\"},{\"attributes\":{},\"id\":\"3161\",\"type\":\"WheelZoomTool\"},{\"attributes\":{\"line_alpha\":0.1,\"line_color\":\"#6d904f\",\"line_width\":2,\"x\":{\"field\":\"Year\"},\"y\":{\"field\":\"Electricity from solar (TWh)\"}},\"id\":\"3249\",\"type\":\"Line\"},{\"attributes\":{\"line_alpha\":0.2,\"line_color\":\"#6d904f\",\"line_width\":2,\"x\":{\"field\":\"Year\"},\"y\":{\"field\":\"Electricity from solar (TWh)\"}},\"id\":\"3250\",\"type\":\"Line\"},{\"attributes\":{},\"id\":\"3159\",\"type\":\"SaveTool\"},{\"attributes\":{\"coordinates\":null,\"data_source\":{\"id\":\"3245\"},\"glyph\":{\"id\":\"3248\"},\"group\":null,\"hover_glyph\":null,\"muted_glyph\":{\"id\":\"3250\"},\"nonselection_glyph\":{\"id\":\"3249\"},\"selection_glyph\":{\"id\":\"3270\"},\"view\":{\"id\":\"3252\"}},\"id\":\"3251\",\"type\":\"GlyphRenderer\"},{\"attributes\":{\"overlay\":{\"id\":\"3164\"}},\"id\":\"3162\",\"type\":\"BoxZoomTool\"},{\"attributes\":{},\"id\":\"3163\",\"type\":\"ResetTool\"},{\"attributes\":{\"source\":{\"id\":\"3245\"}},\"id\":\"3252\",\"type\":\"CDSView\"},{\"attributes\":{\"label\":{\"value\":\"United Kingdom\"},\"renderers\":[{\"id\":\"3251\"}]},\"id\":\"3269\",\"type\":\"LegendItem\"},{\"attributes\":{\"bottom_units\":\"screen\",\"coordinates\":null,\"fill_alpha\":0.5,\"fill_color\":\"lightgrey\",\"group\":null,\"left_units\":\"screen\",\"level\":\"overlay\",\"line_alpha\":1.0,\"line_color\":\"black\",\"line_dash\":[4,4],\"line_width\":2,\"right_units\":\"screen\",\"syncable\":false,\"top_units\":\"screen\"},\"id\":\"3164\",\"type\":\"BoxAnnotation\"},{\"attributes\":{},\"id\":\"3177\",\"type\":\"AllLabels\"},{\"attributes\":{\"data\":{\"Country\":[\"Spain\",\"Spain\",\"Spain\",\"Spain\",\"Spain\",\"Spain\",\"Spain\",\"Spain\",\"Spain\",\"Spain\",\"Spain\",\"Spain\",\"Spain\",\"Spain\",\"Spain\",\"Spain\",\"Spain\",\"Spain\",\"Spain\",\"Spain\",\"Spain\",\"Spain\",\"Spain\",\"Spain\",\"Spain\",\"Spain\",\"Spain\",\"Spain\",\"Spain\",\"Spain\",\"Spain\",\"Spain\",\"Spain\"],\"Electricity from solar (TWh)\":{\"__ndarray__\":\"exSuR+F6hD97FK5H4XqEP3sUrkfheoQ/exSuR+F6hD97FK5H4XqEP3sUrkfhepQ/exSuR+F6lD97FK5H4XqUP3sUrkfhepQ/uB6F61G4nj97FK5H4XqEP3sUrkfhepQ/exSuR+F6lD97FK5H4XqUP3sUrkfhepQ/mpmZmZmZqT+4HoXrUbi+P6RwPQrXo+A/pHA9CtejBEA9CtejcD0YQMP1KFyPwhxAzczMzMzMIkBxPQrXo/AnQDMzMzMzMypA16NwPQpXK0C4HoXrUbgrQEjhehSuRytAzczMzMzMLEB7FK5H4XopQDMzMzMzMy5A7FG4HoWrNECamZmZmRk7QMP1KFyPYkBA\",\"dtype\":\"float64\",\"order\":\"little\",\"shape\":[33]},\"Electricity_from_solar_left_parenthesis_TWh_right_parenthesis\":{\"__ndarray__\":\"exSuR+F6hD97FK5H4XqEP3sUrkfheoQ/exSuR+F6hD97FK5H4XqEP3sUrkfhepQ/exSuR+F6lD97FK5H4XqUP3sUrkfhepQ/uB6F61G4nj97FK5H4XqEP3sUrkfhepQ/exSuR+F6lD97FK5H4XqUP3sUrkfhepQ/mpmZmZmZqT+4HoXrUbi+P6RwPQrXo+A/pHA9CtejBEA9CtejcD0YQMP1KFyPwhxAzczMzMzMIkBxPQrXo/AnQDMzMzMzMypA16NwPQpXK0C4HoXrUbgrQEjhehSuRytAzczMzMzMLEB7FK5H4XopQDMzMzMzMy5A7FG4HoWrNECamZmZmRk7QMP1KFyPYkBA\",\"dtype\":\"float64\",\"order\":\"little\",\"shape\":[33]},\"Year\":[1990,1991,1992,1993,1994,1995,1996,1997,1998,1999,2000,2001,2002,2003,2004,2005,2006,2007,2008,2009,2010,2011,2012,2013,2014,2015,2016,2017,2018,2019,2020,2021,2022]},\"selected\":{\"id\":\"3200\"},\"selection_policy\":{\"id\":\"3216\"}},\"id\":\"3199\",\"type\":\"ColumnDataSource\"},{\"attributes\":{},\"id\":\"3193\",\"type\":\"UnionRenderers\"},{\"attributes\":{},\"id\":\"3176\",\"type\":\"BasicTickFormatter\"},{\"attributes\":{},\"id\":\"3222\",\"type\":\"Selection\"},{\"attributes\":{\"line_color\":\"#fc4f30\",\"line_width\":2,\"x\":{\"field\":\"Year\"},\"y\":{\"field\":\"Electricity from solar (TWh)\"}},\"id\":\"3220\",\"type\":\"Line\"},{\"attributes\":{\"data\":{\"Country\":[\"Switzerland\",\"Switzerland\",\"Switzerland\",\"Switzerland\",\"Switzerland\",\"Switzerland\",\"Switzerland\",\"Switzerland\",\"Switzerland\",\"Switzerland\",\"Switzerland\",\"Switzerland\",\"Switzerland\",\"Switzerland\",\"Switzerland\",\"Switzerland\",\"Switzerland\",\"Switzerland\",\"Switzerland\",\"Switzerland\",\"Switzerland\",\"Switzerland\",\"Switzerland\",\"Switzerland\",\"Switzerland\",\"Switzerland\",\"Switzerland\",\"Switzerland\",\"Switzerland\",\"Switzerland\",\"Switzerland\",\"Switzerland\"],\"Electricity from solar (TWh)\":{\"__ndarray__\":\"/Knx0k1iUD/8qfHSTWJgP/p+arx0k2g//Knx0k1icD97FK5H4Xp0P/p+arx0k3g/eekmMQisfD956SYxCKx8P/yp8dJNYoA/exSuR+F6hD97FK5H4XqEP3sUrkfheoQ/exSuR+F6hD97FK5H4XqUP3sUrkfhepQ/exSuR+F6lD97FK5H4XqUP7gehetRuJ4/uB6F61G4nj+amZmZmZmpPwrXo3A9Crc/w/UoXI/CxT8zMzMzMzPTPwAAAAAAAOA/4XoUrkfh6j/sUbgehevxP0jhehSuR/U/4XoUrkfh+j8zMzMzMzP/P3E9CtejcAFAzczMzMzMBEAfhetRuB4HQA==\",\"dtype\":\"float64\",\"order\":\"little\",\"shape\":[32]},\"Electricity_from_solar_left_parenthesis_TWh_right_parenthesis\":{\"__ndarray__\":\"/Knx0k1iUD/8qfHSTWJgP/p+arx0k2g//Knx0k1icD97FK5H4Xp0P/p+arx0k3g/eekmMQisfD956SYxCKx8P/yp8dJNYoA/exSuR+F6hD97FK5H4XqEP3sUrkfheoQ/exSuR+F6hD97FK5H4XqUP3sUrkfhepQ/exSuR+F6lD97FK5H4XqUP7gehetRuJ4/uB6F61G4nj+amZmZmZmpPwrXo3A9Crc/w/UoXI/CxT8zMzMzMzPTPwAAAAAAAOA/4XoUrkfh6j/sUbgehevxP0jhehSuR/U/4XoUrkfh+j8zMzMzMzP/P3E9CtejcAFAzczMzMzMBEAfhetRuB4HQA==\",\"dtype\":\"float64\",\"order\":\"little\",\"shape\":[32]},\"Year\":[1990,1991,1992,1993,1994,1995,1996,1997,1998,1999,2000,2001,2002,2003,2004,2005,2006,2007,2008,2009,2010,2011,2012,2013,2014,2015,2016,2017,2018,2019,2020,2021]},\"selected\":{\"id\":\"3222\"},\"selection_policy\":{\"id\":\"3240\"}},\"id\":\"3221\",\"type\":\"ColumnDataSource\"},{\"attributes\":{\"active_drag\":{\"id\":\"3160\"},\"active_scroll\":{\"id\":\"3161\"},\"tools\":[{\"id\":\"3138\"},{\"id\":\"3159\"},{\"id\":\"3160\"},{\"id\":\"3161\"},{\"id\":\"3162\"},{\"id\":\"3163\"}]},\"id\":\"3165\",\"type\":\"Toolbar\"},{\"attributes\":{\"end\":2022.0,\"reset_end\":2022.0,\"reset_start\":1990.0,\"start\":1990.0,\"tags\":[[[\"Year\",\"Year\",null]]]},\"id\":\"3136\",\"type\":\"Range1d\"},{\"attributes\":{\"children\":[{\"id\":\"3142\"}],\"height\":400,\"margin\":[0,0,0,0],\"name\":\"Row03068\",\"sizing_mode\":\"fixed\",\"tags\":[\"embedded\"],\"width\":700},\"id\":\"3135\",\"type\":\"Row\"},{\"attributes\":{\"line_color\":\"#6d904f\",\"line_width\":2,\"x\":{\"field\":\"Year\"},\"y\":{\"field\":\"Electricity from solar (TWh)\"}},\"id\":\"3270\",\"type\":\"Line\"},{\"attributes\":{\"data\":{\"Country\":[\"Germany\",\"Germany\",\"Germany\",\"Germany\",\"Germany\",\"Germany\",\"Germany\",\"Germany\",\"Germany\",\"Germany\",\"Germany\",\"Germany\",\"Germany\",\"Germany\",\"Germany\",\"Germany\",\"Germany\",\"Germany\",\"Germany\",\"Germany\",\"Germany\",\"Germany\",\"Germany\",\"Germany\",\"Germany\",\"Germany\",\"Germany\",\"Germany\",\"Germany\",\"Germany\",\"Germany\",\"Germany\",\"Germany\"],\"Electricity from solar (TWh)\":{\"__ndarray__\":\"AAAAAAAAAAAAAAAAAAAAAAAAAAAAAAAAAAAAAAAAAAB7FK5H4XqEP3sUrkfheoQ/exSuR+F6hD97FK5H4XqUP3sUrkfheqQ/uB6F61G4nj+4HoXrUbiuP7gehetRuL4/UrgehetRyD/Xo3A9CtfTP+xRuB6F6+E/exSuR+F69D/D9Shcj8IBQKRwPQrXowhArkfhehSuEUBSuB6F61EaQPYoXI/CdSdAmpmZmZmZM0DhehSuR2E6QMP1KFyPAj9ASOF6FK4HQkA9CtejcF1DQM3MzMzMDENAMzMzMzOzQ0B7FK5H4bpFQHE9CtejMEZAAAAAAADASEDsUbgehatIQD0K16NwfU1A\",\"dtype\":\"float64\",\"order\":\"little\",\"shape\":[33]},\"Electricity_from_solar_left_parenthesis_TWh_right_parenthesis\":{\"__ndarray__\":\"AAAAAAAAAAAAAAAAAAAAAAAAAAAAAAAAAAAAAAAAAAB7FK5H4XqEP3sUrkfheoQ/exSuR+F6hD97FK5H4XqUP3sUrkfheqQ/uB6F61G4nj+4HoXrUbiuP7gehetRuL4/UrgehetRyD/Xo3A9CtfTP+xRuB6F6+E/exSuR+F69D/D9Shcj8IBQKRwPQrXowhArkfhehSuEUBSuB6F61EaQPYoXI/CdSdAmpmZmZmZM0DhehSuR2E6QMP1KFyPAj9ASOF6FK4HQkA9CtejcF1DQM3MzMzMDENAMzMzMzOzQ0B7FK5H4bpFQHE9CtejMEZAAAAAAADASEDsUbgehatIQD0K16NwfU1A\",\"dtype\":\"float64\",\"order\":\"little\",\"shape\":[33]},\"Year\":[1990,1991,1992,1993,1994,1995,1996,1997,1998,1999,2000,2001,2002,2003,2004,2005,2006,2007,2008,2009,2010,2011,2012,2013,2014,2015,2016,2017,2018,2019,2020,2021,2022]},\"selected\":{\"id\":\"3179\"},\"selection_policy\":{\"id\":\"3193\"}},\"id\":\"3178\",\"type\":\"ColumnDataSource\"},{\"attributes\":{\"line_alpha\":0.1,\"line_color\":\"#e5ae38\",\"line_width\":2,\"x\":{\"field\":\"Year\"},\"y\":{\"field\":\"Electricity from solar (TWh)\"}},\"id\":\"3225\",\"type\":\"Line\"},{\"attributes\":{\"line_alpha\":0.2,\"line_color\":\"#e5ae38\",\"line_width\":2,\"x\":{\"field\":\"Year\"},\"y\":{\"field\":\"Electricity from solar (TWh)\"}},\"id\":\"3226\",\"type\":\"Line\"},{\"attributes\":{\"coordinates\":null,\"data_source\":{\"id\":\"3221\"},\"glyph\":{\"id\":\"3224\"},\"group\":null,\"hover_glyph\":null,\"muted_glyph\":{\"id\":\"3226\"},\"nonselection_glyph\":{\"id\":\"3225\"},\"selection_glyph\":{\"id\":\"3244\"},\"view\":{\"id\":\"3228\"}},\"id\":\"3227\",\"type\":\"GlyphRenderer\"},{\"attributes\":{\"source\":{\"id\":\"3221\"}},\"id\":\"3228\",\"type\":\"CDSView\"},{\"attributes\":{\"label\":{\"value\":\"Switzerland\"},\"renderers\":[{\"id\":\"3227\"}]},\"id\":\"3243\",\"type\":\"LegendItem\"},{\"attributes\":{},\"id\":\"3240\",\"type\":\"UnionRenderers\"},{\"attributes\":{\"label\":{\"value\":\"Spain\"},\"renderers\":[{\"id\":\"3205\"}]},\"id\":\"3219\",\"type\":\"LegendItem\"},{\"attributes\":{},\"id\":\"3173\",\"type\":\"BasicTickFormatter\"},{\"attributes\":{\"end\":64.878,\"reset_end\":64.878,\"reset_start\":-5.898,\"start\":-5.898,\"tags\":[[[\"Electricity from solar (TWh)\",\"Electricity from solar (TWh)\",null]]]},\"id\":\"3137\",\"type\":\"Range1d\"}],\"root_ids\":[\"3135\"]},\"title\":\"Bokeh Application\",\"version\":\"2.4.3\"}};\n",
       "    var render_items = [{\"docid\":\"301a746a-ec40-4019-96ec-8f177645af40\",\"root_ids\":[\"3135\"],\"roots\":{\"3135\":\"b9584746-b8c0-45ce-a8ad-c6c6f63a797c\"}}];\n",
       "    root.Bokeh.embed.embed_items_notebook(docs_json, render_items);\n",
       "    for (const render_item of render_items) {\n",
       "      for (const root_id of render_item.root_ids) {\n",
       "\tconst id_el = document.getElementById(root_id)\n",
       "\tif (id_el.children.length && (id_el.children[0].className === 'bk-root')) {\n",
       "\t  const root_el = id_el.children[0]\n",
       "\t  root_el.id = root_el.id + '-rendered'\n",
       "\t}\n",
       "      }\n",
       "    }\n",
       "  }\n",
       "  if (root.Bokeh !== undefined && root.Bokeh.Panel !== undefined) {\n",
       "    embed_document(root);\n",
       "  } else {\n",
       "    var attempts = 0;\n",
       "    var timer = setInterval(function(root) {\n",
       "      if (root.Bokeh !== undefined && root.Bokeh.Panel !== undefined) {\n",
       "        clearInterval(timer);\n",
       "        embed_document(root);\n",
       "      } else if (document.readyState == \"complete\") {\n",
       "        attempts++;\n",
       "        if (attempts > 200) {\n",
       "          clearInterval(timer);\n",
       "          console.log(\"Bokeh: ERROR: Unable to run BokehJS code because BokehJS library is missing\");\n",
       "        }\n",
       "      }\n",
       "    }, 25, root)\n",
       "  }\n",
       "})(window);</script>"
      ],
      "text/plain": [
       ":NdOverlay   [Country]\n",
       "   :Curve   [Year]   (Electricity from solar (TWh))"
      ]
     },
     "metadata": {
      "application/vnd.holoviews_exec.v0+json": {
       "id": "3135"
      }
     },
     "output_type": "display_data"
    },
    {
     "data": {},
     "metadata": {},
     "output_type": "display_data"
    },
    {
     "data": {
      "application/vnd.holoviews_exec.v0+json": "",
      "text/html": [
       "<div id='3372'>\n",
       "  <div class=\"bk-root\" id=\"4250f75d-3de6-4d4e-ade7-1efe15a43de5\" data-root-id=\"3372\"></div>\n",
       "</div>\n",
       "<script type=\"application/javascript\">(function(root) {\n",
       "  function embed_document(root) {\n",
       "    var docs_json = {\"31200a4c-5221-4c27-b0d2-c91ccad5a942\":{\"defs\":[{\"extends\":null,\"module\":null,\"name\":\"ReactiveHTML1\",\"overrides\":[],\"properties\":[]},{\"extends\":null,\"module\":null,\"name\":\"FlexBox1\",\"overrides\":[],\"properties\":[{\"default\":\"flex-start\",\"kind\":null,\"name\":\"align_content\"},{\"default\":\"flex-start\",\"kind\":null,\"name\":\"align_items\"},{\"default\":\"row\",\"kind\":null,\"name\":\"flex_direction\"},{\"default\":\"wrap\",\"kind\":null,\"name\":\"flex_wrap\"},{\"default\":\"flex-start\",\"kind\":null,\"name\":\"justify_content\"}]},{\"extends\":null,\"module\":null,\"name\":\"GridStack1\",\"overrides\":[],\"properties\":[{\"default\":\"warn\",\"kind\":null,\"name\":\"mode\"},{\"default\":null,\"kind\":null,\"name\":\"ncols\"},{\"default\":null,\"kind\":null,\"name\":\"nrows\"},{\"default\":true,\"kind\":null,\"name\":\"allow_resize\"},{\"default\":true,\"kind\":null,\"name\":\"allow_drag\"},{\"default\":[],\"kind\":null,\"name\":\"state\"}]},{\"extends\":null,\"module\":null,\"name\":\"click1\",\"overrides\":[],\"properties\":[{\"default\":\"\",\"kind\":null,\"name\":\"terminal_output\"},{\"default\":\"\",\"kind\":null,\"name\":\"debug_name\"},{\"default\":0,\"kind\":null,\"name\":\"clears\"}]},{\"extends\":null,\"module\":null,\"name\":\"NotificationAreaBase1\",\"overrides\":[],\"properties\":[{\"default\":\"bottom-right\",\"kind\":null,\"name\":\"position\"},{\"default\":0,\"kind\":null,\"name\":\"_clear\"}]},{\"extends\":null,\"module\":null,\"name\":\"NotificationArea1\",\"overrides\":[],\"properties\":[{\"default\":[],\"kind\":null,\"name\":\"notifications\"},{\"default\":\"bottom-right\",\"kind\":null,\"name\":\"position\"},{\"default\":0,\"kind\":null,\"name\":\"_clear\"},{\"default\":[{\"background\":\"#ffc107\",\"icon\":{\"className\":\"fas fa-exclamation-triangle\",\"color\":\"white\",\"tagName\":\"i\"},\"type\":\"warning\"},{\"background\":\"#007bff\",\"icon\":{\"className\":\"fas fa-info-circle\",\"color\":\"white\",\"tagName\":\"i\"},\"type\":\"info\"}],\"kind\":null,\"name\":\"types\"}]},{\"extends\":null,\"module\":null,\"name\":\"Notification\",\"overrides\":[],\"properties\":[{\"default\":null,\"kind\":null,\"name\":\"background\"},{\"default\":3000,\"kind\":null,\"name\":\"duration\"},{\"default\":null,\"kind\":null,\"name\":\"icon\"},{\"default\":\"\",\"kind\":null,\"name\":\"message\"},{\"default\":null,\"kind\":null,\"name\":\"notification_type\"},{\"default\":false,\"kind\":null,\"name\":\"_destroyed\"}]},{\"extends\":null,\"module\":null,\"name\":\"TemplateActions1\",\"overrides\":[],\"properties\":[{\"default\":0,\"kind\":null,\"name\":\"open_modal\"},{\"default\":0,\"kind\":null,\"name\":\"close_modal\"}]},{\"extends\":null,\"module\":null,\"name\":\"MaterialTemplateActions1\",\"overrides\":[],\"properties\":[{\"default\":0,\"kind\":null,\"name\":\"open_modal\"},{\"default\":0,\"kind\":null,\"name\":\"close_modal\"}]}],\"roots\":{\"references\":[{\"attributes\":{\"line_color\":\"#30a2da\",\"line_width\":2,\"x\":{\"field\":\"Year\"},\"y\":{\"field\":\"Solar (TWh growth - equivalent)\"}},\"id\":\"3418\",\"type\":\"Line\"},{\"attributes\":{\"line_alpha\":0.1,\"line_color\":\"#fc4f30\",\"line_width\":2,\"x\":{\"field\":\"Year\"},\"y\":{\"field\":\"Solar (TWh growth - equivalent)\"}},\"id\":\"3440\",\"type\":\"Line\"},{\"attributes\":{},\"id\":\"3411\",\"type\":\"AllLabels\"},{\"attributes\":{\"line_alpha\":0.1,\"line_color\":\"#30a2da\",\"line_width\":2,\"x\":{\"field\":\"Year\"},\"y\":{\"field\":\"Solar (TWh growth - equivalent)\"}},\"id\":\"3419\",\"type\":\"Line\"},{\"attributes\":{\"line_color\":\"#fc4f30\",\"line_width\":2,\"x\":{\"field\":\"Year\"},\"y\":{\"field\":\"Solar (TWh growth - equivalent)\"}},\"id\":\"3439\",\"type\":\"Line\"},{\"attributes\":{\"line_alpha\":0.2,\"line_color\":\"#30a2da\",\"line_width\":2,\"x\":{\"field\":\"Year\"},\"y\":{\"field\":\"Solar (TWh growth - equivalent)\"}},\"id\":\"3420\",\"type\":\"Line\"},{\"attributes\":{\"label\":{\"value\":\"Germany\"},\"renderers\":[{\"id\":\"3421\"}]},\"id\":\"3434\",\"type\":\"LegendItem\"},{\"attributes\":{\"coordinates\":null,\"data_source\":{\"id\":\"3415\"},\"glyph\":{\"id\":\"3418\"},\"group\":null,\"hover_glyph\":null,\"muted_glyph\":{\"id\":\"3420\"},\"nonselection_glyph\":{\"id\":\"3419\"},\"selection_glyph\":{\"id\":\"3435\"},\"view\":{\"id\":\"3422\"}},\"id\":\"3421\",\"type\":\"GlyphRenderer\"},{\"attributes\":{},\"id\":\"3397\",\"type\":\"PanTool\"},{\"attributes\":{\"source\":{\"id\":\"3415\"}},\"id\":\"3422\",\"type\":\"CDSView\"},{\"attributes\":{},\"id\":\"3437\",\"type\":\"Selection\"},{\"attributes\":{\"click_policy\":\"mute\",\"coordinates\":null,\"group\":null,\"items\":[{\"id\":\"3434\"},{\"id\":\"3456\"},{\"id\":\"3480\"},{\"id\":\"3506\"}],\"location\":[0,0],\"title\":\"Country\"},\"id\":\"3433\",\"type\":\"Legend\"},{\"attributes\":{\"line_color\":\"#30a2da\",\"line_width\":2,\"x\":{\"field\":\"Year\"},\"y\":{\"field\":\"Solar (TWh growth - equivalent)\"}},\"id\":\"3435\",\"type\":\"Line\"},{\"attributes\":{\"data\":{\"Country\":[\"United Kingdom\",\"United Kingdom\",\"United Kingdom\",\"United Kingdom\",\"United Kingdom\",\"United Kingdom\",\"United Kingdom\",\"United Kingdom\",\"United Kingdom\",\"United Kingdom\",\"United Kingdom\",\"United Kingdom\",\"United Kingdom\",\"United Kingdom\",\"United Kingdom\",\"United Kingdom\",\"United Kingdom\",\"United Kingdom\",\"United Kingdom\",\"United Kingdom\",\"United Kingdom\",\"United Kingdom\",\"United Kingdom\",\"United Kingdom\",\"United Kingdom\",\"United Kingdom\",\"United Kingdom\",\"United Kingdom\",\"United Kingdom\",\"United Kingdom\",\"United Kingdom\",\"United Kingdom\"],\"Solar (TWh growth - equivalent)\":{\"__ndarray__\":\"AAAAAAAAAAAAAAAAAAAAAAAAAAAAAAAAAAAAAAAAAAAAAAAAAAAAAAAAAAAAAAAAAAAAAAAAAAAAAAAAAAAAAAAAAAAAAAAAAAAAAAAAAAAAAAAAAAAAAAAAAAAAAAAAAAAAAAAAAAAAAAAAAAAAAAAAAAAAAAAAexSuR+F6hD8AAAAAAAAAAAAAAAAAAAAAexSuR+F6hD8AAAAAAAAAAHsUrkfhepQ/mpmZmZmZyT/D9Shcj8LxPx+F61G4HuU/UrgehetRAEDXo3A9CtcLQPYoXI/C9QZA9ihcj8L18D97FK5H4Xr0PwrXo3A9Csc/mpmZmZmZ2T8zMzMzMzPrvw==\",\"dtype\":\"float64\",\"order\":\"little\",\"shape\":[32]},\"Solar_left_parenthesis_TWh_growth_hyphen_minus_equivalent_right_parenthesis\":{\"__ndarray__\":\"AAAAAAAAAAAAAAAAAAAAAAAAAAAAAAAAAAAAAAAAAAAAAAAAAAAAAAAAAAAAAAAAAAAAAAAAAAAAAAAAAAAAAAAAAAAAAAAAAAAAAAAAAAAAAAAAAAAAAAAAAAAAAAAAAAAAAAAAAAAAAAAAAAAAAAAAAAAAAAAAexSuR+F6hD8AAAAAAAAAAAAAAAAAAAAAexSuR+F6hD8AAAAAAAAAAHsUrkfhepQ/mpmZmZmZyT/D9Shcj8LxPx+F61G4HuU/UrgehetRAEDXo3A9CtcLQPYoXI/C9QZA9ihcj8L18D97FK5H4Xr0PwrXo3A9Csc/mpmZmZmZ2T8zMzMzMzPrvw==\",\"dtype\":\"float64\",\"order\":\"little\",\"shape\":[32]},\"Year\":[1990,1991,1992,1993,1994,1995,1996,1997,1998,1999,2000,2001,2002,2003,2004,2005,2006,2007,2008,2009,2010,2011,2012,2013,2014,2015,2016,2017,2018,2019,2020,2021]},\"selected\":{\"id\":\"3483\"},\"selection_policy\":{\"id\":\"3503\"}},\"id\":\"3482\",\"type\":\"ColumnDataSource\"},{\"attributes\":{\"coordinates\":null,\"group\":null,\"text\":\"Annual Change Solar Energy Generation\",\"text_color\":\"black\",\"text_font_size\":\"12pt\"},\"id\":\"3380\",\"type\":\"Title\"},{\"attributes\":{\"coordinates\":null,\"data_source\":{\"id\":\"3458\"},\"glyph\":{\"id\":\"3461\"},\"group\":null,\"hover_glyph\":null,\"muted_glyph\":{\"id\":\"3463\"},\"nonselection_glyph\":{\"id\":\"3462\"},\"selection_glyph\":{\"id\":\"3481\"},\"view\":{\"id\":\"3465\"}},\"id\":\"3464\",\"type\":\"GlyphRenderer\"},{\"attributes\":{},\"id\":\"3384\",\"type\":\"LinearScale\"},{\"attributes\":{\"axis\":{\"id\":\"3392\"},\"coordinates\":null,\"dimension\":1,\"grid_line_color\":null,\"group\":null,\"ticker\":null},\"id\":\"3395\",\"type\":\"Grid\"},{\"attributes\":{},\"id\":\"3459\",\"type\":\"Selection\"},{\"attributes\":{\"axis\":{\"id\":\"3388\"},\"coordinates\":null,\"grid_line_color\":null,\"group\":null,\"ticker\":null},\"id\":\"3391\",\"type\":\"Grid\"},{\"attributes\":{\"axis_label\":\"Year\",\"coordinates\":null,\"formatter\":{\"id\":\"3410\"},\"group\":null,\"major_label_policy\":{\"id\":\"3411\"},\"ticker\":{\"id\":\"3389\"}},\"id\":\"3388\",\"type\":\"LinearAxis\"},{\"attributes\":{},\"id\":\"3386\",\"type\":\"LinearScale\"},{\"attributes\":{\"coordinates\":null,\"data_source\":{\"id\":\"3436\"},\"glyph\":{\"id\":\"3439\"},\"group\":null,\"hover_glyph\":null,\"muted_glyph\":{\"id\":\"3441\"},\"nonselection_glyph\":{\"id\":\"3440\"},\"selection_glyph\":{\"id\":\"3457\"},\"view\":{\"id\":\"3443\"}},\"id\":\"3442\",\"type\":\"GlyphRenderer\"},{\"attributes\":{\"label\":{\"value\":\"Spain\"},\"renderers\":[{\"id\":\"3442\"}]},\"id\":\"3456\",\"type\":\"LegendItem\"},{\"attributes\":{\"line_alpha\":0.2,\"line_color\":\"#fc4f30\",\"line_width\":2,\"x\":{\"field\":\"Year\"},\"y\":{\"field\":\"Solar (TWh growth - equivalent)\"}},\"id\":\"3441\",\"type\":\"Line\"},{\"attributes\":{},\"id\":\"3389\",\"type\":\"BasicTicker\"},{\"attributes\":{\"source\":{\"id\":\"3436\"}},\"id\":\"3443\",\"type\":\"CDSView\"},{\"attributes\":{},\"id\":\"3398\",\"type\":\"WheelZoomTool\"},{\"attributes\":{\"line_color\":\"#e5ae38\",\"line_width\":2,\"x\":{\"field\":\"Year\"},\"y\":{\"field\":\"Solar (TWh growth - equivalent)\"}},\"id\":\"3481\",\"type\":\"Line\"},{\"attributes\":{},\"id\":\"3393\",\"type\":\"BasicTicker\"},{\"attributes\":{\"coordinates\":null,\"data_source\":{\"id\":\"3482\"},\"glyph\":{\"id\":\"3485\"},\"group\":null,\"hover_glyph\":null,\"muted_glyph\":{\"id\":\"3487\"},\"nonselection_glyph\":{\"id\":\"3486\"},\"selection_glyph\":{\"id\":\"3507\"},\"view\":{\"id\":\"3489\"}},\"id\":\"3488\",\"type\":\"GlyphRenderer\"},{\"attributes\":{},\"id\":\"3396\",\"type\":\"SaveTool\"},{\"attributes\":{},\"id\":\"3453\",\"type\":\"UnionRenderers\"},{\"attributes\":{},\"id\":\"3483\",\"type\":\"Selection\"},{\"attributes\":{\"overlay\":{\"id\":\"3401\"}},\"id\":\"3399\",\"type\":\"BoxZoomTool\"},{\"attributes\":{},\"id\":\"3400\",\"type\":\"ResetTool\"},{\"attributes\":{\"data\":{\"Country\":[\"Germany\",\"Germany\",\"Germany\",\"Germany\",\"Germany\",\"Germany\",\"Germany\",\"Germany\",\"Germany\",\"Germany\",\"Germany\",\"Germany\",\"Germany\",\"Germany\",\"Germany\",\"Germany\",\"Germany\",\"Germany\",\"Germany\",\"Germany\",\"Germany\",\"Germany\",\"Germany\",\"Germany\",\"Germany\",\"Germany\",\"Germany\",\"Germany\",\"Germany\",\"Germany\",\"Germany\",\"Germany\",\"Germany\"],\"Solar (TWh growth - equivalent)\":{\"__ndarray__\":\"AAAAAAAAAAAAAAAAAAAAAAAAAAAAAAAAAAAAAAAAAAB7FK5H4XqEPwAAAAAAAAAAAAAAAAAAAAB7FK5H4XqEP3sUrkfhepQ/exSuR+F6hL+4HoXrUbieP7gehetRuK4/7FG4HoXrsT+4HoXrUbi+PwAAAAAAANA/CtejcD0K5z8UrkfhehTuP4XrUbgehes/cT0K16Nw9T9I4XoUrkcBQJqZmZmZmRRAexSuR+F6H0AfhetRuB4bQIXrUbgehRJAMzMzMzMzFEBcj8L1KFwFQClcj8L1KOS/zczMzMzM9D89CtejcD0QQHE9CtejcO0/exSuR+F6FEB7FK5H4XrEv0jhehSuRyNA\",\"dtype\":\"float64\",\"order\":\"little\",\"shape\":[33]},\"Solar_left_parenthesis_TWh_growth_hyphen_minus_equivalent_right_parenthesis\":{\"__ndarray__\":\"AAAAAAAAAAAAAAAAAAAAAAAAAAAAAAAAAAAAAAAAAAB7FK5H4XqEPwAAAAAAAAAAAAAAAAAAAAB7FK5H4XqEP3sUrkfhepQ/exSuR+F6hL+4HoXrUbieP7gehetRuK4/7FG4HoXrsT+4HoXrUbi+PwAAAAAAANA/CtejcD0K5z8UrkfhehTuP4XrUbgehes/cT0K16Nw9T9I4XoUrkcBQJqZmZmZmRRAexSuR+F6H0AfhetRuB4bQIXrUbgehRJAMzMzMzMzFEBcj8L1KFwFQClcj8L1KOS/zczMzMzM9D89CtejcD0QQHE9CtejcO0/exSuR+F6FEB7FK5H4XrEv0jhehSuRyNA\",\"dtype\":\"float64\",\"order\":\"little\",\"shape\":[33]},\"Year\":[1990,1991,1992,1993,1994,1995,1996,1997,1998,1999,2000,2001,2002,2003,2004,2005,2006,2007,2008,2009,2010,2011,2012,2013,2014,2015,2016,2017,2018,2019,2020,2021,2022]},\"selected\":{\"id\":\"3416\"},\"selection_policy\":{\"id\":\"3430\"}},\"id\":\"3415\",\"type\":\"ColumnDataSource\"},{\"attributes\":{\"line_alpha\":0.2,\"line_color\":\"#6d904f\",\"line_width\":2,\"x\":{\"field\":\"Year\"},\"y\":{\"field\":\"Solar (TWh growth - equivalent)\"}},\"id\":\"3487\",\"type\":\"Line\"},{\"attributes\":{\"bottom_units\":\"screen\",\"coordinates\":null,\"fill_alpha\":0.5,\"fill_color\":\"lightgrey\",\"group\":null,\"left_units\":\"screen\",\"level\":\"overlay\",\"line_alpha\":1.0,\"line_color\":\"black\",\"line_dash\":[4,4],\"line_width\":2,\"right_units\":\"screen\",\"syncable\":false,\"top_units\":\"screen\"},\"id\":\"3401\",\"type\":\"BoxAnnotation\"},{\"attributes\":{\"line_alpha\":0.1,\"line_color\":\"#6d904f\",\"line_width\":2,\"x\":{\"field\":\"Year\"},\"y\":{\"field\":\"Solar (TWh growth - equivalent)\"}},\"id\":\"3486\",\"type\":\"Line\"},{\"attributes\":{\"data\":{\"Country\":[\"Spain\",\"Spain\",\"Spain\",\"Spain\",\"Spain\",\"Spain\",\"Spain\",\"Spain\",\"Spain\",\"Spain\",\"Spain\",\"Spain\",\"Spain\",\"Spain\",\"Spain\",\"Spain\",\"Spain\",\"Spain\",\"Spain\",\"Spain\",\"Spain\",\"Spain\",\"Spain\",\"Spain\",\"Spain\",\"Spain\",\"Spain\",\"Spain\",\"Spain\",\"Spain\",\"Spain\",\"Spain\",\"Spain\"],\"Solar (TWh growth - equivalent)\":{\"__ndarray__\":\"AAAAAAAAAAAAAAAAAAAAAAAAAAAAAAAAAAAAAAAAAAAAAAAAAAAAAHsUrkfheoQ/AAAAAAAAAAAAAAAAAAAAAAAAAAAAAAAAexSuR+F6hD97FK5H4XqUv3sUrkfheoQ/AAAAAAAAAAAAAAAAAAAAAAAAAAAAAAAAuB6F61G4nj/sUbgeheuxP5qZmZmZmdk/exSuR+F6AEDXo3A9CtcLQBSuR+F6FPI/rkfhehSuAUCPwvUoXI8EQBSuR+F6FPI/PQrXo3A94j9SuB6F61HIPylcj8L1KMy/UrgehetR6D+PwvUoXI/6v+F6FK5H4QJASOF6FK5HFkC4HoXrUbgZQK5H4XoUrhZA\",\"dtype\":\"float64\",\"order\":\"little\",\"shape\":[33]},\"Solar_left_parenthesis_TWh_growth_hyphen_minus_equivalent_right_parenthesis\":{\"__ndarray__\":\"AAAAAAAAAAAAAAAAAAAAAAAAAAAAAAAAAAAAAAAAAAAAAAAAAAAAAHsUrkfheoQ/AAAAAAAAAAAAAAAAAAAAAAAAAAAAAAAAexSuR+F6hD97FK5H4XqUv3sUrkfheoQ/AAAAAAAAAAAAAAAAAAAAAAAAAAAAAAAAuB6F61G4nj/sUbgeheuxP5qZmZmZmdk/exSuR+F6AEDXo3A9CtcLQBSuR+F6FPI/rkfhehSuAUCPwvUoXI8EQBSuR+F6FPI/PQrXo3A94j9SuB6F61HIPylcj8L1KMy/UrgehetR6D+PwvUoXI/6v+F6FK5H4QJASOF6FK5HFkC4HoXrUbgZQK5H4XoUrhZA\",\"dtype\":\"float64\",\"order\":\"little\",\"shape\":[33]},\"Year\":[1990,1991,1992,1993,1994,1995,1996,1997,1998,1999,2000,2001,2002,2003,2004,2005,2006,2007,2008,2009,2010,2011,2012,2013,2014,2015,2016,2017,2018,2019,2020,2021,2022]},\"selected\":{\"id\":\"3437\"},\"selection_policy\":{\"id\":\"3453\"}},\"id\":\"3436\",\"type\":\"ColumnDataSource\"},{\"attributes\":{\"source\":{\"id\":\"3482\"}},\"id\":\"3489\",\"type\":\"CDSView\"},{\"attributes\":{\"line_color\":\"#6d904f\",\"line_width\":2,\"x\":{\"field\":\"Year\"},\"y\":{\"field\":\"Solar (TWh growth - equivalent)\"}},\"id\":\"3485\",\"type\":\"Line\"},{\"attributes\":{},\"id\":\"3430\",\"type\":\"UnionRenderers\"},{\"attributes\":{\"label\":{\"value\":\"United Kingdom\"},\"renderers\":[{\"id\":\"3488\"}]},\"id\":\"3506\",\"type\":\"LegendItem\"},{\"attributes\":{},\"id\":\"3503\",\"type\":\"UnionRenderers\"},{\"attributes\":{},\"id\":\"3414\",\"type\":\"AllLabels\"},{\"attributes\":{\"below\":[{\"id\":\"3388\"}],\"center\":[{\"id\":\"3391\"},{\"id\":\"3395\"}],\"height\":400,\"left\":[{\"id\":\"3392\"}],\"margin\":[5,5,5,5],\"min_border_bottom\":10,\"min_border_left\":10,\"min_border_right\":10,\"min_border_top\":10,\"renderers\":[{\"id\":\"3421\"},{\"id\":\"3442\"},{\"id\":\"3464\"},{\"id\":\"3488\"}],\"right\":[{\"id\":\"3433\"}],\"sizing_mode\":\"fixed\",\"title\":{\"id\":\"3380\"},\"toolbar\":{\"id\":\"3402\"},\"width\":700,\"x_range\":{\"id\":\"3373\"},\"x_scale\":{\"id\":\"3384\"},\"y_range\":{\"id\":\"3374\"},\"y_scale\":{\"id\":\"3386\"}},\"id\":\"3379\",\"subtype\":\"Figure\",\"type\":\"Plot\"},{\"attributes\":{},\"id\":\"3413\",\"type\":\"BasicTickFormatter\"},{\"attributes\":{\"end\":10.770000000000001,\"reset_end\":10.770000000000001,\"reset_start\":-2.79,\"start\":-2.79,\"tags\":[[[\"Solar (TWh growth - equivalent)\",\"Solar (TWh growth - equivalent)\",null]]]},\"id\":\"3374\",\"type\":\"Range1d\"},{\"attributes\":{\"line_color\":\"#fc4f30\",\"line_width\":2,\"x\":{\"field\":\"Year\"},\"y\":{\"field\":\"Solar (TWh growth - equivalent)\"}},\"id\":\"3457\",\"type\":\"Line\"},{\"attributes\":{\"axis_label\":\"Solar (TWh growth - equivalent)\",\"coordinates\":null,\"formatter\":{\"id\":\"3413\"},\"group\":null,\"major_label_policy\":{\"id\":\"3414\"},\"ticker\":{\"id\":\"3393\"}},\"id\":\"3392\",\"type\":\"LinearAxis\"},{\"attributes\":{\"active_drag\":{\"id\":\"3397\"},\"active_scroll\":{\"id\":\"3398\"},\"tools\":[{\"id\":\"3375\"},{\"id\":\"3396\"},{\"id\":\"3397\"},{\"id\":\"3398\"},{\"id\":\"3399\"},{\"id\":\"3400\"}]},\"id\":\"3402\",\"type\":\"Toolbar\"},{\"attributes\":{\"data\":{\"Country\":[\"Switzerland\",\"Switzerland\",\"Switzerland\",\"Switzerland\",\"Switzerland\",\"Switzerland\",\"Switzerland\",\"Switzerland\",\"Switzerland\",\"Switzerland\",\"Switzerland\",\"Switzerland\",\"Switzerland\",\"Switzerland\",\"Switzerland\",\"Switzerland\",\"Switzerland\",\"Switzerland\",\"Switzerland\",\"Switzerland\",\"Switzerland\",\"Switzerland\",\"Switzerland\",\"Switzerland\",\"Switzerland\",\"Switzerland\",\"Switzerland\",\"Switzerland\",\"Switzerland\",\"Switzerland\",\"Switzerland\",\"Switzerland\"],\"Solar (TWh growth - equivalent)\":{\"__ndarray__\":\"AAAAAAAAAAD8qfHSTWJQP/yp8dJNYlA//Knx0k1iUD/8qfHSTWJQP/yp8dJNYlA//Knx0k1iUD8AAAAAAAAAAPyp8dJNYlA//Knx0k1iYD8AAAAAAAAAAAAAAAAAAAAAAAAAAAAAAAB7FK5H4XqEPwAAAAAAAAAAAAAAAAAAAAAAAAAAAAAAAHsUrkfheoQ/AAAAAAAAAAB7FK5H4XqUP3sUrkfheqQ/exSuR+F6tD+kcD0K16PAP5qZmZmZmck/w/UoXI/C1T/sUbgehevRP+F6FK5H4co/ZmZmZmZm1j9I4XoUrkfRP3E9CtejcM0/4XoUrkfh2j+PwvUoXI/SPw==\",\"dtype\":\"float64\",\"order\":\"little\",\"shape\":[32]},\"Solar_left_parenthesis_TWh_growth_hyphen_minus_equivalent_right_parenthesis\":{\"__ndarray__\":\"AAAAAAAAAAD8qfHSTWJQP/yp8dJNYlA//Knx0k1iUD/8qfHSTWJQP/yp8dJNYlA//Knx0k1iUD8AAAAAAAAAAPyp8dJNYlA//Knx0k1iYD8AAAAAAAAAAAAAAAAAAAAAAAAAAAAAAAB7FK5H4XqEPwAAAAAAAAAAAAAAAAAAAAAAAAAAAAAAAHsUrkfheoQ/AAAAAAAAAAB7FK5H4XqUP3sUrkfheqQ/exSuR+F6tD+kcD0K16PAP5qZmZmZmck/w/UoXI/C1T/sUbgehevRP+F6FK5H4co/ZmZmZmZm1j9I4XoUrkfRP3E9CtejcM0/4XoUrkfh2j+PwvUoXI/SPw==\",\"dtype\":\"float64\",\"order\":\"little\",\"shape\":[32]},\"Year\":[1990,1991,1992,1993,1994,1995,1996,1997,1998,1999,2000,2001,2002,2003,2004,2005,2006,2007,2008,2009,2010,2011,2012,2013,2014,2015,2016,2017,2018,2019,2020,2021]},\"selected\":{\"id\":\"3459\"},\"selection_policy\":{\"id\":\"3477\"}},\"id\":\"3458\",\"type\":\"ColumnDataSource\"},{\"attributes\":{\"line_color\":\"#e5ae38\",\"line_width\":2,\"x\":{\"field\":\"Year\"},\"y\":{\"field\":\"Solar (TWh growth - equivalent)\"}},\"id\":\"3461\",\"type\":\"Line\"},{\"attributes\":{\"callback\":null,\"renderers\":[{\"id\":\"3421\"},{\"id\":\"3442\"},{\"id\":\"3464\"},{\"id\":\"3488\"}],\"tags\":[\"hv_created\"],\"tooltips\":[[\"Country\",\"@{Country}\"],[\"Year\",\"@{Year}\"],[\"Solar (TWh growth - equivalent)\",\"@{Solar_left_parenthesis_TWh_growth_hyphen_minus_equivalent_right_parenthesis}\"]]},\"id\":\"3375\",\"type\":\"HoverTool\"},{\"attributes\":{\"line_alpha\":0.2,\"line_color\":\"#e5ae38\",\"line_width\":2,\"x\":{\"field\":\"Year\"},\"y\":{\"field\":\"Solar (TWh growth - equivalent)\"}},\"id\":\"3463\",\"type\":\"Line\"},{\"attributes\":{\"end\":2022.0,\"reset_end\":2022.0,\"reset_start\":1990.0,\"start\":1990.0,\"tags\":[[[\"Year\",\"Year\",null]]]},\"id\":\"3373\",\"type\":\"Range1d\"},{\"attributes\":{\"line_alpha\":0.1,\"line_color\":\"#e5ae38\",\"line_width\":2,\"x\":{\"field\":\"Year\"},\"y\":{\"field\":\"Solar (TWh growth - equivalent)\"}},\"id\":\"3462\",\"type\":\"Line\"},{\"attributes\":{\"children\":[{\"id\":\"3379\"}],\"height\":400,\"margin\":[0,0,0,0],\"name\":\"Row03304\",\"sizing_mode\":\"fixed\",\"tags\":[\"embedded\"],\"width\":700},\"id\":\"3372\",\"type\":\"Row\"},{\"attributes\":{\"source\":{\"id\":\"3458\"}},\"id\":\"3465\",\"type\":\"CDSView\"},{\"attributes\":{\"line_color\":\"#6d904f\",\"line_width\":2,\"x\":{\"field\":\"Year\"},\"y\":{\"field\":\"Solar (TWh growth - equivalent)\"}},\"id\":\"3507\",\"type\":\"Line\"},{\"attributes\":{},\"id\":\"3416\",\"type\":\"Selection\"},{\"attributes\":{},\"id\":\"3410\",\"type\":\"BasicTickFormatter\"},{\"attributes\":{\"label\":{\"value\":\"Switzerland\"},\"renderers\":[{\"id\":\"3464\"}]},\"id\":\"3480\",\"type\":\"LegendItem\"},{\"attributes\":{},\"id\":\"3477\",\"type\":\"UnionRenderers\"}],\"root_ids\":[\"3372\"]},\"title\":\"Bokeh Application\",\"version\":\"2.4.3\"}};\n",
       "    var render_items = [{\"docid\":\"31200a4c-5221-4c27-b0d2-c91ccad5a942\",\"root_ids\":[\"3372\"],\"roots\":{\"3372\":\"4250f75d-3de6-4d4e-ade7-1efe15a43de5\"}}];\n",
       "    root.Bokeh.embed.embed_items_notebook(docs_json, render_items);\n",
       "    for (const render_item of render_items) {\n",
       "      for (const root_id of render_item.root_ids) {\n",
       "\tconst id_el = document.getElementById(root_id)\n",
       "\tif (id_el.children.length && (id_el.children[0].className === 'bk-root')) {\n",
       "\t  const root_el = id_el.children[0]\n",
       "\t  root_el.id = root_el.id + '-rendered'\n",
       "\t}\n",
       "      }\n",
       "    }\n",
       "  }\n",
       "  if (root.Bokeh !== undefined && root.Bokeh.Panel !== undefined) {\n",
       "    embed_document(root);\n",
       "  } else {\n",
       "    var attempts = 0;\n",
       "    var timer = setInterval(function(root) {\n",
       "      if (root.Bokeh !== undefined && root.Bokeh.Panel !== undefined) {\n",
       "        clearInterval(timer);\n",
       "        embed_document(root);\n",
       "      } else if (document.readyState == \"complete\") {\n",
       "        attempts++;\n",
       "        if (attempts > 200) {\n",
       "          clearInterval(timer);\n",
       "          console.log(\"Bokeh: ERROR: Unable to run BokehJS code because BokehJS library is missing\");\n",
       "        }\n",
       "      }\n",
       "    }, 25, root)\n",
       "  }\n",
       "})(window);</script>"
      ],
      "text/plain": [
       ":NdOverlay   [Country]\n",
       "   :Curve   [Year]   (Solar (TWh growth - equivalent))"
      ]
     },
     "metadata": {
      "application/vnd.holoviews_exec.v0+json": {
       "id": "3372"
      }
     },
     "output_type": "display_data"
    },
    {
     "data": {},
     "metadata": {},
     "output_type": "display_data"
    },
    {
     "data": {
      "application/vnd.holoviews_exec.v0+json": "",
      "text/html": [
       "<div id='3609'>\n",
       "  <div class=\"bk-root\" id=\"61d6de71-f4b4-4d9e-9888-f6b99f569bd6\" data-root-id=\"3609\"></div>\n",
       "</div>\n",
       "<script type=\"application/javascript\">(function(root) {\n",
       "  function embed_document(root) {\n",
       "    var docs_json = {\"3c1f5731-563d-4bc5-9fba-5d8bca1714f1\":{\"defs\":[{\"extends\":null,\"module\":null,\"name\":\"ReactiveHTML1\",\"overrides\":[],\"properties\":[]},{\"extends\":null,\"module\":null,\"name\":\"FlexBox1\",\"overrides\":[],\"properties\":[{\"default\":\"flex-start\",\"kind\":null,\"name\":\"align_content\"},{\"default\":\"flex-start\",\"kind\":null,\"name\":\"align_items\"},{\"default\":\"row\",\"kind\":null,\"name\":\"flex_direction\"},{\"default\":\"wrap\",\"kind\":null,\"name\":\"flex_wrap\"},{\"default\":\"flex-start\",\"kind\":null,\"name\":\"justify_content\"}]},{\"extends\":null,\"module\":null,\"name\":\"GridStack1\",\"overrides\":[],\"properties\":[{\"default\":\"warn\",\"kind\":null,\"name\":\"mode\"},{\"default\":null,\"kind\":null,\"name\":\"ncols\"},{\"default\":null,\"kind\":null,\"name\":\"nrows\"},{\"default\":true,\"kind\":null,\"name\":\"allow_resize\"},{\"default\":true,\"kind\":null,\"name\":\"allow_drag\"},{\"default\":[],\"kind\":null,\"name\":\"state\"}]},{\"extends\":null,\"module\":null,\"name\":\"click1\",\"overrides\":[],\"properties\":[{\"default\":\"\",\"kind\":null,\"name\":\"terminal_output\"},{\"default\":\"\",\"kind\":null,\"name\":\"debug_name\"},{\"default\":0,\"kind\":null,\"name\":\"clears\"}]},{\"extends\":null,\"module\":null,\"name\":\"NotificationAreaBase1\",\"overrides\":[],\"properties\":[{\"default\":\"bottom-right\",\"kind\":null,\"name\":\"position\"},{\"default\":0,\"kind\":null,\"name\":\"_clear\"}]},{\"extends\":null,\"module\":null,\"name\":\"NotificationArea1\",\"overrides\":[],\"properties\":[{\"default\":[],\"kind\":null,\"name\":\"notifications\"},{\"default\":\"bottom-right\",\"kind\":null,\"name\":\"position\"},{\"default\":0,\"kind\":null,\"name\":\"_clear\"},{\"default\":[{\"background\":\"#ffc107\",\"icon\":{\"className\":\"fas fa-exclamation-triangle\",\"color\":\"white\",\"tagName\":\"i\"},\"type\":\"warning\"},{\"background\":\"#007bff\",\"icon\":{\"className\":\"fas fa-info-circle\",\"color\":\"white\",\"tagName\":\"i\"},\"type\":\"info\"}],\"kind\":null,\"name\":\"types\"}]},{\"extends\":null,\"module\":null,\"name\":\"Notification\",\"overrides\":[],\"properties\":[{\"default\":null,\"kind\":null,\"name\":\"background\"},{\"default\":3000,\"kind\":null,\"name\":\"duration\"},{\"default\":null,\"kind\":null,\"name\":\"icon\"},{\"default\":\"\",\"kind\":null,\"name\":\"message\"},{\"default\":null,\"kind\":null,\"name\":\"notification_type\"},{\"default\":false,\"kind\":null,\"name\":\"_destroyed\"}]},{\"extends\":null,\"module\":null,\"name\":\"TemplateActions1\",\"overrides\":[],\"properties\":[{\"default\":0,\"kind\":null,\"name\":\"open_modal\"},{\"default\":0,\"kind\":null,\"name\":\"close_modal\"}]},{\"extends\":null,\"module\":null,\"name\":\"MaterialTemplateActions1\",\"overrides\":[],\"properties\":[{\"default\":0,\"kind\":null,\"name\":\"open_modal\"},{\"default\":0,\"kind\":null,\"name\":\"close_modal\"}]}],\"roots\":{\"references\":[{\"attributes\":{},\"id\":\"3648\",\"type\":\"AllLabels\"},{\"attributes\":{},\"id\":\"3634\",\"type\":\"PanTool\"},{\"attributes\":{\"axis_label\":\"Solar (% growth)\",\"coordinates\":null,\"formatter\":{\"id\":\"3650\"},\"group\":null,\"major_label_policy\":{\"id\":\"3651\"},\"ticker\":{\"id\":\"3630\"}},\"id\":\"3629\",\"type\":\"LinearAxis\"},{\"attributes\":{\"axis\":{\"id\":\"3629\"},\"coordinates\":null,\"dimension\":1,\"grid_line_color\":null,\"group\":null,\"ticker\":null},\"id\":\"3632\",\"type\":\"Grid\"},{\"attributes\":{},\"id\":\"3630\",\"type\":\"BasicTicker\"},{\"attributes\":{},\"id\":\"3635\",\"type\":\"WheelZoomTool\"},{\"attributes\":{},\"id\":\"3633\",\"type\":\"SaveTool\"},{\"attributes\":{\"overlay\":{\"id\":\"3638\"}},\"id\":\"3636\",\"type\":\"BoxZoomTool\"},{\"attributes\":{\"data\":{\"Country\":[\"Spain\",\"Spain\",\"Spain\",\"Spain\",\"Spain\",\"Spain\",\"Spain\",\"Spain\",\"Spain\",\"Spain\",\"Spain\",\"Spain\",\"Spain\",\"Spain\",\"Spain\",\"Spain\",\"Spain\",\"Spain\",\"Spain\",\"Spain\",\"Spain\",\"Spain\",\"Spain\",\"Spain\",\"Spain\",\"Spain\",\"Spain\",\"Spain\",\"Spain\",\"Spain\",\"Spain\",\"Spain\",\"Spain\"],\"Solar (% growth)\":{\"__ndarray__\":\"AAAAAAAAAAAAAAAAAAAAAAAAAAAAAAAAAAAAAAAAAAAAAAAAAAAAAAAAAAAAAFlAAAAAAAAAAAAAAAAAAAAAAAAAAAAAAAAAAAAAAAAASUDNzMzMzKxQwAAAAAAAAFlAAAAAAAAAAAAAAAAAAAAAAAAAAAAAAAAAAAAAAADAYkAAAAAAAIBhQM3MzMzM1HRANDMzMzPDeEDNzMzMzNxgQJqZmZmZmTJAMzMzMzOzPkDNzMzMzEw7QM3MzMzMzCJAmZmZmZmZEUBnZmZmZmb2P5qZmZmZmfm/Z2ZmZmZmFkAAAAAAAAAnwAAAAAAAgDJAMzMzMzNzQkCamZmZmRk/QGZmZmZm5jRA\",\"dtype\":\"float64\",\"order\":\"little\",\"shape\":[33]},\"Solar_left_parenthesis_percent_growth_right_parenthesis\":{\"__ndarray__\":\"AAAAAAAAAAAAAAAAAAAAAAAAAAAAAAAAAAAAAAAAAAAAAAAAAAAAAAAAAAAAAFlAAAAAAAAAAAAAAAAAAAAAAAAAAAAAAAAAAAAAAAAASUDNzMzMzKxQwAAAAAAAAFlAAAAAAAAAAAAAAAAAAAAAAAAAAAAAAAAAAAAAAADAYkAAAAAAAIBhQM3MzMzM1HRANDMzMzPDeEDNzMzMzNxgQJqZmZmZmTJAMzMzMzOzPkDNzMzMzEw7QM3MzMzMzCJAmZmZmZmZEUBnZmZmZmb2P5qZmZmZmfm/Z2ZmZmZmFkAAAAAAAAAnwAAAAAAAgDJAMzMzMzNzQkCamZmZmRk/QGZmZmZm5jRA\",\"dtype\":\"float64\",\"order\":\"little\",\"shape\":[33]},\"Year\":[1990,1991,1992,1993,1994,1995,1996,1997,1998,1999,2000,2001,2002,2003,2004,2005,2006,2007,2008,2009,2010,2011,2012,2013,2014,2015,2016,2017,2018,2019,2020,2021,2022]},\"selected\":{\"id\":\"3674\"},\"selection_policy\":{\"id\":\"3690\"}},\"id\":\"3673\",\"type\":\"ColumnDataSource\"},{\"attributes\":{},\"id\":\"3637\",\"type\":\"ResetTool\"},{\"attributes\":{\"bottom_units\":\"screen\",\"coordinates\":null,\"fill_alpha\":0.5,\"fill_color\":\"lightgrey\",\"group\":null,\"left_units\":\"screen\",\"level\":\"overlay\",\"line_alpha\":1.0,\"line_color\":\"black\",\"line_dash\":[4,4],\"line_width\":2,\"right_units\":\"screen\",\"syncable\":false,\"top_units\":\"screen\"},\"id\":\"3638\",\"type\":\"BoxAnnotation\"},{\"attributes\":{\"children\":[{\"id\":\"3616\"}],\"height\":400,\"margin\":[0,0,0,0],\"name\":\"Row03540\",\"sizing_mode\":\"fixed\",\"tags\":[\"embedded\"],\"width\":700},\"id\":\"3609\",\"type\":\"Row\"},{\"attributes\":{\"line_color\":\"#fc4f30\",\"line_width\":2,\"x\":{\"field\":\"Year\"},\"y\":{\"field\":\"Solar (% growth)\"}},\"id\":\"3694\",\"type\":\"Line\"},{\"attributes\":{},\"id\":\"3696\",\"type\":\"Selection\"},{\"attributes\":{\"line_alpha\":0.2,\"line_color\":\"#e5ae38\",\"line_width\":2,\"x\":{\"field\":\"Year\"},\"y\":{\"field\":\"Solar (% growth)\"}},\"id\":\"3700\",\"type\":\"Line\"},{\"attributes\":{\"line_color\":\"#6d904f\",\"line_width\":2,\"x\":{\"field\":\"Year\"},\"y\":{\"field\":\"Solar (% growth)\"}},\"id\":\"3744\",\"type\":\"Line\"},{\"attributes\":{\"end\":2022.0,\"reset_end\":2022.0,\"reset_start\":1990.0,\"start\":1990.0,\"tags\":[[[\"Year\",\"Year\",null]]]},\"id\":\"3610\",\"type\":\"Range1d\"},{\"attributes\":{\"line_alpha\":0.1,\"line_color\":\"#e5ae38\",\"line_width\":2,\"x\":{\"field\":\"Year\"},\"y\":{\"field\":\"Solar (% growth)\"}},\"id\":\"3699\",\"type\":\"Line\"},{\"attributes\":{\"line_color\":\"#e5ae38\",\"line_width\":2,\"x\":{\"field\":\"Year\"},\"y\":{\"field\":\"Solar (% growth)\"}},\"id\":\"3718\",\"type\":\"Line\"},{\"attributes\":{\"active_drag\":{\"id\":\"3634\"},\"active_scroll\":{\"id\":\"3635\"},\"tools\":[{\"id\":\"3612\"},{\"id\":\"3633\"},{\"id\":\"3634\"},{\"id\":\"3635\"},{\"id\":\"3636\"},{\"id\":\"3637\"}]},\"id\":\"3639\",\"type\":\"Toolbar\"},{\"attributes\":{\"line_alpha\":0.1,\"line_color\":\"#30a2da\",\"line_width\":2,\"x\":{\"field\":\"Year\"},\"y\":{\"field\":\"Solar (% growth)\"}},\"id\":\"3656\",\"type\":\"Line\"},{\"attributes\":{\"line_color\":\"#e5ae38\",\"line_width\":2,\"x\":{\"field\":\"Year\"},\"y\":{\"field\":\"Solar (% growth)\"}},\"id\":\"3698\",\"type\":\"Line\"},{\"attributes\":{},\"id\":\"3714\",\"type\":\"UnionRenderers\"},{\"attributes\":{\"line_alpha\":0.2,\"line_color\":\"#30a2da\",\"line_width\":2,\"x\":{\"field\":\"Year\"},\"y\":{\"field\":\"Solar (% growth)\"}},\"id\":\"3657\",\"type\":\"Line\"},{\"attributes\":{\"click_policy\":\"mute\",\"coordinates\":null,\"group\":null,\"items\":[{\"id\":\"3671\"},{\"id\":\"3693\"},{\"id\":\"3717\"},{\"id\":\"3743\"}],\"location\":[0,0],\"title\":\"Country\"},\"id\":\"3670\",\"type\":\"Legend\"},{\"attributes\":{},\"id\":\"3651\",\"type\":\"AllLabels\"},{\"attributes\":{\"data\":{\"Country\":[\"Germany\",\"Germany\",\"Germany\",\"Germany\",\"Germany\",\"Germany\",\"Germany\",\"Germany\",\"Germany\",\"Germany\",\"Germany\",\"Germany\",\"Germany\",\"Germany\",\"Germany\",\"Germany\",\"Germany\",\"Germany\",\"Germany\",\"Germany\",\"Germany\",\"Germany\",\"Germany\",\"Germany\",\"Germany\",\"Germany\",\"Germany\",\"Germany\",\"Germany\",\"Germany\",\"Germany\",\"Germany\",\"Germany\"],\"Solar (% growth)\":{\"__ndarray__\":\"AAAAAAAAAAAAAAAAAAAAAAAAAAAAAAAAAAAAAAAAAAAAAAAAAAAAAAAAAAAAAAAAAAAAAAAAAAAAAAAAAABZQAAAAAAAAFlAAAAAAAAAOcAAAAAAAABZQAAAAAAAAFlAZmZmZmYmTUCamZmZmZlPQGdmZmZmJlRAMzMzMzMTYECamZmZmVlSQJqZmZmZWUNAAAAAAADARUAzMzMzM3NIQDMzMzMzk1NAZ2ZmZmbGUEDMzMzMzExBQJmZmZmZmTFAzczMzMxMMECZmZmZmZkdQJqZmZmZmfm/NDMzMzMzC0CZmZmZmZkkQM3MzMzMzABAAAAAAAAAJ0AzMzMzMzPTvwAAAAAAgDNA\",\"dtype\":\"float64\",\"order\":\"little\",\"shape\":[33]},\"Solar_left_parenthesis_percent_growth_right_parenthesis\":{\"__ndarray__\":\"AAAAAAAAAAAAAAAAAAAAAAAAAAAAAAAAAAAAAAAAAAAAAAAAAAAAAAAAAAAAAAAAAAAAAAAAAAAAAAAAAABZQAAAAAAAAFlAAAAAAAAAOcAAAAAAAABZQAAAAAAAAFlAZmZmZmYmTUCamZmZmZlPQGdmZmZmJlRAMzMzMzMTYECamZmZmVlSQJqZmZmZWUNAAAAAAADARUAzMzMzM3NIQDMzMzMzk1NAZ2ZmZmbGUEDMzMzMzExBQJmZmZmZmTFAzczMzMxMMECZmZmZmZkdQJqZmZmZmfm/NDMzMzMzC0CZmZmZmZkkQM3MzMzMzABAAAAAAAAAJ0AzMzMzMzPTvwAAAAAAgDNA\",\"dtype\":\"float64\",\"order\":\"little\",\"shape\":[33]},\"Year\":[1990,1991,1992,1993,1994,1995,1996,1997,1998,1999,2000,2001,2002,2003,2004,2005,2006,2007,2008,2009,2010,2011,2012,2013,2014,2015,2016,2017,2018,2019,2020,2021,2022]},\"selected\":{\"id\":\"3653\"},\"selection_policy\":{\"id\":\"3667\"}},\"id\":\"3652\",\"type\":\"ColumnDataSource\"},{\"attributes\":{\"coordinates\":null,\"data_source\":{\"id\":\"3652\"},\"glyph\":{\"id\":\"3655\"},\"group\":null,\"hover_glyph\":null,\"muted_glyph\":{\"id\":\"3657\"},\"nonselection_glyph\":{\"id\":\"3656\"},\"selection_glyph\":{\"id\":\"3672\"},\"view\":{\"id\":\"3659\"}},\"id\":\"3658\",\"type\":\"GlyphRenderer\"},{\"attributes\":{\"coordinates\":null,\"data_source\":{\"id\":\"3673\"},\"glyph\":{\"id\":\"3676\"},\"group\":null,\"hover_glyph\":null,\"muted_glyph\":{\"id\":\"3678\"},\"nonselection_glyph\":{\"id\":\"3677\"},\"selection_glyph\":{\"id\":\"3694\"},\"view\":{\"id\":\"3680\"}},\"id\":\"3679\",\"type\":\"GlyphRenderer\"},{\"attributes\":{},\"id\":\"3653\",\"type\":\"Selection\"},{\"attributes\":{\"label\":{\"value\":\"Switzerland\"},\"renderers\":[{\"id\":\"3701\"}]},\"id\":\"3717\",\"type\":\"LegendItem\"},{\"attributes\":{\"line_color\":\"#30a2da\",\"line_width\":2,\"x\":{\"field\":\"Year\"},\"y\":{\"field\":\"Solar (% growth)\"}},\"id\":\"3672\",\"type\":\"Line\"},{\"attributes\":{\"line_color\":\"#30a2da\",\"line_width\":2,\"x\":{\"field\":\"Year\"},\"y\":{\"field\":\"Solar (% growth)\"}},\"id\":\"3655\",\"type\":\"Line\"},{\"attributes\":{\"data\":{\"Country\":[\"United Kingdom\",\"United Kingdom\",\"United Kingdom\",\"United Kingdom\",\"United Kingdom\",\"United Kingdom\",\"United Kingdom\",\"United Kingdom\",\"United Kingdom\",\"United Kingdom\",\"United Kingdom\",\"United Kingdom\",\"United Kingdom\",\"United Kingdom\",\"United Kingdom\",\"United Kingdom\",\"United Kingdom\",\"United Kingdom\",\"United Kingdom\",\"United Kingdom\",\"United Kingdom\",\"United Kingdom\",\"United Kingdom\",\"United Kingdom\",\"United Kingdom\",\"United Kingdom\",\"United Kingdom\",\"United Kingdom\",\"United Kingdom\",\"United Kingdom\",\"United Kingdom\",\"United Kingdom\"],\"Solar (% growth)\":{\"__ndarray__\":\"AAAAAAAAAAAAAAAAAAAAAAAAAAAAAAAAAAAAAAAAAAAAAAAAAAAAAAAAAAAAAAAAAAAAAAAAAAAAAAAAAAAAAAAAAAAAAAAAAAAAAAAAAAAAAAAAAAAAAAAAAAAAAAAAAAAAAAAAAAAAAAAAAAAAAAAAAAAAAAAAAAAAAAAAAAAAAAAAAAAAAAAAAAAAAAAAAAAAAAAAWUAAAAAAAAAAAAAAAAAAAFlAAAAAAABAf0AAAAAAAOh8QDMzMzMzc0hA//////9fWUCamZmZmXlVQM3MzMzMDENAZmZmZmZmJEBnZmZmZmYmQGdmZmZmZvY/zczMzMzMCECamZmZmZkZwA==\",\"dtype\":\"float64\",\"order\":\"little\",\"shape\":[32]},\"Solar_left_parenthesis_percent_growth_right_parenthesis\":{\"__ndarray__\":\"AAAAAAAAAAAAAAAAAAAAAAAAAAAAAAAAAAAAAAAAAAAAAAAAAAAAAAAAAAAAAAAAAAAAAAAAAAAAAAAAAAAAAAAAAAAAAAAAAAAAAAAAAAAAAAAAAAAAAAAAAAAAAAAAAAAAAAAAAAAAAAAAAAAAAAAAAAAAAAAAAAAAAAAAAAAAAAAAAAAAAAAAAAAAAAAAAAAAAAAAWUAAAAAAAAAAAAAAAAAAAFlAAAAAAABAf0AAAAAAAOh8QDMzMzMzc0hA//////9fWUCamZmZmXlVQM3MzMzMDENAZmZmZmZmJEBnZmZmZmYmQGdmZmZmZvY/zczMzMzMCECamZmZmZkZwA==\",\"dtype\":\"float64\",\"order\":\"little\",\"shape\":[32]},\"Year\":[1990,1991,1992,1993,1994,1995,1996,1997,1998,1999,2000,2001,2002,2003,2004,2005,2006,2007,2008,2009,2010,2011,2012,2013,2014,2015,2016,2017,2018,2019,2020,2021]},\"selected\":{\"id\":\"3720\"},\"selection_policy\":{\"id\":\"3740\"}},\"id\":\"3719\",\"type\":\"ColumnDataSource\"},{\"attributes\":{\"coordinates\":null,\"data_source\":{\"id\":\"3695\"},\"glyph\":{\"id\":\"3698\"},\"group\":null,\"hover_glyph\":null,\"muted_glyph\":{\"id\":\"3700\"},\"nonselection_glyph\":{\"id\":\"3699\"},\"selection_glyph\":{\"id\":\"3718\"},\"view\":{\"id\":\"3702\"}},\"id\":\"3701\",\"type\":\"GlyphRenderer\"},{\"attributes\":{\"callback\":null,\"renderers\":[{\"id\":\"3658\"},{\"id\":\"3679\"},{\"id\":\"3701\"},{\"id\":\"3725\"}],\"tags\":[\"hv_created\"],\"tooltips\":[[\"Country\",\"@{Country}\"],[\"Year\",\"@{Year}\"],[\"Solar (% growth)\",\"@{Solar_left_parenthesis_percent_growth_right_parenthesis}\"]]},\"id\":\"3612\",\"type\":\"HoverTool\"},{\"attributes\":{\"line_color\":\"#fc4f30\",\"line_width\":2,\"x\":{\"field\":\"Year\"},\"y\":{\"field\":\"Solar (% growth)\"}},\"id\":\"3676\",\"type\":\"Line\"},{\"attributes\":{\"axis_label\":\"Year\",\"coordinates\":null,\"formatter\":{\"id\":\"3647\"},\"group\":null,\"major_label_policy\":{\"id\":\"3648\"},\"ticker\":{\"id\":\"3626\"}},\"id\":\"3625\",\"type\":\"LinearAxis\"},{\"attributes\":{\"source\":{\"id\":\"3652\"}},\"id\":\"3659\",\"type\":\"CDSView\"},{\"attributes\":{\"line_alpha\":0.2,\"line_color\":\"#fc4f30\",\"line_width\":2,\"x\":{\"field\":\"Year\"},\"y\":{\"field\":\"Solar (% growth)\"}},\"id\":\"3678\",\"type\":\"Line\"},{\"attributes\":{\"source\":{\"id\":\"3695\"}},\"id\":\"3702\",\"type\":\"CDSView\"},{\"attributes\":{\"label\":{\"value\":\"Germany\"},\"renderers\":[{\"id\":\"3658\"}]},\"id\":\"3671\",\"type\":\"LegendItem\"},{\"attributes\":{\"line_alpha\":0.1,\"line_color\":\"#fc4f30\",\"line_width\":2,\"x\":{\"field\":\"Year\"},\"y\":{\"field\":\"Solar (% growth)\"}},\"id\":\"3677\",\"type\":\"Line\"},{\"attributes\":{\"coordinates\":null,\"data_source\":{\"id\":\"3719\"},\"glyph\":{\"id\":\"3722\"},\"group\":null,\"hover_glyph\":null,\"muted_glyph\":{\"id\":\"3724\"},\"nonselection_glyph\":{\"id\":\"3723\"},\"selection_glyph\":{\"id\":\"3744\"},\"view\":{\"id\":\"3726\"}},\"id\":\"3725\",\"type\":\"GlyphRenderer\"},{\"attributes\":{\"source\":{\"id\":\"3673\"}},\"id\":\"3680\",\"type\":\"CDSView\"},{\"attributes\":{\"end\":556.67,\"reset_end\":556.67,\"reset_start\":-123.37,\"start\":-123.37,\"tags\":[[[\"Solar (% growth)\",\"Solar (% growth)\",null]]]},\"id\":\"3611\",\"type\":\"Range1d\"},{\"attributes\":{\"axis\":{\"id\":\"3625\"},\"coordinates\":null,\"grid_line_color\":null,\"group\":null,\"ticker\":null},\"id\":\"3628\",\"type\":\"Grid\"},{\"attributes\":{},\"id\":\"3674\",\"type\":\"Selection\"},{\"attributes\":{},\"id\":\"3720\",\"type\":\"Selection\"},{\"attributes\":{\"below\":[{\"id\":\"3625\"}],\"center\":[{\"id\":\"3628\"},{\"id\":\"3632\"}],\"height\":400,\"left\":[{\"id\":\"3629\"}],\"margin\":[5,5,5,5],\"min_border_bottom\":10,\"min_border_left\":10,\"min_border_right\":10,\"min_border_top\":10,\"renderers\":[{\"id\":\"3658\"},{\"id\":\"3679\"},{\"id\":\"3701\"},{\"id\":\"3725\"}],\"right\":[{\"id\":\"3670\"}],\"sizing_mode\":\"fixed\",\"title\":{\"id\":\"3617\"},\"toolbar\":{\"id\":\"3639\"},\"width\":700,\"x_range\":{\"id\":\"3610\"},\"x_scale\":{\"id\":\"3621\"},\"y_range\":{\"id\":\"3611\"},\"y_scale\":{\"id\":\"3623\"}},\"id\":\"3616\",\"subtype\":\"Figure\",\"type\":\"Plot\"},{\"attributes\":{\"label\":{\"value\":\"Spain\"},\"renderers\":[{\"id\":\"3679\"}]},\"id\":\"3693\",\"type\":\"LegendItem\"},{\"attributes\":{},\"id\":\"3621\",\"type\":\"LinearScale\"},{\"attributes\":{\"line_alpha\":0.2,\"line_color\":\"#6d904f\",\"line_width\":2,\"x\":{\"field\":\"Year\"},\"y\":{\"field\":\"Solar (% growth)\"}},\"id\":\"3724\",\"type\":\"Line\"},{\"attributes\":{\"line_alpha\":0.1,\"line_color\":\"#6d904f\",\"line_width\":2,\"x\":{\"field\":\"Year\"},\"y\":{\"field\":\"Solar (% growth)\"}},\"id\":\"3723\",\"type\":\"Line\"},{\"attributes\":{},\"id\":\"3690\",\"type\":\"UnionRenderers\"},{\"attributes\":{\"source\":{\"id\":\"3719\"}},\"id\":\"3726\",\"type\":\"CDSView\"},{\"attributes\":{\"data\":{\"Country\":[\"Switzerland\",\"Switzerland\",\"Switzerland\",\"Switzerland\",\"Switzerland\",\"Switzerland\",\"Switzerland\",\"Switzerland\",\"Switzerland\",\"Switzerland\",\"Switzerland\",\"Switzerland\",\"Switzerland\",\"Switzerland\",\"Switzerland\",\"Switzerland\",\"Switzerland\",\"Switzerland\",\"Switzerland\",\"Switzerland\",\"Switzerland\",\"Switzerland\",\"Switzerland\",\"Switzerland\",\"Switzerland\",\"Switzerland\",\"Switzerland\",\"Switzerland\",\"Switzerland\",\"Switzerland\",\"Switzerland\",\"Switzerland\"],\"Solar (% growth)\":{\"__ndarray__\":\"AAAAAAAAAAAAAAAAAABZQAAAAAAAAElAZ2ZmZmamQEAAAAAAAAA5QAAAAAAAADRAMzMzMzOzMEAAAAAAAAAAAJmZmZmZmSxAAAAAAAAAOUAAAAAAAAAAAAAAAAAAAAAAAAAAAAAAAAAAAAAAAABZQAAAAAAAAAAAAAAAAAAAAAAAAAAAAAAAAAAAAAAAAElAAAAAAAAAAADNzMzMzKxQQAAAAAAAAFRAmpmZmZk5VkAAAAAAACBTQM3MzMzMrFBAAAAAAAAAUUBnZmZmZqZAQM3MzMzMzDJAzczMzMxMOkCamZmZmRkwQJmZmZmZmSdAzczMzMxMM0BnZmZmZmYmQA==\",\"dtype\":\"float64\",\"order\":\"little\",\"shape\":[32]},\"Solar_left_parenthesis_percent_growth_right_parenthesis\":{\"__ndarray__\":\"AAAAAAAAAAAAAAAAAABZQAAAAAAAAElAZ2ZmZmamQEAAAAAAAAA5QAAAAAAAADRAMzMzMzOzMEAAAAAAAAAAAJmZmZmZmSxAAAAAAAAAOUAAAAAAAAAAAAAAAAAAAAAAAAAAAAAAAAAAAAAAAABZQAAAAAAAAAAAAAAAAAAAAAAAAAAAAAAAAAAAAAAAAElAAAAAAAAAAADNzMzMzKxQQAAAAAAAAFRAmpmZmZk5VkAAAAAAACBTQM3MzMzMrFBAAAAAAAAAUUBnZmZmZqZAQM3MzMzMzDJAzczMzMxMOkCamZmZmRkwQJmZmZmZmSdAzczMzMxMM0BnZmZmZmYmQA==\",\"dtype\":\"float64\",\"order\":\"little\",\"shape\":[32]},\"Year\":[1990,1991,1992,1993,1994,1995,1996,1997,1998,1999,2000,2001,2002,2003,2004,2005,2006,2007,2008,2009,2010,2011,2012,2013,2014,2015,2016,2017,2018,2019,2020,2021]},\"selected\":{\"id\":\"3696\"},\"selection_policy\":{\"id\":\"3714\"}},\"id\":\"3695\",\"type\":\"ColumnDataSource\"},{\"attributes\":{\"line_color\":\"#6d904f\",\"line_width\":2,\"x\":{\"field\":\"Year\"},\"y\":{\"field\":\"Solar (% growth)\"}},\"id\":\"3722\",\"type\":\"Line\"},{\"attributes\":{},\"id\":\"3650\",\"type\":\"BasicTickFormatter\"},{\"attributes\":{\"label\":{\"value\":\"United Kingdom\"},\"renderers\":[{\"id\":\"3725\"}]},\"id\":\"3743\",\"type\":\"LegendItem\"},{\"attributes\":{\"coordinates\":null,\"group\":null,\"text\":\"Annual Growth in % Solar Energy Generation\",\"text_color\":\"black\",\"text_font_size\":\"12pt\"},\"id\":\"3617\",\"type\":\"Title\"},{\"attributes\":{},\"id\":\"3740\",\"type\":\"UnionRenderers\"},{\"attributes\":{},\"id\":\"3647\",\"type\":\"BasicTickFormatter\"},{\"attributes\":{},\"id\":\"3667\",\"type\":\"UnionRenderers\"},{\"attributes\":{},\"id\":\"3623\",\"type\":\"LinearScale\"},{\"attributes\":{},\"id\":\"3626\",\"type\":\"BasicTicker\"}],\"root_ids\":[\"3609\"]},\"title\":\"Bokeh Application\",\"version\":\"2.4.3\"}};\n",
       "    var render_items = [{\"docid\":\"3c1f5731-563d-4bc5-9fba-5d8bca1714f1\",\"root_ids\":[\"3609\"],\"roots\":{\"3609\":\"61d6de71-f4b4-4d9e-9888-f6b99f569bd6\"}}];\n",
       "    root.Bokeh.embed.embed_items_notebook(docs_json, render_items);\n",
       "    for (const render_item of render_items) {\n",
       "      for (const root_id of render_item.root_ids) {\n",
       "\tconst id_el = document.getElementById(root_id)\n",
       "\tif (id_el.children.length && (id_el.children[0].className === 'bk-root')) {\n",
       "\t  const root_el = id_el.children[0]\n",
       "\t  root_el.id = root_el.id + '-rendered'\n",
       "\t}\n",
       "      }\n",
       "    }\n",
       "  }\n",
       "  if (root.Bokeh !== undefined && root.Bokeh.Panel !== undefined) {\n",
       "    embed_document(root);\n",
       "  } else {\n",
       "    var attempts = 0;\n",
       "    var timer = setInterval(function(root) {\n",
       "      if (root.Bokeh !== undefined && root.Bokeh.Panel !== undefined) {\n",
       "        clearInterval(timer);\n",
       "        embed_document(root);\n",
       "      } else if (document.readyState == \"complete\") {\n",
       "        attempts++;\n",
       "        if (attempts > 200) {\n",
       "          clearInterval(timer);\n",
       "          console.log(\"Bokeh: ERROR: Unable to run BokehJS code because BokehJS library is missing\");\n",
       "        }\n",
       "      }\n",
       "    }, 25, root)\n",
       "  }\n",
       "})(window);</script>"
      ],
      "text/plain": [
       ":NdOverlay   [Country]\n",
       "   :Curve   [Year]   (Solar (% growth))"
      ]
     },
     "metadata": {
      "application/vnd.holoviews_exec.v0+json": {
       "id": "3609"
      }
     },
     "output_type": "display_data"
    }
   ],
   "source": [
    "lineplot(df_solar_generation, 'Year', 'Electricity from solar (TWh)', 'Country', 'Solar Energy Generation')\n",
    "lineplot(df_solar_generation, 'Year', 'Solar (TWh growth - equivalent)', 'Country', 'Annual Change Solar Energy Generation')\n",
    "lineplot(df_solar_generation, 'Year', 'Solar (% growth)', 'Country', 'Annual Growth in % Solar Energy Generation')"
   ]
  }
 ],
 "metadata": {
  "kernelspec": {
   "display_name": "Python 3",
   "language": "python",
   "name": "python3"
  },
  "language_info": {
   "codemirror_mode": {
    "name": "ipython",
    "version": 3
   },
   "file_extension": ".py",
   "mimetype": "text/x-python",
   "name": "python",
   "nbconvert_exporter": "python",
   "pygments_lexer": "ipython3",
   "version": "3.9.7"
  },
  "orig_nbformat": 4,
  "vscode": {
   "interpreter": {
    "hash": "aee8b7b246df8f9039afb4144a1f6fd8d2ca17a180786b69acc140d282b71a49"
   }
  }
 },
 "nbformat": 4,
 "nbformat_minor": 2
}

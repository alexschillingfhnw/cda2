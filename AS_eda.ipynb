{
 "cells": [
  {
   "attachments": {},
   "cell_type": "markdown",
   "metadata": {},
   "source": [
    "# Explorative Datenanalyse"
   ]
  },
  {
   "cell_type": "code",
   "execution_count": 23,
   "metadata": {},
   "outputs": [],
   "source": [
    "from helper import *"
   ]
  },
  {
   "attachments": {},
   "cell_type": "markdown",
   "metadata": {},
   "source": [
    "## Read data"
   ]
  },
  {
   "cell_type": "code",
   "execution_count": 24,
   "metadata": {},
   "outputs": [
    {
     "data": {
      "text/html": [
       "<div>\n",
       "<style scoped>\n",
       "    .dataframe tbody tr th:only-of-type {\n",
       "        vertical-align: middle;\n",
       "    }\n",
       "\n",
       "    .dataframe tbody tr th {\n",
       "        vertical-align: top;\n",
       "    }\n",
       "\n",
       "    .dataframe thead th {\n",
       "        text-align: right;\n",
       "    }\n",
       "</style>\n",
       "<table border=\"1\" class=\"dataframe\">\n",
       "  <thead>\n",
       "    <tr style=\"text-align: right;\">\n",
       "      <th></th>\n",
       "      <th>Entity</th>\n",
       "      <th>Code</th>\n",
       "      <th>Year</th>\n",
       "      <th>Electricity from solar (TWh)</th>\n",
       "    </tr>\n",
       "  </thead>\n",
       "  <tbody>\n",
       "    <tr>\n",
       "      <th>0</th>\n",
       "      <td>Afghanistan</td>\n",
       "      <td>AFG</td>\n",
       "      <td>2000</td>\n",
       "      <td>0.0</td>\n",
       "    </tr>\n",
       "    <tr>\n",
       "      <th>1</th>\n",
       "      <td>Afghanistan</td>\n",
       "      <td>AFG</td>\n",
       "      <td>2001</td>\n",
       "      <td>0.0</td>\n",
       "    </tr>\n",
       "    <tr>\n",
       "      <th>2</th>\n",
       "      <td>Afghanistan</td>\n",
       "      <td>AFG</td>\n",
       "      <td>2002</td>\n",
       "      <td>0.0</td>\n",
       "    </tr>\n",
       "    <tr>\n",
       "      <th>3</th>\n",
       "      <td>Afghanistan</td>\n",
       "      <td>AFG</td>\n",
       "      <td>2003</td>\n",
       "      <td>0.0</td>\n",
       "    </tr>\n",
       "    <tr>\n",
       "      <th>4</th>\n",
       "      <td>Afghanistan</td>\n",
       "      <td>AFG</td>\n",
       "      <td>2004</td>\n",
       "      <td>0.0</td>\n",
       "    </tr>\n",
       "  </tbody>\n",
       "</table>\n",
       "</div>"
      ],
      "text/plain": [
       "        Entity Code  Year  Electricity from solar (TWh)\n",
       "0  Afghanistan  AFG  2000                           0.0\n",
       "1  Afghanistan  AFG  2001                           0.0\n",
       "2  Afghanistan  AFG  2002                           0.0\n",
       "3  Afghanistan  AFG  2003                           0.0\n",
       "4  Afghanistan  AFG  2004                           0.0"
      ]
     },
     "execution_count": 24,
     "metadata": {},
     "output_type": "execute_result"
    }
   ],
   "source": [
    "df_solar_generation = pd.read_csv('Data/All/Solar/solar-energy-generation.csv')\n",
    "df_solar_generation.head()"
   ]
  },
  {
   "cell_type": "code",
   "execution_count": 27,
   "metadata": {},
   "outputs": [
    {
     "data": {
      "text/html": [
       "<div>\n",
       "<style scoped>\n",
       "    .dataframe tbody tr th:only-of-type {\n",
       "        vertical-align: middle;\n",
       "    }\n",
       "\n",
       "    .dataframe tbody tr th {\n",
       "        vertical-align: top;\n",
       "    }\n",
       "\n",
       "    .dataframe thead th {\n",
       "        text-align: right;\n",
       "    }\n",
       "</style>\n",
       "<table border=\"1\" class=\"dataframe\">\n",
       "  <thead>\n",
       "    <tr style=\"text-align: right;\">\n",
       "      <th></th>\n",
       "      <th>Entity</th>\n",
       "      <th>Code</th>\n",
       "      <th>Year</th>\n",
       "      <th>Electricity from hydro (TWh)</th>\n",
       "    </tr>\n",
       "  </thead>\n",
       "  <tbody>\n",
       "    <tr>\n",
       "      <th>0</th>\n",
       "      <td>Afghanistan</td>\n",
       "      <td>AFG</td>\n",
       "      <td>2000</td>\n",
       "      <td>0.31</td>\n",
       "    </tr>\n",
       "    <tr>\n",
       "      <th>1</th>\n",
       "      <td>Afghanistan</td>\n",
       "      <td>AFG</td>\n",
       "      <td>2001</td>\n",
       "      <td>0.50</td>\n",
       "    </tr>\n",
       "    <tr>\n",
       "      <th>2</th>\n",
       "      <td>Afghanistan</td>\n",
       "      <td>AFG</td>\n",
       "      <td>2002</td>\n",
       "      <td>0.56</td>\n",
       "    </tr>\n",
       "    <tr>\n",
       "      <th>3</th>\n",
       "      <td>Afghanistan</td>\n",
       "      <td>AFG</td>\n",
       "      <td>2003</td>\n",
       "      <td>0.63</td>\n",
       "    </tr>\n",
       "    <tr>\n",
       "      <th>4</th>\n",
       "      <td>Afghanistan</td>\n",
       "      <td>AFG</td>\n",
       "      <td>2004</td>\n",
       "      <td>0.56</td>\n",
       "    </tr>\n",
       "  </tbody>\n",
       "</table>\n",
       "</div>"
      ],
      "text/plain": [
       "        Entity Code  Year  Electricity from hydro (TWh)\n",
       "0  Afghanistan  AFG  2000                          0.31\n",
       "1  Afghanistan  AFG  2001                          0.50\n",
       "2  Afghanistan  AFG  2002                          0.56\n",
       "3  Afghanistan  AFG  2003                          0.63\n",
       "4  Afghanistan  AFG  2004                          0.56"
      ]
     },
     "execution_count": 27,
     "metadata": {},
     "output_type": "execute_result"
    }
   ],
   "source": [
    "df_hydro_generation = pd.read_csv('Data/All/Hydropower/hydropower-generation.csv')\n",
    "df_hydro_generation.head()"
   ]
  },
  {
   "attachments": {},
   "cell_type": "markdown",
   "metadata": {},
   "source": [
    "## Prepare Dataframes\n",
    "### Solar"
   ]
  },
  {
   "cell_type": "code",
   "execution_count": 25,
   "metadata": {},
   "outputs": [
    {
     "data": {
      "text/html": [
       "<div>\n",
       "<style scoped>\n",
       "    .dataframe tbody tr th:only-of-type {\n",
       "        vertical-align: middle;\n",
       "    }\n",
       "\n",
       "    .dataframe tbody tr th {\n",
       "        vertical-align: top;\n",
       "    }\n",
       "\n",
       "    .dataframe thead th {\n",
       "        text-align: right;\n",
       "    }\n",
       "</style>\n",
       "<table border=\"1\" class=\"dataframe\">\n",
       "  <thead>\n",
       "    <tr style=\"text-align: right;\">\n",
       "      <th></th>\n",
       "      <th>Country</th>\n",
       "      <th>Year</th>\n",
       "      <th>Electricity from solar (TWh)</th>\n",
       "      <th>Solar (TWh growth - equivalent)</th>\n",
       "      <th>Solar (% growth)</th>\n",
       "    </tr>\n",
       "  </thead>\n",
       "  <tbody>\n",
       "    <tr>\n",
       "      <th>0</th>\n",
       "      <td>Germany</td>\n",
       "      <td>1990</td>\n",
       "      <td>0.00</td>\n",
       "      <td>0.00</td>\n",
       "      <td>0.0</td>\n",
       "    </tr>\n",
       "    <tr>\n",
       "      <th>1</th>\n",
       "      <td>Germany</td>\n",
       "      <td>1991</td>\n",
       "      <td>0.00</td>\n",
       "      <td>0.00</td>\n",
       "      <td>0.0</td>\n",
       "    </tr>\n",
       "    <tr>\n",
       "      <th>2</th>\n",
       "      <td>Germany</td>\n",
       "      <td>1992</td>\n",
       "      <td>0.00</td>\n",
       "      <td>0.00</td>\n",
       "      <td>0.0</td>\n",
       "    </tr>\n",
       "    <tr>\n",
       "      <th>3</th>\n",
       "      <td>Germany</td>\n",
       "      <td>1993</td>\n",
       "      <td>0.00</td>\n",
       "      <td>0.00</td>\n",
       "      <td>0.0</td>\n",
       "    </tr>\n",
       "    <tr>\n",
       "      <th>4</th>\n",
       "      <td>Germany</td>\n",
       "      <td>1994</td>\n",
       "      <td>0.01</td>\n",
       "      <td>0.01</td>\n",
       "      <td>0.0</td>\n",
       "    </tr>\n",
       "  </tbody>\n",
       "</table>\n",
       "</div>"
      ],
      "text/plain": [
       "   Country  Year  Electricity from solar (TWh)  \\\n",
       "0  Germany  1990                          0.00   \n",
       "1  Germany  1991                          0.00   \n",
       "2  Germany  1992                          0.00   \n",
       "3  Germany  1993                          0.00   \n",
       "4  Germany  1994                          0.01   \n",
       "\n",
       "   Solar (TWh growth - equivalent)  Solar (% growth)  \n",
       "0                             0.00               0.0  \n",
       "1                             0.00               0.0  \n",
       "2                             0.00               0.0  \n",
       "3                             0.00               0.0  \n",
       "4                             0.01               0.0  "
      ]
     },
     "execution_count": 25,
     "metadata": {},
     "output_type": "execute_result"
    }
   ],
   "source": [
    "df_solar_generation = wrangle_dataframe(df_solar_generation, \"Electricity from solar (TWh)\")\n",
    "\n",
    "df_solar_generation = add_growth_columns(df_solar_generation, 'Solar (TWh growth - equivalent)', 'Solar (% growth)', 'Electricity from solar (TWh)')\n",
    "\n",
    "df_solar_generation.head()"
   ]
  },
  {
   "attachments": {},
   "cell_type": "markdown",
   "metadata": {},
   "source": [
    "### Hydro"
   ]
  },
  {
   "cell_type": "code",
   "execution_count": 28,
   "metadata": {},
   "outputs": [
    {
     "data": {
      "text/html": [
       "<div>\n",
       "<style scoped>\n",
       "    .dataframe tbody tr th:only-of-type {\n",
       "        vertical-align: middle;\n",
       "    }\n",
       "\n",
       "    .dataframe tbody tr th {\n",
       "        vertical-align: top;\n",
       "    }\n",
       "\n",
       "    .dataframe thead th {\n",
       "        text-align: right;\n",
       "    }\n",
       "</style>\n",
       "<table border=\"1\" class=\"dataframe\">\n",
       "  <thead>\n",
       "    <tr style=\"text-align: right;\">\n",
       "      <th></th>\n",
       "      <th>Country</th>\n",
       "      <th>Year</th>\n",
       "      <th>Electricity from hydro (TWh)</th>\n",
       "      <th>Hydro (TWh growth - equivalent)</th>\n",
       "      <th>Hydro (% growth)</th>\n",
       "    </tr>\n",
       "  </thead>\n",
       "  <tbody>\n",
       "    <tr>\n",
       "      <th>0</th>\n",
       "      <td>Germany</td>\n",
       "      <td>1990</td>\n",
       "      <td>17.43</td>\n",
       "      <td>0.00</td>\n",
       "      <td>0.0</td>\n",
       "    </tr>\n",
       "    <tr>\n",
       "      <th>1</th>\n",
       "      <td>Germany</td>\n",
       "      <td>1991</td>\n",
       "      <td>14.89</td>\n",
       "      <td>-2.54</td>\n",
       "      <td>-14.6</td>\n",
       "    </tr>\n",
       "    <tr>\n",
       "      <th>2</th>\n",
       "      <td>Germany</td>\n",
       "      <td>1992</td>\n",
       "      <td>17.40</td>\n",
       "      <td>2.51</td>\n",
       "      <td>16.9</td>\n",
       "    </tr>\n",
       "    <tr>\n",
       "      <th>3</th>\n",
       "      <td>Germany</td>\n",
       "      <td>1993</td>\n",
       "      <td>17.88</td>\n",
       "      <td>0.48</td>\n",
       "      <td>2.8</td>\n",
       "    </tr>\n",
       "    <tr>\n",
       "      <th>4</th>\n",
       "      <td>Germany</td>\n",
       "      <td>1994</td>\n",
       "      <td>19.93</td>\n",
       "      <td>2.05</td>\n",
       "      <td>11.5</td>\n",
       "    </tr>\n",
       "  </tbody>\n",
       "</table>\n",
       "</div>"
      ],
      "text/plain": [
       "   Country  Year  Electricity from hydro (TWh)  \\\n",
       "0  Germany  1990                         17.43   \n",
       "1  Germany  1991                         14.89   \n",
       "2  Germany  1992                         17.40   \n",
       "3  Germany  1993                         17.88   \n",
       "4  Germany  1994                         19.93   \n",
       "\n",
       "   Hydro (TWh growth - equivalent)  Hydro (% growth)  \n",
       "0                             0.00               0.0  \n",
       "1                            -2.54             -14.6  \n",
       "2                             2.51              16.9  \n",
       "3                             0.48               2.8  \n",
       "4                             2.05              11.5  "
      ]
     },
     "execution_count": 28,
     "metadata": {},
     "output_type": "execute_result"
    }
   ],
   "source": [
    "df_hydro_generation = wrangle_dataframe(df_hydro_generation, \"Electricity from hydro (TWh)\")\n",
    "\n",
    "df_hydro_generation = add_growth_columns(df_hydro_generation, 'Hydro (TWh growth - equivalent)', 'Hydro (% growth)', 'Electricity from hydro (TWh)')\n",
    "\n",
    "df_hydro_generation.head()"
   ]
  },
  {
   "attachments": {},
   "cell_type": "markdown",
   "metadata": {},
   "source": [
    "### Wind"
   ]
  },
  {
   "cell_type": "code",
   "execution_count": null,
   "metadata": {},
   "outputs": [],
   "source": []
  },
  {
   "attachments": {},
   "cell_type": "markdown",
   "metadata": {},
   "source": [
    "## Plots\n",
    "### Solar"
   ]
  },
  {
   "cell_type": "code",
   "execution_count": 26,
   "metadata": {},
   "outputs": [
    {
     "data": {},
     "metadata": {},
     "output_type": "display_data"
    },
    {
     "data": {
      "application/vnd.holoviews_exec.v0+json": "",
      "text/html": [
       "<div id='3846'>\n",
       "  <div class=\"bk-root\" id=\"9d482834-edcb-4bfa-88cf-8ae5bc373168\" data-root-id=\"3846\"></div>\n",
       "</div>\n",
       "<script type=\"application/javascript\">(function(root) {\n",
       "  function embed_document(root) {\n",
       "    var docs_json = {\"9de81e9e-517a-4a26-ba80-210389b55978\":{\"defs\":[{\"extends\":null,\"module\":null,\"name\":\"ReactiveHTML1\",\"overrides\":[],\"properties\":[]},{\"extends\":null,\"module\":null,\"name\":\"FlexBox1\",\"overrides\":[],\"properties\":[{\"default\":\"flex-start\",\"kind\":null,\"name\":\"align_content\"},{\"default\":\"flex-start\",\"kind\":null,\"name\":\"align_items\"},{\"default\":\"row\",\"kind\":null,\"name\":\"flex_direction\"},{\"default\":\"wrap\",\"kind\":null,\"name\":\"flex_wrap\"},{\"default\":\"flex-start\",\"kind\":null,\"name\":\"justify_content\"}]},{\"extends\":null,\"module\":null,\"name\":\"GridStack1\",\"overrides\":[],\"properties\":[{\"default\":\"warn\",\"kind\":null,\"name\":\"mode\"},{\"default\":null,\"kind\":null,\"name\":\"ncols\"},{\"default\":null,\"kind\":null,\"name\":\"nrows\"},{\"default\":true,\"kind\":null,\"name\":\"allow_resize\"},{\"default\":true,\"kind\":null,\"name\":\"allow_drag\"},{\"default\":[],\"kind\":null,\"name\":\"state\"}]},{\"extends\":null,\"module\":null,\"name\":\"click1\",\"overrides\":[],\"properties\":[{\"default\":\"\",\"kind\":null,\"name\":\"terminal_output\"},{\"default\":\"\",\"kind\":null,\"name\":\"debug_name\"},{\"default\":0,\"kind\":null,\"name\":\"clears\"}]},{\"extends\":null,\"module\":null,\"name\":\"NotificationAreaBase1\",\"overrides\":[],\"properties\":[{\"default\":\"bottom-right\",\"kind\":null,\"name\":\"position\"},{\"default\":0,\"kind\":null,\"name\":\"_clear\"}]},{\"extends\":null,\"module\":null,\"name\":\"NotificationArea1\",\"overrides\":[],\"properties\":[{\"default\":[],\"kind\":null,\"name\":\"notifications\"},{\"default\":\"bottom-right\",\"kind\":null,\"name\":\"position\"},{\"default\":0,\"kind\":null,\"name\":\"_clear\"},{\"default\":[{\"background\":\"#ffc107\",\"icon\":{\"className\":\"fas fa-exclamation-triangle\",\"color\":\"white\",\"tagName\":\"i\"},\"type\":\"warning\"},{\"background\":\"#007bff\",\"icon\":{\"className\":\"fas fa-info-circle\",\"color\":\"white\",\"tagName\":\"i\"},\"type\":\"info\"}],\"kind\":null,\"name\":\"types\"}]},{\"extends\":null,\"module\":null,\"name\":\"Notification\",\"overrides\":[],\"properties\":[{\"default\":null,\"kind\":null,\"name\":\"background\"},{\"default\":3000,\"kind\":null,\"name\":\"duration\"},{\"default\":null,\"kind\":null,\"name\":\"icon\"},{\"default\":\"\",\"kind\":null,\"name\":\"message\"},{\"default\":null,\"kind\":null,\"name\":\"notification_type\"},{\"default\":false,\"kind\":null,\"name\":\"_destroyed\"}]},{\"extends\":null,\"module\":null,\"name\":\"TemplateActions1\",\"overrides\":[],\"properties\":[{\"default\":0,\"kind\":null,\"name\":\"open_modal\"},{\"default\":0,\"kind\":null,\"name\":\"close_modal\"}]},{\"extends\":null,\"module\":null,\"name\":\"MaterialTemplateActions1\",\"overrides\":[],\"properties\":[{\"default\":0,\"kind\":null,\"name\":\"open_modal\"},{\"default\":0,\"kind\":null,\"name\":\"close_modal\"}]}],\"roots\":{\"references\":[{\"attributes\":{\"line_color\":\"#fc4f30\",\"line_width\":2,\"x\":{\"field\":\"Year\"},\"y\":{\"field\":\"Electricity from solar (TWh)\"}},\"id\":\"3931\",\"type\":\"Line\"},{\"attributes\":{\"callback\":null,\"renderers\":[{\"id\":\"3895\"},{\"id\":\"3916\"},{\"id\":\"3938\"},{\"id\":\"3962\"}],\"tags\":[\"hv_created\"],\"tooltips\":[[\"Country\",\"@{Country}\"],[\"Year\",\"@{Year}\"],[\"Electricity from solar (TWh)\",\"@{Electricity_from_solar_left_parenthesis_TWh_right_parenthesis}\"]]},\"id\":\"3849\",\"type\":\"HoverTool\"},{\"attributes\":{\"coordinates\":null,\"data_source\":{\"id\":\"3932\"},\"glyph\":{\"id\":\"3935\"},\"group\":null,\"hover_glyph\":null,\"muted_glyph\":{\"id\":\"3937\"},\"nonselection_glyph\":{\"id\":\"3936\"},\"selection_glyph\":{\"id\":\"3955\"},\"view\":{\"id\":\"3939\"}},\"id\":\"3938\",\"type\":\"GlyphRenderer\"},{\"attributes\":{},\"id\":\"3890\",\"type\":\"Selection\"},{\"attributes\":{},\"id\":\"3933\",\"type\":\"Selection\"},{\"attributes\":{},\"id\":\"3884\",\"type\":\"BasicTickFormatter\"},{\"attributes\":{\"line_alpha\":0.2,\"line_color\":\"#e5ae38\",\"line_width\":2,\"x\":{\"field\":\"Year\"},\"y\":{\"field\":\"Electricity from solar (TWh)\"}},\"id\":\"3937\",\"type\":\"Line\"},{\"attributes\":{},\"id\":\"3885\",\"type\":\"AllLabels\"},{\"attributes\":{\"line_alpha\":0.1,\"line_color\":\"#e5ae38\",\"line_width\":2,\"x\":{\"field\":\"Year\"},\"y\":{\"field\":\"Electricity from solar (TWh)\"}},\"id\":\"3936\",\"type\":\"Line\"},{\"attributes\":{},\"id\":\"3887\",\"type\":\"BasicTickFormatter\"},{\"attributes\":{},\"id\":\"3888\",\"type\":\"AllLabels\"},{\"attributes\":{},\"id\":\"3957\",\"type\":\"Selection\"},{\"attributes\":{\"source\":{\"id\":\"3932\"}},\"id\":\"3939\",\"type\":\"CDSView\"},{\"attributes\":{\"line_color\":\"#6d904f\",\"line_width\":2,\"x\":{\"field\":\"Year\"},\"y\":{\"field\":\"Electricity from solar (TWh)\"}},\"id\":\"3981\",\"type\":\"Line\"},{\"attributes\":{\"line_color\":\"#e5ae38\",\"line_width\":2,\"x\":{\"field\":\"Year\"},\"y\":{\"field\":\"Electricity from solar (TWh)\"}},\"id\":\"3935\",\"type\":\"Line\"},{\"attributes\":{\"label\":{\"value\":\"Switzerland\"},\"renderers\":[{\"id\":\"3938\"}]},\"id\":\"3954\",\"type\":\"LegendItem\"},{\"attributes\":{\"end\":2022.0,\"reset_end\":2022.0,\"reset_start\":1990.0,\"start\":1990.0,\"tags\":[[[\"Year\",\"Year\",null]]]},\"id\":\"3847\",\"type\":\"Range1d\"},{\"attributes\":{\"coordinates\":null,\"data_source\":{\"id\":\"3956\"},\"glyph\":{\"id\":\"3959\"},\"group\":null,\"hover_glyph\":null,\"muted_glyph\":{\"id\":\"3961\"},\"nonselection_glyph\":{\"id\":\"3960\"},\"selection_glyph\":{\"id\":\"3981\"},\"view\":{\"id\":\"3963\"}},\"id\":\"3962\",\"type\":\"GlyphRenderer\"},{\"attributes\":{\"data\":{\"Country\":[\"Spain\",\"Spain\",\"Spain\",\"Spain\",\"Spain\",\"Spain\",\"Spain\",\"Spain\",\"Spain\",\"Spain\",\"Spain\",\"Spain\",\"Spain\",\"Spain\",\"Spain\",\"Spain\",\"Spain\",\"Spain\",\"Spain\",\"Spain\",\"Spain\",\"Spain\",\"Spain\",\"Spain\",\"Spain\",\"Spain\",\"Spain\",\"Spain\",\"Spain\",\"Spain\",\"Spain\",\"Spain\",\"Spain\"],\"Electricity from solar (TWh)\":{\"__ndarray__\":\"exSuR+F6hD97FK5H4XqEP3sUrkfheoQ/exSuR+F6hD97FK5H4XqEP3sUrkfhepQ/exSuR+F6lD97FK5H4XqUP3sUrkfhepQ/uB6F61G4nj97FK5H4XqEP3sUrkfhepQ/exSuR+F6lD97FK5H4XqUP3sUrkfhepQ/mpmZmZmZqT+4HoXrUbi+P6RwPQrXo+A/pHA9CtejBEA9CtejcD0YQMP1KFyPwhxAzczMzMzMIkBxPQrXo/AnQDMzMzMzMypA16NwPQpXK0C4HoXrUbgrQEjhehSuRytAzczMzMzMLEB7FK5H4XopQDMzMzMzMy5A7FG4HoWrNECamZmZmRk7QMP1KFyPYkBA\",\"dtype\":\"float64\",\"order\":\"little\",\"shape\":[33]},\"Electricity_from_solar_left_parenthesis_TWh_right_parenthesis\":{\"__ndarray__\":\"exSuR+F6hD97FK5H4XqEP3sUrkfheoQ/exSuR+F6hD97FK5H4XqEP3sUrkfhepQ/exSuR+F6lD97FK5H4XqUP3sUrkfhepQ/uB6F61G4nj97FK5H4XqEP3sUrkfhepQ/exSuR+F6lD97FK5H4XqUP3sUrkfhepQ/mpmZmZmZqT+4HoXrUbi+P6RwPQrXo+A/pHA9CtejBEA9CtejcD0YQMP1KFyPwhxAzczMzMzMIkBxPQrXo/AnQDMzMzMzMypA16NwPQpXK0C4HoXrUbgrQEjhehSuRytAzczMzMzMLEB7FK5H4XopQDMzMzMzMy5A7FG4HoWrNECamZmZmRk7QMP1KFyPYkBA\",\"dtype\":\"float64\",\"order\":\"little\",\"shape\":[33]},\"Year\":[1990,1991,1992,1993,1994,1995,1996,1997,1998,1999,2000,2001,2002,2003,2004,2005,2006,2007,2008,2009,2010,2011,2012,2013,2014,2015,2016,2017,2018,2019,2020,2021,2022]},\"selected\":{\"id\":\"3911\"},\"selection_policy\":{\"id\":\"3927\"}},\"id\":\"3910\",\"type\":\"ColumnDataSource\"},{\"attributes\":{\"end\":64.878,\"reset_end\":64.878,\"reset_start\":-5.898,\"start\":-5.898,\"tags\":[[[\"Electricity from solar (TWh)\",\"Electricity from solar (TWh)\",null]]]},\"id\":\"3848\",\"type\":\"Range1d\"},{\"attributes\":{},\"id\":\"3951\",\"type\":\"UnionRenderers\"},{\"attributes\":{\"line_color\":\"#30a2da\",\"line_width\":2,\"x\":{\"field\":\"Year\"},\"y\":{\"field\":\"Electricity from solar (TWh)\"}},\"id\":\"3892\",\"type\":\"Line\"},{\"attributes\":{},\"id\":\"3858\",\"type\":\"LinearScale\"},{\"attributes\":{\"label\":{\"value\":\"Germany\"},\"renderers\":[{\"id\":\"3895\"}]},\"id\":\"3908\",\"type\":\"LegendItem\"},{\"attributes\":{},\"id\":\"3911\",\"type\":\"Selection\"},{\"attributes\":{\"below\":[{\"id\":\"3862\"}],\"center\":[{\"id\":\"3865\"},{\"id\":\"3869\"}],\"height\":400,\"left\":[{\"id\":\"3866\"}],\"margin\":[5,5,5,5],\"min_border_bottom\":10,\"min_border_left\":10,\"min_border_right\":10,\"min_border_top\":10,\"renderers\":[{\"id\":\"3895\"},{\"id\":\"3916\"},{\"id\":\"3938\"},{\"id\":\"3962\"}],\"right\":[{\"id\":\"3907\"}],\"sizing_mode\":\"fixed\",\"title\":{\"id\":\"3854\"},\"toolbar\":{\"id\":\"3876\"},\"width\":700,\"x_range\":{\"id\":\"3847\"},\"x_scale\":{\"id\":\"3858\"},\"y_range\":{\"id\":\"3848\"},\"y_scale\":{\"id\":\"3860\"}},\"id\":\"3853\",\"subtype\":\"Figure\",\"type\":\"Plot\"},{\"attributes\":{\"line_alpha\":0.2,\"line_color\":\"#30a2da\",\"line_width\":2,\"x\":{\"field\":\"Year\"},\"y\":{\"field\":\"Electricity from solar (TWh)\"}},\"id\":\"3894\",\"type\":\"Line\"},{\"attributes\":{\"line_alpha\":0.1,\"line_color\":\"#30a2da\",\"line_width\":2,\"x\":{\"field\":\"Year\"},\"y\":{\"field\":\"Electricity from solar (TWh)\"}},\"id\":\"3893\",\"type\":\"Line\"},{\"attributes\":{\"coordinates\":null,\"data_source\":{\"id\":\"3889\"},\"glyph\":{\"id\":\"3892\"},\"group\":null,\"hover_glyph\":null,\"muted_glyph\":{\"id\":\"3894\"},\"nonselection_glyph\":{\"id\":\"3893\"},\"selection_glyph\":{\"id\":\"3909\"},\"view\":{\"id\":\"3896\"}},\"id\":\"3895\",\"type\":\"GlyphRenderer\"},{\"attributes\":{\"coordinates\":null,\"data_source\":{\"id\":\"3910\"},\"glyph\":{\"id\":\"3913\"},\"group\":null,\"hover_glyph\":null,\"muted_glyph\":{\"id\":\"3915\"},\"nonselection_glyph\":{\"id\":\"3914\"},\"selection_glyph\":{\"id\":\"3931\"},\"view\":{\"id\":\"3917\"}},\"id\":\"3916\",\"type\":\"GlyphRenderer\"},{\"attributes\":{\"source\":{\"id\":\"3889\"}},\"id\":\"3896\",\"type\":\"CDSView\"},{\"attributes\":{\"click_policy\":\"mute\",\"coordinates\":null,\"group\":null,\"items\":[{\"id\":\"3908\"},{\"id\":\"3930\"},{\"id\":\"3954\"},{\"id\":\"3980\"}],\"location\":[0,0],\"title\":\"Country\"},\"id\":\"3907\",\"type\":\"Legend\"},{\"attributes\":{\"line_color\":\"#30a2da\",\"line_width\":2,\"x\":{\"field\":\"Year\"},\"y\":{\"field\":\"Electricity from solar (TWh)\"}},\"id\":\"3909\",\"type\":\"Line\"},{\"attributes\":{\"data\":{\"Country\":[\"United Kingdom\",\"United Kingdom\",\"United Kingdom\",\"United Kingdom\",\"United Kingdom\",\"United Kingdom\",\"United Kingdom\",\"United Kingdom\",\"United Kingdom\",\"United Kingdom\",\"United Kingdom\",\"United Kingdom\",\"United Kingdom\",\"United Kingdom\",\"United Kingdom\",\"United Kingdom\",\"United Kingdom\",\"United Kingdom\",\"United Kingdom\",\"United Kingdom\",\"United Kingdom\",\"United Kingdom\",\"United Kingdom\",\"United Kingdom\",\"United Kingdom\",\"United Kingdom\",\"United Kingdom\",\"United Kingdom\",\"United Kingdom\",\"United Kingdom\",\"United Kingdom\",\"United Kingdom\"],\"Electricity from solar (TWh)\":{\"__ndarray__\":\"AAAAAAAAAAAAAAAAAAAAAAAAAAAAAAAAAAAAAAAAAAAAAAAAAAAAAAAAAAAAAAAAAAAAAAAAAAAAAAAAAAAAAAAAAAAAAAAAAAAAAAAAAAAAAAAAAAAAAAAAAAAAAAAAAAAAAAAAAAAAAAAAAAAAAAAAAAAAAAAAexSuR+F6hD97FK5H4XqEP3sUrkfheoQ/exSuR+F6lD97FK5H4XqUP3sUrkfheqQ/uB6F61G4zj+amZmZmZn1PxSuR+F6FABAMzMzMzMzEEAfhetRuB4eQM3MzMzMzCRA7FG4HoXrJkB7FK5H4XopQNejcD0K1ylApHA9CtejKkBxPQrXo/AoQA==\",\"dtype\":\"float64\",\"order\":\"little\",\"shape\":[32]},\"Electricity_from_solar_left_parenthesis_TWh_right_parenthesis\":{\"__ndarray__\":\"AAAAAAAAAAAAAAAAAAAAAAAAAAAAAAAAAAAAAAAAAAAAAAAAAAAAAAAAAAAAAAAAAAAAAAAAAAAAAAAAAAAAAAAAAAAAAAAAAAAAAAAAAAAAAAAAAAAAAAAAAAAAAAAAAAAAAAAAAAAAAAAAAAAAAAAAAAAAAAAAexSuR+F6hD97FK5H4XqEP3sUrkfheoQ/exSuR+F6lD97FK5H4XqUP3sUrkfheqQ/uB6F61G4zj+amZmZmZn1PxSuR+F6FABAMzMzMzMzEEAfhetRuB4eQM3MzMzMzCRA7FG4HoXrJkB7FK5H4XopQNejcD0K1ylApHA9CtejKkBxPQrXo/AoQA==\",\"dtype\":\"float64\",\"order\":\"little\",\"shape\":[32]},\"Year\":[1990,1991,1992,1993,1994,1995,1996,1997,1998,1999,2000,2001,2002,2003,2004,2005,2006,2007,2008,2009,2010,2011,2012,2013,2014,2015,2016,2017,2018,2019,2020,2021]},\"selected\":{\"id\":\"3957\"},\"selection_policy\":{\"id\":\"3977\"}},\"id\":\"3956\",\"type\":\"ColumnDataSource\"},{\"attributes\":{\"coordinates\":null,\"group\":null,\"text\":\"Solar Energy Generation\",\"text_color\":\"black\",\"text_font_size\":\"12pt\"},\"id\":\"3854\",\"type\":\"Title\"},{\"attributes\":{},\"id\":\"3871\",\"type\":\"PanTool\"},{\"attributes\":{\"axis\":{\"id\":\"3862\"},\"coordinates\":null,\"grid_line_color\":null,\"group\":null,\"ticker\":null},\"id\":\"3865\",\"type\":\"Grid\"},{\"attributes\":{\"data\":{\"Country\":[\"Germany\",\"Germany\",\"Germany\",\"Germany\",\"Germany\",\"Germany\",\"Germany\",\"Germany\",\"Germany\",\"Germany\",\"Germany\",\"Germany\",\"Germany\",\"Germany\",\"Germany\",\"Germany\",\"Germany\",\"Germany\",\"Germany\",\"Germany\",\"Germany\",\"Germany\",\"Germany\",\"Germany\",\"Germany\",\"Germany\",\"Germany\",\"Germany\",\"Germany\",\"Germany\",\"Germany\",\"Germany\",\"Germany\"],\"Electricity from solar (TWh)\":{\"__ndarray__\":\"AAAAAAAAAAAAAAAAAAAAAAAAAAAAAAAAAAAAAAAAAAB7FK5H4XqEP3sUrkfheoQ/exSuR+F6hD97FK5H4XqUP3sUrkfheqQ/uB6F61G4nj+4HoXrUbiuP7gehetRuL4/UrgehetRyD/Xo3A9CtfTP+xRuB6F6+E/exSuR+F69D/D9Shcj8IBQKRwPQrXowhArkfhehSuEUBSuB6F61EaQPYoXI/CdSdAmpmZmZmZM0DhehSuR2E6QMP1KFyPAj9ASOF6FK4HQkA9CtejcF1DQM3MzMzMDENAMzMzMzOzQ0B7FK5H4bpFQHE9CtejMEZAAAAAAADASEDsUbgehatIQD0K16NwfU1A\",\"dtype\":\"float64\",\"order\":\"little\",\"shape\":[33]},\"Electricity_from_solar_left_parenthesis_TWh_right_parenthesis\":{\"__ndarray__\":\"AAAAAAAAAAAAAAAAAAAAAAAAAAAAAAAAAAAAAAAAAAB7FK5H4XqEP3sUrkfheoQ/exSuR+F6hD97FK5H4XqUP3sUrkfheqQ/uB6F61G4nj+4HoXrUbiuP7gehetRuL4/UrgehetRyD/Xo3A9CtfTP+xRuB6F6+E/exSuR+F69D/D9Shcj8IBQKRwPQrXowhArkfhehSuEUBSuB6F61EaQPYoXI/CdSdAmpmZmZmZM0DhehSuR2E6QMP1KFyPAj9ASOF6FK4HQkA9CtejcF1DQM3MzMzMDENAMzMzMzOzQ0B7FK5H4bpFQHE9CtejMEZAAAAAAADASEDsUbgehatIQD0K16NwfU1A\",\"dtype\":\"float64\",\"order\":\"little\",\"shape\":[33]},\"Year\":[1990,1991,1992,1993,1994,1995,1996,1997,1998,1999,2000,2001,2002,2003,2004,2005,2006,2007,2008,2009,2010,2011,2012,2013,2014,2015,2016,2017,2018,2019,2020,2021,2022]},\"selected\":{\"id\":\"3890\"},\"selection_policy\":{\"id\":\"3904\"}},\"id\":\"3889\",\"type\":\"ColumnDataSource\"},{\"attributes\":{\"line_color\":\"#fc4f30\",\"line_width\":2,\"x\":{\"field\":\"Year\"},\"y\":{\"field\":\"Electricity from solar (TWh)\"}},\"id\":\"3913\",\"type\":\"Line\"},{\"attributes\":{\"axis_label\":\"Year\",\"coordinates\":null,\"formatter\":{\"id\":\"3884\"},\"group\":null,\"major_label_policy\":{\"id\":\"3885\"},\"ticker\":{\"id\":\"3863\"}},\"id\":\"3862\",\"type\":\"LinearAxis\"},{\"attributes\":{\"line_alpha\":0.2,\"line_color\":\"#fc4f30\",\"line_width\":2,\"x\":{\"field\":\"Year\"},\"y\":{\"field\":\"Electricity from solar (TWh)\"}},\"id\":\"3915\",\"type\":\"Line\"},{\"attributes\":{},\"id\":\"3860\",\"type\":\"LinearScale\"},{\"attributes\":{\"source\":{\"id\":\"3910\"}},\"id\":\"3917\",\"type\":\"CDSView\"},{\"attributes\":{\"line_alpha\":0.1,\"line_color\":\"#fc4f30\",\"line_width\":2,\"x\":{\"field\":\"Year\"},\"y\":{\"field\":\"Electricity from solar (TWh)\"}},\"id\":\"3914\",\"type\":\"Line\"},{\"attributes\":{},\"id\":\"3863\",\"type\":\"BasicTicker\"},{\"attributes\":{\"data\":{\"Country\":[\"Switzerland\",\"Switzerland\",\"Switzerland\",\"Switzerland\",\"Switzerland\",\"Switzerland\",\"Switzerland\",\"Switzerland\",\"Switzerland\",\"Switzerland\",\"Switzerland\",\"Switzerland\",\"Switzerland\",\"Switzerland\",\"Switzerland\",\"Switzerland\",\"Switzerland\",\"Switzerland\",\"Switzerland\",\"Switzerland\",\"Switzerland\",\"Switzerland\",\"Switzerland\",\"Switzerland\",\"Switzerland\",\"Switzerland\",\"Switzerland\",\"Switzerland\",\"Switzerland\",\"Switzerland\",\"Switzerland\",\"Switzerland\"],\"Electricity from solar (TWh)\":{\"__ndarray__\":\"/Knx0k1iUD/8qfHSTWJgP/p+arx0k2g//Knx0k1icD97FK5H4Xp0P/p+arx0k3g/eekmMQisfD956SYxCKx8P/yp8dJNYoA/exSuR+F6hD97FK5H4XqEP3sUrkfheoQ/exSuR+F6hD97FK5H4XqUP3sUrkfhepQ/exSuR+F6lD97FK5H4XqUP7gehetRuJ4/uB6F61G4nj+amZmZmZmpPwrXo3A9Crc/w/UoXI/CxT8zMzMzMzPTPwAAAAAAAOA/4XoUrkfh6j/sUbgehevxP0jhehSuR/U/4XoUrkfh+j8zMzMzMzP/P3E9CtejcAFAzczMzMzMBEAfhetRuB4HQA==\",\"dtype\":\"float64\",\"order\":\"little\",\"shape\":[32]},\"Electricity_from_solar_left_parenthesis_TWh_right_parenthesis\":{\"__ndarray__\":\"/Knx0k1iUD/8qfHSTWJgP/p+arx0k2g//Knx0k1icD97FK5H4Xp0P/p+arx0k3g/eekmMQisfD956SYxCKx8P/yp8dJNYoA/exSuR+F6hD97FK5H4XqEP3sUrkfheoQ/exSuR+F6hD97FK5H4XqUP3sUrkfhepQ/exSuR+F6lD97FK5H4XqUP7gehetRuJ4/uB6F61G4nj+amZmZmZmpPwrXo3A9Crc/w/UoXI/CxT8zMzMzMzPTPwAAAAAAAOA/4XoUrkfh6j/sUbgehevxP0jhehSuR/U/4XoUrkfh+j8zMzMzMzP/P3E9CtejcAFAzczMzMzMBEAfhetRuB4HQA==\",\"dtype\":\"float64\",\"order\":\"little\",\"shape\":[32]},\"Year\":[1990,1991,1992,1993,1994,1995,1996,1997,1998,1999,2000,2001,2002,2003,2004,2005,2006,2007,2008,2009,2010,2011,2012,2013,2014,2015,2016,2017,2018,2019,2020,2021]},\"selected\":{\"id\":\"3933\"},\"selection_policy\":{\"id\":\"3951\"}},\"id\":\"3932\",\"type\":\"ColumnDataSource\"},{\"attributes\":{\"axis_label\":\"Electricity from solar (TWh)\",\"coordinates\":null,\"formatter\":{\"id\":\"3887\"},\"group\":null,\"major_label_policy\":{\"id\":\"3888\"},\"ticker\":{\"id\":\"3867\"}},\"id\":\"3866\",\"type\":\"LinearAxis\"},{\"attributes\":{\"axis\":{\"id\":\"3866\"},\"coordinates\":null,\"dimension\":1,\"grid_line_color\":null,\"group\":null,\"ticker\":null},\"id\":\"3869\",\"type\":\"Grid\"},{\"attributes\":{\"line_color\":\"#e5ae38\",\"line_width\":2,\"x\":{\"field\":\"Year\"},\"y\":{\"field\":\"Electricity from solar (TWh)\"}},\"id\":\"3955\",\"type\":\"Line\"},{\"attributes\":{},\"id\":\"3867\",\"type\":\"BasicTicker\"},{\"attributes\":{\"label\":{\"value\":\"Spain\"},\"renderers\":[{\"id\":\"3916\"}]},\"id\":\"3930\",\"type\":\"LegendItem\"},{\"attributes\":{},\"id\":\"3872\",\"type\":\"WheelZoomTool\"},{\"attributes\":{},\"id\":\"3870\",\"type\":\"SaveTool\"},{\"attributes\":{\"line_color\":\"#6d904f\",\"line_width\":2,\"x\":{\"field\":\"Year\"},\"y\":{\"field\":\"Electricity from solar (TWh)\"}},\"id\":\"3959\",\"type\":\"Line\"},{\"attributes\":{},\"id\":\"3927\",\"type\":\"UnionRenderers\"},{\"attributes\":{\"overlay\":{\"id\":\"3875\"}},\"id\":\"3873\",\"type\":\"BoxZoomTool\"},{\"attributes\":{},\"id\":\"3874\",\"type\":\"ResetTool\"},{\"attributes\":{\"line_alpha\":0.2,\"line_color\":\"#6d904f\",\"line_width\":2,\"x\":{\"field\":\"Year\"},\"y\":{\"field\":\"Electricity from solar (TWh)\"}},\"id\":\"3961\",\"type\":\"Line\"},{\"attributes\":{\"bottom_units\":\"screen\",\"coordinates\":null,\"fill_alpha\":0.5,\"fill_color\":\"lightgrey\",\"group\":null,\"left_units\":\"screen\",\"level\":\"overlay\",\"line_alpha\":1.0,\"line_color\":\"black\",\"line_dash\":[4,4],\"line_width\":2,\"right_units\":\"screen\",\"syncable\":false,\"top_units\":\"screen\"},\"id\":\"3875\",\"type\":\"BoxAnnotation\"},{\"attributes\":{\"line_alpha\":0.1,\"line_color\":\"#6d904f\",\"line_width\":2,\"x\":{\"field\":\"Year\"},\"y\":{\"field\":\"Electricity from solar (TWh)\"}},\"id\":\"3960\",\"type\":\"Line\"},{\"attributes\":{\"active_drag\":{\"id\":\"3871\"},\"active_scroll\":{\"id\":\"3872\"},\"tools\":[{\"id\":\"3849\"},{\"id\":\"3870\"},{\"id\":\"3871\"},{\"id\":\"3872\"},{\"id\":\"3873\"},{\"id\":\"3874\"}]},\"id\":\"3876\",\"type\":\"Toolbar\"},{\"attributes\":{\"source\":{\"id\":\"3956\"}},\"id\":\"3963\",\"type\":\"CDSView\"},{\"attributes\":{},\"id\":\"3904\",\"type\":\"UnionRenderers\"},{\"attributes\":{\"label\":{\"value\":\"United Kingdom\"},\"renderers\":[{\"id\":\"3962\"}]},\"id\":\"3980\",\"type\":\"LegendItem\"},{\"attributes\":{\"children\":[{\"id\":\"3853\"}],\"height\":400,\"margin\":[0,0,0,0],\"name\":\"Row03776\",\"sizing_mode\":\"fixed\",\"tags\":[\"embedded\"],\"width\":700},\"id\":\"3846\",\"type\":\"Row\"},{\"attributes\":{},\"id\":\"3977\",\"type\":\"UnionRenderers\"}],\"root_ids\":[\"3846\"]},\"title\":\"Bokeh Application\",\"version\":\"2.4.3\"}};\n",
       "    var render_items = [{\"docid\":\"9de81e9e-517a-4a26-ba80-210389b55978\",\"root_ids\":[\"3846\"],\"roots\":{\"3846\":\"9d482834-edcb-4bfa-88cf-8ae5bc373168\"}}];\n",
       "    root.Bokeh.embed.embed_items_notebook(docs_json, render_items);\n",
       "    for (const render_item of render_items) {\n",
       "      for (const root_id of render_item.root_ids) {\n",
       "\tconst id_el = document.getElementById(root_id)\n",
       "\tif (id_el.children.length && (id_el.children[0].className === 'bk-root')) {\n",
       "\t  const root_el = id_el.children[0]\n",
       "\t  root_el.id = root_el.id + '-rendered'\n",
       "\t}\n",
       "      }\n",
       "    }\n",
       "  }\n",
       "  if (root.Bokeh !== undefined && root.Bokeh.Panel !== undefined) {\n",
       "    embed_document(root);\n",
       "  } else {\n",
       "    var attempts = 0;\n",
       "    var timer = setInterval(function(root) {\n",
       "      if (root.Bokeh !== undefined && root.Bokeh.Panel !== undefined) {\n",
       "        clearInterval(timer);\n",
       "        embed_document(root);\n",
       "      } else if (document.readyState == \"complete\") {\n",
       "        attempts++;\n",
       "        if (attempts > 200) {\n",
       "          clearInterval(timer);\n",
       "          console.log(\"Bokeh: ERROR: Unable to run BokehJS code because BokehJS library is missing\");\n",
       "        }\n",
       "      }\n",
       "    }, 25, root)\n",
       "  }\n",
       "})(window);</script>"
      ],
      "text/plain": [
       ":NdOverlay   [Country]\n",
       "   :Curve   [Year]   (Electricity from solar (TWh))"
      ]
     },
     "metadata": {
      "application/vnd.holoviews_exec.v0+json": {
       "id": "3846"
      }
     },
     "output_type": "display_data"
    },
    {
     "data": {},
     "metadata": {},
     "output_type": "display_data"
    },
    {
     "data": {
      "application/vnd.holoviews_exec.v0+json": "",
      "text/html": [
       "<div id='4083'>\n",
       "  <div class=\"bk-root\" id=\"a1c5a044-78d0-4607-9870-901594b28151\" data-root-id=\"4083\"></div>\n",
       "</div>\n",
       "<script type=\"application/javascript\">(function(root) {\n",
       "  function embed_document(root) {\n",
       "    var docs_json = {\"503634fa-ebd8-446d-bc73-2ade4d31d132\":{\"defs\":[{\"extends\":null,\"module\":null,\"name\":\"ReactiveHTML1\",\"overrides\":[],\"properties\":[]},{\"extends\":null,\"module\":null,\"name\":\"FlexBox1\",\"overrides\":[],\"properties\":[{\"default\":\"flex-start\",\"kind\":null,\"name\":\"align_content\"},{\"default\":\"flex-start\",\"kind\":null,\"name\":\"align_items\"},{\"default\":\"row\",\"kind\":null,\"name\":\"flex_direction\"},{\"default\":\"wrap\",\"kind\":null,\"name\":\"flex_wrap\"},{\"default\":\"flex-start\",\"kind\":null,\"name\":\"justify_content\"}]},{\"extends\":null,\"module\":null,\"name\":\"GridStack1\",\"overrides\":[],\"properties\":[{\"default\":\"warn\",\"kind\":null,\"name\":\"mode\"},{\"default\":null,\"kind\":null,\"name\":\"ncols\"},{\"default\":null,\"kind\":null,\"name\":\"nrows\"},{\"default\":true,\"kind\":null,\"name\":\"allow_resize\"},{\"default\":true,\"kind\":null,\"name\":\"allow_drag\"},{\"default\":[],\"kind\":null,\"name\":\"state\"}]},{\"extends\":null,\"module\":null,\"name\":\"click1\",\"overrides\":[],\"properties\":[{\"default\":\"\",\"kind\":null,\"name\":\"terminal_output\"},{\"default\":\"\",\"kind\":null,\"name\":\"debug_name\"},{\"default\":0,\"kind\":null,\"name\":\"clears\"}]},{\"extends\":null,\"module\":null,\"name\":\"NotificationAreaBase1\",\"overrides\":[],\"properties\":[{\"default\":\"bottom-right\",\"kind\":null,\"name\":\"position\"},{\"default\":0,\"kind\":null,\"name\":\"_clear\"}]},{\"extends\":null,\"module\":null,\"name\":\"NotificationArea1\",\"overrides\":[],\"properties\":[{\"default\":[],\"kind\":null,\"name\":\"notifications\"},{\"default\":\"bottom-right\",\"kind\":null,\"name\":\"position\"},{\"default\":0,\"kind\":null,\"name\":\"_clear\"},{\"default\":[{\"background\":\"#ffc107\",\"icon\":{\"className\":\"fas fa-exclamation-triangle\",\"color\":\"white\",\"tagName\":\"i\"},\"type\":\"warning\"},{\"background\":\"#007bff\",\"icon\":{\"className\":\"fas fa-info-circle\",\"color\":\"white\",\"tagName\":\"i\"},\"type\":\"info\"}],\"kind\":null,\"name\":\"types\"}]},{\"extends\":null,\"module\":null,\"name\":\"Notification\",\"overrides\":[],\"properties\":[{\"default\":null,\"kind\":null,\"name\":\"background\"},{\"default\":3000,\"kind\":null,\"name\":\"duration\"},{\"default\":null,\"kind\":null,\"name\":\"icon\"},{\"default\":\"\",\"kind\":null,\"name\":\"message\"},{\"default\":null,\"kind\":null,\"name\":\"notification_type\"},{\"default\":false,\"kind\":null,\"name\":\"_destroyed\"}]},{\"extends\":null,\"module\":null,\"name\":\"TemplateActions1\",\"overrides\":[],\"properties\":[{\"default\":0,\"kind\":null,\"name\":\"open_modal\"},{\"default\":0,\"kind\":null,\"name\":\"close_modal\"}]},{\"extends\":null,\"module\":null,\"name\":\"MaterialTemplateActions1\",\"overrides\":[],\"properties\":[{\"default\":0,\"kind\":null,\"name\":\"open_modal\"},{\"default\":0,\"kind\":null,\"name\":\"close_modal\"}]}],\"roots\":{\"references\":[{\"attributes\":{\"coordinates\":null,\"data_source\":{\"id\":\"4126\"},\"glyph\":{\"id\":\"4129\"},\"group\":null,\"hover_glyph\":null,\"muted_glyph\":{\"id\":\"4131\"},\"nonselection_glyph\":{\"id\":\"4130\"},\"selection_glyph\":{\"id\":\"4146\"},\"view\":{\"id\":\"4133\"}},\"id\":\"4132\",\"type\":\"GlyphRenderer\"},{\"attributes\":{\"below\":[{\"id\":\"4099\"}],\"center\":[{\"id\":\"4102\"},{\"id\":\"4106\"}],\"height\":400,\"left\":[{\"id\":\"4103\"}],\"margin\":[5,5,5,5],\"min_border_bottom\":10,\"min_border_left\":10,\"min_border_right\":10,\"min_border_top\":10,\"renderers\":[{\"id\":\"4132\"},{\"id\":\"4153\"},{\"id\":\"4175\"},{\"id\":\"4199\"}],\"right\":[{\"id\":\"4144\"}],\"sizing_mode\":\"fixed\",\"title\":{\"id\":\"4091\"},\"toolbar\":{\"id\":\"4113\"},\"width\":700,\"x_range\":{\"id\":\"4084\"},\"x_scale\":{\"id\":\"4095\"},\"y_range\":{\"id\":\"4085\"},\"y_scale\":{\"id\":\"4097\"}},\"id\":\"4090\",\"subtype\":\"Figure\",\"type\":\"Plot\"},{\"attributes\":{\"line_alpha\":0.2,\"line_color\":\"#30a2da\",\"line_width\":2,\"x\":{\"field\":\"Year\"},\"y\":{\"field\":\"Solar (TWh growth - equivalent)\"}},\"id\":\"4131\",\"type\":\"Line\"},{\"attributes\":{},\"id\":\"4095\",\"type\":\"LinearScale\"},{\"attributes\":{\"label\":{\"value\":\"Germany\"},\"renderers\":[{\"id\":\"4132\"}]},\"id\":\"4145\",\"type\":\"LegendItem\"},{\"attributes\":{\"coordinates\":null,\"data_source\":{\"id\":\"4147\"},\"glyph\":{\"id\":\"4150\"},\"group\":null,\"hover_glyph\":null,\"muted_glyph\":{\"id\":\"4152\"},\"nonselection_glyph\":{\"id\":\"4151\"},\"selection_glyph\":{\"id\":\"4168\"},\"view\":{\"id\":\"4154\"}},\"id\":\"4153\",\"type\":\"GlyphRenderer\"},{\"attributes\":{\"source\":{\"id\":\"4126\"}},\"id\":\"4133\",\"type\":\"CDSView\"},{\"attributes\":{\"callback\":null,\"renderers\":[{\"id\":\"4132\"},{\"id\":\"4153\"},{\"id\":\"4175\"},{\"id\":\"4199\"}],\"tags\":[\"hv_created\"],\"tooltips\":[[\"Country\",\"@{Country}\"],[\"Year\",\"@{Year}\"],[\"Solar (TWh growth - equivalent)\",\"@{Solar_left_parenthesis_TWh_growth_hyphen_minus_equivalent_right_parenthesis}\"]]},\"id\":\"4086\",\"type\":\"HoverTool\"},{\"attributes\":{\"line_color\":\"#30a2da\",\"line_width\":2,\"x\":{\"field\":\"Year\"},\"y\":{\"field\":\"Solar (TWh growth - equivalent)\"}},\"id\":\"4146\",\"type\":\"Line\"},{\"attributes\":{\"click_policy\":\"mute\",\"coordinates\":null,\"group\":null,\"items\":[{\"id\":\"4145\"},{\"id\":\"4167\"},{\"id\":\"4191\"},{\"id\":\"4217\"}],\"location\":[0,0],\"title\":\"Country\"},\"id\":\"4144\",\"type\":\"Legend\"},{\"attributes\":{\"data\":{\"Country\":[\"United Kingdom\",\"United Kingdom\",\"United Kingdom\",\"United Kingdom\",\"United Kingdom\",\"United Kingdom\",\"United Kingdom\",\"United Kingdom\",\"United Kingdom\",\"United Kingdom\",\"United Kingdom\",\"United Kingdom\",\"United Kingdom\",\"United Kingdom\",\"United Kingdom\",\"United Kingdom\",\"United Kingdom\",\"United Kingdom\",\"United Kingdom\",\"United Kingdom\",\"United Kingdom\",\"United Kingdom\",\"United Kingdom\",\"United Kingdom\",\"United Kingdom\",\"United Kingdom\",\"United Kingdom\",\"United Kingdom\",\"United Kingdom\",\"United Kingdom\",\"United Kingdom\",\"United Kingdom\"],\"Solar (TWh growth - equivalent)\":{\"__ndarray__\":\"AAAAAAAAAAAAAAAAAAAAAAAAAAAAAAAAAAAAAAAAAAAAAAAAAAAAAAAAAAAAAAAAAAAAAAAAAAAAAAAAAAAAAAAAAAAAAAAAAAAAAAAAAAAAAAAAAAAAAAAAAAAAAAAAAAAAAAAAAAAAAAAAAAAAAAAAAAAAAAAAexSuR+F6hD8AAAAAAAAAAAAAAAAAAAAAexSuR+F6hD8AAAAAAAAAAHsUrkfhepQ/mpmZmZmZyT/D9Shcj8LxPx+F61G4HuU/UrgehetRAEDXo3A9CtcLQPYoXI/C9QZA9ihcj8L18D97FK5H4Xr0PwrXo3A9Csc/mpmZmZmZ2T8zMzMzMzPrvw==\",\"dtype\":\"float64\",\"order\":\"little\",\"shape\":[32]},\"Solar_left_parenthesis_TWh_growth_hyphen_minus_equivalent_right_parenthesis\":{\"__ndarray__\":\"AAAAAAAAAAAAAAAAAAAAAAAAAAAAAAAAAAAAAAAAAAAAAAAAAAAAAAAAAAAAAAAAAAAAAAAAAAAAAAAAAAAAAAAAAAAAAAAAAAAAAAAAAAAAAAAAAAAAAAAAAAAAAAAAAAAAAAAAAAAAAAAAAAAAAAAAAAAAAAAAexSuR+F6hD8AAAAAAAAAAAAAAAAAAAAAexSuR+F6hD8AAAAAAAAAAHsUrkfhepQ/mpmZmZmZyT/D9Shcj8LxPx+F61G4HuU/UrgehetRAEDXo3A9CtcLQPYoXI/C9QZA9ihcj8L18D97FK5H4Xr0PwrXo3A9Csc/mpmZmZmZ2T8zMzMzMzPrvw==\",\"dtype\":\"float64\",\"order\":\"little\",\"shape\":[32]},\"Year\":[1990,1991,1992,1993,1994,1995,1996,1997,1998,1999,2000,2001,2002,2003,2004,2005,2006,2007,2008,2009,2010,2011,2012,2013,2014,2015,2016,2017,2018,2019,2020,2021]},\"selected\":{\"id\":\"4194\"},\"selection_policy\":{\"id\":\"4214\"}},\"id\":\"4193\",\"type\":\"ColumnDataSource\"},{\"attributes\":{\"data\":{\"Country\":[\"Germany\",\"Germany\",\"Germany\",\"Germany\",\"Germany\",\"Germany\",\"Germany\",\"Germany\",\"Germany\",\"Germany\",\"Germany\",\"Germany\",\"Germany\",\"Germany\",\"Germany\",\"Germany\",\"Germany\",\"Germany\",\"Germany\",\"Germany\",\"Germany\",\"Germany\",\"Germany\",\"Germany\",\"Germany\",\"Germany\",\"Germany\",\"Germany\",\"Germany\",\"Germany\",\"Germany\",\"Germany\",\"Germany\"],\"Solar (TWh growth - equivalent)\":{\"__ndarray__\":\"AAAAAAAAAAAAAAAAAAAAAAAAAAAAAAAAAAAAAAAAAAB7FK5H4XqEPwAAAAAAAAAAAAAAAAAAAAB7FK5H4XqEP3sUrkfhepQ/exSuR+F6hL+4HoXrUbieP7gehetRuK4/7FG4HoXrsT+4HoXrUbi+PwAAAAAAANA/CtejcD0K5z8UrkfhehTuP4XrUbgehes/cT0K16Nw9T9I4XoUrkcBQJqZmZmZmRRAexSuR+F6H0AfhetRuB4bQIXrUbgehRJAMzMzMzMzFEBcj8L1KFwFQClcj8L1KOS/zczMzMzM9D89CtejcD0QQHE9CtejcO0/exSuR+F6FEB7FK5H4XrEv0jhehSuRyNA\",\"dtype\":\"float64\",\"order\":\"little\",\"shape\":[33]},\"Solar_left_parenthesis_TWh_growth_hyphen_minus_equivalent_right_parenthesis\":{\"__ndarray__\":\"AAAAAAAAAAAAAAAAAAAAAAAAAAAAAAAAAAAAAAAAAAB7FK5H4XqEPwAAAAAAAAAAAAAAAAAAAAB7FK5H4XqEP3sUrkfhepQ/exSuR+F6hL+4HoXrUbieP7gehetRuK4/7FG4HoXrsT+4HoXrUbi+PwAAAAAAANA/CtejcD0K5z8UrkfhehTuP4XrUbgehes/cT0K16Nw9T9I4XoUrkcBQJqZmZmZmRRAexSuR+F6H0AfhetRuB4bQIXrUbgehRJAMzMzMzMzFEBcj8L1KFwFQClcj8L1KOS/zczMzMzM9D89CtejcD0QQHE9CtejcO0/exSuR+F6FEB7FK5H4XrEv0jhehSuRyNA\",\"dtype\":\"float64\",\"order\":\"little\",\"shape\":[33]},\"Year\":[1990,1991,1992,1993,1994,1995,1996,1997,1998,1999,2000,2001,2002,2003,2004,2005,2006,2007,2008,2009,2010,2011,2012,2013,2014,2015,2016,2017,2018,2019,2020,2021,2022]},\"selected\":{\"id\":\"4127\"},\"selection_policy\":{\"id\":\"4141\"}},\"id\":\"4126\",\"type\":\"ColumnDataSource\"},{\"attributes\":{\"line_color\":\"#fc4f30\",\"line_width\":2,\"x\":{\"field\":\"Year\"},\"y\":{\"field\":\"Solar (TWh growth - equivalent)\"}},\"id\":\"4150\",\"type\":\"Line\"},{\"attributes\":{\"line_alpha\":0.2,\"line_color\":\"#fc4f30\",\"line_width\":2,\"x\":{\"field\":\"Year\"},\"y\":{\"field\":\"Solar (TWh growth - equivalent)\"}},\"id\":\"4152\",\"type\":\"Line\"},{\"attributes\":{\"line_alpha\":0.1,\"line_color\":\"#fc4f30\",\"line_width\":2,\"x\":{\"field\":\"Year\"},\"y\":{\"field\":\"Solar (TWh growth - equivalent)\"}},\"id\":\"4151\",\"type\":\"Line\"},{\"attributes\":{\"line_color\":\"#e5ae38\",\"line_width\":2,\"x\":{\"field\":\"Year\"},\"y\":{\"field\":\"Solar (TWh growth - equivalent)\"}},\"id\":\"4192\",\"type\":\"Line\"},{\"attributes\":{},\"id\":\"4170\",\"type\":\"Selection\"},{\"attributes\":{\"coordinates\":null,\"group\":null,\"text\":\"Annual Change Solar Energy Generation\",\"text_color\":\"black\",\"text_font_size\":\"12pt\"},\"id\":\"4091\",\"type\":\"Title\"},{\"attributes\":{\"coordinates\":null,\"data_source\":{\"id\":\"4193\"},\"glyph\":{\"id\":\"4196\"},\"group\":null,\"hover_glyph\":null,\"muted_glyph\":{\"id\":\"4198\"},\"nonselection_glyph\":{\"id\":\"4197\"},\"selection_glyph\":{\"id\":\"4218\"},\"view\":{\"id\":\"4200\"}},\"id\":\"4199\",\"type\":\"GlyphRenderer\"},{\"attributes\":{\"source\":{\"id\":\"4147\"}},\"id\":\"4154\",\"type\":\"CDSView\"},{\"attributes\":{},\"id\":\"4108\",\"type\":\"PanTool\"},{\"attributes\":{\"axis\":{\"id\":\"4099\"},\"coordinates\":null,\"grid_line_color\":null,\"group\":null,\"ticker\":null},\"id\":\"4102\",\"type\":\"Grid\"},{\"attributes\":{},\"id\":\"4148\",\"type\":\"Selection\"},{\"attributes\":{},\"id\":\"4194\",\"type\":\"Selection\"},{\"attributes\":{\"axis_label\":\"Year\",\"coordinates\":null,\"formatter\":{\"id\":\"4121\"},\"group\":null,\"major_label_policy\":{\"id\":\"4122\"},\"ticker\":{\"id\":\"4100\"}},\"id\":\"4099\",\"type\":\"LinearAxis\"},{\"attributes\":{\"label\":{\"value\":\"Spain\"},\"renderers\":[{\"id\":\"4153\"}]},\"id\":\"4167\",\"type\":\"LegendItem\"},{\"attributes\":{},\"id\":\"4097\",\"type\":\"LinearScale\"},{\"attributes\":{\"line_alpha\":0.2,\"line_color\":\"#6d904f\",\"line_width\":2,\"x\":{\"field\":\"Year\"},\"y\":{\"field\":\"Solar (TWh growth - equivalent)\"}},\"id\":\"4198\",\"type\":\"Line\"},{\"attributes\":{},\"id\":\"4100\",\"type\":\"BasicTicker\"},{\"attributes\":{\"line_alpha\":0.1,\"line_color\":\"#6d904f\",\"line_width\":2,\"x\":{\"field\":\"Year\"},\"y\":{\"field\":\"Solar (TWh growth - equivalent)\"}},\"id\":\"4197\",\"type\":\"Line\"},{\"attributes\":{},\"id\":\"4122\",\"type\":\"AllLabels\"},{\"attributes\":{\"axis_label\":\"Solar (TWh growth - equivalent)\",\"coordinates\":null,\"formatter\":{\"id\":\"4124\"},\"group\":null,\"major_label_policy\":{\"id\":\"4125\"},\"ticker\":{\"id\":\"4104\"}},\"id\":\"4103\",\"type\":\"LinearAxis\"},{\"attributes\":{},\"id\":\"4164\",\"type\":\"UnionRenderers\"},{\"attributes\":{\"axis\":{\"id\":\"4103\"},\"coordinates\":null,\"dimension\":1,\"grid_line_color\":null,\"group\":null,\"ticker\":null},\"id\":\"4106\",\"type\":\"Grid\"},{\"attributes\":{},\"id\":\"4104\",\"type\":\"BasicTicker\"},{\"attributes\":{\"source\":{\"id\":\"4193\"}},\"id\":\"4200\",\"type\":\"CDSView\"},{\"attributes\":{},\"id\":\"4109\",\"type\":\"WheelZoomTool\"},{\"attributes\":{\"line_color\":\"#6d904f\",\"line_width\":2,\"x\":{\"field\":\"Year\"},\"y\":{\"field\":\"Solar (TWh growth - equivalent)\"}},\"id\":\"4196\",\"type\":\"Line\"},{\"attributes\":{},\"id\":\"4107\",\"type\":\"SaveTool\"},{\"attributes\":{\"label\":{\"value\":\"United Kingdom\"},\"renderers\":[{\"id\":\"4199\"}]},\"id\":\"4217\",\"type\":\"LegendItem\"},{\"attributes\":{\"overlay\":{\"id\":\"4112\"}},\"id\":\"4110\",\"type\":\"BoxZoomTool\"},{\"attributes\":{},\"id\":\"4111\",\"type\":\"ResetTool\"},{\"attributes\":{},\"id\":\"4214\",\"type\":\"UnionRenderers\"},{\"attributes\":{\"bottom_units\":\"screen\",\"coordinates\":null,\"fill_alpha\":0.5,\"fill_color\":\"lightgrey\",\"group\":null,\"left_units\":\"screen\",\"level\":\"overlay\",\"line_alpha\":1.0,\"line_color\":\"black\",\"line_dash\":[4,4],\"line_width\":2,\"right_units\":\"screen\",\"syncable\":false,\"top_units\":\"screen\"},\"id\":\"4112\",\"type\":\"BoxAnnotation\"},{\"attributes\":{},\"id\":\"4141\",\"type\":\"UnionRenderers\"},{\"attributes\":{\"data\":{\"Country\":[\"Spain\",\"Spain\",\"Spain\",\"Spain\",\"Spain\",\"Spain\",\"Spain\",\"Spain\",\"Spain\",\"Spain\",\"Spain\",\"Spain\",\"Spain\",\"Spain\",\"Spain\",\"Spain\",\"Spain\",\"Spain\",\"Spain\",\"Spain\",\"Spain\",\"Spain\",\"Spain\",\"Spain\",\"Spain\",\"Spain\",\"Spain\",\"Spain\",\"Spain\",\"Spain\",\"Spain\",\"Spain\",\"Spain\"],\"Solar (TWh growth - equivalent)\":{\"__ndarray__\":\"AAAAAAAAAAAAAAAAAAAAAAAAAAAAAAAAAAAAAAAAAAAAAAAAAAAAAHsUrkfheoQ/AAAAAAAAAAAAAAAAAAAAAAAAAAAAAAAAexSuR+F6hD97FK5H4XqUv3sUrkfheoQ/AAAAAAAAAAAAAAAAAAAAAAAAAAAAAAAAuB6F61G4nj/sUbgeheuxP5qZmZmZmdk/exSuR+F6AEDXo3A9CtcLQBSuR+F6FPI/rkfhehSuAUCPwvUoXI8EQBSuR+F6FPI/PQrXo3A94j9SuB6F61HIPylcj8L1KMy/UrgehetR6D+PwvUoXI/6v+F6FK5H4QJASOF6FK5HFkC4HoXrUbgZQK5H4XoUrhZA\",\"dtype\":\"float64\",\"order\":\"little\",\"shape\":[33]},\"Solar_left_parenthesis_TWh_growth_hyphen_minus_equivalent_right_parenthesis\":{\"__ndarray__\":\"AAAAAAAAAAAAAAAAAAAAAAAAAAAAAAAAAAAAAAAAAAAAAAAAAAAAAHsUrkfheoQ/AAAAAAAAAAAAAAAAAAAAAAAAAAAAAAAAexSuR+F6hD97FK5H4XqUv3sUrkfheoQ/AAAAAAAAAAAAAAAAAAAAAAAAAAAAAAAAuB6F61G4nj/sUbgeheuxP5qZmZmZmdk/exSuR+F6AEDXo3A9CtcLQBSuR+F6FPI/rkfhehSuAUCPwvUoXI8EQBSuR+F6FPI/PQrXo3A94j9SuB6F61HIPylcj8L1KMy/UrgehetR6D+PwvUoXI/6v+F6FK5H4QJASOF6FK5HFkC4HoXrUbgZQK5H4XoUrhZA\",\"dtype\":\"float64\",\"order\":\"little\",\"shape\":[33]},\"Year\":[1990,1991,1992,1993,1994,1995,1996,1997,1998,1999,2000,2001,2002,2003,2004,2005,2006,2007,2008,2009,2010,2011,2012,2013,2014,2015,2016,2017,2018,2019,2020,2021,2022]},\"selected\":{\"id\":\"4148\"},\"selection_policy\":{\"id\":\"4164\"}},\"id\":\"4147\",\"type\":\"ColumnDataSource\"},{\"attributes\":{},\"id\":\"4125\",\"type\":\"AllLabels\"},{\"attributes\":{},\"id\":\"4124\",\"type\":\"BasicTickFormatter\"},{\"attributes\":{\"line_alpha\":0.2,\"line_color\":\"#e5ae38\",\"line_width\":2,\"x\":{\"field\":\"Year\"},\"y\":{\"field\":\"Solar (TWh growth - equivalent)\"}},\"id\":\"4174\",\"type\":\"Line\"},{\"attributes\":{\"data\":{\"Country\":[\"Switzerland\",\"Switzerland\",\"Switzerland\",\"Switzerland\",\"Switzerland\",\"Switzerland\",\"Switzerland\",\"Switzerland\",\"Switzerland\",\"Switzerland\",\"Switzerland\",\"Switzerland\",\"Switzerland\",\"Switzerland\",\"Switzerland\",\"Switzerland\",\"Switzerland\",\"Switzerland\",\"Switzerland\",\"Switzerland\",\"Switzerland\",\"Switzerland\",\"Switzerland\",\"Switzerland\",\"Switzerland\",\"Switzerland\",\"Switzerland\",\"Switzerland\",\"Switzerland\",\"Switzerland\",\"Switzerland\",\"Switzerland\"],\"Solar (TWh growth - equivalent)\":{\"__ndarray__\":\"AAAAAAAAAAD8qfHSTWJQP/yp8dJNYlA//Knx0k1iUD/8qfHSTWJQP/yp8dJNYlA//Knx0k1iUD8AAAAAAAAAAPyp8dJNYlA//Knx0k1iYD8AAAAAAAAAAAAAAAAAAAAAAAAAAAAAAAB7FK5H4XqEPwAAAAAAAAAAAAAAAAAAAAAAAAAAAAAAAHsUrkfheoQ/AAAAAAAAAAB7FK5H4XqUP3sUrkfheqQ/exSuR+F6tD+kcD0K16PAP5qZmZmZmck/w/UoXI/C1T/sUbgehevRP+F6FK5H4co/ZmZmZmZm1j9I4XoUrkfRP3E9CtejcM0/4XoUrkfh2j+PwvUoXI/SPw==\",\"dtype\":\"float64\",\"order\":\"little\",\"shape\":[32]},\"Solar_left_parenthesis_TWh_growth_hyphen_minus_equivalent_right_parenthesis\":{\"__ndarray__\":\"AAAAAAAAAAD8qfHSTWJQP/yp8dJNYlA//Knx0k1iUD/8qfHSTWJQP/yp8dJNYlA//Knx0k1iUD8AAAAAAAAAAPyp8dJNYlA//Knx0k1iYD8AAAAAAAAAAAAAAAAAAAAAAAAAAAAAAAB7FK5H4XqEPwAAAAAAAAAAAAAAAAAAAAAAAAAAAAAAAHsUrkfheoQ/AAAAAAAAAAB7FK5H4XqUP3sUrkfheqQ/exSuR+F6tD+kcD0K16PAP5qZmZmZmck/w/UoXI/C1T/sUbgehevRP+F6FK5H4co/ZmZmZmZm1j9I4XoUrkfRP3E9CtejcM0/4XoUrkfh2j+PwvUoXI/SPw==\",\"dtype\":\"float64\",\"order\":\"little\",\"shape\":[32]},\"Year\":[1990,1991,1992,1993,1994,1995,1996,1997,1998,1999,2000,2001,2002,2003,2004,2005,2006,2007,2008,2009,2010,2011,2012,2013,2014,2015,2016,2017,2018,2019,2020,2021]},\"selected\":{\"id\":\"4170\"},\"selection_policy\":{\"id\":\"4188\"}},\"id\":\"4169\",\"type\":\"ColumnDataSource\"},{\"attributes\":{\"line_color\":\"#fc4f30\",\"line_width\":2,\"x\":{\"field\":\"Year\"},\"y\":{\"field\":\"Solar (TWh growth - equivalent)\"}},\"id\":\"4168\",\"type\":\"Line\"},{\"attributes\":{\"active_drag\":{\"id\":\"4108\"},\"active_scroll\":{\"id\":\"4109\"},\"tools\":[{\"id\":\"4086\"},{\"id\":\"4107\"},{\"id\":\"4108\"},{\"id\":\"4109\"},{\"id\":\"4110\"},{\"id\":\"4111\"}]},\"id\":\"4113\",\"type\":\"Toolbar\"},{\"attributes\":{\"line_color\":\"#30a2da\",\"line_width\":2,\"x\":{\"field\":\"Year\"},\"y\":{\"field\":\"Solar (TWh growth - equivalent)\"}},\"id\":\"4129\",\"type\":\"Line\"},{\"attributes\":{\"line_color\":\"#e5ae38\",\"line_width\":2,\"x\":{\"field\":\"Year\"},\"y\":{\"field\":\"Solar (TWh growth - equivalent)\"}},\"id\":\"4172\",\"type\":\"Line\"},{\"attributes\":{\"line_color\":\"#6d904f\",\"line_width\":2,\"x\":{\"field\":\"Year\"},\"y\":{\"field\":\"Solar (TWh growth - equivalent)\"}},\"id\":\"4218\",\"type\":\"Line\"},{\"attributes\":{\"source\":{\"id\":\"4169\"}},\"id\":\"4176\",\"type\":\"CDSView\"},{\"attributes\":{\"line_alpha\":0.1,\"line_color\":\"#e5ae38\",\"line_width\":2,\"x\":{\"field\":\"Year\"},\"y\":{\"field\":\"Solar (TWh growth - equivalent)\"}},\"id\":\"4173\",\"type\":\"Line\"},{\"attributes\":{},\"id\":\"4188\",\"type\":\"UnionRenderers\"},{\"attributes\":{},\"id\":\"4127\",\"type\":\"Selection\"},{\"attributes\":{\"coordinates\":null,\"data_source\":{\"id\":\"4169\"},\"glyph\":{\"id\":\"4172\"},\"group\":null,\"hover_glyph\":null,\"muted_glyph\":{\"id\":\"4174\"},\"nonselection_glyph\":{\"id\":\"4173\"},\"selection_glyph\":{\"id\":\"4192\"},\"view\":{\"id\":\"4176\"}},\"id\":\"4175\",\"type\":\"GlyphRenderer\"},{\"attributes\":{\"children\":[{\"id\":\"4090\"}],\"height\":400,\"margin\":[0,0,0,0],\"name\":\"Row04012\",\"sizing_mode\":\"fixed\",\"tags\":[\"embedded\"],\"width\":700},\"id\":\"4083\",\"type\":\"Row\"},{\"attributes\":{\"label\":{\"value\":\"Switzerland\"},\"renderers\":[{\"id\":\"4175\"}]},\"id\":\"4191\",\"type\":\"LegendItem\"},{\"attributes\":{\"line_alpha\":0.1,\"line_color\":\"#30a2da\",\"line_width\":2,\"x\":{\"field\":\"Year\"},\"y\":{\"field\":\"Solar (TWh growth - equivalent)\"}},\"id\":\"4130\",\"type\":\"Line\"},{\"attributes\":{},\"id\":\"4121\",\"type\":\"BasicTickFormatter\"},{\"attributes\":{\"end\":2022.0,\"reset_end\":2022.0,\"reset_start\":1990.0,\"start\":1990.0,\"tags\":[[[\"Year\",\"Year\",null]]]},\"id\":\"4084\",\"type\":\"Range1d\"},{\"attributes\":{\"end\":10.770000000000001,\"reset_end\":10.770000000000001,\"reset_start\":-2.79,\"start\":-2.79,\"tags\":[[[\"Solar (TWh growth - equivalent)\",\"Solar (TWh growth - equivalent)\",null]]]},\"id\":\"4085\",\"type\":\"Range1d\"}],\"root_ids\":[\"4083\"]},\"title\":\"Bokeh Application\",\"version\":\"2.4.3\"}};\n",
       "    var render_items = [{\"docid\":\"503634fa-ebd8-446d-bc73-2ade4d31d132\",\"root_ids\":[\"4083\"],\"roots\":{\"4083\":\"a1c5a044-78d0-4607-9870-901594b28151\"}}];\n",
       "    root.Bokeh.embed.embed_items_notebook(docs_json, render_items);\n",
       "    for (const render_item of render_items) {\n",
       "      for (const root_id of render_item.root_ids) {\n",
       "\tconst id_el = document.getElementById(root_id)\n",
       "\tif (id_el.children.length && (id_el.children[0].className === 'bk-root')) {\n",
       "\t  const root_el = id_el.children[0]\n",
       "\t  root_el.id = root_el.id + '-rendered'\n",
       "\t}\n",
       "      }\n",
       "    }\n",
       "  }\n",
       "  if (root.Bokeh !== undefined && root.Bokeh.Panel !== undefined) {\n",
       "    embed_document(root);\n",
       "  } else {\n",
       "    var attempts = 0;\n",
       "    var timer = setInterval(function(root) {\n",
       "      if (root.Bokeh !== undefined && root.Bokeh.Panel !== undefined) {\n",
       "        clearInterval(timer);\n",
       "        embed_document(root);\n",
       "      } else if (document.readyState == \"complete\") {\n",
       "        attempts++;\n",
       "        if (attempts > 200) {\n",
       "          clearInterval(timer);\n",
       "          console.log(\"Bokeh: ERROR: Unable to run BokehJS code because BokehJS library is missing\");\n",
       "        }\n",
       "      }\n",
       "    }, 25, root)\n",
       "  }\n",
       "})(window);</script>"
      ],
      "text/plain": [
       ":NdOverlay   [Country]\n",
       "   :Curve   [Year]   (Solar (TWh growth - equivalent))"
      ]
     },
     "metadata": {
      "application/vnd.holoviews_exec.v0+json": {
       "id": "4083"
      }
     },
     "output_type": "display_data"
    },
    {
     "data": {},
     "metadata": {},
     "output_type": "display_data"
    },
    {
     "data": {
      "application/vnd.holoviews_exec.v0+json": "",
      "text/html": [
       "<div id='4320'>\n",
       "  <div class=\"bk-root\" id=\"18902044-d11c-40f9-8115-cabe30d49172\" data-root-id=\"4320\"></div>\n",
       "</div>\n",
       "<script type=\"application/javascript\">(function(root) {\n",
       "  function embed_document(root) {\n",
       "    var docs_json = {\"754d2ae6-b4e3-4b2d-9c10-9b1f4937ac38\":{\"defs\":[{\"extends\":null,\"module\":null,\"name\":\"ReactiveHTML1\",\"overrides\":[],\"properties\":[]},{\"extends\":null,\"module\":null,\"name\":\"FlexBox1\",\"overrides\":[],\"properties\":[{\"default\":\"flex-start\",\"kind\":null,\"name\":\"align_content\"},{\"default\":\"flex-start\",\"kind\":null,\"name\":\"align_items\"},{\"default\":\"row\",\"kind\":null,\"name\":\"flex_direction\"},{\"default\":\"wrap\",\"kind\":null,\"name\":\"flex_wrap\"},{\"default\":\"flex-start\",\"kind\":null,\"name\":\"justify_content\"}]},{\"extends\":null,\"module\":null,\"name\":\"GridStack1\",\"overrides\":[],\"properties\":[{\"default\":\"warn\",\"kind\":null,\"name\":\"mode\"},{\"default\":null,\"kind\":null,\"name\":\"ncols\"},{\"default\":null,\"kind\":null,\"name\":\"nrows\"},{\"default\":true,\"kind\":null,\"name\":\"allow_resize\"},{\"default\":true,\"kind\":null,\"name\":\"allow_drag\"},{\"default\":[],\"kind\":null,\"name\":\"state\"}]},{\"extends\":null,\"module\":null,\"name\":\"click1\",\"overrides\":[],\"properties\":[{\"default\":\"\",\"kind\":null,\"name\":\"terminal_output\"},{\"default\":\"\",\"kind\":null,\"name\":\"debug_name\"},{\"default\":0,\"kind\":null,\"name\":\"clears\"}]},{\"extends\":null,\"module\":null,\"name\":\"NotificationAreaBase1\",\"overrides\":[],\"properties\":[{\"default\":\"bottom-right\",\"kind\":null,\"name\":\"position\"},{\"default\":0,\"kind\":null,\"name\":\"_clear\"}]},{\"extends\":null,\"module\":null,\"name\":\"NotificationArea1\",\"overrides\":[],\"properties\":[{\"default\":[],\"kind\":null,\"name\":\"notifications\"},{\"default\":\"bottom-right\",\"kind\":null,\"name\":\"position\"},{\"default\":0,\"kind\":null,\"name\":\"_clear\"},{\"default\":[{\"background\":\"#ffc107\",\"icon\":{\"className\":\"fas fa-exclamation-triangle\",\"color\":\"white\",\"tagName\":\"i\"},\"type\":\"warning\"},{\"background\":\"#007bff\",\"icon\":{\"className\":\"fas fa-info-circle\",\"color\":\"white\",\"tagName\":\"i\"},\"type\":\"info\"}],\"kind\":null,\"name\":\"types\"}]},{\"extends\":null,\"module\":null,\"name\":\"Notification\",\"overrides\":[],\"properties\":[{\"default\":null,\"kind\":null,\"name\":\"background\"},{\"default\":3000,\"kind\":null,\"name\":\"duration\"},{\"default\":null,\"kind\":null,\"name\":\"icon\"},{\"default\":\"\",\"kind\":null,\"name\":\"message\"},{\"default\":null,\"kind\":null,\"name\":\"notification_type\"},{\"default\":false,\"kind\":null,\"name\":\"_destroyed\"}]},{\"extends\":null,\"module\":null,\"name\":\"TemplateActions1\",\"overrides\":[],\"properties\":[{\"default\":0,\"kind\":null,\"name\":\"open_modal\"},{\"default\":0,\"kind\":null,\"name\":\"close_modal\"}]},{\"extends\":null,\"module\":null,\"name\":\"MaterialTemplateActions1\",\"overrides\":[],\"properties\":[{\"default\":0,\"kind\":null,\"name\":\"open_modal\"},{\"default\":0,\"kind\":null,\"name\":\"close_modal\"}]}],\"roots\":{\"references\":[{\"attributes\":{\"callback\":null,\"renderers\":[{\"id\":\"4369\"},{\"id\":\"4390\"},{\"id\":\"4412\"},{\"id\":\"4436\"}],\"tags\":[\"hv_created\"],\"tooltips\":[[\"Country\",\"@{Country}\"],[\"Year\",\"@{Year}\"],[\"Solar (% growth)\",\"@{Solar_left_parenthesis_percent_growth_right_parenthesis}\"]]},\"id\":\"4323\",\"type\":\"HoverTool\"},{\"attributes\":{},\"id\":\"4364\",\"type\":\"Selection\"},{\"attributes\":{\"coordinates\":null,\"data_source\":{\"id\":\"4430\"},\"glyph\":{\"id\":\"4433\"},\"group\":null,\"hover_glyph\":null,\"muted_glyph\":{\"id\":\"4435\"},\"nonselection_glyph\":{\"id\":\"4434\"},\"selection_glyph\":{\"id\":\"4455\"},\"view\":{\"id\":\"4437\"}},\"id\":\"4436\",\"type\":\"GlyphRenderer\"},{\"attributes\":{\"line_color\":\"#30a2da\",\"line_width\":2,\"x\":{\"field\":\"Year\"},\"y\":{\"field\":\"Solar (% growth)\"}},\"id\":\"4366\",\"type\":\"Line\"},{\"attributes\":{\"line_color\":\"#30a2da\",\"line_width\":2,\"x\":{\"field\":\"Year\"},\"y\":{\"field\":\"Solar (% growth)\"}},\"id\":\"4383\",\"type\":\"Line\"},{\"attributes\":{\"coordinates\":null,\"data_source\":{\"id\":\"4384\"},\"glyph\":{\"id\":\"4387\"},\"group\":null,\"hover_glyph\":null,\"muted_glyph\":{\"id\":\"4389\"},\"nonselection_glyph\":{\"id\":\"4388\"},\"selection_glyph\":{\"id\":\"4405\"},\"view\":{\"id\":\"4391\"}},\"id\":\"4390\",\"type\":\"GlyphRenderer\"},{\"attributes\":{\"label\":{\"value\":\"Germany\"},\"renderers\":[{\"id\":\"4369\"}]},\"id\":\"4382\",\"type\":\"LegendItem\"},{\"attributes\":{\"line_alpha\":0.2,\"line_color\":\"#30a2da\",\"line_width\":2,\"x\":{\"field\":\"Year\"},\"y\":{\"field\":\"Solar (% growth)\"}},\"id\":\"4368\",\"type\":\"Line\"},{\"attributes\":{\"data\":{\"Country\":[\"Switzerland\",\"Switzerland\",\"Switzerland\",\"Switzerland\",\"Switzerland\",\"Switzerland\",\"Switzerland\",\"Switzerland\",\"Switzerland\",\"Switzerland\",\"Switzerland\",\"Switzerland\",\"Switzerland\",\"Switzerland\",\"Switzerland\",\"Switzerland\",\"Switzerland\",\"Switzerland\",\"Switzerland\",\"Switzerland\",\"Switzerland\",\"Switzerland\",\"Switzerland\",\"Switzerland\",\"Switzerland\",\"Switzerland\",\"Switzerland\",\"Switzerland\",\"Switzerland\",\"Switzerland\",\"Switzerland\",\"Switzerland\"],\"Solar (% growth)\":{\"__ndarray__\":\"AAAAAAAAAAAAAAAAAABZQAAAAAAAAElAZ2ZmZmamQEAAAAAAAAA5QAAAAAAAADRAMzMzMzOzMEAAAAAAAAAAAJmZmZmZmSxAAAAAAAAAOUAAAAAAAAAAAAAAAAAAAAAAAAAAAAAAAAAAAAAAAABZQAAAAAAAAAAAAAAAAAAAAAAAAAAAAAAAAAAAAAAAAElAAAAAAAAAAADNzMzMzKxQQAAAAAAAAFRAmpmZmZk5VkAAAAAAACBTQM3MzMzMrFBAAAAAAAAAUUBnZmZmZqZAQM3MzMzMzDJAzczMzMxMOkCamZmZmRkwQJmZmZmZmSdAzczMzMxMM0BnZmZmZmYmQA==\",\"dtype\":\"float64\",\"order\":\"little\",\"shape\":[32]},\"Solar_left_parenthesis_percent_growth_right_parenthesis\":{\"__ndarray__\":\"AAAAAAAAAAAAAAAAAABZQAAAAAAAAElAZ2ZmZmamQEAAAAAAAAA5QAAAAAAAADRAMzMzMzOzMEAAAAAAAAAAAJmZmZmZmSxAAAAAAAAAOUAAAAAAAAAAAAAAAAAAAAAAAAAAAAAAAAAAAAAAAABZQAAAAAAAAAAAAAAAAAAAAAAAAAAAAAAAAAAAAAAAAElAAAAAAAAAAADNzMzMzKxQQAAAAAAAAFRAmpmZmZk5VkAAAAAAACBTQM3MzMzMrFBAAAAAAAAAUUBnZmZmZqZAQM3MzMzMzDJAzczMzMxMOkCamZmZmRkwQJmZmZmZmSdAzczMzMxMM0BnZmZmZmYmQA==\",\"dtype\":\"float64\",\"order\":\"little\",\"shape\":[32]},\"Year\":[1990,1991,1992,1993,1994,1995,1996,1997,1998,1999,2000,2001,2002,2003,2004,2005,2006,2007,2008,2009,2010,2011,2012,2013,2014,2015,2016,2017,2018,2019,2020,2021]},\"selected\":{\"id\":\"4407\"},\"selection_policy\":{\"id\":\"4425\"}},\"id\":\"4406\",\"type\":\"ColumnDataSource\"},{\"attributes\":{\"data\":{\"Country\":[\"United Kingdom\",\"United Kingdom\",\"United Kingdom\",\"United Kingdom\",\"United Kingdom\",\"United Kingdom\",\"United Kingdom\",\"United Kingdom\",\"United Kingdom\",\"United Kingdom\",\"United Kingdom\",\"United Kingdom\",\"United Kingdom\",\"United Kingdom\",\"United Kingdom\",\"United Kingdom\",\"United Kingdom\",\"United Kingdom\",\"United Kingdom\",\"United Kingdom\",\"United Kingdom\",\"United Kingdom\",\"United Kingdom\",\"United Kingdom\",\"United Kingdom\",\"United Kingdom\",\"United Kingdom\",\"United Kingdom\",\"United Kingdom\",\"United Kingdom\",\"United Kingdom\",\"United Kingdom\"],\"Solar (% growth)\":{\"__ndarray__\":\"AAAAAAAAAAAAAAAAAAAAAAAAAAAAAAAAAAAAAAAAAAAAAAAAAAAAAAAAAAAAAAAAAAAAAAAAAAAAAAAAAAAAAAAAAAAAAAAAAAAAAAAAAAAAAAAAAAAAAAAAAAAAAAAAAAAAAAAAAAAAAAAAAAAAAAAAAAAAAAAAAAAAAAAAAAAAAAAAAAAAAAAAAAAAAAAAAAAAAAAAWUAAAAAAAAAAAAAAAAAAAFlAAAAAAABAf0AAAAAAAOh8QDMzMzMzc0hA//////9fWUCamZmZmXlVQM3MzMzMDENAZmZmZmZmJEBnZmZmZmYmQGdmZmZmZvY/zczMzMzMCECamZmZmZkZwA==\",\"dtype\":\"float64\",\"order\":\"little\",\"shape\":[32]},\"Solar_left_parenthesis_percent_growth_right_parenthesis\":{\"__ndarray__\":\"AAAAAAAAAAAAAAAAAAAAAAAAAAAAAAAAAAAAAAAAAAAAAAAAAAAAAAAAAAAAAAAAAAAAAAAAAAAAAAAAAAAAAAAAAAAAAAAAAAAAAAAAAAAAAAAAAAAAAAAAAAAAAAAAAAAAAAAAAAAAAAAAAAAAAAAAAAAAAAAAAAAAAAAAAAAAAAAAAAAAAAAAAAAAAAAAAAAAAAAAWUAAAAAAAAAAAAAAAAAAAFlAAAAAAABAf0AAAAAAAOh8QDMzMzMzc0hA//////9fWUCamZmZmXlVQM3MzMzMDENAZmZmZmZmJEBnZmZmZmYmQGdmZmZmZvY/zczMzMzMCECamZmZmZkZwA==\",\"dtype\":\"float64\",\"order\":\"little\",\"shape\":[32]},\"Year\":[1990,1991,1992,1993,1994,1995,1996,1997,1998,1999,2000,2001,2002,2003,2004,2005,2006,2007,2008,2009,2010,2011,2012,2013,2014,2015,2016,2017,2018,2019,2020,2021]},\"selected\":{\"id\":\"4431\"},\"selection_policy\":{\"id\":\"4451\"}},\"id\":\"4430\",\"type\":\"ColumnDataSource\"},{\"attributes\":{\"line_alpha\":0.1,\"line_color\":\"#30a2da\",\"line_width\":2,\"x\":{\"field\":\"Year\"},\"y\":{\"field\":\"Solar (% growth)\"}},\"id\":\"4367\",\"type\":\"Line\"},{\"attributes\":{\"line_color\":\"#fc4f30\",\"line_width\":2,\"x\":{\"field\":\"Year\"},\"y\":{\"field\":\"Solar (% growth)\"}},\"id\":\"4387\",\"type\":\"Line\"},{\"attributes\":{\"coordinates\":null,\"data_source\":{\"id\":\"4363\"},\"glyph\":{\"id\":\"4366\"},\"group\":null,\"hover_glyph\":null,\"muted_glyph\":{\"id\":\"4368\"},\"nonselection_glyph\":{\"id\":\"4367\"},\"selection_glyph\":{\"id\":\"4383\"},\"view\":{\"id\":\"4370\"}},\"id\":\"4369\",\"type\":\"GlyphRenderer\"},{\"attributes\":{\"source\":{\"id\":\"4363\"}},\"id\":\"4370\",\"type\":\"CDSView\"},{\"attributes\":{\"data\":{\"Country\":[\"Germany\",\"Germany\",\"Germany\",\"Germany\",\"Germany\",\"Germany\",\"Germany\",\"Germany\",\"Germany\",\"Germany\",\"Germany\",\"Germany\",\"Germany\",\"Germany\",\"Germany\",\"Germany\",\"Germany\",\"Germany\",\"Germany\",\"Germany\",\"Germany\",\"Germany\",\"Germany\",\"Germany\",\"Germany\",\"Germany\",\"Germany\",\"Germany\",\"Germany\",\"Germany\",\"Germany\",\"Germany\",\"Germany\"],\"Solar (% growth)\":{\"__ndarray__\":\"AAAAAAAAAAAAAAAAAAAAAAAAAAAAAAAAAAAAAAAAAAAAAAAAAAAAAAAAAAAAAAAAAAAAAAAAAAAAAAAAAABZQAAAAAAAAFlAAAAAAAAAOcAAAAAAAABZQAAAAAAAAFlAZmZmZmYmTUCamZmZmZlPQGdmZmZmJlRAMzMzMzMTYECamZmZmVlSQJqZmZmZWUNAAAAAAADARUAzMzMzM3NIQDMzMzMzk1NAZ2ZmZmbGUEDMzMzMzExBQJmZmZmZmTFAzczMzMxMMECZmZmZmZkdQJqZmZmZmfm/NDMzMzMzC0CZmZmZmZkkQM3MzMzMzABAAAAAAAAAJ0AzMzMzMzPTvwAAAAAAgDNA\",\"dtype\":\"float64\",\"order\":\"little\",\"shape\":[33]},\"Solar_left_parenthesis_percent_growth_right_parenthesis\":{\"__ndarray__\":\"AAAAAAAAAAAAAAAAAAAAAAAAAAAAAAAAAAAAAAAAAAAAAAAAAAAAAAAAAAAAAAAAAAAAAAAAAAAAAAAAAABZQAAAAAAAAFlAAAAAAAAAOcAAAAAAAABZQAAAAAAAAFlAZmZmZmYmTUCamZmZmZlPQGdmZmZmJlRAMzMzMzMTYECamZmZmVlSQJqZmZmZWUNAAAAAAADARUAzMzMzM3NIQDMzMzMzk1NAZ2ZmZmbGUEDMzMzMzExBQJmZmZmZmTFAzczMzMxMMECZmZmZmZkdQJqZmZmZmfm/NDMzMzMzC0CZmZmZmZkkQM3MzMzMzABAAAAAAAAAJ0AzMzMzMzPTvwAAAAAAgDNA\",\"dtype\":\"float64\",\"order\":\"little\",\"shape\":[33]},\"Year\":[1990,1991,1992,1993,1994,1995,1996,1997,1998,1999,2000,2001,2002,2003,2004,2005,2006,2007,2008,2009,2010,2011,2012,2013,2014,2015,2016,2017,2018,2019,2020,2021,2022]},\"selected\":{\"id\":\"4364\"},\"selection_policy\":{\"id\":\"4378\"}},\"id\":\"4363\",\"type\":\"ColumnDataSource\"},{\"attributes\":{\"children\":[{\"id\":\"4327\"}],\"height\":400,\"margin\":[0,0,0,0],\"name\":\"Row04248\",\"sizing_mode\":\"fixed\",\"tags\":[\"embedded\"],\"width\":700},\"id\":\"4320\",\"type\":\"Row\"},{\"attributes\":{\"click_policy\":\"mute\",\"coordinates\":null,\"group\":null,\"items\":[{\"id\":\"4382\"},{\"id\":\"4404\"},{\"id\":\"4428\"},{\"id\":\"4454\"}],\"location\":[0,0],\"title\":\"Country\"},\"id\":\"4381\",\"type\":\"Legend\"},{\"attributes\":{\"line_alpha\":0.2,\"line_color\":\"#fc4f30\",\"line_width\":2,\"x\":{\"field\":\"Year\"},\"y\":{\"field\":\"Solar (% growth)\"}},\"id\":\"4389\",\"type\":\"Line\"},{\"attributes\":{\"line_alpha\":0.1,\"line_color\":\"#fc4f30\",\"line_width\":2,\"x\":{\"field\":\"Year\"},\"y\":{\"field\":\"Solar (% growth)\"}},\"id\":\"4388\",\"type\":\"Line\"},{\"attributes\":{},\"id\":\"4407\",\"type\":\"Selection\"},{\"attributes\":{},\"id\":\"4451\",\"type\":\"UnionRenderers\"},{\"attributes\":{\"data\":{\"Country\":[\"Spain\",\"Spain\",\"Spain\",\"Spain\",\"Spain\",\"Spain\",\"Spain\",\"Spain\",\"Spain\",\"Spain\",\"Spain\",\"Spain\",\"Spain\",\"Spain\",\"Spain\",\"Spain\",\"Spain\",\"Spain\",\"Spain\",\"Spain\",\"Spain\",\"Spain\",\"Spain\",\"Spain\",\"Spain\",\"Spain\",\"Spain\",\"Spain\",\"Spain\",\"Spain\",\"Spain\",\"Spain\",\"Spain\"],\"Solar (% growth)\":{\"__ndarray__\":\"AAAAAAAAAAAAAAAAAAAAAAAAAAAAAAAAAAAAAAAAAAAAAAAAAAAAAAAAAAAAAFlAAAAAAAAAAAAAAAAAAAAAAAAAAAAAAAAAAAAAAAAASUDNzMzMzKxQwAAAAAAAAFlAAAAAAAAAAAAAAAAAAAAAAAAAAAAAAAAAAAAAAADAYkAAAAAAAIBhQM3MzMzM1HRANDMzMzPDeEDNzMzMzNxgQJqZmZmZmTJAMzMzMzOzPkDNzMzMzEw7QM3MzMzMzCJAmZmZmZmZEUBnZmZmZmb2P5qZmZmZmfm/Z2ZmZmZmFkAAAAAAAAAnwAAAAAAAgDJAMzMzMzNzQkCamZmZmRk/QGZmZmZm5jRA\",\"dtype\":\"float64\",\"order\":\"little\",\"shape\":[33]},\"Solar_left_parenthesis_percent_growth_right_parenthesis\":{\"__ndarray__\":\"AAAAAAAAAAAAAAAAAAAAAAAAAAAAAAAAAAAAAAAAAAAAAAAAAAAAAAAAAAAAAFlAAAAAAAAAAAAAAAAAAAAAAAAAAAAAAAAAAAAAAAAASUDNzMzMzKxQwAAAAAAAAFlAAAAAAAAAAAAAAAAAAAAAAAAAAAAAAAAAAAAAAADAYkAAAAAAAIBhQM3MzMzM1HRANDMzMzPDeEDNzMzMzNxgQJqZmZmZmTJAMzMzMzOzPkDNzMzMzEw7QM3MzMzMzCJAmZmZmZmZEUBnZmZmZmb2P5qZmZmZmfm/Z2ZmZmZmFkAAAAAAAAAnwAAAAAAAgDJAMzMzMzNzQkCamZmZmRk/QGZmZmZm5jRA\",\"dtype\":\"float64\",\"order\":\"little\",\"shape\":[33]},\"Year\":[1990,1991,1992,1993,1994,1995,1996,1997,1998,1999,2000,2001,2002,2003,2004,2005,2006,2007,2008,2009,2010,2011,2012,2013,2014,2015,2016,2017,2018,2019,2020,2021,2022]},\"selected\":{\"id\":\"4385\"},\"selection_policy\":{\"id\":\"4401\"}},\"id\":\"4384\",\"type\":\"ColumnDataSource\"},{\"attributes\":{\"source\":{\"id\":\"4384\"}},\"id\":\"4391\",\"type\":\"CDSView\"},{\"attributes\":{\"coordinates\":null,\"group\":null,\"text\":\"Annual Growth in % Solar Energy Generation\",\"text_color\":\"black\",\"text_font_size\":\"12pt\"},\"id\":\"4328\",\"type\":\"Title\"},{\"attributes\":{\"end\":2022.0,\"reset_end\":2022.0,\"reset_start\":1990.0,\"start\":1990.0,\"tags\":[[[\"Year\",\"Year\",null]]]},\"id\":\"4321\",\"type\":\"Range1d\"},{\"attributes\":{\"line_alpha\":0.2,\"line_color\":\"#6d904f\",\"line_width\":2,\"x\":{\"field\":\"Year\"},\"y\":{\"field\":\"Solar (% growth)\"}},\"id\":\"4435\",\"type\":\"Line\"},{\"attributes\":{},\"id\":\"4345\",\"type\":\"PanTool\"},{\"attributes\":{},\"id\":\"4385\",\"type\":\"Selection\"},{\"attributes\":{},\"id\":\"4332\",\"type\":\"LinearScale\"},{\"attributes\":{\"label\":{\"value\":\"Spain\"},\"renderers\":[{\"id\":\"4390\"}]},\"id\":\"4404\",\"type\":\"LegendItem\"},{\"attributes\":{\"coordinates\":null,\"data_source\":{\"id\":\"4406\"},\"glyph\":{\"id\":\"4409\"},\"group\":null,\"hover_glyph\":null,\"muted_glyph\":{\"id\":\"4411\"},\"nonselection_glyph\":{\"id\":\"4410\"},\"selection_glyph\":{\"id\":\"4429\"},\"view\":{\"id\":\"4413\"}},\"id\":\"4412\",\"type\":\"GlyphRenderer\"},{\"attributes\":{\"axis\":{\"id\":\"4336\"},\"coordinates\":null,\"grid_line_color\":null,\"group\":null,\"ticker\":null},\"id\":\"4339\",\"type\":\"Grid\"},{\"attributes\":{\"line_color\":\"#e5ae38\",\"line_width\":2,\"x\":{\"field\":\"Year\"},\"y\":{\"field\":\"Solar (% growth)\"}},\"id\":\"4429\",\"type\":\"Line\"},{\"attributes\":{\"axis_label\":\"Year\",\"coordinates\":null,\"formatter\":{\"id\":\"4358\"},\"group\":null,\"major_label_policy\":{\"id\":\"4359\"},\"ticker\":{\"id\":\"4337\"}},\"id\":\"4336\",\"type\":\"LinearAxis\"},{\"attributes\":{\"source\":{\"id\":\"4430\"}},\"id\":\"4437\",\"type\":\"CDSView\"},{\"attributes\":{},\"id\":\"4334\",\"type\":\"LinearScale\"},{\"attributes\":{},\"id\":\"4337\",\"type\":\"BasicTicker\"},{\"attributes\":{},\"id\":\"4401\",\"type\":\"UnionRenderers\"},{\"attributes\":{},\"id\":\"4431\",\"type\":\"Selection\"},{\"attributes\":{},\"id\":\"4359\",\"type\":\"AllLabels\"},{\"attributes\":{\"axis_label\":\"Solar (% growth)\",\"coordinates\":null,\"formatter\":{\"id\":\"4361\"},\"group\":null,\"major_label_policy\":{\"id\":\"4362\"},\"ticker\":{\"id\":\"4341\"}},\"id\":\"4340\",\"type\":\"LinearAxis\"},{\"attributes\":{\"axis\":{\"id\":\"4340\"},\"coordinates\":null,\"dimension\":1,\"grid_line_color\":null,\"group\":null,\"ticker\":null},\"id\":\"4343\",\"type\":\"Grid\"},{\"attributes\":{},\"id\":\"4341\",\"type\":\"BasicTicker\"},{\"attributes\":{\"label\":{\"value\":\"United Kingdom\"},\"renderers\":[{\"id\":\"4436\"}]},\"id\":\"4454\",\"type\":\"LegendItem\"},{\"attributes\":{},\"id\":\"4346\",\"type\":\"WheelZoomTool\"},{\"attributes\":{\"end\":556.67,\"reset_end\":556.67,\"reset_start\":-123.37,\"start\":-123.37,\"tags\":[[[\"Solar (% growth)\",\"Solar (% growth)\",null]]]},\"id\":\"4322\",\"type\":\"Range1d\"},{\"attributes\":{},\"id\":\"4344\",\"type\":\"SaveTool\"},{\"attributes\":{\"overlay\":{\"id\":\"4349\"}},\"id\":\"4347\",\"type\":\"BoxZoomTool\"},{\"attributes\":{},\"id\":\"4348\",\"type\":\"ResetTool\"},{\"attributes\":{\"bottom_units\":\"screen\",\"coordinates\":null,\"fill_alpha\":0.5,\"fill_color\":\"lightgrey\",\"group\":null,\"left_units\":\"screen\",\"level\":\"overlay\",\"line_alpha\":1.0,\"line_color\":\"black\",\"line_dash\":[4,4],\"line_width\":2,\"right_units\":\"screen\",\"syncable\":false,\"top_units\":\"screen\"},\"id\":\"4349\",\"type\":\"BoxAnnotation\"},{\"attributes\":{},\"id\":\"4378\",\"type\":\"UnionRenderers\"},{\"attributes\":{},\"id\":\"4362\",\"type\":\"AllLabels\"},{\"attributes\":{},\"id\":\"4361\",\"type\":\"BasicTickFormatter\"},{\"attributes\":{\"line_color\":\"#fc4f30\",\"line_width\":2,\"x\":{\"field\":\"Year\"},\"y\":{\"field\":\"Solar (% growth)\"}},\"id\":\"4405\",\"type\":\"Line\"},{\"attributes\":{\"active_drag\":{\"id\":\"4345\"},\"active_scroll\":{\"id\":\"4346\"},\"tools\":[{\"id\":\"4323\"},{\"id\":\"4344\"},{\"id\":\"4345\"},{\"id\":\"4346\"},{\"id\":\"4347\"},{\"id\":\"4348\"}]},\"id\":\"4350\",\"type\":\"Toolbar\"},{\"attributes\":{\"line_color\":\"#e5ae38\",\"line_width\":2,\"x\":{\"field\":\"Year\"},\"y\":{\"field\":\"Solar (% growth)\"}},\"id\":\"4409\",\"type\":\"Line\"},{\"attributes\":{\"line_alpha\":0.1,\"line_color\":\"#6d904f\",\"line_width\":2,\"x\":{\"field\":\"Year\"},\"y\":{\"field\":\"Solar (% growth)\"}},\"id\":\"4434\",\"type\":\"Line\"},{\"attributes\":{\"line_alpha\":0.2,\"line_color\":\"#e5ae38\",\"line_width\":2,\"x\":{\"field\":\"Year\"},\"y\":{\"field\":\"Solar (% growth)\"}},\"id\":\"4411\",\"type\":\"Line\"},{\"attributes\":{\"line_alpha\":0.1,\"line_color\":\"#e5ae38\",\"line_width\":2,\"x\":{\"field\":\"Year\"},\"y\":{\"field\":\"Solar (% growth)\"}},\"id\":\"4410\",\"type\":\"Line\"},{\"attributes\":{\"line_color\":\"#6d904f\",\"line_width\":2,\"x\":{\"field\":\"Year\"},\"y\":{\"field\":\"Solar (% growth)\"}},\"id\":\"4455\",\"type\":\"Line\"},{\"attributes\":{\"source\":{\"id\":\"4406\"}},\"id\":\"4413\",\"type\":\"CDSView\"},{\"attributes\":{\"line_color\":\"#6d904f\",\"line_width\":2,\"x\":{\"field\":\"Year\"},\"y\":{\"field\":\"Solar (% growth)\"}},\"id\":\"4433\",\"type\":\"Line\"},{\"attributes\":{\"below\":[{\"id\":\"4336\"}],\"center\":[{\"id\":\"4339\"},{\"id\":\"4343\"}],\"height\":400,\"left\":[{\"id\":\"4340\"}],\"margin\":[5,5,5,5],\"min_border_bottom\":10,\"min_border_left\":10,\"min_border_right\":10,\"min_border_top\":10,\"renderers\":[{\"id\":\"4369\"},{\"id\":\"4390\"},{\"id\":\"4412\"},{\"id\":\"4436\"}],\"right\":[{\"id\":\"4381\"}],\"sizing_mode\":\"fixed\",\"title\":{\"id\":\"4328\"},\"toolbar\":{\"id\":\"4350\"},\"width\":700,\"x_range\":{\"id\":\"4321\"},\"x_scale\":{\"id\":\"4332\"},\"y_range\":{\"id\":\"4322\"},\"y_scale\":{\"id\":\"4334\"}},\"id\":\"4327\",\"subtype\":\"Figure\",\"type\":\"Plot\"},{\"attributes\":{\"label\":{\"value\":\"Switzerland\"},\"renderers\":[{\"id\":\"4412\"}]},\"id\":\"4428\",\"type\":\"LegendItem\"},{\"attributes\":{},\"id\":\"4425\",\"type\":\"UnionRenderers\"},{\"attributes\":{},\"id\":\"4358\",\"type\":\"BasicTickFormatter\"}],\"root_ids\":[\"4320\"]},\"title\":\"Bokeh Application\",\"version\":\"2.4.3\"}};\n",
       "    var render_items = [{\"docid\":\"754d2ae6-b4e3-4b2d-9c10-9b1f4937ac38\",\"root_ids\":[\"4320\"],\"roots\":{\"4320\":\"18902044-d11c-40f9-8115-cabe30d49172\"}}];\n",
       "    root.Bokeh.embed.embed_items_notebook(docs_json, render_items);\n",
       "    for (const render_item of render_items) {\n",
       "      for (const root_id of render_item.root_ids) {\n",
       "\tconst id_el = document.getElementById(root_id)\n",
       "\tif (id_el.children.length && (id_el.children[0].className === 'bk-root')) {\n",
       "\t  const root_el = id_el.children[0]\n",
       "\t  root_el.id = root_el.id + '-rendered'\n",
       "\t}\n",
       "      }\n",
       "    }\n",
       "  }\n",
       "  if (root.Bokeh !== undefined && root.Bokeh.Panel !== undefined) {\n",
       "    embed_document(root);\n",
       "  } else {\n",
       "    var attempts = 0;\n",
       "    var timer = setInterval(function(root) {\n",
       "      if (root.Bokeh !== undefined && root.Bokeh.Panel !== undefined) {\n",
       "        clearInterval(timer);\n",
       "        embed_document(root);\n",
       "      } else if (document.readyState == \"complete\") {\n",
       "        attempts++;\n",
       "        if (attempts > 200) {\n",
       "          clearInterval(timer);\n",
       "          console.log(\"Bokeh: ERROR: Unable to run BokehJS code because BokehJS library is missing\");\n",
       "        }\n",
       "      }\n",
       "    }, 25, root)\n",
       "  }\n",
       "})(window);</script>"
      ],
      "text/plain": [
       ":NdOverlay   [Country]\n",
       "   :Curve   [Year]   (Solar (% growth))"
      ]
     },
     "metadata": {
      "application/vnd.holoviews_exec.v0+json": {
       "id": "4320"
      }
     },
     "output_type": "display_data"
    }
   ],
   "source": [
    "lineplot(df_solar_generation, 'Year', 'Electricity from solar (TWh)', 'Country', 'Solar Energy Generation')\n",
    "lineplot(df_solar_generation, 'Year', 'Solar (TWh growth - equivalent)', 'Country', 'Annual Change Solar Energy Generation')\n",
    "lineplot(df_solar_generation, 'Year', 'Solar (% growth)', 'Country', 'Annual Growth in % Solar Energy Generation')"
   ]
  },
  {
   "attachments": {},
   "cell_type": "markdown",
   "metadata": {},
   "source": [
    "### Hydro"
   ]
  },
  {
   "cell_type": "code",
   "execution_count": 29,
   "metadata": {},
   "outputs": [
    {
     "data": {},
     "metadata": {},
     "output_type": "display_data"
    },
    {
     "data": {
      "application/vnd.holoviews_exec.v0+json": "",
      "text/html": [
       "<div id='4557'>\n",
       "  <div class=\"bk-root\" id=\"db7b3c22-13c4-4bfc-b9dc-7908d1985c8f\" data-root-id=\"4557\"></div>\n",
       "</div>\n",
       "<script type=\"application/javascript\">(function(root) {\n",
       "  function embed_document(root) {\n",
       "    var docs_json = {\"27073a1a-a1dd-43d9-bce8-e9265fdc3dd4\":{\"defs\":[{\"extends\":null,\"module\":null,\"name\":\"ReactiveHTML1\",\"overrides\":[],\"properties\":[]},{\"extends\":null,\"module\":null,\"name\":\"FlexBox1\",\"overrides\":[],\"properties\":[{\"default\":\"flex-start\",\"kind\":null,\"name\":\"align_content\"},{\"default\":\"flex-start\",\"kind\":null,\"name\":\"align_items\"},{\"default\":\"row\",\"kind\":null,\"name\":\"flex_direction\"},{\"default\":\"wrap\",\"kind\":null,\"name\":\"flex_wrap\"},{\"default\":\"flex-start\",\"kind\":null,\"name\":\"justify_content\"}]},{\"extends\":null,\"module\":null,\"name\":\"GridStack1\",\"overrides\":[],\"properties\":[{\"default\":\"warn\",\"kind\":null,\"name\":\"mode\"},{\"default\":null,\"kind\":null,\"name\":\"ncols\"},{\"default\":null,\"kind\":null,\"name\":\"nrows\"},{\"default\":true,\"kind\":null,\"name\":\"allow_resize\"},{\"default\":true,\"kind\":null,\"name\":\"allow_drag\"},{\"default\":[],\"kind\":null,\"name\":\"state\"}]},{\"extends\":null,\"module\":null,\"name\":\"click1\",\"overrides\":[],\"properties\":[{\"default\":\"\",\"kind\":null,\"name\":\"terminal_output\"},{\"default\":\"\",\"kind\":null,\"name\":\"debug_name\"},{\"default\":0,\"kind\":null,\"name\":\"clears\"}]},{\"extends\":null,\"module\":null,\"name\":\"NotificationAreaBase1\",\"overrides\":[],\"properties\":[{\"default\":\"bottom-right\",\"kind\":null,\"name\":\"position\"},{\"default\":0,\"kind\":null,\"name\":\"_clear\"}]},{\"extends\":null,\"module\":null,\"name\":\"NotificationArea1\",\"overrides\":[],\"properties\":[{\"default\":[],\"kind\":null,\"name\":\"notifications\"},{\"default\":\"bottom-right\",\"kind\":null,\"name\":\"position\"},{\"default\":0,\"kind\":null,\"name\":\"_clear\"},{\"default\":[{\"background\":\"#ffc107\",\"icon\":{\"className\":\"fas fa-exclamation-triangle\",\"color\":\"white\",\"tagName\":\"i\"},\"type\":\"warning\"},{\"background\":\"#007bff\",\"icon\":{\"className\":\"fas fa-info-circle\",\"color\":\"white\",\"tagName\":\"i\"},\"type\":\"info\"}],\"kind\":null,\"name\":\"types\"}]},{\"extends\":null,\"module\":null,\"name\":\"Notification\",\"overrides\":[],\"properties\":[{\"default\":null,\"kind\":null,\"name\":\"background\"},{\"default\":3000,\"kind\":null,\"name\":\"duration\"},{\"default\":null,\"kind\":null,\"name\":\"icon\"},{\"default\":\"\",\"kind\":null,\"name\":\"message\"},{\"default\":null,\"kind\":null,\"name\":\"notification_type\"},{\"default\":false,\"kind\":null,\"name\":\"_destroyed\"}]},{\"extends\":null,\"module\":null,\"name\":\"TemplateActions1\",\"overrides\":[],\"properties\":[{\"default\":0,\"kind\":null,\"name\":\"open_modal\"},{\"default\":0,\"kind\":null,\"name\":\"close_modal\"}]},{\"extends\":null,\"module\":null,\"name\":\"MaterialTemplateActions1\",\"overrides\":[],\"properties\":[{\"default\":0,\"kind\":null,\"name\":\"open_modal\"},{\"default\":0,\"kind\":null,\"name\":\"close_modal\"}]}],\"roots\":{\"references\":[{\"attributes\":{\"coordinates\":null,\"data_source\":{\"id\":\"4667\"},\"glyph\":{\"id\":\"4670\"},\"group\":null,\"hover_glyph\":null,\"muted_glyph\":{\"id\":\"4672\"},\"nonselection_glyph\":{\"id\":\"4671\"},\"selection_glyph\":{\"id\":\"4692\"},\"view\":{\"id\":\"4674\"}},\"id\":\"4673\",\"type\":\"GlyphRenderer\"},{\"attributes\":{\"label\":{\"value\":\"Spain\"},\"renderers\":[{\"id\":\"4627\"}]},\"id\":\"4641\",\"type\":\"LegendItem\"},{\"attributes\":{},\"id\":\"4574\",\"type\":\"BasicTicker\"},{\"attributes\":{\"source\":{\"id\":\"4621\"}},\"id\":\"4628\",\"type\":\"CDSView\"},{\"attributes\":{\"source\":{\"id\":\"4667\"}},\"id\":\"4674\",\"type\":\"CDSView\"},{\"attributes\":{},\"id\":\"4582\",\"type\":\"PanTool\"},{\"attributes\":{\"label\":{\"value\":\"Switzerland\"},\"renderers\":[{\"id\":\"4649\"}]},\"id\":\"4665\",\"type\":\"LegendItem\"},{\"attributes\":{},\"id\":\"4596\",\"type\":\"AllLabels\"},{\"attributes\":{\"axis\":{\"id\":\"4573\"},\"coordinates\":null,\"grid_line_color\":null,\"group\":null,\"ticker\":null},\"id\":\"4576\",\"type\":\"Grid\"},{\"attributes\":{},\"id\":\"4638\",\"type\":\"UnionRenderers\"},{\"attributes\":{\"line_alpha\":0.2,\"line_color\":\"#6d904f\",\"line_width\":2,\"x\":{\"field\":\"Year\"},\"y\":{\"field\":\"Electricity from hydro (TWh)\"}},\"id\":\"4672\",\"type\":\"Line\"},{\"attributes\":{\"axis_label\":\"Electricity from hydro (TWh)\",\"coordinates\":null,\"formatter\":{\"id\":\"4598\"},\"group\":null,\"major_label_policy\":{\"id\":\"4599\"},\"ticker\":{\"id\":\"4578\"}},\"id\":\"4577\",\"type\":\"LinearAxis\"},{\"attributes\":{\"label\":{\"value\":\"United Kingdom\"},\"renderers\":[{\"id\":\"4673\"}]},\"id\":\"4691\",\"type\":\"LegendItem\"},{\"attributes\":{\"axis\":{\"id\":\"4577\"},\"coordinates\":null,\"dimension\":1,\"grid_line_color\":null,\"group\":null,\"ticker\":null},\"id\":\"4580\",\"type\":\"Grid\"},{\"attributes\":{},\"id\":\"4578\",\"type\":\"BasicTicker\"},{\"attributes\":{},\"id\":\"4583\",\"type\":\"WheelZoomTool\"},{\"attributes\":{},\"id\":\"4688\",\"type\":\"UnionRenderers\"},{\"attributes\":{\"end\":46.206999999999994,\"reset_end\":46.206999999999994,\"reset_start\":-0.677,\"start\":-0.677,\"tags\":[[[\"Electricity from hydro (TWh)\",\"Electricity from hydro (TWh)\",null]]]},\"id\":\"4559\",\"type\":\"Range1d\"},{\"attributes\":{},\"id\":\"4581\",\"type\":\"SaveTool\"},{\"attributes\":{\"overlay\":{\"id\":\"4586\"}},\"id\":\"4584\",\"type\":\"BoxZoomTool\"},{\"attributes\":{},\"id\":\"4585\",\"type\":\"ResetTool\"},{\"attributes\":{\"data\":{\"Country\":[\"Switzerland\",\"Switzerland\",\"Switzerland\",\"Switzerland\",\"Switzerland\",\"Switzerland\",\"Switzerland\",\"Switzerland\",\"Switzerland\",\"Switzerland\",\"Switzerland\",\"Switzerland\",\"Switzerland\",\"Switzerland\",\"Switzerland\",\"Switzerland\",\"Switzerland\",\"Switzerland\",\"Switzerland\",\"Switzerland\",\"Switzerland\",\"Switzerland\",\"Switzerland\",\"Switzerland\",\"Switzerland\",\"Switzerland\",\"Switzerland\",\"Switzerland\",\"Switzerland\",\"Switzerland\",\"Switzerland\",\"Switzerland\"],\"Electricity from hydro (TWh)\":{\"__ndarray__\":\"0y07xD/MPUDkMJi/QgpAQFxV9l0RWkBAnG7ZIf7jQUB1kNeDSYlDQIKN69/1lUFA5A8Gnnu/PEAr3sg88gVBQMAHr13avEBAKGIRww4BREDNzMzMzOxAQIXrUbgeJUNAKVyPwvUoQEAzMzMzM/M/QHE9Ctej8D5AKVyPwvWoPECF61G4HkU8QK5H4XoULkBAexSuR+GaQEAK16NwPWpAQOF6FK5HoUBAKVyPwvXoPUCkcD0K1+NBQHE9Ctej0EFAj8L1KFyPQUBxPQrXo7BBQHsUrkfh+j9AexSuR+F6P0DNzMzMzAxAQBSuR+F6lEFAj8L1KFzvQkB7FK5H4XpCQA==\",\"dtype\":\"float64\",\"order\":\"little\",\"shape\":[32]},\"Electricity_from_hydro_left_parenthesis_TWh_right_parenthesis\":{\"__ndarray__\":\"0y07xD/MPUDkMJi/QgpAQFxV9l0RWkBAnG7ZIf7jQUB1kNeDSYlDQIKN69/1lUFA5A8Gnnu/PEAr3sg88gVBQMAHr13avEBAKGIRww4BREDNzMzMzOxAQIXrUbgeJUNAKVyPwvUoQEAzMzMzM/M/QHE9Ctej8D5AKVyPwvWoPECF61G4HkU8QK5H4XoULkBAexSuR+GaQEAK16NwPWpAQOF6FK5HoUBAKVyPwvXoPUCkcD0K1+NBQHE9Ctej0EFAj8L1KFyPQUBxPQrXo7BBQHsUrkfh+j9AexSuR+F6P0DNzMzMzAxAQBSuR+F6lEFAj8L1KFzvQkB7FK5H4XpCQA==\",\"dtype\":\"float64\",\"order\":\"little\",\"shape\":[32]},\"Year\":[1990,1991,1992,1993,1994,1995,1996,1997,1998,1999,2000,2001,2002,2003,2004,2005,2006,2007,2008,2009,2010,2011,2012,2013,2014,2015,2016,2017,2018,2019,2020,2021]},\"selected\":{\"id\":\"4644\"},\"selection_policy\":{\"id\":\"4662\"}},\"id\":\"4643\",\"type\":\"ColumnDataSource\"},{\"attributes\":{\"bottom_units\":\"screen\",\"coordinates\":null,\"fill_alpha\":0.5,\"fill_color\":\"lightgrey\",\"group\":null,\"left_units\":\"screen\",\"level\":\"overlay\",\"line_alpha\":1.0,\"line_color\":\"black\",\"line_dash\":[4,4],\"line_width\":2,\"right_units\":\"screen\",\"syncable\":false,\"top_units\":\"screen\"},\"id\":\"4586\",\"type\":\"BoxAnnotation\"},{\"attributes\":{},\"id\":\"4668\",\"type\":\"Selection\"},{\"attributes\":{},\"id\":\"4615\",\"type\":\"UnionRenderers\"},{\"attributes\":{\"line_color\":\"#fc4f30\",\"line_width\":2,\"x\":{\"field\":\"Year\"},\"y\":{\"field\":\"Electricity from hydro (TWh)\"}},\"id\":\"4624\",\"type\":\"Line\"},{\"attributes\":{\"line_color\":\"#6d904f\",\"line_width\":2,\"x\":{\"field\":\"Year\"},\"y\":{\"field\":\"Electricity from hydro (TWh)\"}},\"id\":\"4670\",\"type\":\"Line\"},{\"attributes\":{\"coordinates\":null,\"data_source\":{\"id\":\"4600\"},\"glyph\":{\"id\":\"4603\"},\"group\":null,\"hover_glyph\":null,\"muted_glyph\":{\"id\":\"4605\"},\"nonselection_glyph\":{\"id\":\"4604\"},\"selection_glyph\":{\"id\":\"4620\"},\"view\":{\"id\":\"4607\"}},\"id\":\"4606\",\"type\":\"GlyphRenderer\"},{\"attributes\":{\"data\":{\"Country\":[\"Germany\",\"Germany\",\"Germany\",\"Germany\",\"Germany\",\"Germany\",\"Germany\",\"Germany\",\"Germany\",\"Germany\",\"Germany\",\"Germany\",\"Germany\",\"Germany\",\"Germany\",\"Germany\",\"Germany\",\"Germany\",\"Germany\",\"Germany\",\"Germany\",\"Germany\",\"Germany\",\"Germany\",\"Germany\",\"Germany\",\"Germany\",\"Germany\",\"Germany\",\"Germany\",\"Germany\",\"Germany\",\"Germany\"],\"Electricity from hydro (TWh)\":{\"__ndarray__\":\"rkfhehRuMUBI4XoUrsctQGZmZmZmZjFA4XoUrkfhMUCuR+F6FO4zQEjhehSuxzVA9ihcj8L1NUBcj8L1KFwxQLgehetRODFAZmZmZmamM0B7FK5H4bo1QHsUrkfhujZAH4XrUbgeN0BSuB6F61EyQAAAAAAAwDRApHA9CtejM0BI4XoUrgc0QOxRuB6FKzVAcT0K16NwNEBI4XoUrgczQDMzMzMz8zRA7FG4HoWrMUAAAAAAAMA1QAAAAAAAADdA16NwPQqXM0B7FK5H4foyQM3MzMzMjDRAZmZmZmYmNEBxPQrXo7AxQHsUrkfhujNAuB6F61G4MkApXI/C9agzQDMzMzMzczFA\",\"dtype\":\"float64\",\"order\":\"little\",\"shape\":[33]},\"Electricity_from_hydro_left_parenthesis_TWh_right_parenthesis\":{\"__ndarray__\":\"rkfhehRuMUBI4XoUrsctQGZmZmZmZjFA4XoUrkfhMUCuR+F6FO4zQEjhehSuxzVA9ihcj8L1NUBcj8L1KFwxQLgehetRODFAZmZmZmamM0B7FK5H4bo1QHsUrkfhujZAH4XrUbgeN0BSuB6F61EyQAAAAAAAwDRApHA9CtejM0BI4XoUrgc0QOxRuB6FKzVAcT0K16NwNEBI4XoUrgczQDMzMzMz8zRA7FG4HoWrMUAAAAAAAMA1QAAAAAAAADdA16NwPQqXM0B7FK5H4foyQM3MzMzMjDRAZmZmZmYmNEBxPQrXo7AxQHsUrkfhujNAuB6F61G4MkApXI/C9agzQDMzMzMzczFA\",\"dtype\":\"float64\",\"order\":\"little\",\"shape\":[33]},\"Year\":[1990,1991,1992,1993,1994,1995,1996,1997,1998,1999,2000,2001,2002,2003,2004,2005,2006,2007,2008,2009,2010,2011,2012,2013,2014,2015,2016,2017,2018,2019,2020,2021,2022]},\"selected\":{\"id\":\"4601\"},\"selection_policy\":{\"id\":\"4615\"}},\"id\":\"4600\",\"type\":\"ColumnDataSource\"},{\"attributes\":{\"line_alpha\":0.1,\"line_color\":\"#30a2da\",\"line_width\":2,\"x\":{\"field\":\"Year\"},\"y\":{\"field\":\"Electricity from hydro (TWh)\"}},\"id\":\"4604\",\"type\":\"Line\"},{\"attributes\":{\"active_drag\":{\"id\":\"4582\"},\"active_scroll\":{\"id\":\"4583\"},\"tools\":[{\"id\":\"4560\"},{\"id\":\"4581\"},{\"id\":\"4582\"},{\"id\":\"4583\"},{\"id\":\"4584\"},{\"id\":\"4585\"}]},\"id\":\"4587\",\"type\":\"Toolbar\"},{\"attributes\":{\"line_color\":\"#fc4f30\",\"line_width\":2,\"x\":{\"field\":\"Year\"},\"y\":{\"field\":\"Electricity from hydro (TWh)\"}},\"id\":\"4642\",\"type\":\"Line\"},{\"attributes\":{\"line_color\":\"#6d904f\",\"line_width\":2,\"x\":{\"field\":\"Year\"},\"y\":{\"field\":\"Electricity from hydro (TWh)\"}},\"id\":\"4692\",\"type\":\"Line\"},{\"attributes\":{\"click_policy\":\"mute\",\"coordinates\":null,\"group\":null,\"items\":[{\"id\":\"4619\"},{\"id\":\"4641\"},{\"id\":\"4665\"},{\"id\":\"4691\"}],\"location\":[0,0],\"title\":\"Country\"},\"id\":\"4618\",\"type\":\"Legend\"},{\"attributes\":{\"source\":{\"id\":\"4600\"}},\"id\":\"4607\",\"type\":\"CDSView\"},{\"attributes\":{\"source\":{\"id\":\"4643\"}},\"id\":\"4650\",\"type\":\"CDSView\"},{\"attributes\":{},\"id\":\"4644\",\"type\":\"Selection\"},{\"attributes\":{\"below\":[{\"id\":\"4573\"}],\"center\":[{\"id\":\"4576\"},{\"id\":\"4580\"}],\"height\":400,\"left\":[{\"id\":\"4577\"}],\"margin\":[5,5,5,5],\"min_border_bottom\":10,\"min_border_left\":10,\"min_border_right\":10,\"min_border_top\":10,\"renderers\":[{\"id\":\"4606\"},{\"id\":\"4627\"},{\"id\":\"4649\"},{\"id\":\"4673\"}],\"right\":[{\"id\":\"4618\"}],\"sizing_mode\":\"fixed\",\"title\":{\"id\":\"4565\"},\"toolbar\":{\"id\":\"4587\"},\"width\":700,\"x_range\":{\"id\":\"4558\"},\"x_scale\":{\"id\":\"4569\"},\"y_range\":{\"id\":\"4559\"},\"y_scale\":{\"id\":\"4571\"}},\"id\":\"4564\",\"subtype\":\"Figure\",\"type\":\"Plot\"},{\"attributes\":{},\"id\":\"4662\",\"type\":\"UnionRenderers\"},{\"attributes\":{\"line_alpha\":0.2,\"line_color\":\"#e5ae38\",\"line_width\":2,\"x\":{\"field\":\"Year\"},\"y\":{\"field\":\"Electricity from hydro (TWh)\"}},\"id\":\"4648\",\"type\":\"Line\"},{\"attributes\":{\"line_alpha\":0.1,\"line_color\":\"#e5ae38\",\"line_width\":2,\"x\":{\"field\":\"Year\"},\"y\":{\"field\":\"Electricity from hydro (TWh)\"}},\"id\":\"4647\",\"type\":\"Line\"},{\"attributes\":{\"line_alpha\":0.1,\"line_color\":\"#6d904f\",\"line_width\":2,\"x\":{\"field\":\"Year\"},\"y\":{\"field\":\"Electricity from hydro (TWh)\"}},\"id\":\"4671\",\"type\":\"Line\"},{\"attributes\":{\"line_alpha\":0.2,\"line_color\":\"#30a2da\",\"line_width\":2,\"x\":{\"field\":\"Year\"},\"y\":{\"field\":\"Electricity from hydro (TWh)\"}},\"id\":\"4605\",\"type\":\"Line\"},{\"attributes\":{},\"id\":\"4622\",\"type\":\"Selection\"},{\"attributes\":{\"line_color\":\"#e5ae38\",\"line_width\":2,\"x\":{\"field\":\"Year\"},\"y\":{\"field\":\"Electricity from hydro (TWh)\"}},\"id\":\"4646\",\"type\":\"Line\"},{\"attributes\":{\"coordinates\":null,\"data_source\":{\"id\":\"4621\"},\"glyph\":{\"id\":\"4624\"},\"group\":null,\"hover_glyph\":null,\"muted_glyph\":{\"id\":\"4626\"},\"nonselection_glyph\":{\"id\":\"4625\"},\"selection_glyph\":{\"id\":\"4642\"},\"view\":{\"id\":\"4628\"}},\"id\":\"4627\",\"type\":\"GlyphRenderer\"},{\"attributes\":{\"line_alpha\":0.1,\"line_color\":\"#fc4f30\",\"line_width\":2,\"x\":{\"field\":\"Year\"},\"y\":{\"field\":\"Electricity from hydro (TWh)\"}},\"id\":\"4625\",\"type\":\"Line\"},{\"attributes\":{\"line_alpha\":0.2,\"line_color\":\"#fc4f30\",\"line_width\":2,\"x\":{\"field\":\"Year\"},\"y\":{\"field\":\"Electricity from hydro (TWh)\"}},\"id\":\"4626\",\"type\":\"Line\"},{\"attributes\":{\"coordinates\":null,\"data_source\":{\"id\":\"4643\"},\"glyph\":{\"id\":\"4646\"},\"group\":null,\"hover_glyph\":null,\"muted_glyph\":{\"id\":\"4648\"},\"nonselection_glyph\":{\"id\":\"4647\"},\"selection_glyph\":{\"id\":\"4666\"},\"view\":{\"id\":\"4650\"}},\"id\":\"4649\",\"type\":\"GlyphRenderer\"},{\"attributes\":{},\"id\":\"4598\",\"type\":\"BasicTickFormatter\"},{\"attributes\":{},\"id\":\"4599\",\"type\":\"AllLabels\"},{\"attributes\":{\"children\":[{\"id\":\"4564\"}],\"height\":400,\"margin\":[0,0,0,0],\"name\":\"Row04484\",\"sizing_mode\":\"fixed\",\"tags\":[\"embedded\"],\"width\":700},\"id\":\"4557\",\"type\":\"Row\"},{\"attributes\":{\"label\":{\"value\":\"Germany\"},\"renderers\":[{\"id\":\"4606\"}]},\"id\":\"4619\",\"type\":\"LegendItem\"},{\"attributes\":{\"line_color\":\"#30a2da\",\"line_width\":2,\"x\":{\"field\":\"Year\"},\"y\":{\"field\":\"Electricity from hydro (TWh)\"}},\"id\":\"4603\",\"type\":\"Line\"},{\"attributes\":{\"end\":2022.0,\"reset_end\":2022.0,\"reset_start\":1990.0,\"start\":1990.0,\"tags\":[[[\"Year\",\"Year\",null]]]},\"id\":\"4558\",\"type\":\"Range1d\"},{\"attributes\":{\"callback\":null,\"renderers\":[{\"id\":\"4606\"},{\"id\":\"4627\"},{\"id\":\"4649\"},{\"id\":\"4673\"}],\"tags\":[\"hv_created\"],\"tooltips\":[[\"Country\",\"@{Country}\"],[\"Year\",\"@{Year}\"],[\"Electricity from hydro (TWh)\",\"@{Electricity_from_hydro_left_parenthesis_TWh_right_parenthesis}\"]]},\"id\":\"4560\",\"type\":\"HoverTool\"},{\"attributes\":{},\"id\":\"4601\",\"type\":\"Selection\"},{\"attributes\":{\"axis_label\":\"Year\",\"coordinates\":null,\"formatter\":{\"id\":\"4595\"},\"group\":null,\"major_label_policy\":{\"id\":\"4596\"},\"ticker\":{\"id\":\"4574\"}},\"id\":\"4573\",\"type\":\"LinearAxis\"},{\"attributes\":{\"data\":{\"Country\":[\"Spain\",\"Spain\",\"Spain\",\"Spain\",\"Spain\",\"Spain\",\"Spain\",\"Spain\",\"Spain\",\"Spain\",\"Spain\",\"Spain\",\"Spain\",\"Spain\",\"Spain\",\"Spain\",\"Spain\",\"Spain\",\"Spain\",\"Spain\",\"Spain\",\"Spain\",\"Spain\",\"Spain\",\"Spain\",\"Spain\",\"Spain\",\"Spain\",\"Spain\",\"Spain\",\"Spain\",\"Spain\",\"Spain\"],\"Electricity from hydro (TWh)\":{\"__ndarray__\":\"uB6F61F4OUAAAAAAAEA7QOxRuB6F6zJA7FG4HoVrOEA9CtejcD08QBSuR+F6FDdAhetRuB7lQ0AAAAAAAGBBQB+F61G4/kBAUrgehevRNkDD9Shcj0I8QFK4HoXrcURAuB6F61E4NUA9CtejcD1EQBSuR+F6FD9ApHA9CtdjMkD2KFyPwvU5QI/C9ShcTztAXI/C9ShcN0ApXI/C9Wg6QGZmZmZmJkVAmpmZmZmZPkDNzMzMzIw0QI/C9Shcb0JA9ihcj8KVQ0CkcD0K1yM8QDMzMzMzM0JAUrgehetRMkAK16NwPSpBQGZmZmZmpjhAw/UoXI+CPkDhehSuR6E9QM3MzMzMzDJA\",\"dtype\":\"float64\",\"order\":\"little\",\"shape\":[33]},\"Electricity_from_hydro_left_parenthesis_TWh_right_parenthesis\":{\"__ndarray__\":\"uB6F61F4OUAAAAAAAEA7QOxRuB6F6zJA7FG4HoVrOEA9CtejcD08QBSuR+F6FDdAhetRuB7lQ0AAAAAAAGBBQB+F61G4/kBAUrgehevRNkDD9Shcj0I8QFK4HoXrcURAuB6F61E4NUA9CtejcD1EQBSuR+F6FD9ApHA9CtdjMkD2KFyPwvU5QI/C9ShcTztAXI/C9ShcN0ApXI/C9Wg6QGZmZmZmJkVAmpmZmZmZPkDNzMzMzIw0QI/C9Shcb0JA9ihcj8KVQ0CkcD0K1yM8QDMzMzMzM0JAUrgehetRMkAK16NwPSpBQGZmZmZmpjhAw/UoXI+CPkDhehSuR6E9QM3MzMzMzDJA\",\"dtype\":\"float64\",\"order\":\"little\",\"shape\":[33]},\"Year\":[1990,1991,1992,1993,1994,1995,1996,1997,1998,1999,2000,2001,2002,2003,2004,2005,2006,2007,2008,2009,2010,2011,2012,2013,2014,2015,2016,2017,2018,2019,2020,2021,2022]},\"selected\":{\"id\":\"4622\"},\"selection_policy\":{\"id\":\"4638\"}},\"id\":\"4621\",\"type\":\"ColumnDataSource\"},{\"attributes\":{\"line_color\":\"#30a2da\",\"line_width\":2,\"x\":{\"field\":\"Year\"},\"y\":{\"field\":\"Electricity from hydro (TWh)\"}},\"id\":\"4620\",\"type\":\"Line\"},{\"attributes\":{\"line_color\":\"#e5ae38\",\"line_width\":2,\"x\":{\"field\":\"Year\"},\"y\":{\"field\":\"Electricity from hydro (TWh)\"}},\"id\":\"4666\",\"type\":\"Line\"},{\"attributes\":{\"data\":{\"Country\":[\"United Kingdom\",\"United Kingdom\",\"United Kingdom\",\"United Kingdom\",\"United Kingdom\",\"United Kingdom\",\"United Kingdom\",\"United Kingdom\",\"United Kingdom\",\"United Kingdom\",\"United Kingdom\",\"United Kingdom\",\"United Kingdom\",\"United Kingdom\",\"United Kingdom\",\"United Kingdom\",\"United Kingdom\",\"United Kingdom\",\"United Kingdom\",\"United Kingdom\",\"United Kingdom\",\"United Kingdom\",\"United Kingdom\",\"United Kingdom\",\"United Kingdom\",\"United Kingdom\",\"United Kingdom\",\"United Kingdom\",\"United Kingdom\",\"United Kingdom\",\"United Kingdom\",\"United Kingdom\"],\"Electricity from hydro (TWh)\":{\"__ndarray__\":\"16NwPQrXFEB7FK5H4XoSQLgehetRuBVAMzMzMzMzEUBcj8L1KFwUQFyPwvUoXBNAH4XrUbgeC0CuR+F6FK4QQHsUrkfhehRAXI/C9ShcFUBcj8L1KFwUQD0K16NwPRBAKVyPwvUoE0DXo3A9CtcJQFyPwvUoXBNArkfhehSuE0Bcj8L1KFwSQFK4HoXrURRAj8L1KFyPFEDsUbgehesUQLgehetRuAxAw/UoXI/CFkA9CtejcD0VQM3MzMzMzBJAj8L1KFyPF0AzMzMzMzMZQHsUrkfhehVAhetRuB6FF0DD9Shcj8IVQLgehetRuBdAuB6F61G4GkBcj8L1KFwWQA==\",\"dtype\":\"float64\",\"order\":\"little\",\"shape\":[32]},\"Electricity_from_hydro_left_parenthesis_TWh_right_parenthesis\":{\"__ndarray__\":\"16NwPQrXFEB7FK5H4XoSQLgehetRuBVAMzMzMzMzEUBcj8L1KFwUQFyPwvUoXBNAH4XrUbgeC0CuR+F6FK4QQHsUrkfhehRAXI/C9ShcFUBcj8L1KFwUQD0K16NwPRBAKVyPwvUoE0DXo3A9CtcJQFyPwvUoXBNArkfhehSuE0Bcj8L1KFwSQFK4HoXrURRAj8L1KFyPFEDsUbgehesUQLgehetRuAxAw/UoXI/CFkA9CtejcD0VQM3MzMzMzBJAj8L1KFyPF0AzMzMzMzMZQHsUrkfhehVAhetRuB6FF0DD9Shcj8IVQLgehetRuBdAuB6F61G4GkBcj8L1KFwWQA==\",\"dtype\":\"float64\",\"order\":\"little\",\"shape\":[32]},\"Year\":[1990,1991,1992,1993,1994,1995,1996,1997,1998,1999,2000,2001,2002,2003,2004,2005,2006,2007,2008,2009,2010,2011,2012,2013,2014,2015,2016,2017,2018,2019,2020,2021]},\"selected\":{\"id\":\"4668\"},\"selection_policy\":{\"id\":\"4688\"}},\"id\":\"4667\",\"type\":\"ColumnDataSource\"},{\"attributes\":{},\"id\":\"4595\",\"type\":\"BasicTickFormatter\"},{\"attributes\":{\"coordinates\":null,\"group\":null,\"text\":\"Hydro Energy Generation\",\"text_color\":\"black\",\"text_font_size\":\"12pt\"},\"id\":\"4565\",\"type\":\"Title\"},{\"attributes\":{},\"id\":\"4571\",\"type\":\"LinearScale\"},{\"attributes\":{},\"id\":\"4569\",\"type\":\"LinearScale\"}],\"root_ids\":[\"4557\"]},\"title\":\"Bokeh Application\",\"version\":\"2.4.3\"}};\n",
       "    var render_items = [{\"docid\":\"27073a1a-a1dd-43d9-bce8-e9265fdc3dd4\",\"root_ids\":[\"4557\"],\"roots\":{\"4557\":\"db7b3c22-13c4-4bfc-b9dc-7908d1985c8f\"}}];\n",
       "    root.Bokeh.embed.embed_items_notebook(docs_json, render_items);\n",
       "    for (const render_item of render_items) {\n",
       "      for (const root_id of render_item.root_ids) {\n",
       "\tconst id_el = document.getElementById(root_id)\n",
       "\tif (id_el.children.length && (id_el.children[0].className === 'bk-root')) {\n",
       "\t  const root_el = id_el.children[0]\n",
       "\t  root_el.id = root_el.id + '-rendered'\n",
       "\t}\n",
       "      }\n",
       "    }\n",
       "  }\n",
       "  if (root.Bokeh !== undefined && root.Bokeh.Panel !== undefined) {\n",
       "    embed_document(root);\n",
       "  } else {\n",
       "    var attempts = 0;\n",
       "    var timer = setInterval(function(root) {\n",
       "      if (root.Bokeh !== undefined && root.Bokeh.Panel !== undefined) {\n",
       "        clearInterval(timer);\n",
       "        embed_document(root);\n",
       "      } else if (document.readyState == \"complete\") {\n",
       "        attempts++;\n",
       "        if (attempts > 200) {\n",
       "          clearInterval(timer);\n",
       "          console.log(\"Bokeh: ERROR: Unable to run BokehJS code because BokehJS library is missing\");\n",
       "        }\n",
       "      }\n",
       "    }, 25, root)\n",
       "  }\n",
       "})(window);</script>"
      ],
      "text/plain": [
       ":NdOverlay   [Country]\n",
       "   :Curve   [Year]   (Electricity from hydro (TWh))"
      ]
     },
     "metadata": {
      "application/vnd.holoviews_exec.v0+json": {
       "id": "4557"
      }
     },
     "output_type": "display_data"
    },
    {
     "data": {},
     "metadata": {},
     "output_type": "display_data"
    },
    {
     "data": {
      "application/vnd.holoviews_exec.v0+json": "",
      "text/html": [
       "<div id='4794'>\n",
       "  <div class=\"bk-root\" id=\"e09cf80d-cd0a-4caa-a148-374cfd8ddd36\" data-root-id=\"4794\"></div>\n",
       "</div>\n",
       "<script type=\"application/javascript\">(function(root) {\n",
       "  function embed_document(root) {\n",
       "    var docs_json = {\"9022e98e-2775-4802-b7d3-5b0bfa5eaf33\":{\"defs\":[{\"extends\":null,\"module\":null,\"name\":\"ReactiveHTML1\",\"overrides\":[],\"properties\":[]},{\"extends\":null,\"module\":null,\"name\":\"FlexBox1\",\"overrides\":[],\"properties\":[{\"default\":\"flex-start\",\"kind\":null,\"name\":\"align_content\"},{\"default\":\"flex-start\",\"kind\":null,\"name\":\"align_items\"},{\"default\":\"row\",\"kind\":null,\"name\":\"flex_direction\"},{\"default\":\"wrap\",\"kind\":null,\"name\":\"flex_wrap\"},{\"default\":\"flex-start\",\"kind\":null,\"name\":\"justify_content\"}]},{\"extends\":null,\"module\":null,\"name\":\"GridStack1\",\"overrides\":[],\"properties\":[{\"default\":\"warn\",\"kind\":null,\"name\":\"mode\"},{\"default\":null,\"kind\":null,\"name\":\"ncols\"},{\"default\":null,\"kind\":null,\"name\":\"nrows\"},{\"default\":true,\"kind\":null,\"name\":\"allow_resize\"},{\"default\":true,\"kind\":null,\"name\":\"allow_drag\"},{\"default\":[],\"kind\":null,\"name\":\"state\"}]},{\"extends\":null,\"module\":null,\"name\":\"click1\",\"overrides\":[],\"properties\":[{\"default\":\"\",\"kind\":null,\"name\":\"terminal_output\"},{\"default\":\"\",\"kind\":null,\"name\":\"debug_name\"},{\"default\":0,\"kind\":null,\"name\":\"clears\"}]},{\"extends\":null,\"module\":null,\"name\":\"NotificationAreaBase1\",\"overrides\":[],\"properties\":[{\"default\":\"bottom-right\",\"kind\":null,\"name\":\"position\"},{\"default\":0,\"kind\":null,\"name\":\"_clear\"}]},{\"extends\":null,\"module\":null,\"name\":\"NotificationArea1\",\"overrides\":[],\"properties\":[{\"default\":[],\"kind\":null,\"name\":\"notifications\"},{\"default\":\"bottom-right\",\"kind\":null,\"name\":\"position\"},{\"default\":0,\"kind\":null,\"name\":\"_clear\"},{\"default\":[{\"background\":\"#ffc107\",\"icon\":{\"className\":\"fas fa-exclamation-triangle\",\"color\":\"white\",\"tagName\":\"i\"},\"type\":\"warning\"},{\"background\":\"#007bff\",\"icon\":{\"className\":\"fas fa-info-circle\",\"color\":\"white\",\"tagName\":\"i\"},\"type\":\"info\"}],\"kind\":null,\"name\":\"types\"}]},{\"extends\":null,\"module\":null,\"name\":\"Notification\",\"overrides\":[],\"properties\":[{\"default\":null,\"kind\":null,\"name\":\"background\"},{\"default\":3000,\"kind\":null,\"name\":\"duration\"},{\"default\":null,\"kind\":null,\"name\":\"icon\"},{\"default\":\"\",\"kind\":null,\"name\":\"message\"},{\"default\":null,\"kind\":null,\"name\":\"notification_type\"},{\"default\":false,\"kind\":null,\"name\":\"_destroyed\"}]},{\"extends\":null,\"module\":null,\"name\":\"TemplateActions1\",\"overrides\":[],\"properties\":[{\"default\":0,\"kind\":null,\"name\":\"open_modal\"},{\"default\":0,\"kind\":null,\"name\":\"close_modal\"}]},{\"extends\":null,\"module\":null,\"name\":\"MaterialTemplateActions1\",\"overrides\":[],\"properties\":[{\"default\":0,\"kind\":null,\"name\":\"open_modal\"},{\"default\":0,\"kind\":null,\"name\":\"close_modal\"}]}],\"roots\":{\"references\":[{\"attributes\":{},\"id\":\"4819\",\"type\":\"PanTool\"},{\"attributes\":{\"active_drag\":{\"id\":\"4819\"},\"active_scroll\":{\"id\":\"4820\"},\"tools\":[{\"id\":\"4797\"},{\"id\":\"4818\"},{\"id\":\"4819\"},{\"id\":\"4820\"},{\"id\":\"4821\"},{\"id\":\"4822\"}]},\"id\":\"4824\",\"type\":\"Toolbar\"},{\"attributes\":{\"label\":{\"value\":\"United Kingdom\"},\"renderers\":[{\"id\":\"4910\"}]},\"id\":\"4928\",\"type\":\"LegendItem\"},{\"attributes\":{},\"id\":\"4820\",\"type\":\"WheelZoomTool\"},{\"attributes\":{},\"id\":\"4925\",\"type\":\"UnionRenderers\"},{\"attributes\":{},\"id\":\"4818\",\"type\":\"SaveTool\"},{\"attributes\":{\"overlay\":{\"id\":\"4823\"}},\"id\":\"4821\",\"type\":\"BoxZoomTool\"},{\"attributes\":{},\"id\":\"4852\",\"type\":\"UnionRenderers\"},{\"attributes\":{},\"id\":\"4822\",\"type\":\"ResetTool\"},{\"attributes\":{\"bottom_units\":\"screen\",\"coordinates\":null,\"fill_alpha\":0.5,\"fill_color\":\"lightgrey\",\"group\":null,\"left_units\":\"screen\",\"level\":\"overlay\",\"line_alpha\":1.0,\"line_color\":\"black\",\"line_dash\":[4,4],\"line_width\":2,\"right_units\":\"screen\",\"syncable\":false,\"top_units\":\"screen\"},\"id\":\"4823\",\"type\":\"BoxAnnotation\"},{\"attributes\":{},\"id\":\"4838\",\"type\":\"Selection\"},{\"attributes\":{\"line_color\":\"#fc4f30\",\"line_width\":2,\"x\":{\"field\":\"Year\"},\"y\":{\"field\":\"Hydro (TWh growth - equivalent)\"}},\"id\":\"4879\",\"type\":\"Line\"},{\"attributes\":{},\"id\":\"4832\",\"type\":\"BasicTickFormatter\"},{\"attributes\":{\"coordinates\":null,\"data_source\":{\"id\":\"4880\"},\"glyph\":{\"id\":\"4883\"},\"group\":null,\"hover_glyph\":null,\"muted_glyph\":{\"id\":\"4885\"},\"nonselection_glyph\":{\"id\":\"4884\"},\"selection_glyph\":{\"id\":\"4903\"},\"view\":{\"id\":\"4887\"}},\"id\":\"4886\",\"type\":\"GlyphRenderer\"},{\"attributes\":{\"end\":2022.0,\"reset_end\":2022.0,\"reset_start\":1990.0,\"start\":1990.0,\"tags\":[[[\"Year\",\"Year\",null]]]},\"id\":\"4795\",\"type\":\"Range1d\"},{\"attributes\":{},\"id\":\"4833\",\"type\":\"AllLabels\"},{\"attributes\":{},\"id\":\"4835\",\"type\":\"BasicTickFormatter\"},{\"attributes\":{},\"id\":\"4881\",\"type\":\"Selection\"},{\"attributes\":{},\"id\":\"4836\",\"type\":\"AllLabels\"},{\"attributes\":{\"line_alpha\":0.2,\"line_color\":\"#e5ae38\",\"line_width\":2,\"x\":{\"field\":\"Year\"},\"y\":{\"field\":\"Hydro (TWh growth - equivalent)\"}},\"id\":\"4885\",\"type\":\"Line\"},{\"attributes\":{\"line_alpha\":0.1,\"line_color\":\"#e5ae38\",\"line_width\":2,\"x\":{\"field\":\"Year\"},\"y\":{\"field\":\"Hydro (TWh growth - equivalent)\"}},\"id\":\"4884\",\"type\":\"Line\"},{\"attributes\":{\"line_color\":\"#6d904f\",\"line_width\":2,\"x\":{\"field\":\"Year\"},\"y\":{\"field\":\"Hydro (TWh growth - equivalent)\"}},\"id\":\"4929\",\"type\":\"Line\"},{\"attributes\":{\"source\":{\"id\":\"4880\"}},\"id\":\"4887\",\"type\":\"CDSView\"},{\"attributes\":{\"line_color\":\"#e5ae38\",\"line_width\":2,\"x\":{\"field\":\"Year\"},\"y\":{\"field\":\"Hydro (TWh growth - equivalent)\"}},\"id\":\"4883\",\"type\":\"Line\"},{\"attributes\":{\"label\":{\"value\":\"Switzerland\"},\"renderers\":[{\"id\":\"4886\"}]},\"id\":\"4902\",\"type\":\"LegendItem\"},{\"attributes\":{},\"id\":\"4905\",\"type\":\"Selection\"},{\"attributes\":{},\"id\":\"4899\",\"type\":\"UnionRenderers\"},{\"attributes\":{\"axis\":{\"id\":\"4814\"},\"coordinates\":null,\"dimension\":1,\"grid_line_color\":null,\"group\":null,\"ticker\":null},\"id\":\"4817\",\"type\":\"Grid\"},{\"attributes\":{\"data\":{\"Country\":[\"Spain\",\"Spain\",\"Spain\",\"Spain\",\"Spain\",\"Spain\",\"Spain\",\"Spain\",\"Spain\",\"Spain\",\"Spain\",\"Spain\",\"Spain\",\"Spain\",\"Spain\",\"Spain\",\"Spain\",\"Spain\",\"Spain\",\"Spain\",\"Spain\",\"Spain\",\"Spain\",\"Spain\",\"Spain\",\"Spain\",\"Spain\",\"Spain\",\"Spain\",\"Spain\",\"Spain\",\"Spain\",\"Spain\"],\"Hydro (TWh growth - equivalent)\":{\"__ndarray__\":\"AAAAAAAAAAB7FK5H4Xr8Pylcj8L1qCDAAAAAAAAAFkCPwvUoXI8OQKRwPQrXoxTA9ihcj8K1MEApXI/C9SgUwFK4HoXrUei/16NwPQpXJsDD9Shcj8IVQMP1KFyPQilA7FG4HoWrM8DD9Shcj0IzQM3MzMzMzCLA4XoUrkdhKcBI4XoUrkceQJqZmZmZmfU/mpmZmZmZD8BmZmZmZmYIQEjhehSuxy9AZmZmZmZmJ8CamZmZmRkkwFK4HoXrUTBAZmZmZmZmAkCPwvUoXA8mwIXrUbgehSBAFK5H4XoUMsDD9ShcjwIwQFyPwvUoXCPAcT0K16NwF0ApXI/C9Sjsvylcj8L1qCXA\",\"dtype\":\"float64\",\"order\":\"little\",\"shape\":[33]},\"Hydro_left_parenthesis_TWh_growth_hyphen_minus_equivalent_right_parenthesis\":{\"__ndarray__\":\"AAAAAAAAAAB7FK5H4Xr8Pylcj8L1qCDAAAAAAAAAFkCPwvUoXI8OQKRwPQrXoxTA9ihcj8K1MEApXI/C9SgUwFK4HoXrUei/16NwPQpXJsDD9Shcj8IVQMP1KFyPQilA7FG4HoWrM8DD9Shcj0IzQM3MzMzMzCLA4XoUrkdhKcBI4XoUrkceQJqZmZmZmfU/mpmZmZmZD8BmZmZmZmYIQEjhehSuxy9AZmZmZmZmJ8CamZmZmRkkwFK4HoXrUTBAZmZmZmZmAkCPwvUoXA8mwIXrUbgehSBAFK5H4XoUMsDD9ShcjwIwQFyPwvUoXCPAcT0K16NwF0ApXI/C9Sjsvylcj8L1qCXA\",\"dtype\":\"float64\",\"order\":\"little\",\"shape\":[33]},\"Year\":[1990,1991,1992,1993,1994,1995,1996,1997,1998,1999,2000,2001,2002,2003,2004,2005,2006,2007,2008,2009,2010,2011,2012,2013,2014,2015,2016,2017,2018,2019,2020,2021,2022]},\"selected\":{\"id\":\"4859\"},\"selection_policy\":{\"id\":\"4875\"}},\"id\":\"4858\",\"type\":\"ColumnDataSource\"},{\"attributes\":{\"below\":[{\"id\":\"4810\"}],\"center\":[{\"id\":\"4813\"},{\"id\":\"4817\"}],\"height\":400,\"left\":[{\"id\":\"4814\"}],\"margin\":[5,5,5,5],\"min_border_bottom\":10,\"min_border_left\":10,\"min_border_right\":10,\"min_border_top\":10,\"renderers\":[{\"id\":\"4843\"},{\"id\":\"4864\"},{\"id\":\"4886\"},{\"id\":\"4910\"}],\"right\":[{\"id\":\"4855\"}],\"sizing_mode\":\"fixed\",\"title\":{\"id\":\"4802\"},\"toolbar\":{\"id\":\"4824\"},\"width\":700,\"x_range\":{\"id\":\"4795\"},\"x_scale\":{\"id\":\"4806\"},\"y_range\":{\"id\":\"4796\"},\"y_scale\":{\"id\":\"4808\"}},\"id\":\"4801\",\"subtype\":\"Figure\",\"type\":\"Plot\"},{\"attributes\":{\"source\":{\"id\":\"4904\"}},\"id\":\"4911\",\"type\":\"CDSView\"},{\"attributes\":{\"click_policy\":\"mute\",\"coordinates\":null,\"group\":null,\"items\":[{\"id\":\"4856\"},{\"id\":\"4878\"},{\"id\":\"4902\"},{\"id\":\"4928\"}],\"location\":[0,0],\"title\":\"Country\"},\"id\":\"4855\",\"type\":\"Legend\"},{\"attributes\":{\"line_color\":\"#30a2da\",\"line_width\":2,\"x\":{\"field\":\"Year\"},\"y\":{\"field\":\"Hydro (TWh growth - equivalent)\"}},\"id\":\"4857\",\"type\":\"Line\"},{\"attributes\":{\"coordinates\":null,\"data_source\":{\"id\":\"4858\"},\"glyph\":{\"id\":\"4861\"},\"group\":null,\"hover_glyph\":null,\"muted_glyph\":{\"id\":\"4863\"},\"nonselection_glyph\":{\"id\":\"4862\"},\"selection_glyph\":{\"id\":\"4879\"},\"view\":{\"id\":\"4865\"}},\"id\":\"4864\",\"type\":\"GlyphRenderer\"},{\"attributes\":{\"coordinates\":null,\"data_source\":{\"id\":\"4904\"},\"glyph\":{\"id\":\"4907\"},\"group\":null,\"hover_glyph\":null,\"muted_glyph\":{\"id\":\"4909\"},\"nonselection_glyph\":{\"id\":\"4908\"},\"selection_glyph\":{\"id\":\"4929\"},\"view\":{\"id\":\"4911\"}},\"id\":\"4910\",\"type\":\"GlyphRenderer\"},{\"attributes\":{},\"id\":\"4806\",\"type\":\"LinearScale\"},{\"attributes\":{\"line_color\":\"#fc4f30\",\"line_width\":2,\"x\":{\"field\":\"Year\"},\"y\":{\"field\":\"Hydro (TWh growth - equivalent)\"}},\"id\":\"4861\",\"type\":\"Line\"},{\"attributes\":{\"callback\":null,\"renderers\":[{\"id\":\"4843\"},{\"id\":\"4864\"},{\"id\":\"4886\"},{\"id\":\"4910\"}],\"tags\":[\"hv_created\"],\"tooltips\":[[\"Country\",\"@{Country}\"],[\"Year\",\"@{Year}\"],[\"Hydro (TWh growth - equivalent)\",\"@{Hydro_left_parenthesis_TWh_growth_hyphen_minus_equivalent_right_parenthesis}\"]]},\"id\":\"4797\",\"type\":\"HoverTool\"},{\"attributes\":{\"children\":[{\"id\":\"4801\"}],\"height\":400,\"margin\":[0,0,0,0],\"name\":\"Row04720\",\"sizing_mode\":\"fixed\",\"tags\":[\"embedded\"],\"width\":700},\"id\":\"4794\",\"type\":\"Row\"},{\"attributes\":{\"axis_label\":\"Hydro (TWh growth - equivalent)\",\"coordinates\":null,\"formatter\":{\"id\":\"4835\"},\"group\":null,\"major_label_policy\":{\"id\":\"4836\"},\"ticker\":{\"id\":\"4815\"}},\"id\":\"4814\",\"type\":\"LinearAxis\"},{\"attributes\":{\"data\":{\"Country\":[\"Germany\",\"Germany\",\"Germany\",\"Germany\",\"Germany\",\"Germany\",\"Germany\",\"Germany\",\"Germany\",\"Germany\",\"Germany\",\"Germany\",\"Germany\",\"Germany\",\"Germany\",\"Germany\",\"Germany\",\"Germany\",\"Germany\",\"Germany\",\"Germany\",\"Germany\",\"Germany\",\"Germany\",\"Germany\",\"Germany\",\"Germany\",\"Germany\",\"Germany\",\"Germany\",\"Germany\",\"Germany\",\"Germany\"],\"Hydro (TWh growth - equivalent)\":{\"__ndarray__\":\"AAAAAAAAAABSuB6F61EEwBSuR+F6FARAuB6F61G43j9mZmZmZmYAQJqZmZmZmf0/CtejcD0Kxz9mZmZmZmYSwOxRuB6F68G/cT0K16NwA0CkcD0K16MAQAAAAAAAAPA/9ihcj8L12D8zMzMzMzMTwHE9CtejcANAw/UoXI/C8b/2KFyPwvXYPz0K16NwPfI/XI/C9Shc57+PwvUoXI/2v7gehetRuP4/PQrXo3A9CsBSuB6F61EQQAAAAAAAAPQ/SOF6FK5HC8CF61G4HoXjvx+F61G4Hvk/mpmZmZmZ2b+uR+F6FK4DwFK4HoXrUQBAKVyPwvUo8L8UrkfhehTuP65H4XoUrgHA\",\"dtype\":\"float64\",\"order\":\"little\",\"shape\":[33]},\"Hydro_left_parenthesis_TWh_growth_hyphen_minus_equivalent_right_parenthesis\":{\"__ndarray__\":\"AAAAAAAAAABSuB6F61EEwBSuR+F6FARAuB6F61G43j9mZmZmZmYAQJqZmZmZmf0/CtejcD0Kxz9mZmZmZmYSwOxRuB6F68G/cT0K16NwA0CkcD0K16MAQAAAAAAAAPA/9ihcj8L12D8zMzMzMzMTwHE9CtejcANAw/UoXI/C8b/2KFyPwvXYPz0K16NwPfI/XI/C9Shc57+PwvUoXI/2v7gehetRuP4/PQrXo3A9CsBSuB6F61EQQAAAAAAAAPQ/SOF6FK5HC8CF61G4HoXjvx+F61G4Hvk/mpmZmZmZ2b+uR+F6FK4DwFK4HoXrUQBAKVyPwvUo8L8UrkfhehTuP65H4XoUrgHA\",\"dtype\":\"float64\",\"order\":\"little\",\"shape\":[33]},\"Year\":[1990,1991,1992,1993,1994,1995,1996,1997,1998,1999,2000,2001,2002,2003,2004,2005,2006,2007,2008,2009,2010,2011,2012,2013,2014,2015,2016,2017,2018,2019,2020,2021,2022]},\"selected\":{\"id\":\"4838\"},\"selection_policy\":{\"id\":\"4852\"}},\"id\":\"4837\",\"type\":\"ColumnDataSource\"},{\"attributes\":{\"line_alpha\":0.2,\"line_color\":\"#fc4f30\",\"line_width\":2,\"x\":{\"field\":\"Year\"},\"y\":{\"field\":\"Hydro (TWh growth - equivalent)\"}},\"id\":\"4863\",\"type\":\"Line\"},{\"attributes\":{\"line_alpha\":0.1,\"line_color\":\"#fc4f30\",\"line_width\":2,\"x\":{\"field\":\"Year\"},\"y\":{\"field\":\"Hydro (TWh growth - equivalent)\"}},\"id\":\"4862\",\"type\":\"Line\"},{\"attributes\":{\"line_alpha\":0.1,\"line_color\":\"#6d904f\",\"line_width\":2,\"x\":{\"field\":\"Year\"},\"y\":{\"field\":\"Hydro (TWh growth - equivalent)\"}},\"id\":\"4908\",\"type\":\"Line\"},{\"attributes\":{\"line_color\":\"#6d904f\",\"line_width\":2,\"x\":{\"field\":\"Year\"},\"y\":{\"field\":\"Hydro (TWh growth - equivalent)\"}},\"id\":\"4907\",\"type\":\"Line\"},{\"attributes\":{\"label\":{\"value\":\"Germany\"},\"renderers\":[{\"id\":\"4843\"}]},\"id\":\"4856\",\"type\":\"LegendItem\"},{\"attributes\":{\"coordinates\":null,\"group\":null,\"text\":\"Annual Change Hydro Energy Generation\",\"text_color\":\"black\",\"text_font_size\":\"12pt\"},\"id\":\"4802\",\"type\":\"Title\"},{\"attributes\":{\"source\":{\"id\":\"4837\"}},\"id\":\"4844\",\"type\":\"CDSView\"},{\"attributes\":{\"source\":{\"id\":\"4858\"}},\"id\":\"4865\",\"type\":\"CDSView\"},{\"attributes\":{\"coordinates\":null,\"data_source\":{\"id\":\"4837\"},\"glyph\":{\"id\":\"4840\"},\"group\":null,\"hover_glyph\":null,\"muted_glyph\":{\"id\":\"4842\"},\"nonselection_glyph\":{\"id\":\"4841\"},\"selection_glyph\":{\"id\":\"4857\"},\"view\":{\"id\":\"4844\"}},\"id\":\"4843\",\"type\":\"GlyphRenderer\"},{\"attributes\":{\"line_alpha\":0.2,\"line_color\":\"#6d904f\",\"line_width\":2,\"x\":{\"field\":\"Year\"},\"y\":{\"field\":\"Hydro (TWh growth - equivalent)\"}},\"id\":\"4909\",\"type\":\"Line\"},{\"attributes\":{\"line_alpha\":0.1,\"line_color\":\"#30a2da\",\"line_width\":2,\"x\":{\"field\":\"Year\"},\"y\":{\"field\":\"Hydro (TWh growth - equivalent)\"}},\"id\":\"4841\",\"type\":\"Line\"},{\"attributes\":{},\"id\":\"4859\",\"type\":\"Selection\"},{\"attributes\":{\"end\":23.153000000000002,\"reset_end\":23.153000000000002,\"reset_start\":-23.563000000000002,\"start\":-23.563000000000002,\"tags\":[[[\"Hydro (TWh growth - equivalent)\",\"Hydro (TWh growth - equivalent)\",null]]]},\"id\":\"4796\",\"type\":\"Range1d\"},{\"attributes\":{\"data\":{\"Country\":[\"Switzerland\",\"Switzerland\",\"Switzerland\",\"Switzerland\",\"Switzerland\",\"Switzerland\",\"Switzerland\",\"Switzerland\",\"Switzerland\",\"Switzerland\",\"Switzerland\",\"Switzerland\",\"Switzerland\",\"Switzerland\",\"Switzerland\",\"Switzerland\",\"Switzerland\",\"Switzerland\",\"Switzerland\",\"Switzerland\",\"Switzerland\",\"Switzerland\",\"Switzerland\",\"Switzerland\",\"Switzerland\",\"Switzerland\",\"Switzerland\",\"Switzerland\",\"Switzerland\",\"Switzerland\",\"Switzerland\",\"Switzerland\"],\"Hydro (TWh growth - equivalent)\":{\"__ndarray__\":\"AAAAAAAAAACoxks3iUECQFYOLbKd7+M/ObTIdr6fCECHFtnO91MKQGiR7Xw/NQ/AGQRWDi2yGcD+1HjpJjEVQBKDwMqhReK/bxKDwMohGkBvEoPAyqEYwMP1KFyPwhFA4XoUrkfhF8CuR+F6FK7Xvylcj8L1KPC/PQrXo3A9AsD2KFyPwvXYv1yPwvUoXBBAMzMzMzMz6z9SuB6F61HYv4XrUbgehds/zczMzMzMCsB7FK5H4XoXQDMzMzMzM8O/UrgehetR4L+kcD0K16PQPzMzMzMzMwvAAAAAAAAA4L/Xo3A9CtfjP3sUrkfheghArkfhehSuBUAfhetRuB7tvw==\",\"dtype\":\"float64\",\"order\":\"little\",\"shape\":[32]},\"Hydro_left_parenthesis_TWh_growth_hyphen_minus_equivalent_right_parenthesis\":{\"__ndarray__\":\"AAAAAAAAAACoxks3iUECQFYOLbKd7+M/ObTIdr6fCECHFtnO91MKQGiR7Xw/NQ/AGQRWDi2yGcD+1HjpJjEVQBKDwMqhReK/bxKDwMohGkBvEoPAyqEYwMP1KFyPwhFA4XoUrkfhF8CuR+F6FK7Xvylcj8L1KPC/PQrXo3A9AsD2KFyPwvXYv1yPwvUoXBBAMzMzMzMz6z9SuB6F61HYv4XrUbgehds/zczMzMzMCsB7FK5H4XoXQDMzMzMzM8O/UrgehetR4L+kcD0K16PQPzMzMzMzMwvAAAAAAAAA4L/Xo3A9CtfjP3sUrkfheghArkfhehSuBUAfhetRuB7tvw==\",\"dtype\":\"float64\",\"order\":\"little\",\"shape\":[32]},\"Year\":[1990,1991,1992,1993,1994,1995,1996,1997,1998,1999,2000,2001,2002,2003,2004,2005,2006,2007,2008,2009,2010,2011,2012,2013,2014,2015,2016,2017,2018,2019,2020,2021]},\"selected\":{\"id\":\"4881\"},\"selection_policy\":{\"id\":\"4899\"}},\"id\":\"4880\",\"type\":\"ColumnDataSource\"},{\"attributes\":{\"line_color\":\"#e5ae38\",\"line_width\":2,\"x\":{\"field\":\"Year\"},\"y\":{\"field\":\"Hydro (TWh growth - equivalent)\"}},\"id\":\"4903\",\"type\":\"Line\"},{\"attributes\":{\"label\":{\"value\":\"Spain\"},\"renderers\":[{\"id\":\"4864\"}]},\"id\":\"4878\",\"type\":\"LegendItem\"},{\"attributes\":{\"axis\":{\"id\":\"4810\"},\"coordinates\":null,\"grid_line_color\":null,\"group\":null,\"ticker\":null},\"id\":\"4813\",\"type\":\"Grid\"},{\"attributes\":{\"axis_label\":\"Year\",\"coordinates\":null,\"formatter\":{\"id\":\"4832\"},\"group\":null,\"major_label_policy\":{\"id\":\"4833\"},\"ticker\":{\"id\":\"4811\"}},\"id\":\"4810\",\"type\":\"LinearAxis\"},{\"attributes\":{\"line_alpha\":0.2,\"line_color\":\"#30a2da\",\"line_width\":2,\"x\":{\"field\":\"Year\"},\"y\":{\"field\":\"Hydro (TWh growth - equivalent)\"}},\"id\":\"4842\",\"type\":\"Line\"},{\"attributes\":{\"data\":{\"Country\":[\"United Kingdom\",\"United Kingdom\",\"United Kingdom\",\"United Kingdom\",\"United Kingdom\",\"United Kingdom\",\"United Kingdom\",\"United Kingdom\",\"United Kingdom\",\"United Kingdom\",\"United Kingdom\",\"United Kingdom\",\"United Kingdom\",\"United Kingdom\",\"United Kingdom\",\"United Kingdom\",\"United Kingdom\",\"United Kingdom\",\"United Kingdom\",\"United Kingdom\",\"United Kingdom\",\"United Kingdom\",\"United Kingdom\",\"United Kingdom\",\"United Kingdom\",\"United Kingdom\",\"United Kingdom\",\"United Kingdom\",\"United Kingdom\",\"United Kingdom\",\"United Kingdom\",\"United Kingdom\"],\"Hydro (TWh growth - equivalent)\":{\"__ndarray__\":\"AAAAAAAAAADhehSuR+Hiv+xRuB6F6+k/FK5H4XoU8r9I4XoUrkfpPwAAAAAAANC/MzMzMzMz97/2KFyPwvXoP2ZmZmZmZu4/KVyPwvUozD8AAAAAAADQv3sUrkfhevC/XI/C9Shc5z/2KFyPwvX4v8P1KFyPwvk/exSuR+F6tD8fhetRuB7Vv1yPwvUoXN8/uB6F61G4rj8K16NwPQq3Pz0K16NwPfq/zczMzMzMAEBSuB6F61HYv4XrUbgeheO/CtejcD0K8z89CtejcD3aP8P1KFyPwu2/UrgehetR4D8pXI/C9Sjcv1yPwvUoXN8/AAAAAAAA6D9xPQrXo3Dxvw==\",\"dtype\":\"float64\",\"order\":\"little\",\"shape\":[32]},\"Hydro_left_parenthesis_TWh_growth_hyphen_minus_equivalent_right_parenthesis\":{\"__ndarray__\":\"AAAAAAAAAADhehSuR+Hiv+xRuB6F6+k/FK5H4XoU8r9I4XoUrkfpPwAAAAAAANC/MzMzMzMz97/2KFyPwvXoP2ZmZmZmZu4/KVyPwvUozD8AAAAAAADQv3sUrkfhevC/XI/C9Shc5z/2KFyPwvX4v8P1KFyPwvk/exSuR+F6tD8fhetRuB7Vv1yPwvUoXN8/uB6F61G4rj8K16NwPQq3Pz0K16NwPfq/zczMzMzMAEBSuB6F61HYv4XrUbgeheO/CtejcD0K8z89CtejcD3aP8P1KFyPwu2/UrgehetR4D8pXI/C9Sjcv1yPwvUoXN8/AAAAAAAA6D9xPQrXo3Dxvw==\",\"dtype\":\"float64\",\"order\":\"little\",\"shape\":[32]},\"Year\":[1990,1991,1992,1993,1994,1995,1996,1997,1998,1999,2000,2001,2002,2003,2004,2005,2006,2007,2008,2009,2010,2011,2012,2013,2014,2015,2016,2017,2018,2019,2020,2021]},\"selected\":{\"id\":\"4905\"},\"selection_policy\":{\"id\":\"4925\"}},\"id\":\"4904\",\"type\":\"ColumnDataSource\"},{\"attributes\":{},\"id\":\"4808\",\"type\":\"LinearScale\"},{\"attributes\":{},\"id\":\"4875\",\"type\":\"UnionRenderers\"},{\"attributes\":{},\"id\":\"4811\",\"type\":\"BasicTicker\"},{\"attributes\":{},\"id\":\"4815\",\"type\":\"BasicTicker\"},{\"attributes\":{\"line_color\":\"#30a2da\",\"line_width\":2,\"x\":{\"field\":\"Year\"},\"y\":{\"field\":\"Hydro (TWh growth - equivalent)\"}},\"id\":\"4840\",\"type\":\"Line\"}],\"root_ids\":[\"4794\"]},\"title\":\"Bokeh Application\",\"version\":\"2.4.3\"}};\n",
       "    var render_items = [{\"docid\":\"9022e98e-2775-4802-b7d3-5b0bfa5eaf33\",\"root_ids\":[\"4794\"],\"roots\":{\"4794\":\"e09cf80d-cd0a-4caa-a148-374cfd8ddd36\"}}];\n",
       "    root.Bokeh.embed.embed_items_notebook(docs_json, render_items);\n",
       "    for (const render_item of render_items) {\n",
       "      for (const root_id of render_item.root_ids) {\n",
       "\tconst id_el = document.getElementById(root_id)\n",
       "\tif (id_el.children.length && (id_el.children[0].className === 'bk-root')) {\n",
       "\t  const root_el = id_el.children[0]\n",
       "\t  root_el.id = root_el.id + '-rendered'\n",
       "\t}\n",
       "      }\n",
       "    }\n",
       "  }\n",
       "  if (root.Bokeh !== undefined && root.Bokeh.Panel !== undefined) {\n",
       "    embed_document(root);\n",
       "  } else {\n",
       "    var attempts = 0;\n",
       "    var timer = setInterval(function(root) {\n",
       "      if (root.Bokeh !== undefined && root.Bokeh.Panel !== undefined) {\n",
       "        clearInterval(timer);\n",
       "        embed_document(root);\n",
       "      } else if (document.readyState == \"complete\") {\n",
       "        attempts++;\n",
       "        if (attempts > 200) {\n",
       "          clearInterval(timer);\n",
       "          console.log(\"Bokeh: ERROR: Unable to run BokehJS code because BokehJS library is missing\");\n",
       "        }\n",
       "      }\n",
       "    }, 25, root)\n",
       "  }\n",
       "})(window);</script>"
      ],
      "text/plain": [
       ":NdOverlay   [Country]\n",
       "   :Curve   [Year]   (Hydro (TWh growth - equivalent))"
      ]
     },
     "metadata": {
      "application/vnd.holoviews_exec.v0+json": {
       "id": "4794"
      }
     },
     "output_type": "display_data"
    },
    {
     "data": {},
     "metadata": {},
     "output_type": "display_data"
    },
    {
     "data": {
      "application/vnd.holoviews_exec.v0+json": "",
      "text/html": [
       "<div id='5031'>\n",
       "  <div class=\"bk-root\" id=\"cce1a9b7-3ac0-4706-b40f-c928fc45f072\" data-root-id=\"5031\"></div>\n",
       "</div>\n",
       "<script type=\"application/javascript\">(function(root) {\n",
       "  function embed_document(root) {\n",
       "    var docs_json = {\"41bcc667-fc7d-4f14-941a-60ed3afa384e\":{\"defs\":[{\"extends\":null,\"module\":null,\"name\":\"ReactiveHTML1\",\"overrides\":[],\"properties\":[]},{\"extends\":null,\"module\":null,\"name\":\"FlexBox1\",\"overrides\":[],\"properties\":[{\"default\":\"flex-start\",\"kind\":null,\"name\":\"align_content\"},{\"default\":\"flex-start\",\"kind\":null,\"name\":\"align_items\"},{\"default\":\"row\",\"kind\":null,\"name\":\"flex_direction\"},{\"default\":\"wrap\",\"kind\":null,\"name\":\"flex_wrap\"},{\"default\":\"flex-start\",\"kind\":null,\"name\":\"justify_content\"}]},{\"extends\":null,\"module\":null,\"name\":\"GridStack1\",\"overrides\":[],\"properties\":[{\"default\":\"warn\",\"kind\":null,\"name\":\"mode\"},{\"default\":null,\"kind\":null,\"name\":\"ncols\"},{\"default\":null,\"kind\":null,\"name\":\"nrows\"},{\"default\":true,\"kind\":null,\"name\":\"allow_resize\"},{\"default\":true,\"kind\":null,\"name\":\"allow_drag\"},{\"default\":[],\"kind\":null,\"name\":\"state\"}]},{\"extends\":null,\"module\":null,\"name\":\"click1\",\"overrides\":[],\"properties\":[{\"default\":\"\",\"kind\":null,\"name\":\"terminal_output\"},{\"default\":\"\",\"kind\":null,\"name\":\"debug_name\"},{\"default\":0,\"kind\":null,\"name\":\"clears\"}]},{\"extends\":null,\"module\":null,\"name\":\"NotificationAreaBase1\",\"overrides\":[],\"properties\":[{\"default\":\"bottom-right\",\"kind\":null,\"name\":\"position\"},{\"default\":0,\"kind\":null,\"name\":\"_clear\"}]},{\"extends\":null,\"module\":null,\"name\":\"NotificationArea1\",\"overrides\":[],\"properties\":[{\"default\":[],\"kind\":null,\"name\":\"notifications\"},{\"default\":\"bottom-right\",\"kind\":null,\"name\":\"position\"},{\"default\":0,\"kind\":null,\"name\":\"_clear\"},{\"default\":[{\"background\":\"#ffc107\",\"icon\":{\"className\":\"fas fa-exclamation-triangle\",\"color\":\"white\",\"tagName\":\"i\"},\"type\":\"warning\"},{\"background\":\"#007bff\",\"icon\":{\"className\":\"fas fa-info-circle\",\"color\":\"white\",\"tagName\":\"i\"},\"type\":\"info\"}],\"kind\":null,\"name\":\"types\"}]},{\"extends\":null,\"module\":null,\"name\":\"Notification\",\"overrides\":[],\"properties\":[{\"default\":null,\"kind\":null,\"name\":\"background\"},{\"default\":3000,\"kind\":null,\"name\":\"duration\"},{\"default\":null,\"kind\":null,\"name\":\"icon\"},{\"default\":\"\",\"kind\":null,\"name\":\"message\"},{\"default\":null,\"kind\":null,\"name\":\"notification_type\"},{\"default\":false,\"kind\":null,\"name\":\"_destroyed\"}]},{\"extends\":null,\"module\":null,\"name\":\"TemplateActions1\",\"overrides\":[],\"properties\":[{\"default\":0,\"kind\":null,\"name\":\"open_modal\"},{\"default\":0,\"kind\":null,\"name\":\"close_modal\"}]},{\"extends\":null,\"module\":null,\"name\":\"MaterialTemplateActions1\",\"overrides\":[],\"properties\":[{\"default\":0,\"kind\":null,\"name\":\"open_modal\"},{\"default\":0,\"kind\":null,\"name\":\"close_modal\"}]}],\"roots\":{\"references\":[{\"attributes\":{\"coordinates\":null,\"data_source\":{\"id\":\"5141\"},\"glyph\":{\"id\":\"5144\"},\"group\":null,\"hover_glyph\":null,\"muted_glyph\":{\"id\":\"5146\"},\"nonselection_glyph\":{\"id\":\"5145\"},\"selection_glyph\":{\"id\":\"5166\"},\"view\":{\"id\":\"5148\"}},\"id\":\"5147\",\"type\":\"GlyphRenderer\"},{\"attributes\":{\"source\":{\"id\":\"5141\"}},\"id\":\"5148\",\"type\":\"CDSView\"},{\"attributes\":{\"overlay\":{\"id\":\"5060\"}},\"id\":\"5058\",\"type\":\"BoxZoomTool\"},{\"attributes\":{},\"id\":\"5059\",\"type\":\"ResetTool\"},{\"attributes\":{\"label\":{\"value\":\"United Kingdom\"},\"renderers\":[{\"id\":\"5147\"}]},\"id\":\"5165\",\"type\":\"LegendItem\"},{\"attributes\":{\"bottom_units\":\"screen\",\"coordinates\":null,\"fill_alpha\":0.5,\"fill_color\":\"lightgrey\",\"group\":null,\"left_units\":\"screen\",\"level\":\"overlay\",\"line_alpha\":1.0,\"line_color\":\"black\",\"line_dash\":[4,4],\"line_width\":2,\"right_units\":\"screen\",\"syncable\":false,\"top_units\":\"screen\"},\"id\":\"5060\",\"type\":\"BoxAnnotation\"},{\"attributes\":{},\"id\":\"5162\",\"type\":\"UnionRenderers\"},{\"attributes\":{\"children\":[{\"id\":\"5038\"}],\"height\":400,\"margin\":[0,0,0,0],\"name\":\"Row04956\",\"sizing_mode\":\"fixed\",\"tags\":[\"embedded\"],\"width\":700},\"id\":\"5031\",\"type\":\"Row\"},{\"attributes\":{},\"id\":\"5089\",\"type\":\"UnionRenderers\"},{\"attributes\":{},\"id\":\"5075\",\"type\":\"Selection\"},{\"attributes\":{\"active_drag\":{\"id\":\"5056\"},\"active_scroll\":{\"id\":\"5057\"},\"tools\":[{\"id\":\"5034\"},{\"id\":\"5055\"},{\"id\":\"5056\"},{\"id\":\"5057\"},{\"id\":\"5058\"},{\"id\":\"5059\"}]},\"id\":\"5061\",\"type\":\"Toolbar\"},{\"attributes\":{\"coordinates\":null,\"data_source\":{\"id\":\"5074\"},\"glyph\":{\"id\":\"5077\"},\"group\":null,\"hover_glyph\":null,\"muted_glyph\":{\"id\":\"5079\"},\"nonselection_glyph\":{\"id\":\"5078\"},\"selection_glyph\":{\"id\":\"5094\"},\"view\":{\"id\":\"5081\"}},\"id\":\"5080\",\"type\":\"GlyphRenderer\"},{\"attributes\":{\"line_color\":\"#fc4f30\",\"line_width\":2,\"x\":{\"field\":\"Year\"},\"y\":{\"field\":\"Hydro (% growth)\"}},\"id\":\"5116\",\"type\":\"Line\"},{\"attributes\":{\"coordinates\":null,\"data_source\":{\"id\":\"5117\"},\"glyph\":{\"id\":\"5120\"},\"group\":null,\"hover_glyph\":null,\"muted_glyph\":{\"id\":\"5122\"},\"nonselection_glyph\":{\"id\":\"5121\"},\"selection_glyph\":{\"id\":\"5140\"},\"view\":{\"id\":\"5124\"}},\"id\":\"5123\",\"type\":\"GlyphRenderer\"},{\"attributes\":{},\"id\":\"5070\",\"type\":\"AllLabels\"},{\"attributes\":{},\"id\":\"5072\",\"type\":\"BasicTickFormatter\"},{\"attributes\":{},\"id\":\"5118\",\"type\":\"Selection\"},{\"attributes\":{},\"id\":\"5073\",\"type\":\"AllLabels\"},{\"attributes\":{\"line_color\":\"#6d904f\",\"line_width\":2,\"x\":{\"field\":\"Year\"},\"y\":{\"field\":\"Hydro (% growth)\"}},\"id\":\"5166\",\"type\":\"Line\"},{\"attributes\":{\"line_alpha\":0.2,\"line_color\":\"#e5ae38\",\"line_width\":2,\"x\":{\"field\":\"Year\"},\"y\":{\"field\":\"Hydro (% growth)\"}},\"id\":\"5122\",\"type\":\"Line\"},{\"attributes\":{\"data\":{\"Country\":[\"Switzerland\",\"Switzerland\",\"Switzerland\",\"Switzerland\",\"Switzerland\",\"Switzerland\",\"Switzerland\",\"Switzerland\",\"Switzerland\",\"Switzerland\",\"Switzerland\",\"Switzerland\",\"Switzerland\",\"Switzerland\",\"Switzerland\",\"Switzerland\",\"Switzerland\",\"Switzerland\",\"Switzerland\",\"Switzerland\",\"Switzerland\",\"Switzerland\",\"Switzerland\",\"Switzerland\",\"Switzerland\",\"Switzerland\",\"Switzerland\",\"Switzerland\",\"Switzerland\",\"Switzerland\",\"Switzerland\",\"Switzerland\"],\"Hydro (% growth)\":{\"__ndarray__\":\"AAAAAAAAAADNzMzMzMweQGZmZmZmZv4/zczMzMzMIkBmZmZmZmYiQAAAAAAAACTAzczMzMxMMsBmZmZmZmYyQDQzMzMzM/u/AAAAAACAM0DNzMzMzMwuwDQzMzMzMypAMzMzMzMzL8CZmZmZmZnxv5qZmZmZmQnAmZmZmZmZHcBnZmZmZmb2v////////yxAzczMzMzMBECZmZmZmZnxv83MzMzMzPQ/NDMzMzMzJMCamZmZmZkzQJqZmZmZmdm/Z2ZmZmZm9r9nZmZmZmbmPzMzMzMzMyPAmpmZmZmZ+b8AAAAAAAAAQAAAAAAAACNAzczMzMzMHkAzMzMzMzMDwA==\",\"dtype\":\"float64\",\"order\":\"little\",\"shape\":[32]},\"Hydro_left_parenthesis_percent_growth_right_parenthesis\":{\"__ndarray__\":\"AAAAAAAAAADNzMzMzMweQGZmZmZmZv4/zczMzMzMIkBmZmZmZmYiQAAAAAAAACTAzczMzMxMMsBmZmZmZmYyQDQzMzMzM/u/AAAAAACAM0DNzMzMzMwuwDQzMzMzMypAMzMzMzMzL8CZmZmZmZnxv5qZmZmZmQnAmZmZmZmZHcBnZmZmZmb2v////////yxAzczMzMzMBECZmZmZmZnxv83MzMzMzPQ/NDMzMzMzJMCamZmZmZkzQJqZmZmZmdm/Z2ZmZmZm9r9nZmZmZmbmPzMzMzMzMyPAmpmZmZmZ+b8AAAAAAAAAQAAAAAAAACNAzczMzMzMHkAzMzMzMzMDwA==\",\"dtype\":\"float64\",\"order\":\"little\",\"shape\":[32]},\"Year\":[1990,1991,1992,1993,1994,1995,1996,1997,1998,1999,2000,2001,2002,2003,2004,2005,2006,2007,2008,2009,2010,2011,2012,2013,2014,2015,2016,2017,2018,2019,2020,2021]},\"selected\":{\"id\":\"5118\"},\"selection_policy\":{\"id\":\"5136\"}},\"id\":\"5117\",\"type\":\"ColumnDataSource\"},{\"attributes\":{\"line_alpha\":0.1,\"line_color\":\"#e5ae38\",\"line_width\":2,\"x\":{\"field\":\"Year\"},\"y\":{\"field\":\"Hydro (% growth)\"}},\"id\":\"5121\",\"type\":\"Line\"},{\"attributes\":{},\"id\":\"5142\",\"type\":\"Selection\"},{\"attributes\":{\"end\":104.85,\"reset_end\":104.85,\"reset_start\":-63.75,\"start\":-63.75,\"tags\":[[[\"Hydro (% growth)\",\"Hydro (% growth)\",null]]]},\"id\":\"5033\",\"type\":\"Range1d\"},{\"attributes\":{\"source\":{\"id\":\"5117\"}},\"id\":\"5124\",\"type\":\"CDSView\"},{\"attributes\":{\"line_color\":\"#e5ae38\",\"line_width\":2,\"x\":{\"field\":\"Year\"},\"y\":{\"field\":\"Hydro (% growth)\"}},\"id\":\"5120\",\"type\":\"Line\"},{\"attributes\":{\"label\":{\"value\":\"Switzerland\"},\"renderers\":[{\"id\":\"5123\"}]},\"id\":\"5139\",\"type\":\"LegendItem\"},{\"attributes\":{\"end\":2022.0,\"reset_end\":2022.0,\"reset_start\":1990.0,\"start\":1990.0,\"tags\":[[[\"Year\",\"Year\",null]]]},\"id\":\"5032\",\"type\":\"Range1d\"},{\"attributes\":{},\"id\":\"5136\",\"type\":\"UnionRenderers\"},{\"attributes\":{\"data\":{\"Country\":[\"Spain\",\"Spain\",\"Spain\",\"Spain\",\"Spain\",\"Spain\",\"Spain\",\"Spain\",\"Spain\",\"Spain\",\"Spain\",\"Spain\",\"Spain\",\"Spain\",\"Spain\",\"Spain\",\"Spain\",\"Spain\",\"Spain\",\"Spain\",\"Spain\",\"Spain\",\"Spain\",\"Spain\",\"Spain\",\"Spain\",\"Spain\",\"Spain\",\"Spain\",\"Spain\",\"Spain\",\"Spain\",\"Spain\"],\"Hydro (% growth)\":{\"__ndarray__\":\"AAAAAAAAAAABAAAAAAAcQJmZmZmZmT7AmZmZmZkZPUAzMzMzMzMvQM3MzMzMTDLAmZmZmZkZUkBmZmZmZmYpwJmZmZmZmQHAMzMzMzNzQMDMzMzMzMw3QJqZmZmZWUZAzczMzMwMSMAzMzMzM7NWQDQzMzMzMzfAZmZmZmZmRMCZmZmZmZlEQM3MzMzMzBRA////////LMA0MzMzMzMqQJmZmZmZGU5ANDMzMzOzO8BnZmZmZmZAwJqZmZmZ2VNAzczMzMzMGEAyMzMzMzM8wGZmZmZmZj1AmpmZmZnZSMCamZmZmdlVQDIzMzMzMzzAzMzMzMzMN0A0MzMzMzMHwM3MzMzMTELA\",\"dtype\":\"float64\",\"order\":\"little\",\"shape\":[33]},\"Hydro_left_parenthesis_percent_growth_right_parenthesis\":{\"__ndarray__\":\"AAAAAAAAAAABAAAAAAAcQJmZmZmZmT7AmZmZmZkZPUAzMzMzMzMvQM3MzMzMTDLAmZmZmZkZUkBmZmZmZmYpwJmZmZmZmQHAMzMzMzNzQMDMzMzMzMw3QJqZmZmZWUZAzczMzMwMSMAzMzMzM7NWQDQzMzMzMzfAZmZmZmZmRMCZmZmZmZlEQM3MzMzMzBRA////////LMA0MzMzMzMqQJmZmZmZGU5ANDMzMzOzO8BnZmZmZmZAwJqZmZmZ2VNAzczMzMzMGEAyMzMzMzM8wGZmZmZmZj1AmpmZmZnZSMCamZmZmdlVQDIzMzMzMzzAzMzMzMzMN0A0MzMzMzMHwM3MzMzMTELA\",\"dtype\":\"float64\",\"order\":\"little\",\"shape\":[33]},\"Year\":[1990,1991,1992,1993,1994,1995,1996,1997,1998,1999,2000,2001,2002,2003,2004,2005,2006,2007,2008,2009,2010,2011,2012,2013,2014,2015,2016,2017,2018,2019,2020,2021,2022]},\"selected\":{\"id\":\"5096\"},\"selection_policy\":{\"id\":\"5112\"}},\"id\":\"5095\",\"type\":\"ColumnDataSource\"},{\"attributes\":{\"line_color\":\"#30a2da\",\"line_width\":2,\"x\":{\"field\":\"Year\"},\"y\":{\"field\":\"Hydro (% growth)\"}},\"id\":\"5077\",\"type\":\"Line\"},{\"attributes\":{\"callback\":null,\"renderers\":[{\"id\":\"5080\"},{\"id\":\"5101\"},{\"id\":\"5123\"},{\"id\":\"5147\"}],\"tags\":[\"hv_created\"],\"tooltips\":[[\"Country\",\"@{Country}\"],[\"Year\",\"@{Year}\"],[\"Hydro (% growth)\",\"@{Hydro_left_parenthesis_percent_growth_right_parenthesis}\"]]},\"id\":\"5034\",\"type\":\"HoverTool\"},{\"attributes\":{},\"id\":\"5057\",\"type\":\"WheelZoomTool\"},{\"attributes\":{},\"id\":\"5043\",\"type\":\"LinearScale\"},{\"attributes\":{\"line_color\":\"#30a2da\",\"line_width\":2,\"x\":{\"field\":\"Year\"},\"y\":{\"field\":\"Hydro (% growth)\"}},\"id\":\"5094\",\"type\":\"Line\"},{\"attributes\":{\"coordinates\":null,\"data_source\":{\"id\":\"5095\"},\"glyph\":{\"id\":\"5098\"},\"group\":null,\"hover_glyph\":null,\"muted_glyph\":{\"id\":\"5100\"},\"nonselection_glyph\":{\"id\":\"5099\"},\"selection_glyph\":{\"id\":\"5116\"},\"view\":{\"id\":\"5102\"}},\"id\":\"5101\",\"type\":\"GlyphRenderer\"},{\"attributes\":{\"data\":{\"Country\":[\"Germany\",\"Germany\",\"Germany\",\"Germany\",\"Germany\",\"Germany\",\"Germany\",\"Germany\",\"Germany\",\"Germany\",\"Germany\",\"Germany\",\"Germany\",\"Germany\",\"Germany\",\"Germany\",\"Germany\",\"Germany\",\"Germany\",\"Germany\",\"Germany\",\"Germany\",\"Germany\",\"Germany\",\"Germany\",\"Germany\",\"Germany\",\"Germany\",\"Germany\",\"Germany\",\"Germany\",\"Germany\",\"Germany\"],\"Hydro (% growth)\":{\"__ndarray__\":\"AAAAAAAAAAAzMzMzMzMtwGdmZmZm5jBAZ2ZmZmZmBkAAAAAAAAAnQJqZmZmZmSJAmpmZmZmZ6T9mZmZmZuY0wJqZmZmZmem/MjMzMzMzLEAzMzMzMzMlQGZmZmZmZhJANDMzMzMz+z/NzMzMzMw0wJqZmZmZmSpAMzMzMzMzFcAAAAAAAAAAQM3MzMzMzBZANDMzMzMzC8CamZmZmZkbwDQzMzMzMyRAZmZmZmZmL8CamZmZmRk3QM3MzMzMzBZAmZmZmZmZLcDNzMzMzMwIwJqZmZmZmSBAZmZmZmZm/r9mZmZmZmYowAAAAAAAACdAZmZmZmZmFMAAAAAAAAAUQGdmZmZmZibA\",\"dtype\":\"float64\",\"order\":\"little\",\"shape\":[33]},\"Hydro_left_parenthesis_percent_growth_right_parenthesis\":{\"__ndarray__\":\"AAAAAAAAAAAzMzMzMzMtwGdmZmZm5jBAZ2ZmZmZmBkAAAAAAAAAnQJqZmZmZmSJAmpmZmZmZ6T9mZmZmZuY0wJqZmZmZmem/MjMzMzMzLEAzMzMzMzMlQGZmZmZmZhJANDMzMzMz+z/NzMzMzMw0wJqZmZmZmSpAMzMzMzMzFcAAAAAAAAAAQM3MzMzMzBZANDMzMzMzC8CamZmZmZkbwDQzMzMzMyRAZmZmZmZmL8CamZmZmRk3QM3MzMzMzBZAmZmZmZmZLcDNzMzMzMwIwJqZmZmZmSBAZmZmZmZm/r9mZmZmZmYowAAAAAAAACdAZmZmZmZmFMAAAAAAAAAUQGdmZmZmZibA\",\"dtype\":\"float64\",\"order\":\"little\",\"shape\":[33]},\"Year\":[1990,1991,1992,1993,1994,1995,1996,1997,1998,1999,2000,2001,2002,2003,2004,2005,2006,2007,2008,2009,2010,2011,2012,2013,2014,2015,2016,2017,2018,2019,2020,2021,2022]},\"selected\":{\"id\":\"5075\"},\"selection_policy\":{\"id\":\"5089\"}},\"id\":\"5074\",\"type\":\"ColumnDataSource\"},{\"attributes\":{\"below\":[{\"id\":\"5047\"}],\"center\":[{\"id\":\"5050\"},{\"id\":\"5054\"}],\"height\":400,\"left\":[{\"id\":\"5051\"}],\"margin\":[5,5,5,5],\"min_border_bottom\":10,\"min_border_left\":10,\"min_border_right\":10,\"min_border_top\":10,\"renderers\":[{\"id\":\"5080\"},{\"id\":\"5101\"},{\"id\":\"5123\"},{\"id\":\"5147\"}],\"right\":[{\"id\":\"5092\"}],\"sizing_mode\":\"fixed\",\"title\":{\"id\":\"5039\"},\"toolbar\":{\"id\":\"5061\"},\"width\":700,\"x_range\":{\"id\":\"5032\"},\"x_scale\":{\"id\":\"5043\"},\"y_range\":{\"id\":\"5033\"},\"y_scale\":{\"id\":\"5045\"}},\"id\":\"5038\",\"subtype\":\"Figure\",\"type\":\"Plot\"},{\"attributes\":{\"data\":{\"Country\":[\"United Kingdom\",\"United Kingdom\",\"United Kingdom\",\"United Kingdom\",\"United Kingdom\",\"United Kingdom\",\"United Kingdom\",\"United Kingdom\",\"United Kingdom\",\"United Kingdom\",\"United Kingdom\",\"United Kingdom\",\"United Kingdom\",\"United Kingdom\",\"United Kingdom\",\"United Kingdom\",\"United Kingdom\",\"United Kingdom\",\"United Kingdom\",\"United Kingdom\",\"United Kingdom\",\"United Kingdom\",\"United Kingdom\",\"United Kingdom\",\"United Kingdom\",\"United Kingdom\",\"United Kingdom\",\"United Kingdom\",\"United Kingdom\",\"United Kingdom\",\"United Kingdom\",\"United Kingdom\"],\"Hydro (% growth)\":{\"__ndarray__\":\"AAAAAAAAAACamZmZmZkmwAAAAAAAgDFAzczMzMzMNMBmZmZmZmYyQJqZmZmZmRPAAAAAAAAAPsAAAAAAAAA3QM3MzMzMzDZAMzMzMzMzEUDNzMzMzMwSwDQzMzMzMzTAAAAAAAAAMkDNzMzMzExAwGZmZmZm5khANDMzMzMz+z/NzMzMzMwawGZmZmZmZiVAMzMzMzMz8z/MzMzMzMz8P2ZmZmZmZj/AAAAAAABATUDNzMzMzMwawAAAAAAAACfAzczMzMxMOUABAAAAAAAcQJmZmZmZmS3AAAAAAAAAI0AAAAAAAAAewAAAAAAAACJAMzMzMzMzKUDNzMzMzEwwwA==\",\"dtype\":\"float64\",\"order\":\"little\",\"shape\":[32]},\"Hydro_left_parenthesis_percent_growth_right_parenthesis\":{\"__ndarray__\":\"AAAAAAAAAACamZmZmZkmwAAAAAAAgDFAzczMzMzMNMBmZmZmZmYyQJqZmZmZmRPAAAAAAAAAPsAAAAAAAAA3QM3MzMzMzDZAMzMzMzMzEUDNzMzMzMwSwDQzMzMzMzTAAAAAAAAAMkDNzMzMzExAwGZmZmZm5khANDMzMzMz+z/NzMzMzMwawGZmZmZmZiVAMzMzMzMz8z/MzMzMzMz8P2ZmZmZmZj/AAAAAAABATUDNzMzMzMwawAAAAAAAACfAzczMzMxMOUABAAAAAAAcQJmZmZmZmS3AAAAAAAAAI0AAAAAAAAAewAAAAAAAACJAMzMzMzMzKUDNzMzMzEwwwA==\",\"dtype\":\"float64\",\"order\":\"little\",\"shape\":[32]},\"Year\":[1990,1991,1992,1993,1994,1995,1996,1997,1998,1999,2000,2001,2002,2003,2004,2005,2006,2007,2008,2009,2010,2011,2012,2013,2014,2015,2016,2017,2018,2019,2020,2021]},\"selected\":{\"id\":\"5142\"},\"selection_policy\":{\"id\":\"5162\"}},\"id\":\"5141\",\"type\":\"ColumnDataSource\"},{\"attributes\":{\"line_color\":\"#fc4f30\",\"line_width\":2,\"x\":{\"field\":\"Year\"},\"y\":{\"field\":\"Hydro (% growth)\"}},\"id\":\"5098\",\"type\":\"Line\"},{\"attributes\":{\"line_alpha\":0.2,\"line_color\":\"#fc4f30\",\"line_width\":2,\"x\":{\"field\":\"Year\"},\"y\":{\"field\":\"Hydro (% growth)\"}},\"id\":\"5100\",\"type\":\"Line\"},{\"attributes\":{\"line_alpha\":0.1,\"line_color\":\"#fc4f30\",\"line_width\":2,\"x\":{\"field\":\"Year\"},\"y\":{\"field\":\"Hydro (% growth)\"}},\"id\":\"5099\",\"type\":\"Line\"},{\"attributes\":{\"line_alpha\":0.2,\"line_color\":\"#6d904f\",\"line_width\":2,\"x\":{\"field\":\"Year\"},\"y\":{\"field\":\"Hydro (% growth)\"}},\"id\":\"5146\",\"type\":\"Line\"},{\"attributes\":{\"source\":{\"id\":\"5095\"}},\"id\":\"5102\",\"type\":\"CDSView\"},{\"attributes\":{\"coordinates\":null,\"group\":null,\"text\":\"Annual Growth in % Hydro Energy Generation\",\"text_color\":\"black\",\"text_font_size\":\"12pt\"},\"id\":\"5039\",\"type\":\"Title\"},{\"attributes\":{\"click_policy\":\"mute\",\"coordinates\":null,\"group\":null,\"items\":[{\"id\":\"5093\"},{\"id\":\"5115\"},{\"id\":\"5139\"},{\"id\":\"5165\"}],\"location\":[0,0],\"title\":\"Country\"},\"id\":\"5092\",\"type\":\"Legend\"},{\"attributes\":{},\"id\":\"5056\",\"type\":\"PanTool\"},{\"attributes\":{},\"id\":\"5096\",\"type\":\"Selection\"},{\"attributes\":{\"line_color\":\"#e5ae38\",\"line_width\":2,\"x\":{\"field\":\"Year\"},\"y\":{\"field\":\"Hydro (% growth)\"}},\"id\":\"5140\",\"type\":\"Line\"},{\"attributes\":{\"label\":{\"value\":\"Spain\"},\"renderers\":[{\"id\":\"5101\"}]},\"id\":\"5115\",\"type\":\"LegendItem\"},{\"attributes\":{\"axis\":{\"id\":\"5047\"},\"coordinates\":null,\"grid_line_color\":null,\"group\":null,\"ticker\":null},\"id\":\"5050\",\"type\":\"Grid\"},{\"attributes\":{\"axis_label\":\"Year\",\"coordinates\":null,\"formatter\":{\"id\":\"5069\"},\"group\":null,\"major_label_policy\":{\"id\":\"5070\"},\"ticker\":{\"id\":\"5048\"}},\"id\":\"5047\",\"type\":\"LinearAxis\"},{\"attributes\":{\"label\":{\"value\":\"Germany\"},\"renderers\":[{\"id\":\"5080\"}]},\"id\":\"5093\",\"type\":\"LegendItem\"},{\"attributes\":{},\"id\":\"5045\",\"type\":\"LinearScale\"},{\"attributes\":{\"line_color\":\"#6d904f\",\"line_width\":2,\"x\":{\"field\":\"Year\"},\"y\":{\"field\":\"Hydro (% growth)\"}},\"id\":\"5144\",\"type\":\"Line\"},{\"attributes\":{},\"id\":\"5048\",\"type\":\"BasicTicker\"},{\"attributes\":{},\"id\":\"5112\",\"type\":\"UnionRenderers\"},{\"attributes\":{\"axis_label\":\"Hydro (% growth)\",\"coordinates\":null,\"formatter\":{\"id\":\"5072\"},\"group\":null,\"major_label_policy\":{\"id\":\"5073\"},\"ticker\":{\"id\":\"5052\"}},\"id\":\"5051\",\"type\":\"LinearAxis\"},{\"attributes\":{\"source\":{\"id\":\"5074\"}},\"id\":\"5081\",\"type\":\"CDSView\"},{\"attributes\":{\"axis\":{\"id\":\"5051\"},\"coordinates\":null,\"dimension\":1,\"grid_line_color\":null,\"group\":null,\"ticker\":null},\"id\":\"5054\",\"type\":\"Grid\"},{\"attributes\":{\"line_alpha\":0.2,\"line_color\":\"#30a2da\",\"line_width\":2,\"x\":{\"field\":\"Year\"},\"y\":{\"field\":\"Hydro (% growth)\"}},\"id\":\"5079\",\"type\":\"Line\"},{\"attributes\":{},\"id\":\"5052\",\"type\":\"BasicTicker\"},{\"attributes\":{},\"id\":\"5069\",\"type\":\"BasicTickFormatter\"},{\"attributes\":{\"line_alpha\":0.1,\"line_color\":\"#6d904f\",\"line_width\":2,\"x\":{\"field\":\"Year\"},\"y\":{\"field\":\"Hydro (% growth)\"}},\"id\":\"5145\",\"type\":\"Line\"},{\"attributes\":{\"line_alpha\":0.1,\"line_color\":\"#30a2da\",\"line_width\":2,\"x\":{\"field\":\"Year\"},\"y\":{\"field\":\"Hydro (% growth)\"}},\"id\":\"5078\",\"type\":\"Line\"},{\"attributes\":{},\"id\":\"5055\",\"type\":\"SaveTool\"}],\"root_ids\":[\"5031\"]},\"title\":\"Bokeh Application\",\"version\":\"2.4.3\"}};\n",
       "    var render_items = [{\"docid\":\"41bcc667-fc7d-4f14-941a-60ed3afa384e\",\"root_ids\":[\"5031\"],\"roots\":{\"5031\":\"cce1a9b7-3ac0-4706-b40f-c928fc45f072\"}}];\n",
       "    root.Bokeh.embed.embed_items_notebook(docs_json, render_items);\n",
       "    for (const render_item of render_items) {\n",
       "      for (const root_id of render_item.root_ids) {\n",
       "\tconst id_el = document.getElementById(root_id)\n",
       "\tif (id_el.children.length && (id_el.children[0].className === 'bk-root')) {\n",
       "\t  const root_el = id_el.children[0]\n",
       "\t  root_el.id = root_el.id + '-rendered'\n",
       "\t}\n",
       "      }\n",
       "    }\n",
       "  }\n",
       "  if (root.Bokeh !== undefined && root.Bokeh.Panel !== undefined) {\n",
       "    embed_document(root);\n",
       "  } else {\n",
       "    var attempts = 0;\n",
       "    var timer = setInterval(function(root) {\n",
       "      if (root.Bokeh !== undefined && root.Bokeh.Panel !== undefined) {\n",
       "        clearInterval(timer);\n",
       "        embed_document(root);\n",
       "      } else if (document.readyState == \"complete\") {\n",
       "        attempts++;\n",
       "        if (attempts > 200) {\n",
       "          clearInterval(timer);\n",
       "          console.log(\"Bokeh: ERROR: Unable to run BokehJS code because BokehJS library is missing\");\n",
       "        }\n",
       "      }\n",
       "    }, 25, root)\n",
       "  }\n",
       "})(window);</script>"
      ],
      "text/plain": [
       ":NdOverlay   [Country]\n",
       "   :Curve   [Year]   (Hydro (% growth))"
      ]
     },
     "metadata": {
      "application/vnd.holoviews_exec.v0+json": {
       "id": "5031"
      }
     },
     "output_type": "display_data"
    }
   ],
   "source": [
    "lineplot(df_hydro_generation, 'Year', 'Electricity from hydro (TWh)', 'Country', 'Hydro Energy Generation')\n",
    "lineplot(df_hydro_generation, 'Year', 'Hydro (TWh growth - equivalent)', 'Country', 'Annual Change Hydro Energy Generation')\n",
    "lineplot(df_hydro_generation, 'Year', 'Hydro (% growth)', 'Country', 'Annual Growth in % Hydro Energy Generation')"
   ]
  },
  {
   "attachments": {},
   "cell_type": "markdown",
   "metadata": {},
   "source": [
    "### Wind"
   ]
  },
  {
   "cell_type": "code",
   "execution_count": null,
   "metadata": {},
   "outputs": [],
   "source": []
  }
 ],
 "metadata": {
  "kernelspec": {
   "display_name": "Python 3",
   "language": "python",
   "name": "python3"
  },
  "language_info": {
   "codemirror_mode": {
    "name": "ipython",
    "version": 3
   },
   "file_extension": ".py",
   "mimetype": "text/x-python",
   "name": "python",
   "nbconvert_exporter": "python",
   "pygments_lexer": "ipython3",
   "version": "3.9.7"
  },
  "orig_nbformat": 4,
  "vscode": {
   "interpreter": {
    "hash": "aee8b7b246df8f9039afb4144a1f6fd8d2ca17a180786b69acc140d282b71a49"
   }
  }
 },
 "nbformat": 4,
 "nbformat_minor": 2
}
